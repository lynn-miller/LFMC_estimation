{
 "cells": [
  {
   "cell_type": "markdown",
   "id": "21995d74-e47b-4bfa-a711-4e6b39267dc4",
   "metadata": {},
   "source": [
    "# Generate Statistic and TIFFs for Site Location Analysis"
   ]
  },
  {
   "cell_type": "code",
   "execution_count": null,
   "id": "helpful-shopper",
   "metadata": {},
   "outputs": [],
   "source": [
    "import os\n",
    "import json\n",
    "import numpy as np\n",
    "import pandas as pd\n",
    "\n",
    "import initialise\n",
    "import common\n",
    "from analysis_utils import calc_statistics"
   ]
  },
  {
   "cell_type": "code",
   "execution_count": null,
   "id": "f9985862-fc67-4e86-beb4-581b45ffeaf1",
   "metadata": {},
   "outputs": [],
   "source": [
    "if common.GDAL_DATA is not None:\n",
    "    os.environ['GDAL_DATA'] = common.GDAL_DATA\n",
    "import gdal\n",
    "from gdal import osr"
   ]
  },
  {
   "cell_type": "code",
   "execution_count": null,
   "id": "90db2a45-341c-42a6-b2b3-e8351a1600a4",
   "metadata": {},
   "outputs": [],
   "source": [
    "SCENARIOS = ['within-site', 'out-of-site']\n",
    "DISPLAY_NAMES = [' '.join([s.capitalize(), 'Models']) for s in SCENARIOS]\n",
    "MODELS_DIR = [\n",
    "    os.path.join(common.MODELS_DIR, f'{SCENARIOS[0]}_models'),\n",
    "    os.path.join(common.MODELS_DIR, f'{SCENARIOS[1]}_models'),\n",
    "    os.path.join(common.MODELS_DIR, 'comparison_models', 'test2'),\n",
    "    os.path.join(common.MODELS_DIR, 'comparison_models', 'test3'),\n",
    "]\n",
    "OUTPUT_DIR = os.path.join(common.MAPS_DIR, 'Gridded_sites')\n",
    "NODATA = common.GDAL_NODATA_VALUE\n",
    "BANDS = ['RMSE', 'Bias']"
   ]
  },
  {
   "cell_type": "code",
   "execution_count": null,
   "id": "a7d756e3-91ba-4d50-a740-256a6ea29552",
   "metadata": {},
   "outputs": [],
   "source": [
    "all_samples = pd.read_csv(os.path.join(common.DATASETS_DIR, 'samples_365days.csv'), index_col=0)\n",
    "models = [\n",
    "    {'type': 'Multi-tempCNN', 'preds_file': f'ensemble{common.ENSEMBLE_SIZE}_{common.ANALYSIS_MODEL}.csv'},\n",
    "    {'type': 'Modis-tempCNN', 'preds_file': f'predictions_{common.MODIS_TEMPCNN_MODEL}.csv'},\n",
    "]\n",
    "ifile_names = [m['preds_file'] for m in models for _ in range(len(SCENARIOS))]\n",
    "ofile_names = [f'{mt[\"type\"]}_{sc}_sites.tif' for mt in models for sc in SCENARIOS]"
   ]
  },
  {
   "cell_type": "markdown",
   "id": "8897aec4-375a-4c3a-b8b8-580a1b023183",
   "metadata": {},
   "source": [
    "### Calculate the statistics for each grid cell"
   ]
  },
  {
   "cell_type": "code",
   "execution_count": null,
   "id": "7992a25a-5722-4331-af65-b1bc74380b04",
   "metadata": {},
   "outputs": [],
   "source": [
    "def gen_gridded_data(predictions, samples, y):\n",
    "    predict = predictions.merge(all_samples[['Latitude', 'Longitude', y]], left_index=True, right_index=True)\n",
    "    predict['Latitude'] = np.ceil((predict.Latitude * 2))/2\n",
    "    predict['Longitude'] = np.floor((predict.Longitude * 2))/2\n",
    "\n",
    "    counts = predict.groupby(['Latitude', 'Longitude']).size()\n",
    "    locations = []\n",
    "    locs = predict.set_index(['Latitude', 'Longitude']).loc[counts[counts >= 10].index].groupby(['Latitude', 'Longitude'])\n",
    "    for col in predict.columns[:-3]:\n",
    "        l = locs.apply(lambda x: calc_statistics(x[y], x[col])) \n",
    "        locations.append(pd.DataFrame(list(l.values), index=l.index))\n",
    "    locations = pd.concat(locations).groupby(level=[0,1]).mean()\n",
    "    locations['NumSamples'] = counts\n",
    "    return locations"
   ]
  },
  {
   "cell_type": "markdown",
   "id": "2495000e-6747-497a-9afc-0bb13d7ca44f",
   "metadata": {},
   "source": [
    "### Summary statistics"
   ]
  },
  {
   "cell_type": "code",
   "execution_count": null,
   "id": "virtual-favor",
   "metadata": {},
   "outputs": [],
   "source": [
    "def display_summary(locations):\n",
    "    print('Proportion of grid cells with RMSE < 20:', np.round(locations.RMSE.lt(20).sum() / locations.shape[0], 2), '\\n')\n",
    "    display(pd.DataFrame([locations.min(), locations.median(), locations.mean(), locations.max(), locations.std()],\n",
    "                         index=['min', 'median', 'mean', 'max', 'std dev']).round(2))"
   ]
  },
  {
   "cell_type": "markdown",
   "id": "56791044-67a1-4283-bbdb-a6c0bf3edd1d",
   "metadata": {},
   "source": [
    "### Region summary"
   ]
  },
  {
   "cell_type": "code",
   "execution_count": null,
   "id": "ac858cfc-c971-4253-b636-9f9b732f9622",
   "metadata": {},
   "outputs": [],
   "source": [
    "def display_region(locations, long_range, lat_range):\n",
    "    temp_df = locations.reset_index()\n",
    "    temp_df = temp_df[temp_df.Latitude.between(lat_range[0], lat_range[1]) & temp_df.Longitude.between(long_range[0], long_range[1])]\n",
    "    print('RMSE weighted average:', np.round(np.sqrt((temp_df.RMSE ** 2 * temp_df.NumSamples).sum() / temp_df.NumSamples.sum()), 2))\n",
    "    print('Bias weighted average:', np.round((temp_df.Bias * temp_df.NumSamples).sum() / temp_df.NumSamples.sum(), 2))"
   ]
  },
  {
   "cell_type": "markdown",
   "id": "be35dd6d-74bb-4ee3-b88c-ba5460a62205",
   "metadata": {},
   "source": [
    "### Grid cell LFMC estimation bias"
   ]
  },
  {
   "cell_type": "code",
   "execution_count": null,
   "id": "9f2516ba-d688-4dfd-a22f-72c97e8317ae",
   "metadata": {},
   "outputs": [],
   "source": [
    "def display_grid_bias(locations):\n",
    "    print('Proportion of grid cells with under-estimated LFMC:', np.round(locations.Bias.lt(0).sum() / locations.shape[0], 2))\n",
    "    print('Proportion of grid cells with abs(bias) < 5:', np.round(locations.Bias.between(-5, 5).sum() / locations.shape[0], 2))\n",
    "    print('Proportion of grid cells with abs(bias) < 10:', np.round(locations.Bias.between(-10, 10).sum() / locations.shape[0], 2))\n",
    "    print('Proportion of grid cells with abs(bias) > 20:', np.round(locations.Bias.abs().gt(20).sum() / locations.shape[0], 2))"
   ]
  },
  {
   "cell_type": "markdown",
   "id": "abee03f3-70e1-4024-ad21-8f6377df533d",
   "metadata": {},
   "source": [
    "### Generate sites tiff"
   ]
  },
  {
   "cell_type": "code",
   "execution_count": null,
   "id": "2221bd83-ffe8-4360-9227-34a1acb531b2",
   "metadata": {},
   "outputs": [],
   "source": [
    "def gen_locations_tiff(locations, output_file, bands, nodata_value, longitude='Longitude', latitude='Latitude'):\n",
    "    x_coords = (int(np.floor(locations.index.get_level_values(longitude).min())), int(np.ceil(locations.index.get_level_values(longitude).max())))\n",
    "    y_coords = (int(np.floor(locations.index.get_level_values(latitude).min())), int(np.ceil(locations.index.get_level_values(latitude).max())))\n",
    "    x_size = (x_coords[1] - x_coords[0]) * 2 + 1\n",
    "    y_size = (y_coords[1] - y_coords[0]) * 2 + 1\n",
    "    multi_index = pd.MultiIndex.from_product([np.linspace(y_coords[0], y_coords[1], y_size), np.linspace(x_coords[0], x_coords[1], x_size)])\n",
    "\n",
    "    pixel_size = 0.5\n",
    "    transform = [x_coords[0], pixel_size, 0.0, y_coords[1], 0.0, -pixel_size]\n",
    "\n",
    "    srs = osr.SpatialReference()\n",
    "    srs.ImportFromEPSG(4326)\n",
    "\n",
    "    driver = gdal.GetDriverByName('GTiff')\n",
    "    out_map_raster = driver.Create(output_file, x_size, y_size, len(bands), gdal.GDT_Float32)\n",
    "    out_map_raster.SetGeoTransform(transform)\n",
    "    out_map_raster.SetProjection(srs.ExportToWkt())\n",
    "\n",
    "    for num, band in enumerate(bands, 1):\n",
    "        band_data = locations[band].reindex(multi_index).unstack()[::-1]\n",
    "        out_map_band = out_map_raster.GetRasterBand(num)\n",
    "        out_map_band.SetNoDataValue(nodata_value)\n",
    "        out_map_band.SetDescription(band)\n",
    "        out_map_band.WriteArray(band_data.values)\n",
    "        out_map_band.FlushCache()\n",
    "\n",
    "    del out_map_raster"
   ]
  },
  {
   "cell_type": "markdown",
   "id": "c215fc7f-9884-41a5-98b9-ee1199bdedf5",
   "metadata": {},
   "source": [
    "## Multi-tempCNN Within-site Scenario"
   ]
  },
  {
   "cell_type": "code",
   "execution_count": null,
   "id": "669f39b7-08db-4ead-aca8-c54722f6f69a",
   "metadata": {},
   "outputs": [],
   "source": [
    "print(f'Multi-tempCNN {SCENARIOS[0].capitalize()} Scenario')\n",
    "print('==================================')\n",
    "\n",
    "with open(os.path.join(MODELS_DIR[0], 'model_params.json'), 'r') as f:\n",
    "    model_params = json.load(f)\n",
    "\n",
    "predict = pd.read_csv(os.path.join(MODELS_DIR[0], ifile_names[0]), index_col=0)\n",
    "samples = all_samples.reindex(predict.index)\n",
    "\n",
    "locations = gen_gridded_data(predict, samples, model_params['targetColumn'])\n",
    "print('\\nResults summary')\n",
    "print('---------------')\n",
    "display_summary(locations)\n",
    "\n",
    "print('\\nResults for southern Texas')\n",
    "print('--------------------------')\n",
    "display_region(locations, (-100.0, -98.0), (26.0, 29.5))\n",
    "\n",
    "print('\\nResults for Rocky Mountains')\n",
    "print('---------------------------')\n",
    "display_region(locations, (-118.0, -113.0), (47.0, 50.0))\n",
    "\n",
    "print('\\nBias summary')\n",
    "print('------------')\n",
    "display_grid_bias(locations)\n",
    "\n",
    "ofile = os.path.join(OUTPUT_DIR, ofile_names[0])\n",
    "gen_locations_tiff(locations, ofile, BANDS, NODATA)"
   ]
  },
  {
   "cell_type": "markdown",
   "id": "8b3f9aae-93aa-41e9-b340-a24a188a9d1f",
   "metadata": {},
   "source": [
    "## Multi-tempCNN Out-of-site Scenario"
   ]
  },
  {
   "cell_type": "code",
   "execution_count": null,
   "id": "280ea5c2-a9da-4236-a16e-e466de8f66ef",
   "metadata": {},
   "outputs": [],
   "source": [
    "print(f'Multi-tempCNN {SCENARIOS[1].capitalize()} Scenario')\n",
    "print('==================================')\n",
    "\n",
    "with open(os.path.join(MODELS_DIR[1], 'model_params.json'), 'r') as f:\n",
    "    model_params = json.load(f)\n",
    "\n",
    "predict = pd.read_csv(os.path.join(MODELS_DIR[1], ifile_names[1]), index_col=0)\n",
    "\n",
    "locations = gen_gridded_data(predict, all_samples, model_params['targetColumn'])\n",
    "print('\\nResults summary')\n",
    "print('---------------')\n",
    "display_summary(locations)\n",
    "\n",
    "print('\\nResults for southern Texas')\n",
    "print('--------------------------')\n",
    "display_region(locations, (-100.0, -98.0), (26.0, 29.5))\n",
    "\n",
    "print('\\nResults for Rocky Mountains')\n",
    "print('---------------------------')\n",
    "display_region(locations, (-118.0, -113.0), (47.0, 50.0))\n",
    "\n",
    "print('\\nBias summary')\n",
    "print('------------')\n",
    "display_grid_bias(locations)\n",
    "\n",
    "ofile = os.path.join(OUTPUT_DIR, ofile_names[1])\n",
    "gen_locations_tiff(locations, ofile, BANDS, NODATA)"
   ]
  },
  {
   "cell_type": "markdown",
   "id": "2a64c1a1-2782-40c6-b542-15219b265fd1",
   "metadata": {},
   "source": [
    "## Modis-tempCNN Within-site Scenario"
   ]
  },
  {
   "cell_type": "code",
   "execution_count": null,
   "id": "0e2dda96-e496-4c88-9ae6-4f0551cf3646",
   "metadata": {},
   "outputs": [],
   "source": [
    "print(f'Modis-tempCNN {SCENARIOS[0].capitalize()} Scenario')\n",
    "print('==================================')\n",
    "\n",
    "with open(os.path.join(MODELS_DIR[2], 'model_params.json'), 'r') as f:\n",
    "    model_params = json.load(f)\n",
    "\n",
    "predict = pd.read_csv(os.path.join(MODELS_DIR[2], ifile_names[2]), index_col=0)\n",
    "samples = all_samples.reindex(predict.index)\n",
    "\n",
    "locations = gen_gridded_data(predict, samples, model_params['targetColumn'])\n",
    "print('\\nResults summary')\n",
    "print('---------------')\n",
    "display_summary(locations)\n",
    "\n",
    "print('\\nResults for southern Texas')\n",
    "print('--------------------------')\n",
    "display_region(locations, (-100.0, -98.0), (26.0, 29.5))\n",
    "\n",
    "print('\\nResults for Rocky Mountains')\n",
    "print('---------------------------')\n",
    "display_region(locations, (-118.0, -113.0), (47.0, 50.0))\n",
    "\n",
    "print('\\nBias summary')\n",
    "print('------------')\n",
    "display_grid_bias(locations)\n",
    "\n",
    "ofile = os.path.join(OUTPUT_DIR, ofile_names[2])\n",
    "gen_locations_tiff(locations, ofile, BANDS, NODATA)"
   ]
  },
  {
   "cell_type": "markdown",
   "id": "c4493bb0-2ddd-411c-ae1a-d79362fd3255",
   "metadata": {},
   "source": [
    "## Modis-tempCNN Out-of-site Scenario"
   ]
  },
  {
   "cell_type": "code",
   "execution_count": null,
   "id": "f7d54d85-e76f-4885-be07-8b5fadf6c98f",
   "metadata": {},
   "outputs": [],
   "source": [
    "print(f'Modis-tempCNN {SCENARIOS[1].capitalize()} Scenario')\n",
    "print('==================================')\n",
    "\n",
    "with open(os.path.join(MODELS_DIR[3], 'model_params.json'), 'r') as f:\n",
    "    model_params = json.load(f)\n",
    "\n",
    "predict = pd.read_csv(os.path.join(MODELS_DIR[3], ifile_names[3]), index_col=0)\n",
    "\n",
    "locations = gen_gridded_data(predict, all_samples, model_params['targetColumn'])\n",
    "print('\\nResults summary')\n",
    "print('---------------')\n",
    "display_summary(locations)\n",
    "\n",
    "print('\\nResults for southern Texas')\n",
    "print('--------------------------')\n",
    "display_region(locations, (-100.0, -98.0), (26.0, 29.5))\n",
    "\n",
    "print('\\nResults for Rocky Mountains')\n",
    "print('---------------------------')\n",
    "display_region(locations, (-118.0, -113.0), (47.0, 50.0))\n",
    "\n",
    "print('\\nBias summary')\n",
    "print('------------')\n",
    "display_grid_bias(locations)\n",
    "\n",
    "ofile = os.path.join(OUTPUT_DIR, ofile_names[3])\n",
    "gen_locations_tiff(locations, ofile, BANDS, NODATA)"
   ]
  },
  {
   "cell_type": "code",
   "execution_count": null,
   "id": "fd4f8d1f-e2e4-44d0-bdd3-554c1d858ba7",
   "metadata": {},
   "outputs": [],
   "source": []
  }
 ],
 "metadata": {
  "kernelspec": {
   "display_name": "LFMC",
   "language": "python",
   "name": "lfmc"
  },
  "language_info": {
   "codemirror_mode": {
    "name": "ipython",
    "version": 3
   },
   "file_extension": ".py",
   "mimetype": "text/x-python",
   "name": "python",
   "nbconvert_exporter": "python",
   "pygments_lexer": "ipython3",
   "version": "3.8.13"
  }
 },
 "nbformat": 4,
 "nbformat_minor": 5
}
