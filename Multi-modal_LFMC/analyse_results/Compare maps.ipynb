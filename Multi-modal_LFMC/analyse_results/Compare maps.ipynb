{
 "cells": [
  {
   "cell_type": "markdown",
   "id": "38f8685b-4156-4108-8b55-97e01de2581b",
   "metadata": {},
   "source": [
    "# Compare Multi-tempCNN Out-of-site and Modis-tempCNN Maps"
   ]
  },
  {
   "cell_type": "code",
   "execution_count": null,
   "id": "c3bd4e25-25d4-4f22-beeb-7a5173cdf1e5",
   "metadata": {},
   "outputs": [],
   "source": [
    "import os\n",
    "import gdal\n",
    "import numpy as np\n",
    "import pandas as pd\n",
    "import json\n",
    "\n",
    "import matplotlib.pyplot as plt\n",
    "\n",
    "import initialise\n",
    "import common\n",
    "from display_utils import display_frames"
   ]
  },
  {
   "cell_type": "markdown",
   "id": "fb98a171-ed29-4859-b9d3-0a3b8a013944",
   "metadata": {},
   "source": [
    "## Locations of TIFFs"
   ]
  },
  {
   "cell_type": "code",
   "execution_count": null,
   "id": "850fa29c-71c1-4fdd-b13c-1b5ad3d7a7ef",
   "metadata": {},
   "outputs": [],
   "source": [
    "tif_dir = os.path.join(common.MAPS_DIR, 'LFMC_maps')\n",
    "multi_tif = os.path.join(tif_dir, 'Multi-tempCNN_Out-of-Site_base_2017-10-01.tif')\n",
    "modis_tif = os.path.join(tif_dir, 'Modis-tempCNN_2017_merge10_2017-10-01.tif')\n",
    "diff_tif = os.path.join(tif_dir, 'Multi-tempCNN vs Modis-tempCNN.tif')\n",
    "aux_tif = os.path.join(common.GEE_MAPS_DIR, 'GEE_EPSG-4326_2000', 'conus_aux.tif')"
   ]
  },
  {
   "cell_type": "code",
   "execution_count": null,
   "id": "1e27466e-b7a5-472a-a8da-e88c3899d2a7",
   "metadata": {},
   "outputs": [],
   "source": [
    "def num_pixels(start_loc, end_loc, pixel_size, convert=np.round):\n",
    "    return_type = type(start_loc)\n",
    "    pixels = (np.array(end_loc) - np.array(start_loc)) / np.array(pixel_size)\n",
    "    if convert:\n",
    "        pixels = convert(pixels)\n",
    "    return return_type(pixels)"
   ]
  },
  {
   "cell_type": "markdown",
   "id": "a0afbe88-b11d-42a3-9a6b-ff6cc23bc9d7",
   "metadata": {},
   "source": [
    "## Load the auxiliary data"
   ]
  },
  {
   "cell_type": "code",
   "execution_count": null,
   "id": "c0790309-dd59-45a0-a192-325e158d7428",
   "metadata": {},
   "outputs": [],
   "source": [
    "aux_file = gdal.Open(aux_tif, gdal.GA_ReadOnly)\n",
    "aux_data = aux_file.ReadAsArray()\n",
    "aux_data.shape\n",
    "aux_bands = [aux_file.GetRasterBand(b).GetDescription() for b in range(1, aux_file.RasterCount+1)]"
   ]
  },
  {
   "cell_type": "markdown",
   "id": "0984a63d-f341-4099-a854-cff718db833b",
   "metadata": {},
   "source": [
    "## Load the Multi-tempCNN LFMC estimates"
   ]
  },
  {
   "cell_type": "code",
   "execution_count": null,
   "id": "d2555246-cbd3-46f8-9a8d-576fd1ba8d7b",
   "metadata": {},
   "outputs": [],
   "source": [
    "tif = gdal.Open(multi_tif, gdal.GA_ReadOnly)\n",
    "image = tif.ReadAsArray()\n",
    "shape = image.shape\n",
    "shape"
   ]
  },
  {
   "cell_type": "markdown",
   "id": "9389ce73-a27a-4289-a936-aca4fc31c5df",
   "metadata": {},
   "source": [
    "## Merge the auxiliary data and Multi-tempCNN estimates\n",
    "The auxiliary data first needs to be aligned with the Multi-tempCNN estimates data"
   ]
  },
  {
   "cell_type": "code",
   "execution_count": null,
   "id": "efb342e4-85fd-41da-a1cf-da9b64be52d5",
   "metadata": {
    "scrolled": true,
    "tags": []
   },
   "outputs": [],
   "source": [
    "aux_transform = aux_file.GetGeoTransform()\n",
    "tif_transform = tif.GetGeoTransform()\n",
    "aux_offset = num_pixels((aux_transform[3], aux_transform[0]),\n",
    "                        (tif_transform[3], tif_transform[0]),\n",
    "                        (aux_transform[5], aux_transform[1]))\n",
    "aux_offset = np.int32(aux_offset)\n",
    "aux_offset\n",
    "\n",
    "aux_data = aux_data[:, aux_offset[0]:(shape[1]+aux_offset[0]), aux_offset[1]:(shape[2]+aux_offset[1])].reshape(len(aux_bands), shape[1], shape[2])\n",
    "all_data = np.concatenate((image, aux_data), axis=0)"
   ]
  },
  {
   "cell_type": "markdown",
   "id": "3eee2f21-8cc9-4df2-8079-7415df0ea809",
   "metadata": {},
   "source": [
    "## Convert the image to a dataframe\n",
    "Extract the required fields from the numpy array and flatten to a data frame. Remove the NODATA pixels."
   ]
  },
  {
   "cell_type": "code",
   "execution_count": null,
   "id": "676096ca-bf26-4a83-8224-37f9b7ea11ed",
   "metadata": {},
   "outputs": [],
   "source": [
    "data_df = []\n",
    "for col in range(all_data.shape[0]):\n",
    "    temp_df = pd.DataFrame(all_data[col]).stack()\n",
    "    data_df.append(temp_df)\n",
    "data_df = pd.concat(data_df, axis=1, keys=['lfmc', 'conf'] + aux_bands)\n",
    "data_df = data_df[data_df.lfmc.gt(-990)]\n",
    "with pd.option_context('display.float_format', '{:.2f}'.format):\n",
    "    display(data_df.describe())"
   ]
  },
  {
   "cell_type": "markdown",
   "id": "da2aebb1-7772-4480-bebf-44745a636dd3",
   "metadata": {},
   "source": [
    "# LFMC Estimation Analysis"
   ]
  },
  {
   "cell_type": "code",
   "execution_count": null,
   "id": "70033271-4dd9-42b5-b0aa-4ed7f76c6732",
   "metadata": {},
   "outputs": [],
   "source": [
    "df1 = data_df[(data_df.longitude < -105)\n",
    "                    & ~(data_df.longitude.lt(-120) & data_df.latitude.gt(42))\n",
    "                    & ~(data_df.longitude.between(-117, -110) & data_df.latitude.gt(44))\n",
    "                   ][['lfmc', 'conf']].describe()\n",
    "df2 = data_df[(data_df.longitude.lt(-120) & data_df.latitude.gt(42))\n",
    "                    | (data_df.longitude.between(-117, -110) & data_df.latitude.gt(44))\n",
    "                   ][['lfmc', 'conf']].describe()\n",
    "df3 = data_df[data_df.longitude > -105][['lfmc', 'conf']].describe()\n",
    "df4 = data_df[(data_df.longitude > -105)\n",
    "                    & ~(data_df.longitude.between(-100, -80) & data_df.climate_zone.eq(25))\n",
    "                   ][['lfmc', 'conf']].describe()\n",
    "df5 = data_df[data_df.longitude.between(-100, -80) & data_df.climate_zone.eq(25)][['lfmc', 'conf']].describe()\n",
    "df6 = data_df[(data_df.climate_zone == 14) & (data_df.longitude > -100)][['lfmc', 'conf']].describe()\n",
    "with pd.option_context('display.float_format', '{:.2f}'.format):\n",
    "    display(\n",
    "        pd.concat([df1, df2, df3, df4, df5, df6],\n",
    "                  keys = ['Western CONUS excluding Pacific NW and Nth Rockies',\n",
    "                          'Pacific Northwest and the northern Rockies',\n",
    "                          'Mid and eastern CONUS',\n",
    "                          'Mid and eastern CONUS, excluding mid-western Corn Belt',\n",
    "                          'Mid-western Corn Belt',\n",
    "                          'South eastern Cfa climate zone'], axis=1))"
   ]
  },
  {
   "cell_type": "markdown",
   "id": "242938d6-0c4e-473a-99fc-0ff024620d83",
   "metadata": {},
   "source": [
    "# Estimation Uncertainty Analysis"
   ]
  },
  {
   "cell_type": "markdown",
   "id": "9e40c03f-5eae-4de2-8f1f-8c2671826562",
   "metadata": {},
   "source": [
    "## Uncertainty summary statistics"
   ]
  },
  {
   "cell_type": "code",
   "execution_count": null,
   "id": "7268fad2-5b4f-4447-bb11-23cb589a6efc",
   "metadata": {},
   "outputs": [],
   "source": [
    "with pd.option_context('display.float_format', '{:.2f}'.format):\n",
    "    display(data_df['conf'].describe())"
   ]
  },
  {
   "cell_type": "markdown",
   "id": "e471f23f-b838-4e73-8bed-c9600e02f3ef",
   "metadata": {},
   "source": [
    "## Percentage of pixels with uncertainty < 10"
   ]
  },
  {
   "cell_type": "code",
   "execution_count": null,
   "id": "02cbf85c-8965-4210-b066-ecdddcae0c3c",
   "metadata": {},
   "outputs": [],
   "source": [
    "((data_df.conf < 10).sum() * 100 / data_df.conf.count()).round(2)"
   ]
  },
  {
   "cell_type": "markdown",
   "id": "551f18ea-5b27-4782-bc1c-0b3bc4e0ae7a",
   "metadata": {},
   "source": [
    "# Comparison with Modis-tempCNN"
   ]
  },
  {
   "cell_type": "code",
   "execution_count": null,
   "id": "8a502e91-af04-42e0-a5ce-bad295433db1",
   "metadata": {},
   "outputs": [],
   "source": [
    "tif = gdal.Open(diff_tif, gdal.GA_ReadOnly)\n",
    "image = tif.ReadAsArray()\n",
    "all_data = np.concatenate(([image], aux_data), axis=0)\n",
    "diff_df = []\n",
    "for col in range(all_data.shape[0]):\n",
    "    temp_df = pd.DataFrame(all_data[col]).stack()\n",
    "    diff_df.append(temp_df)\n",
    "diff_df = pd.concat(diff_df, axis=1, keys=['diff'] + aux_bands)\n",
    "diff_df = diff_df[diff_df['diff'].gt(-990)]"
   ]
  },
  {
   "cell_type": "markdown",
   "id": "9002c079-6eed-409c-b020-60fbb9eb5d2a",
   "metadata": {},
   "source": [
    "## Summary statistics"
   ]
  },
  {
   "cell_type": "code",
   "execution_count": null,
   "id": "9f18146a-4d14-406f-91dd-6ec8a99b4df7",
   "metadata": {},
   "outputs": [],
   "source": [
    "with pd.option_context('display.float_format', '{:.2f}'.format):\n",
    "    display(diff_df['diff'].describe())"
   ]
  },
  {
   "cell_type": "markdown",
   "id": "3e7bf3a2-0344-41ee-b6fb-c04304f1330a",
   "metadata": {},
   "source": [
    "## Percentage of pixels where Multi-tempCNN estimate is higher than Modis-tempCNN"
   ]
  },
  {
   "cell_type": "code",
   "execution_count": null,
   "id": "d4541aa7-1a65-4ac4-8325-11a6800293c0",
   "metadata": {},
   "outputs": [],
   "source": [
    "print('Percentage with Multi-tempCNN estimate > Modis-tempCNN:',\n",
    "      ((diff_df['diff'] >= 0).sum() * 100 / diff_df['diff'].count()).round(2))\n",
    "\n",
    "print('Percentage with rounded Multi-tempCNN estimate > Modis-tempCNN:',\n",
    "      ((diff_df['diff'].round() >= 0).sum() * 100 / diff_df['diff'].count()).round(2))\n",
    "\n",
    "print('Percentage with Multi-tempCNN estimate close to or greater than Modis-tempCNN:',\n",
    "      ((diff_df['diff'] >= -1.3).sum() * 100 / diff_df['diff'].count()).round(2))\n",
    "\n",
    "print('Percentage with absolute difference between Multi-tempCNN estimate and Modis-tempCNN < 4:',\n",
    "      ((diff_df['diff'].abs() < 4).sum() * 100 / diff_df['diff'].count()).round(2))\n",
    "\n",
    "print('Percentage with Multi-tempCNN estimate greater than 4 more than Modis-tempCNN:',\n",
    "      ((diff_df['diff'] > 4).sum() * 100 / diff_df['diff'].count()).round(2))"
   ]
  },
  {
   "cell_type": "markdown",
   "id": "6e9d35d4-89c3-4ca0-ac8b-20cc469ce26f",
   "metadata": {},
   "source": [
    "## Estimation differences in Regions of Interest"
   ]
  },
  {
   "cell_type": "code",
   "execution_count": null,
   "id": "8b6eba16-e03b-4bb9-9c8d-7658d1f41b64",
   "metadata": {},
   "outputs": [],
   "source": [
    "tif = gdal.Open(modis_tif, gdal.GA_ReadOnly)\n",
    "image = tif.ReadAsArray()\n",
    "all_data = np.concatenate((image, aux_data), axis=0)\n",
    "modis_df = []\n",
    "for col in range(all_data.shape[0]):\n",
    "    temp_df = pd.DataFrame(all_data[col]).stack()\n",
    "    modis_df.append(temp_df)\n",
    "modis_df = pd.concat(modis_df, axis=1, keys=['lfmc', 'conf'] + aux_bands)\n",
    "modis_df = modis_df[modis_df['lfmc'].gt(-990)]\n",
    "with pd.option_context('display.float_format', '{:.2f}'.format):\n",
    "    display(modis_df['lfmc'].describe())"
   ]
  },
  {
   "cell_type": "code",
   "execution_count": null,
   "id": "84c1339a-9726-4c9c-bebc-4276183ac8d0",
   "metadata": {},
   "outputs": [],
   "source": [
    "temp_df3 = pd.concat([\n",
    "    diff_df[diff_df.longitude.lt(-120) & diff_df.latitude.gt(42) & diff_df.climate_zone.isin([9, 15])][['diff']].mean(),\n",
    "    diff_df[diff_df.latitude.lt(30) & diff_df.climate_zone.eq(6) ][['diff']].mean(),\n",
    "    diff_df[diff_df.latitude.lt(30) & diff_df.climate_zone.isin([1, 2, 3])][['diff']].mean(),\n",
    "    diff_df[diff_df.longitude.between(-100, -80) & diff_df.climate_zone.eq(25)][['diff']].mean(),\n",
    "    diff_df[diff_df.climate_zone.eq(4)][['diff']].mean()],\n",
    "    keys = ['Pacific Northwest', 'Southern Texas', 'Southern Florida', 'Mid-west Cornbelt', 'Deserts'], axis=1)\n",
    "# with pd.option_context('display.float_format', '{:.2f}'.format):\n",
    "#     display(temp_df3"
   ]
  },
  {
   "cell_type": "code",
   "execution_count": null,
   "id": "bd732914-5bf5-4f2a-a56d-0842cdd8beb3",
   "metadata": {},
   "outputs": [],
   "source": [
    "temp_df1 = pd.concat([\n",
    "    data_df[data_df.longitude.lt(-120) & data_df.latitude.gt(42) & data_df.climate_zone.isin([9, 15])][['lfmc']].mean(),\n",
    "    data_df[data_df.latitude.lt(30) & data_df.climate_zone.eq(6) ][['lfmc']].mean(),\n",
    "    data_df[data_df.latitude.lt(30) & data_df.climate_zone.isin([1, 2, 3])][['lfmc']].mean(),\n",
    "    data_df[data_df.longitude.between(-100, -80) & data_df.climate_zone.eq(25)][['lfmc']].mean(),\n",
    "    data_df[data_df.climate_zone.eq(4)][['lfmc']].mean()],\n",
    "    keys = ['Pacific Northwest', 'Southern Texas', 'Southern Florida', 'Mid-west Cornbelt', 'Deserts'], axis=1)\n",
    "# with pd.option_context('display.float_format', '{:.2f}'.format):\n",
    "#     display(temp_df1)"
   ]
  },
  {
   "cell_type": "code",
   "execution_count": null,
   "id": "6fd4baa1-a7da-4b01-8c68-6c1b05f8ae55",
   "metadata": {},
   "outputs": [],
   "source": [
    "temp_df2 = pd.concat([\n",
    "    modis_df[modis_df.longitude.lt(-120) & modis_df.latitude.gt(42) & modis_df.climate_zone.isin([9, 15])][['lfmc']].mean(),\n",
    "    modis_df[modis_df.latitude.lt(30) & modis_df.climate_zone.eq(6)][['lfmc']].mean(),\n",
    "    modis_df[modis_df.latitude.lt(30) & modis_df.climate_zone.isin([1, 2, 3])][['lfmc']].mean(),\n",
    "    modis_df[modis_df.longitude.between(-100, -80) & modis_df.climate_zone.eq(25)][['lfmc']].mean(),\n",
    "    modis_df[modis_df.climate_zone.eq(4)][['lfmc']].mean()],\n",
    "    keys = ['Pacific Northwest', 'Southern Texas', 'Southern Florida', 'Mid-west Cornbelt', 'Deserts'], axis=1)\n",
    "# with pd.option_context('display.float_format', '{:.2f}'.format):\n",
    "#     display(temp_df2)"
   ]
  },
  {
   "cell_type": "code",
   "execution_count": null,
   "id": "f7882808-931a-46b3-aebf-433c63987d0f",
   "metadata": {},
   "outputs": [],
   "source": [
    "with pd.option_context('display.float_format', '{:.2f}'.format):\n",
    "    display(pd.concat([temp_df1, temp_df2, temp_df3], keys=['Multi-tempCNN', 'Modis-tempCNN', 'Difference']).droplevel(1))"
   ]
  },
  {
   "cell_type": "markdown",
   "id": "2121db41-8cb0-4ce0-884f-94e8af36c1d2",
   "metadata": {},
   "source": [
    "## Estimation differences by climate zone"
   ]
  },
  {
   "cell_type": "code",
   "execution_count": null,
   "id": "39db28e2-dbb1-4330-ab7c-a3754bd68961",
   "metadata": {
    "scrolled": true,
    "tags": []
   },
   "outputs": [],
   "source": [
    "czones = pd.read_csv(os.path.join(common.SOURCE_DIR, 'Climate_zones.csv'), index_col=0)\n",
    "temp_df = data_df.groupby(['climate_zone'])[['lfmc', 'conf']].mean().merge(czones['Code'], left_index=True, right_index=True).set_index('Code')\n",
    "temp_df.columns = ['Mean LFMC', 'Uncertainty']\n",
    "temp_df['Differences'] = diff_df.groupby(['climate_zone'])[['diff']].mean().merge(czones['Code'], left_index=True, right_index=True).set_index('Code')\n",
    "temp_df['Pixel Count'] = data_df.groupby(['climate_zone'])[['lfmc']].count().merge(czones['Code'], left_index=True, right_index=True).set_index('Code')\n",
    "temp_df['% of CONUS'] = temp_df['Pixel Count'] * 100 / data_df.shape[0]\n",
    "temp_df.rename_axis('Climate Zone', inplace=True)\n",
    "with pd.option_context('display.float_format', '{:.2f}'.format):\n",
    "    display(temp_df.sort_values('Uncertainty'))"
   ]
  },
  {
   "cell_type": "code",
   "execution_count": null,
   "id": "eb6799a9-5ec8-4eb7-ae98-c52ae53b2b40",
   "metadata": {},
   "outputs": [],
   "source": [
    "colours = czones[czones.Code.isin(temp_df.index)][['Red', 'Green', 'Blue']].values / 256\n",
    "axes = temp_df[['Mean LFMC', 'Uncertainty', 'Differences', '% of CONUS']].plot(kind='bar', subplots=True, layout=(2,2), figsize=(12, 8), sharex=True, legend=False)\n",
    "for ax in axes.flatten():\n",
    "    for p, c in zip(ax.patches, colours):\n",
    "        p.set_facecolor(c)\n",
    "plt.tight_layout()"
   ]
  },
  {
   "cell_type": "code",
   "execution_count": null,
   "id": "2999a760-6d2c-4f8a-9ba5-367c8736587b",
   "metadata": {},
   "outputs": [],
   "source": [
    "czone_file = os.path.join(common.MAPS_DIR, 'Climate_zones', 'climate_zones.vrt')\n",
    "czone_tif = gdal.Open(czone_file, gdal.GA_ReadOnly)\n",
    "czone_array = czone_tif.ReadAsArray()\n",
    "czone_array = czone_array.astype(np.int8)\n",
    "df2 = pd.DataFrame(czone_array.flatten(), columns=['czone'])\n",
    "df2 = df2[df2.czone > 0]\n",
    "df2.groupby(['czone']).size()"
   ]
  },
  {
   "cell_type": "code",
   "execution_count": null,
   "id": "ee8da67f-f664-43a7-956e-6a8d6c3ee958",
   "metadata": {},
   "outputs": [],
   "source": []
  }
 ],
 "metadata": {
  "kernelspec": {
   "display_name": "LFMC",
   "language": "python",
   "name": "lfmc"
  },
  "language_info": {
   "codemirror_mode": {
    "name": "ipython",
    "version": 3
   },
   "file_extension": ".py",
   "mimetype": "text/x-python",
   "name": "python",
   "nbconvert_exporter": "python",
   "pygments_lexer": "ipython3",
   "version": "3.8.13"
  }
 },
 "nbformat": 4,
 "nbformat_minor": 5
}
