{
 "cells": [
  {
   "cell_type": "markdown",
   "id": "progressive-angel",
   "metadata": {},
   "source": [
    "# Figure for Ensemble Sizes Result\n",
    "## Initialisation"
   ]
  },
  {
   "cell_type": "code",
   "execution_count": null,
   "id": "cathedral-ceramic",
   "metadata": {},
   "outputs": [],
   "source": [
    "import json\n",
    "import numpy as np\n",
    "import os\n",
    "import pandas as pd\n",
    "from scipy import stats\n",
    "import seaborn as sns\n",
    "\n",
    "import matplotlib.pyplot as plt\n",
    "from matplotlib.colors import Normalize\n",
    "import matplotlib.colors as mcolors\n",
    "from matplotlib import cm\n",
    "\n",
    "import initialise\n",
    "import common"
   ]
  },
  {
   "cell_type": "code",
   "execution_count": null,
   "id": "floral-standard",
   "metadata": {},
   "outputs": [],
   "source": [
    "SCENARIOS = ['out-of-site', 'within-site']\n",
    "samples_file = os.path.join(common.DATASETS_DIR, 'samples_365days.csv')\n",
    "model_dir1 = os.path.join(common.MODELS_DIR, f'{SCENARIOS[0]}_models')\n",
    "model_dir2 = os.path.join(common.MODELS_DIR, f'{SCENARIOS[1]}_models')\n",
    "precision = 2"
   ]
  },
  {
   "cell_type": "code",
   "execution_count": null,
   "id": "75ea479a-a0cb-4709-b4c0-bdf99f495a44",
   "metadata": {},
   "outputs": [],
   "source": [
    "with open(os.path.join(model_dir2, 'model_params.json'), 'r') as f:\n",
    "    model_params = json.load(f)"
   ]
  },
  {
   "cell_type": "code",
   "execution_count": null,
   "id": "cada49fa-13b3-4823-8b44-f4569f32b8f6",
   "metadata": {},
   "outputs": [],
   "source": [
    "samples1 = pd.read_csv(samples_file, index_col=0)\n",
    "temp_predict = pd.read_csv(os.path.join(model_dir2, f'ensemble{common.ENSEMBLE_SIZE}_{common.ANALYSIS_MODEL}.csv'), index_col=0)\n",
    "samples2 = samples1.reindex(temp_predict.index)"
   ]
  },
  {
   "cell_type": "markdown",
   "id": "sapphire-junior",
   "metadata": {},
   "source": [
    "## Get the predictions and summary statistics"
   ]
  },
  {
   "cell_type": "code",
   "execution_count": null,
   "id": "bd7972db-911f-4748-9158-859f52b314b6",
   "metadata": {},
   "outputs": [],
   "source": [
    "def get_results(model_dir, samples):\n",
    "    predict = []\n",
    "    all_stats = []\n",
    "    # Load predictions and statistics files\n",
    "    for num, test in enumerate(common.ENSEMBLE_NAMES):\n",
    "        if num == 0:\n",
    "            file_name = f'single_{common.ANALYSIS_MODEL}.csv'\n",
    "            stats_fname = f\"single_stats.csv\"\n",
    "        else:\n",
    "            file_name = f\"ensemble{common.ENSEMBLE_SIZES[num]:02}_{common.ANALYSIS_MODEL}.csv\"\n",
    "            stats_fname = f\"ensemble{common.ENSEMBLE_SIZES[num]:02}_stats.csv\"\n",
    "        predict.append(pd.read_csv(os.path.join(model_dir, file_name), index_col=0).loc[samples.index])\n",
    "        all_stats.append(pd.read_csv(os.path.join(model_dir, stats_fname), index_col=(0,1)).T[common.ANALYSIS_MODEL])\n",
    "\n",
    "    # Compute the means and confidence intervals\n",
    "    means = [stats_.mean() for stats_ in all_stats]\n",
    "    ci_dict = {}\n",
    "    for n, t in enumerate(all_stats):\n",
    "        ci = stats.t.interval(0.95, t.shape[1]-1, loc=np.mean(t), scale=stats.sem(t))\n",
    "        ci = ((ci[1] - ci[0]) / 2).round(precision)\n",
    "        ci_dict[common.ENSEMBLE_NAMES[n]] = pd.DataFrame([means[n].array, ci], index=['mean', 'ci'], columns=t.columns)\n",
    "\n",
    "    # Create dataframe for means/CIs\n",
    "    df_list = []\n",
    "    for num, test in enumerate(common.ENSEMBLE_NAMES):\n",
    "        df_dict={}\n",
    "        df_dict.update(ci_dict[test].RMSE.round(precision).add_prefix('RMSE_').to_dict())\n",
    "        df_dict['Pred_var'] = round(predict[num].var(axis=1).mean(), precision)\n",
    "        df_dict.update(ci_dict[test].ubRMSE.round(precision).add_prefix('ubRMSE_').to_dict())\n",
    "        df_dict.update(ci_dict[test].Bias.round(precision).add_prefix('Bias_').to_dict())\n",
    "        df_dict.update(ci_dict[test].R2.round(precision).add_prefix('R2_').to_dict())\n",
    "        df_list.append(df_dict)\n",
    "    ci_df = pd.DataFrame(df_list, index=common.ENSEMBLE_NAMES)\n",
    "\n",
    "    return ci_df, all_stats"
   ]
  },
  {
   "cell_type": "markdown",
   "id": "express-commissioner",
   "metadata": {},
   "source": [
    "## Results Summary\n",
    "### Out-of-site Ensembles"
   ]
  },
  {
   "cell_type": "code",
   "execution_count": null,
   "id": "1146eceb-d707-4728-a534-c77abee4c9d2",
   "metadata": {},
   "outputs": [],
   "source": [
    "ci_df1, all_stats1 = get_results(model_dir1, samples1)\n",
    "ci_df1"
   ]
  },
  {
   "cell_type": "markdown",
   "id": "6f178771-b01b-4899-8800-04fe03ef92c1",
   "metadata": {},
   "source": [
    "### Within-site Ensembles"
   ]
  },
  {
   "cell_type": "code",
   "execution_count": null,
   "id": "6e75bb7b-f913-463e-a772-62a3028594fc",
   "metadata": {},
   "outputs": [],
   "source": [
    "ci_df2, all_stats2 = get_results(model_dir2, samples2)\n",
    "ci_df2"
   ]
  },
  {
   "cell_type": "markdown",
   "id": "5e73995b-33ac-47c3-adbf-d3484470f84a",
   "metadata": {},
   "source": [
    "## Ensembles Figure"
   ]
  },
  {
   "cell_type": "code",
   "execution_count": null,
   "id": "c6eade0c-32fa-43e0-b3f7-ed413773016c",
   "metadata": {},
   "outputs": [],
   "source": [
    "font_size = 8\n",
    "plt.rcParams.update({'font.size': font_size})\n",
    "fig = plt.figure(constrained_layout=False, figsize=(8.413, 2.3), dpi=500, linewidth=2, edgecolor=\"black\")\n",
    "\n",
    "# RMSE plot\n",
    "plt.subplot(131)\n",
    "data1_ = pd.DataFrame({common.ENSEMBLE_SIZES[n]: stats_.RMSE for n, stats_ in enumerate(all_stats1)}).melt(\n",
    "    var_name='Ensemble size', value_name = 'RMSE')\n",
    "data1_['model'] = SCENARIOS[0].capitalize()\n",
    "data2_ = pd.DataFrame({common.ENSEMBLE_SIZES[n]: stats_.RMSE for n, stats_ in enumerate(all_stats2)}).melt(\n",
    "    var_name='Ensemble size', value_name = 'RMSE')\n",
    "data2_['model'] = SCENARIOS[1].capitalize()\n",
    "data_ = pd.concat([data1_, data2_]).reset_index()\n",
    "plt.ylim(20, 28)\n",
    "plt.xlim(0, 25)\n",
    "plt.xticks(np.arange(0, 30, 5))\n",
    "ax = sns.lineplot(x='Ensemble size', y='RMSE', hue='model', data=data_)\n",
    "plt.title('(a) Mean RMSE', size=10)\n",
    "plt.ylabel('RMSE (%)')\n",
    "handles, labels = ax.get_legend_handles_labels()\n",
    "ax.legend(handles=handles, labels=labels)\n",
    "\n",
    "# R2 plot\n",
    "plt.subplot(132)\n",
    "data1_ = pd.DataFrame({common.ENSEMBLE_SIZES[n]: stats_.R2 for n, stats_ in enumerate(all_stats1)}).melt(\n",
    "    var_name='Ensemble size', value_name = 'R2')\n",
    "data1_['model'] = SCENARIOS[0].capitalize()\n",
    "data2_ = pd.DataFrame({common.ENSEMBLE_SIZES[n]: stats_.R2 for n, stats_ in enumerate(all_stats2)}).melt(\n",
    "    var_name='Ensemble size', value_name = 'R2')\n",
    "data2_['model'] = SCENARIOS[1].capitalize()\n",
    "data_ = pd.concat([data1_, data2_]).reset_index(drop=True)\n",
    "ax = sns.lineplot(x='Ensemble size', y='R2', hue='model', data=data_)\n",
    "plt.title('(b) Mean $R^2$', size=10)\n",
    "plt.ylim(0.45, 0.75)\n",
    "plt.xlim(0, 25)\n",
    "plt.xticks(np.arange(0, 30, 5))\n",
    "plt.ylabel('$R^2$')\n",
    "handles, labels = ax.get_legend_handles_labels()\n",
    "ax.legend(handles=handles, labels=labels)\n",
    "\n",
    "# Variance plot\n",
    "plt.subplot(133)\n",
    "data1_ = pd.DataFrame(ci_df1, index=common.ENSEMBLE_NAMES)\n",
    "data1_['model'] = SCENARIOS[0].capitalize()\n",
    "data1_['Ensemble size'] = common.ENSEMBLE_SIZES\n",
    "data2_ = pd.DataFrame(ci_df2, index=common.ENSEMBLE_NAMES)\n",
    "data2_['model'] = SCENARIOS[1].capitalize()\n",
    "data2_['Ensemble size'] = common.ENSEMBLE_SIZES\n",
    "data_ = pd.concat([data1_, data2_]).reset_index(drop=True)\n",
    "ax = sns.lineplot(x='Ensemble size', y='Pred_var', hue='model', data=data_)\n",
    "plt.title('(c) Mean Estimation Variance', size=10)\n",
    "plt.ylim(0, 100)\n",
    "plt.xlim(0, 25)\n",
    "plt.xticks(np.arange(0, 30, 5))\n",
    "plt.ylabel('Variance (%)')\n",
    "handles, labels = ax.get_legend_handles_labels()\n",
    "ax.legend(handles=handles, labels=labels)\n",
    "\n",
    "plt.subplots_adjust(wspace=0.4)\n",
    "fig.savefig(os.path.join(common.FIGURES_DIR, 'Ensemble sizes.jpeg'), format=\"jpeg\", bbox_inches='tight', pad_inches=0.2, dpi=500)"
   ]
  },
  {
   "cell_type": "code",
   "execution_count": null,
   "id": "3f73ee20-e4af-4a79-8223-3cfcaa9f5c65",
   "metadata": {},
   "outputs": [],
   "source": []
  }
 ],
 "metadata": {
  "kernelspec": {
   "display_name": "LFMC",
   "language": "python",
   "name": "lfmc"
  },
  "language_info": {
   "codemirror_mode": {
    "name": "ipython",
    "version": 3
   },
   "file_extension": ".py",
   "mimetype": "text/x-python",
   "name": "python",
   "nbconvert_exporter": "python",
   "pygments_lexer": "ipython3",
   "version": "3.8.13"
  }
 },
 "nbformat": 4,
 "nbformat_minor": 5
}
