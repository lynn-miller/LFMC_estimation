{
 "cells": [
  {
   "cell_type": "markdown",
   "id": "6120fbf8-df7a-4b13-b64f-f15e0181d9e1",
   "metadata": {},
   "source": [
    "# Statistics and Figures for Analysis by Climate Zone"
   ]
  },
  {
   "cell_type": "markdown",
   "id": "390deec7-7b8f-4e67-b1d9-e520b7d85931",
   "metadata": {},
   "source": [
    "## Initialisation"
   ]
  },
  {
   "cell_type": "code",
   "execution_count": null,
   "id": "broadband-funeral",
   "metadata": {},
   "outputs": [],
   "source": [
    "import json\n",
    "import numpy as np\n",
    "import os\n",
    "import pandas as pd\n",
    "import seaborn as sns\n",
    "\n",
    "from scipy import stats\n",
    "\n",
    "import matplotlib.pyplot as plt\n",
    "\n",
    "import initialise\n",
    "import common\n",
    "from analysis_utils import calc_statistics\n",
    "from display_utils import display_frames"
   ]
  },
  {
   "cell_type": "code",
   "execution_count": null,
   "id": "colored-uncle",
   "metadata": {},
   "outputs": [],
   "source": [
    "SCENARIOS = ['within-site', 'out-of-site']\n",
    "DISPLAY_NAMES = [' '.join([s.capitalize(), 'Models']) for s in SCENARIOS]\n",
    "samples_file = os.path.join(common.DATASETS_DIR, 'samples_365days.csv')\n",
    "model_dir1 = os.path.join(common.MODELS_DIR, f'{SCENARIOS[0]}_models')\n",
    "model_dir2 = os.path.join(common.MODELS_DIR, f'{SCENARIOS[1]}_models')\n",
    "output_dir = common.FIGURES_DIR"
   ]
  },
  {
   "cell_type": "code",
   "execution_count": null,
   "id": "174e9768-7ab7-42e1-b061-9876fcd35ebf",
   "metadata": {},
   "outputs": [],
   "source": [
    "model = common.ANALYSIS_MODEL\n",
    "ensemble_size = common.ENSEMBLE_SIZE\n",
    "ensemble_runs = common.ENSEMBLE_RUNS"
   ]
  },
  {
   "cell_type": "code",
   "execution_count": null,
   "id": "a97ccaf7-7d9e-4433-a48d-cde4881b2a54",
   "metadata": {},
   "outputs": [],
   "source": [
    "WITHIN_SITE_RMSE = 20.9\n",
    "OUT_OF_SITE_RMSE = 25.4\n",
    "WITHIN_SITE_R2 = 0.70\n",
    "OUT_OF_SITE_R2 = 0.54\n",
    "TEXT_SIZE = 7\n",
    "FONT_SIZE = 8\n",
    "TITLE_SIZE = 10\n",
    "MARKER_SIZE = 7\n",
    "LINE_WIDTH = 1.0\n",
    "SATURATION = 0.6"
   ]
  },
  {
   "cell_type": "markdown",
   "id": "f8b32c59-b6c1-4e52-82bb-f35464bf6848",
   "metadata": {},
   "source": [
    "## Get the Samples and Predictions"
   ]
  },
  {
   "cell_type": "code",
   "execution_count": null,
   "id": "banner-proxy",
   "metadata": {
    "scrolled": true
   },
   "outputs": [],
   "source": [
    "with open(os.path.join(model_dir1, 'model_params.json'), 'r') as f:\n",
    "    ws_params = json.load(f)\n",
    "samples2 = pd.read_csv(samples_file, index_col=0)\n",
    "predict2 = pd.read_csv(os.path.join(model_dir2, f'ensemble{ensemble_size}_{model}.csv'), index_col=0).reindex(samples2.index)\n",
    "\n",
    "predict1 = pd.read_csv(os.path.join(model_dir1, f'ensemble{ensemble_size}_{model}.csv'), index_col=0)\n",
    "samples1 = samples2.reindex(predict1.index)"
   ]
  },
  {
   "cell_type": "markdown",
   "id": "e0067157-a1ed-42d4-9aaf-0bde66d04a6b",
   "metadata": {},
   "source": [
    "## Functions"
   ]
  },
  {
   "cell_type": "markdown",
   "id": "f6c305e2-89b3-4161-93bd-af76d509d0a9",
   "metadata": {},
   "source": [
    "### Statistical functions"
   ]
  },
  {
   "cell_type": "code",
   "execution_count": null,
   "id": "decimal-colors",
   "metadata": {},
   "outputs": [],
   "source": [
    "def rmse(errors):\n",
    "    return np.sqrt((errors ** 2).mean())"
   ]
  },
  {
   "cell_type": "code",
   "execution_count": null,
   "id": "continuous-establishment",
   "metadata": {},
   "outputs": [],
   "source": [
    "def gen_stats(y, yhat):\n",
    "    data = pd.DataFrame({'y': y['LFMC value'], 'yhat': yhat, 'Climate Zone': y['Czone3']})\n",
    "    data['Pred_error'] = data.yhat - data.y\n",
    "    data['tss'] = (data.y - data.y.mean()) ** 2\n",
    "    data['rss'] = (data.yhat - data.y) ** 2\n",
    "    stats_ = data.groupby(['Climate Zone']).agg({'Pred_error': ['mean', rmse], 'tss': ['sum'], 'rss': ['sum']}).reset_index()\n",
    "    stats_.columns = ['Climate Zone', 'mean', 'rmse', 'tss', 'rss']\n",
    "    stats_['r2'] = 1 - stats_.rss / stats_.tss\n",
    "    return stats_  "
   ]
  },
  {
   "cell_type": "code",
   "execution_count": null,
   "id": "cf9b6a39-6e9b-4614-9273-0e52f0cf21b8",
   "metadata": {},
   "outputs": [],
   "source": [
    "def gen_means(y, yhat):\n",
    "    stats_ = pd.concat([gen_stats(y, p[1]) for p in yhat.items()])\n",
    "    return stats_.groupby('Climate Zone').agg(\n",
    "        bias=pd.NamedAgg(column='mean', aggfunc='mean'),\n",
    "        bias_std=pd.NamedAgg(column='mean', aggfunc='std'),\n",
    "        rmse=pd.NamedAgg(column='rmse', aggfunc='mean'),\n",
    "        rmse_std=pd.NamedAgg(column='rmse', aggfunc='std'),\n",
    "        r2=pd.NamedAgg(column='r2', aggfunc='mean'),\n",
    "        r2_std=pd.NamedAgg(column='r2', aggfunc='std'),\n",
    "    )"
   ]
  },
  {
   "cell_type": "markdown",
   "id": "b603c34b-0aca-4d35-9230-c0022c37a622",
   "metadata": {},
   "source": [
    "### Plotting functions"
   ]
  },
  {
   "cell_type": "code",
   "execution_count": null,
   "id": "3a970485-fd06-4482-bf06-a14f62eca1c5",
   "metadata": {},
   "outputs": [],
   "source": [
    "def samples_plot(data, plot_order, czones, ax, label):\n",
    "    data = data.sort_values(['count'])\n",
    "    sns.barplot(y=data.Czone3, x=data['mean'], xerr=data['std'], palette=czones,\n",
    "                saturation=SATURATION, error_kw=dict(lw=LINE_WIDTH), ax=ax, zorder=2)\n",
    "    ax.set_ylabel('Climate Zone')\n",
    "    ax.set_xlabel(f'({label}) Measured LFMC', fontsize=FONT_SIZE)\n",
    "\n",
    "    ypos = ax.get_yticks()\n",
    "    for n, c in data.reset_index()['count'].items():\n",
    "        ax.text(1, ypos[n], c, va='center', size=TEXT_SIZE, zorder=3)\n",
    "    ax.text(1, -ypos[1] - 0.1, 'Samples', va='top')\n",
    "\n",
    "    ax.set_xlim((0, 200))\n",
    "    ax.set_xticks(range(0, 250, 50))\n",
    "    ax.set_xticklabels([f'{i}%' for i in range(0, 250, 50)], fontsize=TEXT_SIZE)\n",
    "    return ax"
   ]
  },
  {
   "cell_type": "code",
   "execution_count": null,
   "id": "f704654f-7dbc-4db7-9387-65d8e6346370",
   "metadata": {},
   "outputs": [],
   "source": [
    "def results_plot(samples, predict, data, plot_order, czones, xlim, xline, ylim, ax, label):\n",
    "    ax.plot([xline, xline], ylim, '--', color='grey', linewidth=LINE_WIDTH, zorder=1)\n",
    "\n",
    "    bp_data = (predict.T - samples['LFMC value']).T\n",
    "    bp_data['Czone3'] = samples['Czone3']\n",
    "    bp_data = bp_data.set_index('Czone3').unstack().reset_index()\n",
    "    bp_data.columns = ['Ensemble', 'Czone3', 'Error']\n",
    "\n",
    "    whiskers = bp_data.groupby(['Czone3'])['Error'].describe()[['25%', '75%']]\n",
    "    whiskers['iqr'] = whiskers.diff(axis=1)['75%']\n",
    "    whiskers['lower'] = whiskers['25%'] - 1.5 * whiskers['iqr']\n",
    "    whiskers['upper'] = whiskers['75%'] + 1.5 * whiskers['iqr']\n",
    "    \n",
    "    sns.boxplot(y='Czone3', x='Error', data=bp_data, order=plot_order, palette=czones,\n",
    "                saturation=SATURATION, width=0.7, linewidth=LINE_WIDTH, showfliers=False, showcaps=False,\n",
    "                ax=ax, zorder=2, boxprops={'zorder': 2}, whiskerprops={'zorder': 2})\n",
    "    for num, ytick in enumerate(ax2.get_yticks()):\n",
    "        y_off = ytick\n",
    "        rmse = data.set_index('Climate Zone').rmse.loc[plot_order[num]]\n",
    "        bias_ = data.set_index('Climate Zone').bias.loc[plot_order[num]]\n",
    "        pt, = ax.plot(rmse, y_off, 'dk', mfc=czones[num], markersize=MARKER_SIZE, zorder=3)\n",
    "        ax.text(rmse+3, y_off, round(rmse,2), va='bottom', ha='left', size=TEXT_SIZE)\n",
    "        t = ax.text(xlim[0]+1, y_off, round(bias_,2), va='bottom', ha='left', size=TEXT_SIZE)\n",
    "    ax.set_ylabel(None)\n",
    "    ax.set_xlabel(f'({label}) Estimation Error Distribution, RMSE and Bias', fontsize=FONT_SIZE)\n",
    "    ax.set_xlim(xlim)\n",
    "    ax.set_xticks(range(xlim[0], xlim[1]+1, 40))\n",
    "    ax.set_xticklabels([f'{i}%' for i in range(xlim[0], xlim[1]+1, 40)], fontsize=TEXT_SIZE)\n",
    "    ypos = ax.get_yticks()\n",
    "    ax.text(xlim[0], -ypos[1] - 0.1, 'Bias (%)', va='top')\n",
    "    return ax"
   ]
  },
  {
   "cell_type": "code",
   "execution_count": null,
   "id": "ce6d6097-ff5d-4e0d-9d05-bc007e948fc4",
   "metadata": {},
   "outputs": [],
   "source": [
    "def r2_plot(samples, predict, data, plot_order, czones, xlim, xline, ylim, ax, label):\n",
    "    bp_data = predict.copy()\n",
    "    bp_data['Czone3'] = samples['Czone3']\n",
    "    bp_data = bp_data.set_index('Czone3').unstack().reset_index()\n",
    "    bp_data.columns = ['Ensemble', 'Czone3', 'Estimation']\n",
    "\n",
    "    sns.boxplot(y='Czone3', x='Estimation', data=bp_data, order=plot_order, palette=czones,\n",
    "                saturation=SATURATION, width=0.7, linewidth=LINE_WIDTH, showfliers=False, showcaps=False,\n",
    "                ax=ax, zorder=2, boxprops={'zorder': 2}, whiskerprops={'zorder': 2})\n",
    "\n",
    "    whiskers = bp_data.groupby(['Czone3'])['Estimation'].describe()[['25%', '75%']]\n",
    "    whiskers['iqr'] = whiskers.diff(axis=1)['75%']\n",
    "    whiskers['lower'] = whiskers['25%'] - 1.5 * whiskers['iqr']\n",
    "    whiskers['upper'] = whiskers['75%'] + 1.5 * whiskers['iqr']\n",
    "\n",
    "    xlim1 = [-0.5, 1.05]\n",
    "    ax1=ax.twiny()\n",
    "    ax1.set_xlim(xlim1)\n",
    "    ax1.set_xlabel(\"$R^2$\", color=\"blue\", fontsize=TEXT_SIZE)\n",
    "    plt.setp(ax1.get_xticklabels(), color=\"blue\")\n",
    "    ax1.plot([xline, xline], ylim, '--', color='grey', linewidth=LINE_WIDTH, zorder=1)\n",
    "\n",
    "    for num, ytick in enumerate(ax2.get_yticks()):\n",
    "        y_idx = plot_order[num]\n",
    "        r2 = data.set_index('Climate Zone').r2.loc[y_idx]\n",
    "        pt, = ax1.plot(r2, ytick, '*k', mfc=czones[num], markersize=MARKER_SIZE+2, zorder=3)\n",
    "        x_off = -0.05 if r2 > 0.85 else 0.05\n",
    "        ha = 'right' if r2 > 0.85 else 'left'\n",
    "        r2_scaled = ((r2 - xlim1[0]) / (xlim1[1] - xlim1[0])) * (xlim[1] - xlim[0]) + xlim[0]\n",
    "        if whiskers.loc[y_idx, 'lower'] <= r2_scaled <= whiskers.loc[y_idx, 'upper']:\n",
    "            va = 'bottom'\n",
    "        else:\n",
    "            va = 'center'\n",
    "        ax1.text(r2 + x_off, ytick, round(r2,2), va=va, ha=ha, color='b', size=TEXT_SIZE)\n",
    "    ax.set_ylabel(None)\n",
    "    ax.set_xlabel(f'({label}) LFMC Estimation Distribution and $R^2$', fontsize=FONT_SIZE)\n",
    "    ax.set_xlim(xlim)\n",
    "    ax.set_xticks(range(xlim[0], xlim[1]+1, 40))\n",
    "    ax.set_xticklabels([f'{i}%' for i in range(xlim[0], xlim[1]+1, 40)], fontsize=TEXT_SIZE)\n",
    "    return ax"
   ]
  },
  {
   "cell_type": "markdown",
   "id": "bbd9005e-61c2-4066-987c-7298e738347a",
   "metadata": {},
   "source": [
    "## Calculate Metrics by Climate Zone"
   ]
  },
  {
   "cell_type": "code",
   "execution_count": null,
   "id": "57426d2c-0240-430c-80b4-28a36fbbfb1f",
   "metadata": {},
   "outputs": [],
   "source": [
    "data_summ = [samples1.groupby(['Czone3'])['LFMC value'].agg(['mean', 'std', 'count']).reset_index(),\n",
    "             samples2.groupby(['Czone3'])['LFMC value'].agg(['mean', 'std', 'count']).reset_index()]\n",
    "data1 = gen_means(samples1, predict1).reset_index()\n",
    "data2 = gen_means(samples2, predict2).reset_index()\n",
    "\n",
    "display_frames(\n",
    "    [data_summ[1], data1.convert_dtypes(), data2.convert_dtypes()],\n",
    "    ['Measured LFMC'] + DISPLAY_NAMES,\n",
    "    precision=2\n",
    ")"
   ]
  },
  {
   "cell_type": "markdown",
   "id": "a28771d8-c230-4390-9b62-25b949b47142",
   "metadata": {},
   "source": [
    "## Generate the Figure"
   ]
  },
  {
   "cell_type": "markdown",
   "id": "9ca7fd43-de4e-4948-9c63-764a6feff5f6",
   "metadata": {},
   "source": [
    "### Figure Colours\n",
    "Colours are the ones used by Beck et al. in their paper \"Present and future Köppen-Geiger climate classification maps at 1-km resolution\" (DOI: 10.1038/sdata.2018.214)"
   ]
  },
  {
   "cell_type": "code",
   "execution_count": null,
   "id": "04f2314c-89a8-4b88-81d4-c9d9cb8456ac",
   "metadata": {},
   "outputs": [],
   "source": [
    "data = data_summ[1].sort_values(['count'])\n",
    "plot_order = list(data['Czone3'])\n",
    "czone_colours = [\n",
    "  '#0000FF', '#0078FF', '#46AAFA', '#FF0000', '#FF9696', '#F5A500',\n",
    "  '#FFDC64', '#FFFF00', '#C8C800', '#969600', '#96FF96', '#64C864',\n",
    "  '#329632', '#C8FF50', '#64FF50', '#32C800', '#FF00FF', '#C800C8',\n",
    "  '#963296', '#966496', '#AAAFFF', '#5A78DC', '#4B50B4', '#320087',\n",
    "  '#00FFFF', '#37C8FF', '#007D7D', '#00465F', '#B2B2B2', '#666666',\n",
    "]\n",
    "czone_names = [\n",
    "  'Af',  'Am',  'Aw',  'BWh', 'BWk', 'BSh',\n",
    "  'BSk', 'Csa', 'Csb', 'Csc', 'Cwa', 'Cwb',\n",
    "  'Cwc', 'Cfa', 'Cfb', 'Cfc', 'Dsa', 'Dsb',\n",
    "  'Dsc', 'Dsd', 'Dwa', 'Dwb', 'Dwc', 'Dwd',\n",
    "  'Dfa', 'Dfb', 'Dfc', 'Dfd', 'ET',  'EF']\n",
    "czones = pd.DataFrame({'names': czone_names, 'colours': czone_colours}).set_index(['names']).loc[plot_order, 'colours']"
   ]
  },
  {
   "cell_type": "markdown",
   "id": "087018f3-b030-48ff-b97a-05cba9c48d3a",
   "metadata": {},
   "source": [
    "Plot the Figure"
   ]
  },
  {
   "cell_type": "code",
   "execution_count": null,
   "id": "b8d83209-f5ed-45e4-8b71-e2aeffbb6174",
   "metadata": {},
   "outputs": [],
   "source": [
    "xlim_rmse = (-80, 80)\n",
    "xlim_r2 = (-0.5, 1.05)\n",
    "xlim_lfmc = (40, 225)\n",
    "\n",
    "plt.rcParams.update({'font.size': TEXT_SIZE})\n",
    "fig, ((ax1, ax2, ax3), (ax4, ax5, ax6)) = plt.subplots(\n",
    "    2, 3, figsize=(7.364, 8), gridspec_kw={'width_ratios': [1, 2, 2]},\n",
    "    sharey=True, sharex=False,\n",
    "    constrained_layout=True, dpi=500, linewidth=2, edgecolor=\"black\")\n",
    "\n",
    "ax1 = samples_plot(data_summ[0], plot_order, czones, ax=ax1, label='a')\n",
    "ylim = ax1.get_ylim()\n",
    "xline = samples1['LFMC value'].mean()\n",
    "ax1.plot([xline, xline], ylim, '--', color='grey', linewidth=LINE_WIDTH, zorder=1)\n",
    "ax2 = results_plot(samples1, predict1, data1, plot_order, czones, xlim=xlim_rmse,\n",
    "                   xline=WITHIN_SITE_RMSE, ylim=ylim, ax=ax2, label='b')\n",
    "ax2.set_title(f'{DISPLAY_NAMES[0]}', y=1.05, fontsize=TITLE_SIZE)\n",
    "ax3 = r2_plot(samples1, predict1, data1, plot_order, czones, xlim_lfmc,\n",
    "              xline=WITHIN_SITE_R2, ylim=ylim, ax=ax3, label='c')\n",
    "\n",
    "ax4 = samples_plot(data_summ[1], plot_order, czones, ax=ax4, label='d')\n",
    "ylim = ax4.get_ylim()\n",
    "xline = samples2['LFMC value'].mean()\n",
    "ax4.plot([xline, xline], ylim, '--', color='grey', linewidth=LINE_WIDTH, zorder=1)\n",
    "ax5 = results_plot(samples2, predict2, data2, plot_order, czones, xlim=xlim_rmse,\n",
    "                   xline=OUT_OF_SITE_RMSE, ylim=ylim, ax=ax5, label='e')\n",
    "ax5.set_title(f'{DISPLAY_NAMES[1]}', y=1.05, fontsize=TITLE_SIZE)\n",
    "ax6 = r2_plot(samples2, predict2, data2, plot_order, czones, xlim_lfmc,\n",
    "              xline=OUT_OF_SITE_R2, ylim=ylim, ax=ax6, label='f')\n",
    "\n",
    "fig.savefig(os.path.join(output_dir, 'Climate zone results.jpeg'), format=\"jpeg\", bbox_inches='tight', pad_inches=0.1, dpi=500)"
   ]
  },
  {
   "cell_type": "code",
   "execution_count": null,
   "id": "aa4b065c-0a74-473a-9e21-71abb6854c8e",
   "metadata": {},
   "outputs": [],
   "source": []
  }
 ],
 "metadata": {
  "kernelspec": {
   "display_name": "LFMC",
   "language": "python",
   "name": "lfmc"
  },
  "language_info": {
   "codemirror_mode": {
    "name": "ipython",
    "version": 3
   },
   "file_extension": ".py",
   "mimetype": "text/x-python",
   "name": "python",
   "nbconvert_exporter": "python",
   "pygments_lexer": "ipython3",
   "version": "3.8.13"
  }
 },
 "nbformat": 4,
 "nbformat_minor": 5
}
