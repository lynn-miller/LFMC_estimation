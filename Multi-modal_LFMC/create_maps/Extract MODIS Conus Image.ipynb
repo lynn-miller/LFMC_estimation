{
 "cells": [
  {
   "cell_type": "markdown",
   "id": "gothic-vertex",
   "metadata": {},
   "source": [
    "# Extract MODIS data\n",
    "- using 2km scale and WGS84 projection\n",
    "- For entire CONUS\n",
    "- images with data for 3 months"
   ]
  },
  {
   "cell_type": "code",
   "execution_count": 1,
   "id": "complicated-warrant",
   "metadata": {},
   "outputs": [],
   "source": [
    "import initialise\n",
    "import common\n",
    "import ee\n",
    "ee.Initialize()"
   ]
  },
  {
   "cell_type": "code",
   "execution_count": 2,
   "id": "cultural-outdoors",
   "metadata": {
    "scrolled": true
   },
   "outputs": [],
   "source": [
    "PROJ = common.MAP_PROJ\n",
    "SCALE = common.MAP_SCALE\n",
    "USA = ee.FeatureCollection('USDOS/LSIB/2017').filter(\"COUNTRY_NA == 'United States'\")\n",
    "FLOAT_PRE = 5\n",
    "# START_DATES = [\"2016-10-01\", \"2017-01-01\", \"2017-04-01\", \"2017-07-01\"]\n",
    "# END_DATES = [\"2017-01-01\", \"2017-04-01\", \"2017-07-01\", \"2017-10-01\"]\n",
    "START_DATES = [\"2016-04-01\", \"2016-07-01\"]\n",
    "END_DATES = [\"2016-07-01\", \"2016-10-01\"]\n",
    "bbox = ee.Geometry.BBox(*common.MAP_BOUNDS)\n",
    "conus_bbox = bbox.intersection(USA.geometry(), 1, PROJ)\n",
    "FOLDER = f\"GEE_{PROJ.replace(':', '-')}_{int(SCALE)}\""
   ]
  },
  {
   "cell_type": "code",
   "execution_count": 3,
   "id": "assumed-establishment",
   "metadata": {},
   "outputs": [],
   "source": [
    "# MODIS data details\n",
    "PRODUCT = \"MODIS/006/MCD43A4\"\n",
    "BANDS = [\"Nadir_Reflectance_Band1\",\n",
    "         \"Nadir_Reflectance_Band2\",\n",
    "         \"Nadir_Reflectance_Band3\",\n",
    "         \"Nadir_Reflectance_Band4\",\n",
    "         \"Nadir_Reflectance_Band5\",\n",
    "         \"Nadir_Reflectance_Band6\",\n",
    "         \"Nadir_Reflectance_Band7\"]\n",
    "NEW_BANDS = [\"Band1\", \"Band2\", \"Band3\", \"Band4\", \"Band5\", \"Band6\", \"Band7\", ]"
   ]
  },
  {
   "cell_type": "code",
   "execution_count": 4,
   "id": "architectural-tucson",
   "metadata": {},
   "outputs": [
    {
     "name": "stdout",
     "output_type": "stream",
     "text": [
      "2016-04-01 2016-07-01\n",
      "2016-07-01 2016-10-01\n"
     ]
    }
   ],
   "source": [
    "images = []\n",
    "for num in range(len(START_DATES)):\n",
    "    print(START_DATES[num], END_DATES[num])\n",
    "    modis_col = ee.ImageCollection(PRODUCT).select(BANDS, NEW_BANDS).filterDate(START_DATES[num], END_DATES[num])\n",
    "    images.append(modis_col.toBands().clip(conus_bbox).regexpRename('^', 'b'))"
   ]
  },
  {
   "cell_type": "code",
   "execution_count": 5,
   "id": "dying-gardening",
   "metadata": {},
   "outputs": [],
   "source": [
    "for num, image in enumerate(images):\n",
    "    task = ee.batch.Export.image.toDrive(\n",
    "        image=image,\n",
    "        description=f'MODIS_{START_DATES[num]}',\n",
    "        folder=FOLDER,\n",
    "        fileFormat='GeoTIFF',\n",
    "        scale=SCALE,\n",
    "        crs=PROJ,\n",
    "        skipEmptyTiles=True\n",
    "    );\n",
    "    task.start()"
   ]
  },
  {
   "cell_type": "code",
   "execution_count": null,
   "id": "37656781-f31d-4318-b77a-4314188749a5",
   "metadata": {},
   "outputs": [],
   "source": []
  }
 ],
 "metadata": {
  "kernelspec": {
   "display_name": "LFMC",
   "language": "python",
   "name": "lfmc"
  },
  "language_info": {
   "codemirror_mode": {
    "name": "ipython",
    "version": 3
   },
   "file_extension": ".py",
   "mimetype": "text/x-python",
   "name": "python",
   "nbconvert_exporter": "python",
   "pygments_lexer": "ipython3",
   "version": "3.8.11"
  }
 },
 "nbformat": 4,
 "nbformat_minor": 5
}
