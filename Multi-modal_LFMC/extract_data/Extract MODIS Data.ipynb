{
 "cells": [
  {
   "cell_type": "markdown",
   "metadata": {},
   "source": [
    "# Extract MODIS Site Data and Generate Samples\n",
    "## MODIS Site Data\n",
    "For each site in the LFMC sample data, extract the full time series of MODIS reflectance and snow-cover data, and save to CSV files. Note: if the output csv files already exist they are assumed to be correct and are not over-written. The data is gap-filled after being saved but before being used to create the MODIS sample data.\n",
    "## MODIS Sample Data\n",
    "For each sample, extract the timeseries MODIS reflectance data. The timeseries length is determined by the MODIS_TS_LENGTH value. The sample is rejected if the full timeseries cannot be extracted (start/end outside the full site time series) or the snow-cover data shows the pixel was snow-covered on the sampling date. The extracted MODIS data is combined to a single dataframe and saved. Another LFMC sample dataset containing only the valid samples is also created.\n",
    "## Input Files\n",
    "- `LFMC_sites.csv` and `LFMC_samples.csv` created by the `Extract Auxiliary Data.ipynb` notebook.\n",
    "\n",
    "## Output Files\n",
    "- The extracted sites data are created in `MODIS_DIR` and `SNOW_DIR` (by default located in `DATA_DIR/GEE_DIR`). Both directories contain a CSV file for each site.\n",
    "- The extracted MODIS data for each samples and updated samples data are created in `FINAL_DIR` (by default the Datasets sub-directory of `DATA_DIR/EXTRACT_NAME`). File names include the time series length (i.e. 365days) of the extracted MODIS data. So, with the default settings they are `modis_365days.csv` and `samples_365days.csv`.\n",
    "\n",
    "## Notes\n",
    "1. This notebook should be run after running the `Extract Auxiliary Data.ipynb` notebook.\n",
    "2. The generated name for `GEE_DIR` includes the projection and scale of the extracted GEE data. \n",
    "3. It will take about 8.5 hours to run if there are no existing site extracts.\n",
    "4. 824 samples will not be extracted due to snow cover.\n",
    "5. 1005 samples will not be extracted as they were collected before March 2001 (so less than 1 year MODIS data available).\n",
    "6. There should be no invalid sites, but occasionally extraction from GEE will fail for a site. If this happens re-run the notebook (keep the existing site CSV files so they are not re-extracted)."
   ]
  },
  {
   "cell_type": "code",
   "execution_count": null,
   "metadata": {},
   "outputs": [],
   "source": [
    "import os\n",
    "import numpy as np\n",
    "import pandas as pd\n",
    "import re\n",
    "import time\n",
    "from datetime import datetime\n",
    "from datetime import timedelta\n",
    "\n",
    "import initialise\n",
    "import common\n",
    "from timeseries_extractor import GeeTimeseriesExtractor\n",
    "from data_extract_utils import get_sample_data, sort_key"
   ]
  },
  {
   "cell_type": "markdown",
   "metadata": {},
   "source": [
    "### Program parameters and constants\n",
    "\n",
    "GEE Parameters - current settings are to extract the data needed to reproduce 1st paper\n",
    "- Reflectance product is MCD43A4 - daily reflectance using 8-day composites\n",
    "- Snow cover product is MOD10A1 - daily snow cover as MOD10A2 is not in GEE.\n",
    "- Scale set to use native MODIS resolution"
   ]
  },
  {
   "cell_type": "code",
   "execution_count": null,
   "metadata": {},
   "outputs": [],
   "source": [
    "# MODIS time series constants\n",
    "MODIS_TS_LENGTH = 365\n",
    "MODIS_TS_OFFSET = 1\n",
    "MODIS_TS_FREQ = 1\n",
    "\n",
    "# MODIS data details\n",
    "PRODUCT = \"MODIS/006/MCD43A4\"\n",
    "BANDS = [\"Nadir_Reflectance_Band1\",\n",
    "         \"Nadir_Reflectance_Band2\",\n",
    "         \"Nadir_Reflectance_Band3\",\n",
    "         \"Nadir_Reflectance_Band4\",\n",
    "         \"Nadir_Reflectance_Band5\",\n",
    "         \"Nadir_Reflectance_Band6\",\n",
    "         \"Nadir_Reflectance_Band7\"]\n",
    "SNOW_PRODUCT = \"MODIS/006/MOD10A1\"\n",
    "SNOW_BANDS = [\"NDSI_Snow_Cover\"]\n",
    "\n",
    "EARLIEST_SAMPLE = datetime.strptime(common.START_DATE, '%Y-%m-%d') + timedelta(\n",
    "    days=MODIS_TS_LENGTH * MODIS_TS_FREQ + MODIS_TS_OFFSET)"
   ]
  },
  {
   "cell_type": "markdown",
   "metadata": {},
   "source": [
    "### Directories and Files"
   ]
  },
  {
   "cell_type": "code",
   "execution_count": null,
   "metadata": {},
   "outputs": [],
   "source": [
    "# Sub-directories for GEE extracts\n",
    "GEE_DIR = f\"GEE_{common.PROJ.replace(':', '-')}_{int(common.SCALE)}\"\n",
    "MODIS_DIR = os.path.join(common.LFMC_DATA_DIR, GEE_DIR, \"MCD43A4\")\n",
    "SNOW_DIR = os.path.join(common.LFMC_DATA_DIR, GEE_DIR, \"MOD10A1\")\n",
    "\n",
    "# File Names\n",
    "SAMPLES_OUTPUT = os.path.join(common.DATASETS_DIR, f\"samples_{MODIS_TS_LENGTH * MODIS_TS_FREQ}days.csv\")\n",
    "MODIS_OUTPUT = os.path.join(common.DATASETS_DIR, f\"modis_{MODIS_TS_LENGTH * MODIS_TS_FREQ}days.csv\")\n",
    "\n",
    "# Create output directories if necessary\n",
    "if not os.path.exists(MODIS_DIR):\n",
    "    os.makedirs(MODIS_DIR)\n",
    "if not os.path.exists(SNOW_DIR):\n",
    "    os.makedirs(SNOW_DIR)"
   ]
  },
  {
   "cell_type": "markdown",
   "metadata": {},
   "source": [
    "## Main Processing\n",
    "Connect to GEE"
   ]
  },
  {
   "cell_type": "code",
   "execution_count": null,
   "metadata": {},
   "outputs": [],
   "source": [
    "import ee\n",
    "ee.Initialize()"
   ]
  },
  {
   "cell_type": "markdown",
   "metadata": {},
   "source": [
    "Check if a sample was collected in snow conditions"
   ]
  },
  {
   "cell_type": "code",
   "execution_count": null,
   "metadata": {},
   "outputs": [],
   "source": [
    "def is_snow_sample(date_str, bands_df, snow_df):\n",
    "    sample_date = datetime.strptime(date_str, '%Y-%m-%d')\n",
    "    return snow_df[SNOW_BANDS[0]][sample_date] >= 10"
   ]
  },
  {
   "cell_type": "markdown",
   "metadata": {},
   "source": [
    "### Generate MODIS sample data\n",
    "\n",
    "For each site\n",
    "- Get the reflectance and snow data\n",
    "- Then get the sample data for each sample at the site\n",
    "\n",
    "Note: This gets the data using the default MODIS scale and projection. To change the scale and/or projection, add calls to the `GeeTimeseriesExtractor.setProjScale` method"
   ]
  },
  {
   "cell_type": "code",
   "execution_count": null,
   "metadata": {
    "scrolled": true
   },
   "outputs": [],
   "source": [
    "sites = pd.read_csv(common.LFMC_SITES, float_precision=\"high\")\n",
    "samples = pd.read_csv(common.LFMC_SAMPLES, float_precision=\"high\")\n",
    "modis_extractor = GeeTimeseriesExtractor(PRODUCT, BANDS, common.START_DATE, common.END_DATE,\n",
    "                                         dir_name=MODIS_DIR)\n",
    "modis_extractor.set_proj_scale(common.PROJ, common.SCALE)\n",
    "snow_extractor = GeeTimeseriesExtractor(SNOW_PRODUCT, SNOW_BANDS, common.START_DATE, common.END_DATE,\n",
    "                                        dir_name=SNOW_DIR)\n",
    "snow_extractor.set_proj_scale(common.PROJ, common.SCALE)\n",
    "modis_data = []\n",
    "valid_data = [False] * samples.shape[0]\n",
    "invalid_pixels = []\n",
    "snow_pixels = []\n",
    "invalid_sites = []\n",
    "for site_idx, site in sites.iterrows():\n",
    "    print(f'Processing site {site.Site}')\n",
    "    site_samples = samples[samples.Site == site.Site]\n",
    "    try:\n",
    "        modis_df = modis_extractor.get_and_save_data(site)\n",
    "        snow_df = snow_extractor.get_and_save_data(site)\n",
    "    except:\n",
    "        print(f'Failed to extract data for {site.Site}')\n",
    "        invalid_sites.append(site.Site)\n",
    "        continue\n",
    "    for index, sample in site_samples.iterrows():\n",
    "        if is_snow_sample(sample[\"Sampling date\"], modis_df, snow_df):\n",
    "            print(f'Snow pixel: {sample[\"Sampling date\"]}')\n",
    "            snow_pixels.append(index)\n",
    "        else:\n",
    "            sample_data = get_sample_data(sample[\"Sampling date\"], modis_df,\n",
    "                                          MODIS_TS_OFFSET, MODIS_TS_LENGTH, MODIS_TS_FREQ)\n",
    "            if sample_data is None or np.isnan(sample_data.sum()):\n",
    "                invalid_pixels.append(index)\n",
    "            else:\n",
    "                modis_data.append([sample.ID] + list(sample_data))\n",
    "                valid_data[index] = True"
   ]
  },
  {
   "cell_type": "markdown",
   "metadata": {},
   "source": [
    "Summary of sites/samples not extracted"
   ]
  },
  {
   "cell_type": "code",
   "execution_count": null,
   "metadata": {
    "scrolled": true,
    "tags": []
   },
   "outputs": [],
   "source": [
    "print(f'Invalid sites: {len(invalid_sites)}; Invalid pixels: {len(invalid_pixels)}; ' \\\n",
    "      + f'Snow pixels: {len(snow_pixels)}')\n",
    "print(invalid_sites)\n",
    "print(invalid_pixels)\n",
    "print(snow_pixels)"
   ]
  },
  {
   "cell_type": "markdown",
   "metadata": {},
   "source": [
    "### Save Results\n",
    "Save and display sample reflectance data"
   ]
  },
  {
   "cell_type": "code",
   "execution_count": null,
   "metadata": {},
   "outputs": [],
   "source": [
    "modis_data = pd.DataFrame(modis_data)\n",
    "ts_days = (MODIS_TS_LENGTH - 1) * MODIS_TS_FREQ\n",
    "modis_data.columns = [\"ID\"] + [f'{day-MODIS_TS_OFFSET:04}_{band+1}'\n",
    "                               for day in range(-ts_days, 1, MODIS_TS_FREQ)\n",
    "                               for band in range(len(BANDS))]\n",
    "modis_data.sort_values('ID', inplace=True, key=lambda x: x.apply(sort_key))\n",
    "modis_data.to_csv(MODIS_OUTPUT, index=False)\n",
    "modis_data"
   ]
  },
  {
   "cell_type": "markdown",
   "metadata": {},
   "source": [
    "Save and display the valid samples"
   ]
  },
  {
   "cell_type": "code",
   "execution_count": null,
   "metadata": {},
   "outputs": [],
   "source": [
    "valid_samples = samples[valid_data].sort_values('ID', key=lambda x: x.apply(sort_key))\n",
    "valid_samples.to_csv(SAMPLES_OUTPUT, index=False)\n",
    "valid_samples"
   ]
  },
  {
   "cell_type": "code",
   "execution_count": null,
   "metadata": {},
   "outputs": [],
   "source": []
  }
 ],
 "metadata": {
  "kernelspec": {
   "display_name": "LFMC",
   "language": "python",
   "name": "lfmc"
  },
  "language_info": {
   "codemirror_mode": {
    "name": "ipython",
    "version": 3
   },
   "file_extension": ".py",
   "mimetype": "text/x-python",
   "name": "python",
   "nbconvert_exporter": "python",
   "pygments_lexer": "ipython3",
   "version": "3.8.13"
  }
 },
 "nbformat": 4,
 "nbformat_minor": 4
}
