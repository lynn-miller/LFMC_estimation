{
 "cells": [
  {
   "cell_type": "markdown",
   "metadata": {},
   "source": [
    "# Extract PRISM Site Data and Generate Samples\n",
    "## PRISM Site Data\n",
    "For each site in the LFMC sample data, extract the full time series of PRISM data, gap-fill and save to CSV files. Note: if the output csv files already exist they are assumed to be correct and are not over-written.\n",
    "## PRISM Sample Data\n",
    "For each sample, extract the timeseries PRISM data. The timeseries length is determined by the PRISM_TS_LENGTH value. The sample is rejected if the full timeseries cannot be extracted (start/end outside the full site time series). The extracted PRISM data is combined to a single dataframe and saved. Another LFMC sample dataset containing only the valid samples is also created.\n",
    "\n",
    "## Input Files\n",
    "- `LFMC_sites.csv` and `samples_365days.csv` created by the `Extract Auxiliary Data.ipynb` and `Extract MODIS DATA.ipynb` notebooks.\n",
    "\n",
    "## Output Files\n",
    "- The extracted sites data are created in `PRISM_DIR` (by default located in `DATA_DIR/GEE_DIR`). The directory will contain a CSV file for each site.\n",
    "- The extracted PRISM data for all samples are created in `FINAL_DIR` (by default the Datasets sub-directory of `DATA_DIR/EXTRACT_NAME`). File name include the time series length (i.e. 365days) of the extracted PRISM data. So, with the default settings is `prism_365days.csv`.\n",
    "\n",
    "## Notes\n",
    "1. This notebook should be run after running the `Extract Auxiliary Data.ipynb` and `Extract MODIS DATA.ipynb` notebooks.\n",
    "2. The generated name for `GEE_DIR` includes the projection and scale of the extracted GEE data. \n",
    "3. It will take about 6.5 hours to run if there are no existing site extracts.\n",
    "4. There should be no invalid sites or samples, but occasionally extraction from GEE will fail for a site. If this happens re-run the notebook (keep the existing site CSV files so they are not re-extracted)."
   ]
  },
  {
   "cell_type": "code",
   "execution_count": null,
   "metadata": {},
   "outputs": [],
   "source": [
    "import os\n",
    "import numpy as np\n",
    "import pandas as pd\n",
    "import re\n",
    "import time\n",
    "from datetime import datetime\n",
    "from datetime import timedelta\n",
    "\n",
    "import initialise\n",
    "import common\n",
    "from timeseries_extractor import GeeTimeseriesExtractor\n",
    "from data_extract_utils import get_sample_data, extract_timeseries_data, sort_key"
   ]
  },
  {
   "cell_type": "markdown",
   "metadata": {},
   "source": [
    "### Program parameters and constants\n",
    "\n",
    "GEE Parameters\n",
    "- Weather product is OREGONSTATE/PRISM/AN81d - daily weather data from PRISM group\n",
    "- Scale/proj set to convert to MODIS resolution/projection\n",
    "- Start date is 01/03/2000, to match MODIS data availability"
   ]
  },
  {
   "cell_type": "code",
   "execution_count": null,
   "metadata": {},
   "outputs": [],
   "source": [
    "# PRISM time series constants\n",
    "PRISM_TS_LENGTH = 365\n",
    "PRISM_TS_OFFSET = 1      # ts end this number of days before the sampling date\n",
    "PRISM_TS_FREQ = 1        # days between consecutive elements in the ts\n",
    "\n",
    "# PRISM data details\n",
    "PRODUCT = \"OREGONSTATE/PRISM/AN81d\"\n",
    "BANDS = [\"ppt\", \"tmean\", \"tmin\", \"tmax\", \"tdmean\", \"vpdmin\", \"vpdmax\"]\n",
    "\n",
    "EARLIEST_SAMPLE = datetime.strptime(common.START_DATE, '%Y-%m-%d') + timedelta(\n",
    "    days=PRISM_TS_LENGTH * PRISM_TS_FREQ + PRISM_TS_OFFSET - 1)"
   ]
  },
  {
   "cell_type": "markdown",
   "metadata": {},
   "source": [
    "### Directories and Files"
   ]
  },
  {
   "cell_type": "code",
   "execution_count": null,
   "metadata": {},
   "outputs": [],
   "source": [
    "# Directories\n",
    "GEE_DIR = f\"GEE_{common.PROJ.replace(':', '-')}_{int(common.SCALE)}\"\n",
    "PRISM_DIR = os.path.join(common.LFMC_DATA_DIR, GEE_DIR, \"PRISM\")\n",
    "\n",
    "# File Names\n",
    "SAMPLES_INPUT = os.path.join(common.DATASETS_DIR, \"samples_365days.csv\")\n",
    "PRISM_OUTPUT = os.path.join(common.DATASETS_DIR, f\"prism_{PRISM_TS_LENGTH * PRISM_TS_FREQ}days.csv\")\n",
    "\n",
    "# Create output directories if necessary\n",
    "if not os.path.exists(PRISM_DIR):\n",
    "    os.makedirs(PRISM_DIR)\n"
   ]
  },
  {
   "cell_type": "markdown",
   "metadata": {},
   "source": [
    "Connect to GEE"
   ]
  },
  {
   "cell_type": "code",
   "execution_count": null,
   "metadata": {},
   "outputs": [],
   "source": [
    "import ee\n",
    "ee.Initialize()"
   ]
  },
  {
   "cell_type": "markdown",
   "metadata": {},
   "source": [
    "Generate the PRISM sample data:\n",
    "\n",
    "For each site\n",
    "- Get the soil moisture data at MODIS proj/scale\n",
    "- Then get the sample data for each sample at the site"
   ]
  },
  {
   "cell_type": "code",
   "execution_count": null,
   "metadata": {
    "scrolled": true
   },
   "outputs": [],
   "source": [
    "sites = pd.read_csv(common.LFMC_SITES, float_precision=\"high\")\n",
    "samples = pd.read_csv(SAMPLES_INPUT, float_precision=\"high\")\n",
    "prism_extractor = GeeTimeseriesExtractor(PRODUCT, BANDS, common.START_DATE, common.END_DATE,\n",
    "                                         gap_fill=False, dir_name=PRISM_DIR)\n",
    "prism_extractor.set_proj_scale(common.PROJ, common.SCALE)\n",
    "prism_data, valid_data, invalid_pixels, invalid_sites = extract_timeseries_data(\n",
    "    prism_extractor, sites, samples, EARLIEST_SAMPLE, PRISM_TS_OFFSET, PRISM_TS_LENGTH, PRISM_TS_FREQ)"
   ]
  },
  {
   "cell_type": "markdown",
   "metadata": {},
   "source": [
    "Summary of sites/samples not extracted"
   ]
  },
  {
   "cell_type": "code",
   "execution_count": null,
   "metadata": {},
   "outputs": [],
   "source": [
    "print(f'Invalid sites: {len(invalid_sites)}; Invalid pixels: {len(invalid_pixels)}')\n",
    "print(invalid_sites)\n",
    "print(invalid_pixels)"
   ]
  },
  {
   "cell_type": "markdown",
   "metadata": {},
   "source": [
    "Save and display sample meteorological data"
   ]
  },
  {
   "cell_type": "code",
   "execution_count": null,
   "metadata": {},
   "outputs": [],
   "source": [
    "prism_data = pd.DataFrame(prism_data)\n",
    "ts_days = (PRISM_TS_LENGTH - 1) * PRISM_TS_FREQ\n",
    "prism_data.columns = [\"ID\"] + [f'{day-PRISM_TS_OFFSET:04}_{band+1}'\n",
    "                               for day in range(-ts_days, 1, PRISM_TS_FREQ)\n",
    "                               for band in range(len(BANDS))]\n",
    "prism_data.sort_values('ID', inplace=True, key=lambda x: x.apply(sort_key))\n",
    "prism_data"
   ]
  },
  {
   "cell_type": "code",
   "execution_count": null,
   "metadata": {},
   "outputs": [],
   "source": [
    "prism_data.to_csv(PRISM_OUTPUT, index=False, float_format='%.3f')"
   ]
  },
  {
   "cell_type": "markdown",
   "metadata": {},
   "source": [
    "Save and display the valid samples\n",
    "- This code should only be run if the PRISM data for some sites/samples could not be extracted.\n",
    "- If it is needed, the data for the invalid samples also needs to be removed from the MODIS data."
   ]
  },
  {
   "cell_type": "code",
   "execution_count": null,
   "metadata": {},
   "outputs": [],
   "source": [
    "# SAMPLES_OUTPUT = os.path.join(common.DATASETS_DIR, f\"samples_{PRISM_TS_LENGTH * PRISM_TS_FREQ}days_prism.csv\")\n",
    "# valid_samples = samples[valid_data].sort_values('ID', key=lambda x: x.apply(sort_key))\n",
    "# valid_samples.to_csv(SAMPLES_OUTPUT, index=False)\n",
    "# valid_samples"
   ]
  },
  {
   "cell_type": "code",
   "execution_count": null,
   "metadata": {},
   "outputs": [],
   "source": []
  }
 ],
 "metadata": {
  "kernelspec": {
   "display_name": "LFMC",
   "language": "python",
   "name": "lfmc"
  },
  "language_info": {
   "codemirror_mode": {
    "name": "ipython",
    "version": 3
   },
   "file_extension": ".py",
   "mimetype": "text/x-python",
   "name": "python",
   "nbconvert_exporter": "python",
   "pygments_lexer": "ipython3",
   "version": "3.8.13"
  }
 },
 "nbformat": 4,
 "nbformat_minor": 4
}
