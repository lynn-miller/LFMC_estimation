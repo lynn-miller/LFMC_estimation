{
 "cells": [
  {
   "cell_type": "markdown",
   "metadata": {},
   "source": [
    "# Modis-tempCNN mapping model\n",
    "Train and save the Modis-tempCNN model for map generation "
   ]
  },
  {
   "cell_type": "code",
   "execution_count": 1,
   "metadata": {},
   "outputs": [],
   "source": [
    "import os\n",
    "import json\n",
    "import numpy as np\n",
    "import pandas as pd\n",
    "\n",
    "import initialise\n",
    "import common\n",
    "from model_utils import reshape_data\n",
    "from modelling_functions import create_models\n",
    "from architecture_modis_tempCNN import model_params"
   ]
  },
  {
   "cell_type": "markdown",
   "metadata": {},
   "source": [
    "## Input files\n",
    "Change these settings as required\n",
    "- `modis_csv`: The file containing extracted MODIS data for each sample, created by `Extract MODIS Data.ipynb`\n",
    "- `aux_csv`: The file containing extracted DEM and other auxiliary data for each sample, created by `Extract DEM Data.ipynb`. This includes the labels and pre-processed site location and sampling date data from Globe-LFMC"
   ]
  },
  {
   "cell_type": "code",
   "execution_count": 2,
   "metadata": {},
   "outputs": [],
   "source": [
    "modis_csv = os.path.join(common.DATASETS_DIR, 'modis_365days.csv')\n",
    "aux_csv = os.path.join(common.DATASETS_DIR, 'samples_365days.csv')"
   ]
  },
  {
   "cell_type": "markdown",
   "metadata": {},
   "source": [
    "## Set up model parameters"
   ]
  },
  {
   "cell_type": "markdown",
   "metadata": {},
   "source": [
    "### Model parameters settings\n",
    "To find out more about any parameter, run `model_params.help('<parameter>')`. "
   ]
  },
  {
   "cell_type": "code",
   "execution_count": 3,
   "metadata": {
    "scrolled": true,
    "tags": []
   },
   "outputs": [
    {
     "data": {
      "text/plain": [
       "{'modelName': 'modis-tempCNN_map2017',\n",
       " 'description': 'Build model for 2017 maps',\n",
       " 'modelClass': 'LfmcTempCnn',\n",
       " 'modelDir': 'G:\\\\My Drive\\\\LFMC Data\\\\multi_modal_LFMC\\\\Models\\\\modis-tempCNN_map2017',\n",
       " 'tempDir': 'C:\\\\Temp\\\\LFMC',\n",
       " 'diagnostics': False,\n",
       " 'dataSources': ['modis', 'aux'],\n",
       " 'restartRun': None,\n",
       " 'derivedModels': {'merge10': {'type': 'merge', 'models': 10}},\n",
       " 'saveModels': ['merge10'],\n",
       " 'saveTrain': None,\n",
       " 'saveValidation': True,\n",
       " 'plotModel': True,\n",
       " 'randomSeed': 1234,\n",
       " 'modelSeed': 1234,\n",
       " 'modelRuns': 1,\n",
       " 'resplit': False,\n",
       " 'seedList': [441],\n",
       " 'maxWorkers': 1,\n",
       " 'deterministic': False,\n",
       " 'gpuDevice': 0,\n",
       " 'gpuMemory': 0,\n",
       " 'modisFilename': 'G:\\\\My Drive\\\\LFMC Data\\\\multi_modal_LFMC\\\\Datasets\\\\modis_365days.csv',\n",
       " 'modisChannels': 7,\n",
       " 'modisNormalise': {'method': 'minMax', 'percentiles': 2},\n",
       " 'prismFilename': None,\n",
       " 'prismChannels': 7,\n",
       " 'prismNormalise': {'method': 'minMax', 'percentiles': 2},\n",
       " 'auxFilename': 'G:\\\\My Drive\\\\LFMC Data\\\\multi_modal_LFMC\\\\Datasets\\\\samples_365days.csv',\n",
       " 'auxColumns': ['Day_sin',\n",
       "  'Day_cos',\n",
       "  'Long_sin',\n",
       "  'Long_cos',\n",
       "  'Lat_norm',\n",
       "  'Elevation',\n",
       "  'Slope',\n",
       "  'Aspect_sin',\n",
       "  'Aspect_cos'],\n",
       " 'auxAugment': False,\n",
       " 'auxOneHotCols': [],\n",
       " 'targetColumn': 'LFMC value',\n",
       " 'splitMethod': None,\n",
       " 'splitSizes': (0.33, 0.067),\n",
       " 'siteColumn': 'Site',\n",
       " 'splitStratify': 'Land Cover',\n",
       " 'splitYear': None,\n",
       " 'yearColumn': 'Sampling year',\n",
       " 'splitFolds': 0,\n",
       " 'convPadding': 'same',\n",
       " 'poolPadding': 'valid',\n",
       " 'batchNormalise': True,\n",
       " 'dropoutRate': 0.5,\n",
       " 'regulariser': 'keras.regularizers.l2(1.e-6)',\n",
       " 'validationSet': False,\n",
       " 'earlyStopping': False,\n",
       " 'epochs': 100,\n",
       " 'evaluateEpochs': None,\n",
       " 'batchSize': 32,\n",
       " 'shuffle': True,\n",
       " 'verbose': 0,\n",
       " 'optimiser': 'adam',\n",
       " 'activation': 'relu',\n",
       " 'initialiser': 'he_normal',\n",
       " 'loss': 'mean_squared_error',\n",
       " 'metrics': ['mean_absolute_error'],\n",
       " 'modisConv': [{'filters': 32,\n",
       "   'kernel': 5,\n",
       "   'stride': 1,\n",
       "   'dilation': 1,\n",
       "   'bnorm': True,\n",
       "   'poolSize': 2},\n",
       "  {'filters': 32,\n",
       "   'kernel': 5,\n",
       "   'stride': 1,\n",
       "   'dilation': 1,\n",
       "   'bnorm': True,\n",
       "   'poolSize': 3},\n",
       "  {'filters': 32,\n",
       "   'kernel': 5,\n",
       "   'stride': 1,\n",
       "   'dilation': 1,\n",
       "   'bnorm': True,\n",
       "   'poolSize': 4}],\n",
       " 'fc': [{'units': 256, 'bnorm': True}, {'units': 256, 'bnorm': True}]}"
      ]
     },
     "execution_count": 3,
     "metadata": {},
     "output_type": "execute_result"
    }
   ],
   "source": [
    "model_params['modelName'] = 'modis-tempCNN_map2017'\n",
    "model_params['description'] = 'Build model for 2017 maps'\n",
    "model_params['modisFilename'] = modis_csv\n",
    "model_params['auxFilename'] = aux_csv\n",
    "model_params['saveModels'] = [common.MODIS_TEMPCNN_MODEL]   # Save the model to use for map-wide estimates\n",
    "model_params['splitMethod'] = None                          # Train using all the data\n",
    "model_params['seedList'] = [441]\n",
    "model_params['tempDir'] = common.TEMP_DIR\n",
    "model_params['modelDir'] = os.path.join(common.MODELS_DIR, model_params['modelName'])\n",
    "\n",
    "restart = False     # Change to True if retrying/restarting this script\n",
    "if not os.path.exists(model_params['modelDir']):\n",
    "    os.makedirs(model_params['modelDir'])\n",
    "elif not restart:   # Don't over-write something important!\n",
    "    raise FileExistsError(f\"{model_params['modelDir']} exists but restart not requested\")\n",
    "\n",
    "model_params"
   ]
  },
  {
   "cell_type": "markdown",
   "metadata": {},
   "source": [
    "## Prepare the data"
   ]
  },
  {
   "cell_type": "code",
   "execution_count": 4,
   "metadata": {},
   "outputs": [
    {
     "name": "stdout",
     "output_type": "stream",
     "text": [
      "Modis shape: (66946, 365, 7)\n"
     ]
    }
   ],
   "source": [
    "modis_data = pd.read_csv(model_params['modisFilename'], index_col=0)\n",
    "x_modis = reshape_data(np.array(modis_data), model_params['modisChannels'])\n",
    "print(f'Modis shape: {x_modis.shape}')\n",
    "\n",
    "aux_data = pd.read_csv(model_params['auxFilename'], index_col=0)\n",
    "y = aux_data[model_params['targetColumn']]"
   ]
  },
  {
   "cell_type": "markdown",
   "metadata": {},
   "source": [
    "## Build and run the model\n",
    "Builds and trains the LFMC model. After training the model, several derived models are created and evaluated. The full list of derived models is:\n",
    "- `base` - The fully trained model\n",
    "- `merge10` - A model created by merging the last 10 checkpoints. The checkpoints are merged by averaging the corresponding weights from each model.\n",
    "\n",
    "The model and training statistics are saved to `model_dir`."
   ]
  },
  {
   "cell_type": "code",
   "execution_count": 5,
   "metadata": {
    "scrolled": true
   },
   "outputs": [
    {
     "name": "stdout",
     "output_type": "stream",
     "text": [
      "Auxiliary columns: ['Day_sin', 'Day_cos', 'Long_sin', 'Long_cos', 'Lat_norm', 'Elevation', 'Slope', 'Aspect_sin', 'Aspect_cos']\n",
      "modis shape: (66946, 365, 7)\n",
      "aux shape: (66946, 9)\n"
     ]
    }
   ],
   "source": [
    "X = {'modis': x_modis}\n",
    "with open(os.path.join(model_params['modelDir'], 'model_params.json'), 'w') as f:\n",
    "    model_params.save(f)\n",
    "model = create_models(model_params, aux_data, X, y)"
   ]
  },
  {
   "cell_type": "code",
   "execution_count": null,
   "metadata": {},
   "outputs": [],
   "source": []
  }
 ],
 "metadata": {
  "kernelspec": {
   "display_name": "LFMC",
   "language": "python",
   "name": "lfmc"
  },
  "language_info": {
   "codemirror_mode": {
    "name": "ipython",
    "version": 3
   },
   "file_extension": ".py",
   "mimetype": "text/x-python",
   "name": "python",
   "nbconvert_exporter": "python",
   "pygments_lexer": "ipython3",
   "version": "3.8.12"
  }
 },
 "nbformat": 4,
 "nbformat_minor": 4
}
