{
 "cells": [
  {
   "cell_type": "markdown",
   "id": "ed595e42-4a77-4afc-8341-fc619e93ba22",
   "metadata": {},
   "source": [
    "# Analyse Results for Transfer Learning tests\n",
    "- Australian data\n",
    "- Ensemble size is 20\n",
    "- 20 Ensembles\n",
    "- Compare full transfer and frozen layers with no transfer learning"
   ]
  },
  {
   "cell_type": "markdown",
   "id": "56b4ce86-4017-4e7d-b46a-560c68ca84bb",
   "metadata": {},
   "source": [
    "## Imports"
   ]
  },
  {
   "cell_type": "code",
   "execution_count": 1,
   "id": "ignored-habitat",
   "metadata": {},
   "outputs": [],
   "source": [
    "import glob\n",
    "import os\n",
    "import pandas as pd\n",
    "\n",
    "import scipy.stats as st\n",
    "\n",
    "import matplotlib.pyplot as plt\n",
    "\n",
    "import initialise\n",
    "import common\n",
    "from analysis_utils import calc_statistics, sort_file_list"
   ]
  },
  {
   "cell_type": "markdown",
   "id": "2f49a7b5-6bf8-4425-8d8f-e83599875850",
   "metadata": {},
   "source": [
    "## Directories and other settings\n",
    "- Update the model directories as required"
   ]
  },
  {
   "cell_type": "code",
   "execution_count": 2,
   "id": "2dacc714-5848-4666-983f-255e8e98cf85",
   "metadata": {},
   "outputs": [],
   "source": [
    "models_dir = r'G:\\My Drive\\Postdoc\\LFMC Project\\Data\\Domain_adaptation\\Sourcerer TargetMax'\n",
    "\n",
    "model_dirs = [\n",
    "    os.path.join(models_dir, 'australia_sourcerer_0'),\n",
    "    os.path.join(models_dir, 'australia_sourcerer_100'),\n",
    "    os.path.join(models_dir, 'australia_sourcerer_200'),\n",
    "    os.path.join(models_dir, 'australia_sourcerer_400'),\n",
    "    os.path.join(models_dir, 'australia_sourcerer_800'),\n",
    "    os.path.join(models_dir, 'australia_sourcerer_1600'),\n",
    "    os.path.join(models_dir, 'australia_sourcerer_3200'),\n",
    "    os.path.join(models_dir, 'australia_sourcerer_6400'),\n",
    "    os.path.join(models_dir, 'australia_sourcerer_12800'),\n",
    "    os.path.join(models_dir, 'australia_sourcerer_25600'),\n",
    "    os.path.join(models_dir, 'australia_sourcerer_38400'),\n",
    "    os.path.join(models_dir, 'australia_sourcerer_51200'),\n",
    "    os.path.join(models_dir, 'australia_sourcerer_76800')\n",
    "]\n",
    "\n",
    "output_dir = os.path.join(common.DATA_DIR, 'Results', 'Sourcerer TargetMax')\n",
    "figure_dir = common.FIGURES_DIR\n",
    "precision = 4       # floating point precision for saved predictions\n",
    "test_names = [0, 100, 200, 400, 800, 1600, 3200, 6400, 12800, 25600, 38400, 51200, 76800]"
   ]
  },
  {
   "cell_type": "code",
   "execution_count": 3,
   "id": "714d6b02-8006-4355-97eb-59abd07b6ef0",
   "metadata": {},
   "outputs": [],
   "source": [
    "def get_stats(model_dir, epoch=''):\n",
    "    test_stats = []\n",
    "    test_dirs = sort_file_list(glob.glob(os.path.join(model_dir, f'test*')), 'test')\n",
    "    for num, test_dir in enumerate(test_dirs):\n",
    "        stats_ = pd.read_csv(os.path.join(test_dir, epoch, 'ensemble_stats.csv'), index_col=0)\n",
    "        test_stats.append(stats_)\n",
    "    return pd.concat(test_stats, ignore_index=True)"
   ]
  },
  {
   "cell_type": "code",
   "execution_count": 4,
   "id": "4392aaa1-f5b8-4731-95a8-64179d290e5c",
   "metadata": {
    "tags": []
   },
   "outputs": [],
   "source": [
    "def get_preds(model_dir, epoch=''):\n",
    "    test_preds = []\n",
    "    test_dirs = sort_file_list(glob.glob(os.path.join(model_dir, f'test*')), 'test')\n",
    "    for num, test_dir in enumerate(test_dirs):\n",
    "        preds_ = pd.read_csv(os.path.join(test_dir, epoch, 'ensemble_predicts.csv'), index_col=0)\n",
    "        test_preds.append(preds_)\n",
    "    return pd.concat([test_preds[0].y] + [t.base for t in test_preds],\n",
    "                     axis=1,\n",
    "                     keys=['y']+[f'run_{i}' for i in range(len(test_preds))]).round(precision)"
   ]
  },
  {
   "cell_type": "code",
   "execution_count": 5,
   "id": "dd377897-0b3e-40e4-bdaf-b477f4fed240",
   "metadata": {},
   "outputs": [
    {
     "name": "stdout",
     "output_type": "stream",
     "text": [
      "Stats file name: G:\\My Drive\\Postdoc\\LFMC Project\\Data\\Domain_adaptation\\Results\\Sourcerer TargetMax\\0_stats.csv\n",
      "Preds file name: G:\\My Drive\\Postdoc\\LFMC Project\\Data\\Domain_adaptation\\Results\\Sourcerer TargetMax\\0_predicts.csv\n",
      "Stats file name: G:\\My Drive\\Postdoc\\LFMC Project\\Data\\Domain_adaptation\\Results\\Sourcerer TargetMax\\100_stats.csv\n",
      "Preds file name: G:\\My Drive\\Postdoc\\LFMC Project\\Data\\Domain_adaptation\\Results\\Sourcerer TargetMax\\100_predicts.csv\n",
      "Stats file name: G:\\My Drive\\Postdoc\\LFMC Project\\Data\\Domain_adaptation\\Results\\Sourcerer TargetMax\\200_stats.csv\n",
      "Preds file name: G:\\My Drive\\Postdoc\\LFMC Project\\Data\\Domain_adaptation\\Results\\Sourcerer TargetMax\\200_predicts.csv\n",
      "Stats file name: G:\\My Drive\\Postdoc\\LFMC Project\\Data\\Domain_adaptation\\Results\\Sourcerer TargetMax\\400_stats.csv\n",
      "Preds file name: G:\\My Drive\\Postdoc\\LFMC Project\\Data\\Domain_adaptation\\Results\\Sourcerer TargetMax\\400_predicts.csv\n",
      "Stats file name: G:\\My Drive\\Postdoc\\LFMC Project\\Data\\Domain_adaptation\\Results\\Sourcerer TargetMax\\800_stats.csv\n",
      "Preds file name: G:\\My Drive\\Postdoc\\LFMC Project\\Data\\Domain_adaptation\\Results\\Sourcerer TargetMax\\800_predicts.csv\n",
      "Stats file name: G:\\My Drive\\Postdoc\\LFMC Project\\Data\\Domain_adaptation\\Results\\Sourcerer TargetMax\\1600_stats.csv\n",
      "Preds file name: G:\\My Drive\\Postdoc\\LFMC Project\\Data\\Domain_adaptation\\Results\\Sourcerer TargetMax\\1600_predicts.csv\n",
      "Stats file name: G:\\My Drive\\Postdoc\\LFMC Project\\Data\\Domain_adaptation\\Results\\Sourcerer TargetMax\\3200_stats.csv\n",
      "Preds file name: G:\\My Drive\\Postdoc\\LFMC Project\\Data\\Domain_adaptation\\Results\\Sourcerer TargetMax\\3200_predicts.csv\n",
      "Stats file name: G:\\My Drive\\Postdoc\\LFMC Project\\Data\\Domain_adaptation\\Results\\Sourcerer TargetMax\\6400_stats.csv\n",
      "Preds file name: G:\\My Drive\\Postdoc\\LFMC Project\\Data\\Domain_adaptation\\Results\\Sourcerer TargetMax\\6400_predicts.csv\n",
      "Stats file name: G:\\My Drive\\Postdoc\\LFMC Project\\Data\\Domain_adaptation\\Results\\Sourcerer TargetMax\\12800_stats.csv\n",
      "Preds file name: G:\\My Drive\\Postdoc\\LFMC Project\\Data\\Domain_adaptation\\Results\\Sourcerer TargetMax\\12800_predicts.csv\n",
      "Stats file name: G:\\My Drive\\Postdoc\\LFMC Project\\Data\\Domain_adaptation\\Results\\Sourcerer TargetMax\\25600_stats.csv\n",
      "Preds file name: G:\\My Drive\\Postdoc\\LFMC Project\\Data\\Domain_adaptation\\Results\\Sourcerer TargetMax\\25600_predicts.csv\n",
      "Stats file name: G:\\My Drive\\Postdoc\\LFMC Project\\Data\\Domain_adaptation\\Results\\Sourcerer TargetMax\\38400_stats.csv\n",
      "Preds file name: G:\\My Drive\\Postdoc\\LFMC Project\\Data\\Domain_adaptation\\Results\\Sourcerer TargetMax\\38400_predicts.csv\n",
      "Stats file name: G:\\My Drive\\Postdoc\\LFMC Project\\Data\\Domain_adaptation\\Results\\Sourcerer TargetMax\\51200_stats.csv\n",
      "Preds file name: G:\\My Drive\\Postdoc\\LFMC Project\\Data\\Domain_adaptation\\Results\\Sourcerer TargetMax\\51200_predicts.csv\n",
      "Stats file name: G:\\My Drive\\Postdoc\\LFMC Project\\Data\\Domain_adaptation\\Results\\Sourcerer TargetMax\\76800_stats.csv\n",
      "Preds file name: G:\\My Drive\\Postdoc\\LFMC Project\\Data\\Domain_adaptation\\Results\\Sourcerer TargetMax\\76800_predicts.csv\n"
     ]
    }
   ],
   "source": [
    "# stats = []\n",
    "# for idx, model_dir in enumerate(model_dirs):\n",
    "#     file_name = test_names[idx]\n",
    "#     stats.append(get_stats(model_dir))\n",
    "#     stats_file = os.path.join(output_dir, f'{test_names[idx]}_stats.csv')\n",
    "#     stats[idx].to_csv(stats_file)\n",
    "#     print(f\"Stats file name: {stats_file}\")\n",
    "#     preds = get_preds(model_dir)\n",
    "#     preds_file = os.path.join(output_dir, f'{test_names[idx]}_predicts.csv')\n",
    "#     preds.to_csv(preds_file)\n",
    "#     print(f\"Preds file name: {preds_file}\")\n"
   ]
  },
  {
   "cell_type": "code",
   "execution_count": 3,
   "id": "b0d67080-bd93-4b34-ab79-eeabca3fbd7e",
   "metadata": {},
   "outputs": [
    {
     "name": "stdout",
     "output_type": "stream",
     "text": [
      "Stats file name: G:\\My Drive\\Postdoc\\LFMC Project\\Data\\Domain_adaptation\\Results\\Sourcerer TargetMax\\0_stats.csv\n",
      "Stats file name: G:\\My Drive\\Postdoc\\LFMC Project\\Data\\Domain_adaptation\\Results\\Sourcerer TargetMax\\100_stats.csv\n",
      "Stats file name: G:\\My Drive\\Postdoc\\LFMC Project\\Data\\Domain_adaptation\\Results\\Sourcerer TargetMax\\200_stats.csv\n",
      "Stats file name: G:\\My Drive\\Postdoc\\LFMC Project\\Data\\Domain_adaptation\\Results\\Sourcerer TargetMax\\400_stats.csv\n",
      "Stats file name: G:\\My Drive\\Postdoc\\LFMC Project\\Data\\Domain_adaptation\\Results\\Sourcerer TargetMax\\800_stats.csv\n",
      "Stats file name: G:\\My Drive\\Postdoc\\LFMC Project\\Data\\Domain_adaptation\\Results\\Sourcerer TargetMax\\1600_stats.csv\n",
      "Stats file name: G:\\My Drive\\Postdoc\\LFMC Project\\Data\\Domain_adaptation\\Results\\Sourcerer TargetMax\\3200_stats.csv\n",
      "Stats file name: G:\\My Drive\\Postdoc\\LFMC Project\\Data\\Domain_adaptation\\Results\\Sourcerer TargetMax\\6400_stats.csv\n",
      "Stats file name: G:\\My Drive\\Postdoc\\LFMC Project\\Data\\Domain_adaptation\\Results\\Sourcerer TargetMax\\12800_stats.csv\n",
      "Stats file name: G:\\My Drive\\Postdoc\\LFMC Project\\Data\\Domain_adaptation\\Results\\Sourcerer TargetMax\\25600_stats.csv\n",
      "Stats file name: G:\\My Drive\\Postdoc\\LFMC Project\\Data\\Domain_adaptation\\Results\\Sourcerer TargetMax\\38400_stats.csv\n",
      "Stats file name: G:\\My Drive\\Postdoc\\LFMC Project\\Data\\Domain_adaptation\\Results\\Sourcerer TargetMax\\51200_stats.csv\n",
      "Stats file name: G:\\My Drive\\Postdoc\\LFMC Project\\Data\\Domain_adaptation\\Results\\Sourcerer TargetMax\\76800_stats.csv\n"
     ]
    }
   ],
   "source": [
    "stats = []\n",
    "for idx, model_dir in enumerate(model_dirs):\n",
    "    file_name = test_names[idx]\n",
    "    stats_file = os.path.join(output_dir, f'{test_names[idx]}_stats.csv')\n",
    "    stats.append(pd.read_csv(stats_file, index_col=0))\n",
    "    print(f\"Stats file name: {stats_file}\")"
   ]
  },
  {
   "cell_type": "code",
   "execution_count": 4,
   "id": "c0192f2f-33e3-4637-a1b2-cc8f9f76cbb7",
   "metadata": {},
   "outputs": [],
   "source": [
    "# create 95% confidence interval\n",
    "ci_list = []\n",
    "for s in stats:\n",
    "    mean = s.RMSE.mean()\n",
    "    ci = st.t.interval(alpha=0.95, \n",
    "              df=len(s.RMSE)-1, \n",
    "              loc=mean,  \n",
    "              scale=s.RMSE.sem())\n",
    "    ci_list.append(ci)\n",
    "std_devs = pd.DataFrame(ci_list, index=test_names, columns=['lower', 'upper'])"
   ]
  },
  {
   "cell_type": "code",
   "execution_count": 5,
   "id": "e341de87-1bc0-494b-8938-f1f54ff25415",
   "metadata": {},
   "outputs": [],
   "source": [
    "SMALL_SIZE = 7\n",
    "MEDIUM_SIZE = 8\n",
    "BIGGER_SIZE = 10\n",
    "\n",
    "plt.rc('font', size=SMALL_SIZE)          # controls default text sizes\n",
    "plt.rc('axes', titlesize=SMALL_SIZE)     # fontsize of the axes title\n",
    "plt.rc('axes', labelsize=SMALL_SIZE)    # fontsize of the x and y labels\n",
    "plt.rc('xtick', labelsize=SMALL_SIZE)    # fontsize of the tick labels\n",
    "plt.rc('ytick', labelsize=SMALL_SIZE)    # fontsize of the tick labels\n",
    "plt.rc('legend', fontsize=SMALL_SIZE)    # legend fontsize\n",
    "plt.rc('legend', title_fontsize=SMALL_SIZE)    # legend fontsize\n",
    "plt.rc('figure', titlesize=BIGGER_SIZE)  # fontsize of the figure title"
   ]
  },
  {
   "cell_type": "code",
   "execution_count": 7,
   "id": "5e63e3a0-aad2-455c-9a65-a0d2be8965d2",
   "metadata": {
    "tags": []
   },
   "outputs": [
    {
     "data": {
      "image/png": "[encoded data removed]",
      "text/plain": [
       "<Figure size 800x400 with 1 Axes>"
      ]
     },
     "metadata": {},
     "output_type": "display_data"
    }
   ],
   "source": [
    "fig1, axes = plt.subplots(nrows=1, ncols=1, figsize=(4.0, 2.0), dpi=200, layout='constrained')\n",
    "\n",
    "axes = pd.DataFrame([s.mean() for s in stats], index=test_names).RMSE.plot(marker='*', markersize=8)\n",
    "axes.set_xscale(\"asinh\", linear_width=200)\n",
    "#axes.set_xticks([0, 100, 1000, 10000, 100000], [0, 100, 1000, 10000, 100000])\n",
    "axes.set_xticks(test_names, test_names, rotation=45, ha='right')\n",
    "axes.set_xlabel(\"$t_{max}$\")\n",
    "axes.set_ylabel(\"RMSE\")\n",
    "axes.minorticks_off()\n",
    "#axes.set_title(\"Australian Sourcerer Results\\n$t_{max}$ setting versus RMSE\")\n",
    "plt.fill_between(std_devs.index, std_devs.lower, std_devs.upper, alpha=0.25)\n",
    "for axis in ['top', 'right']:\n",
    "    axes.spines[axis].set_visible(False)\n",
    "    \n",
    "fig1.savefig(os.path.join(figure_dir, 'Sourcerer TargetMax results.jpeg'),\n",
    "             format=\"jpeg\", bbox_inches='tight', pad_inches=0.05, dpi=500)"
   ]
  },
  {
   "cell_type": "code",
   "execution_count": 10,
   "id": "8945366b-a0a8-4b2c-ba00-135e0a12f980",
   "metadata": {
    "tags": []
   },
   "outputs": [
    {
     "data": {
      "text/html": [
       "<div>\n",
       "<style scoped>\n",
       "    .dataframe tbody tr th:only-of-type {\n",
       "        vertical-align: middle;\n",
       "    }\n",
       "\n",
       "    .dataframe tbody tr th {\n",
       "        vertical-align: top;\n",
       "    }\n",
       "\n",
       "    .dataframe thead th {\n",
       "        text-align: right;\n",
       "    }\n",
       "</style>\n",
       "<table border=\"1\" class=\"dataframe\">\n",
       "  <thead>\n",
       "    <tr style=\"text-align: right;\">\n",
       "      <th></th>\n",
       "      <th>RMSE</th>\n",
       "      <th>R2</th>\n",
       "    </tr>\n",
       "  </thead>\n",
       "  <tbody>\n",
       "    <tr>\n",
       "      <th>0</th>\n",
       "      <td>32.00</td>\n",
       "      <td>0.58</td>\n",
       "    </tr>\n",
       "    <tr>\n",
       "      <th>100</th>\n",
       "      <td>32.00</td>\n",
       "      <td>0.58</td>\n",
       "    </tr>\n",
       "    <tr>\n",
       "      <th>200</th>\n",
       "      <td>32.00</td>\n",
       "      <td>0.58</td>\n",
       "    </tr>\n",
       "    <tr>\n",
       "      <th>400</th>\n",
       "      <td>32.12</td>\n",
       "      <td>0.58</td>\n",
       "    </tr>\n",
       "    <tr>\n",
       "      <th>800</th>\n",
       "      <td>32.47</td>\n",
       "      <td>0.57</td>\n",
       "    </tr>\n",
       "    <tr>\n",
       "      <th>1600</th>\n",
       "      <td>33.23</td>\n",
       "      <td>0.55</td>\n",
       "    </tr>\n",
       "    <tr>\n",
       "      <th>3200</th>\n",
       "      <td>33.05</td>\n",
       "      <td>0.55</td>\n",
       "    </tr>\n",
       "    <tr>\n",
       "      <th>6400</th>\n",
       "      <td>32.58</td>\n",
       "      <td>0.56</td>\n",
       "    </tr>\n",
       "    <tr>\n",
       "      <th>12800</th>\n",
       "      <td>32.71</td>\n",
       "      <td>0.56</td>\n",
       "    </tr>\n",
       "    <tr>\n",
       "      <th>25600</th>\n",
       "      <td>32.60</td>\n",
       "      <td>0.56</td>\n",
       "    </tr>\n",
       "    <tr>\n",
       "      <th>38400</th>\n",
       "      <td>32.73</td>\n",
       "      <td>0.56</td>\n",
       "    </tr>\n",
       "    <tr>\n",
       "      <th>51200</th>\n",
       "      <td>33.44</td>\n",
       "      <td>0.54</td>\n",
       "    </tr>\n",
       "    <tr>\n",
       "      <th>76800</th>\n",
       "      <td>34.94</td>\n",
       "      <td>0.50</td>\n",
       "    </tr>\n",
       "  </tbody>\n",
       "</table>\n",
       "</div>"
      ],
      "text/plain": [
       "        RMSE    R2\n",
       "0      32.00  0.58\n",
       "100    32.00  0.58\n",
       "200    32.00  0.58\n",
       "400    32.12  0.58\n",
       "800    32.47  0.57\n",
       "1600   33.23  0.55\n",
       "3200   33.05  0.55\n",
       "6400   32.58  0.56\n",
       "12800  32.71  0.56\n",
       "25600  32.60  0.56\n",
       "38400  32.73  0.56\n",
       "51200  33.44  0.54\n",
       "76800  34.94  0.50"
      ]
     },
     "execution_count": 10,
     "metadata": {},
     "output_type": "execute_result"
    }
   ],
   "source": [
    "results = pd.concat(stats, keys=test_names)[['RMSE', 'R2']]\n",
    "results.groupby(level=0).mean().round(2)"
   ]
  },
  {
   "cell_type": "code",
   "execution_count": 49,
   "id": "b498f6be-bfcc-4467-ae85-ffefa28616d8",
   "metadata": {
    "tags": []
   },
   "outputs": [],
   "source": [
    "import seaborn as sns"
   ]
  },
  {
   "cell_type": "code",
   "execution_count": 67,
   "id": "35e79fb2-de11-4204-b80b-b0cb56a947af",
   "metadata": {
    "tags": []
   },
   "outputs": [
    {
     "data": {
      "text/plain": [
       "[Text(0, 0, '0'),\n",
       " Text(1, 0, '100'),\n",
       " Text(2, 0, '200'),\n",
       " Text(3, 0, '400'),\n",
       " Text(4, 0, '800'),\n",
       " Text(5, 0, '1600'),\n",
       " Text(6, 0, '3200'),\n",
       " Text(7, 0, '6400'),\n",
       " Text(8, 0, '12800'),\n",
       " Text(9, 0, '25600'),\n",
       " Text(10, 0, '38400'),\n",
       " Text(11, 0, '51200'),\n",
       " Text(12, 0, '76800')]"
      ]
     },
     "execution_count": 67,
     "metadata": {},
     "output_type": "execute_result"
    },
    {
     "data": {
      "image/png": "[encoded data removed]",
      "text/plain": [
       "<Figure size 640x480 with 1 Axes>"
      ]
     },
     "metadata": {},
     "output_type": "display_data"
    }
   ],
   "source": [
    "ax = sns.barplot(x=\"level_0\", y=\"RMSE\", data=results.reset_index())\n",
    "ax.set_ylim(31, 36)\n",
    "ax.set_xlabel('TargetMax')\n",
    "ax.set_xticklabels(test_names, rotation=45, ha='right')"
   ]
  },
  {
   "cell_type": "code",
   "execution_count": null,
   "id": "86432e4f-84a2-4fa3-bd68-b33de737675f",
   "metadata": {},
   "outputs": [],
   "source": []
  }
 ],
 "metadata": {
  "kernelspec": {
   "display_name": "LFMC",
   "language": "python",
   "name": "lfmc"
  },
  "language_info": {
   "codemirror_mode": {
    "name": "ipython",
    "version": 3
   },
   "file_extension": ".py",
   "mimetype": "text/x-python",
   "name": "python",
   "nbconvert_exporter": "python",
   "pygments_lexer": "ipython3",
   "version": "3.8.13"
  }
 },
 "nbformat": 4,
 "nbformat_minor": 5
}
