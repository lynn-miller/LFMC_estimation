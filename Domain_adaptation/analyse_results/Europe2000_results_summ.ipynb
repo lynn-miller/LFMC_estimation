{
 "cells": [
  {
   "cell_type": "markdown",
   "id": "ed595e42-4a77-4afc-8341-fc619e93ba22",
   "metadata": {},
   "source": [
    "# Analyse Results for Transfer Learning tests\n",
    "- Australian data\n",
    "- Ensemble size is 20\n",
    "- 20 Ensembles\n",
    "- Compare full transfer and frozen layers with no transfer learning"
   ]
  },
  {
   "cell_type": "markdown",
   "id": "56b4ce86-4017-4e7d-b46a-560c68ca84bb",
   "metadata": {},
   "source": [
    "## Imports"
   ]
  },
  {
   "cell_type": "code",
   "execution_count": 1,
   "id": "ignored-habitat",
   "metadata": {},
   "outputs": [],
   "source": [
    "import glob\n",
    "import json\n",
    "import os\n",
    "import pandas as pd\n",
    "import random\n",
    "\n",
    "from scipy import stats\n",
    "import numpy as np\n",
    "import seaborn as sns\n",
    "import matplotlib.pyplot as plt\n",
    "from matplotlib import cm\n",
    "from matplotlib.colors import ListedColormap, LinearSegmentedColormap\n",
    "from mpl_toolkits.axes_grid1.inset_locator import inset_axes\n",
    "\n",
    "import initialise\n",
    "import common\n",
    "from analysis_utils import calc_statistics, sort_file_list\n",
    "from display_utils import display_frames"
   ]
  },
  {
   "cell_type": "markdown",
   "id": "2f49a7b5-6bf8-4425-8d8f-e83599875850",
   "metadata": {},
   "source": [
    "## Directories and other settings\n",
    "- Update the model directories as required"
   ]
  },
  {
   "cell_type": "code",
   "execution_count": 2,
   "id": "2dacc714-5848-4666-983f-255e8e98cf85",
   "metadata": {},
   "outputs": [],
   "source": [
    "models_dir = common.MODELS_DIR\n",
    "\n",
    "model_dirs = [\n",
    "    os.path.join(models_dir, 'europe_2000_adabn_cn'),\n",
    "    os.path.join(models_dir, 'europe_2000_no-transfer'),\n",
    "    os.path.join(models_dir, 'europe_2000_transfer'),\n",
    "    os.path.join(models_dir, 'europe_2000_freeze-conv'),\n",
    "    os.path.join(models_dir, 'europe_2000_freeze-all-conv'),\n",
    "    os.path.join(models_dir, 'europe_2000_sourcerer'),\n",
    "    os.path.join(models_dir, 'europe_2000_freeze-bn'),\n",
    "    os.path.join(models_dir, 'europe_2000_sourcerer-reg'),\n",
    "    os.path.join(models_dir, 'europe_2000_adabn')\n",
    "]\n",
    "\n",
    "output_dir = os.path.join(common.DATA_DIR, 'Results', 'Europe2000')\n",
    "precision = 4       # floating point precision for saved predictions\n",
    "test_names = ['Source-only', 'Target-only', 'Naive', 'Freeze-1st', 'Freeze-conv',\n",
    "              'Sourcerer', 'Freeze-BN', 'Sourcerer-reg', 'AdaBN']"
   ]
  },
  {
   "cell_type": "code",
   "execution_count": 3,
   "id": "714d6b02-8006-4355-97eb-59abd07b6ef0",
   "metadata": {},
   "outputs": [],
   "source": [
    "def get_stats(model_dir, epoch=''):\n",
    "    test_stats = []\n",
    "    test_dirs = sort_file_list(glob.glob(os.path.join(model_dir, f'test*')), 'test')\n",
    "    for num, test_dir in enumerate(test_dirs):\n",
    "        stats_ = pd.read_csv(os.path.join(test_dir, epoch, 'ensemble_stats.csv'), index_col=0)\n",
    "        test_stats.append(stats_)\n",
    "    return pd.concat(test_stats, ignore_index=True)"
   ]
  },
  {
   "cell_type": "code",
   "execution_count": 4,
   "id": "4392aaa1-f5b8-4731-95a8-64179d290e5c",
   "metadata": {
    "tags": []
   },
   "outputs": [],
   "source": [
    "def get_preds(model_dir, epoch=''):\n",
    "    test_preds = []\n",
    "    test_dirs = sort_file_list(glob.glob(os.path.join(model_dir, f'test*')), 'test')\n",
    "    for num, test_dir in enumerate(test_dirs):\n",
    "        preds_ = pd.read_csv(os.path.join(test_dir, epoch, 'ensemble_predicts.csv'), index_col=0)\n",
    "        test_preds.append(preds_)\n",
    "    return pd.concat([test_preds[0].y] + [t.base for t in test_preds],\n",
    "                     axis=1,\n",
    "                     keys=['y']+[f'run_{i}' for i in range(len(test_preds))]).round(precision)"
   ]
  },
  {
   "cell_type": "code",
   "execution_count": 5,
   "id": "dd377897-0b3e-40e4-bdaf-b477f4fed240",
   "metadata": {},
   "outputs": [
    {
     "name": "stdout",
     "output_type": "stream",
     "text": [
      "Stats file name: G:\\My Drive\\Postdoc\\LFMC Project\\Data\\Domain_adaptation\\Results\\Europe2000\\Source-only_stats.csv\n",
      "Preds file name: G:\\My Drive\\Postdoc\\LFMC Project\\Data\\Domain_adaptation\\Results\\Europe2000\\Source-only_predicts.csv\n",
      "Stats file name: G:\\My Drive\\Postdoc\\LFMC Project\\Data\\Domain_adaptation\\Results\\Europe2000\\Target-only_stats.csv\n",
      "Preds file name: G:\\My Drive\\Postdoc\\LFMC Project\\Data\\Domain_adaptation\\Results\\Europe2000\\Target-only_predicts.csv\n",
      "Stats file name: G:\\My Drive\\Postdoc\\LFMC Project\\Data\\Domain_adaptation\\Results\\Europe2000\\Naive_stats.csv\n",
      "Preds file name: G:\\My Drive\\Postdoc\\LFMC Project\\Data\\Domain_adaptation\\Results\\Europe2000\\Naive_predicts.csv\n",
      "Stats file name: G:\\My Drive\\Postdoc\\LFMC Project\\Data\\Domain_adaptation\\Results\\Europe2000\\Freeze-1st_stats.csv\n",
      "Preds file name: G:\\My Drive\\Postdoc\\LFMC Project\\Data\\Domain_adaptation\\Results\\Europe2000\\Freeze-1st_predicts.csv\n",
      "Stats file name: G:\\My Drive\\Postdoc\\LFMC Project\\Data\\Domain_adaptation\\Results\\Europe2000\\Freeze-conv_stats.csv\n",
      "Preds file name: G:\\My Drive\\Postdoc\\LFMC Project\\Data\\Domain_adaptation\\Results\\Europe2000\\Freeze-conv_predicts.csv\n",
      "Stats file name: G:\\My Drive\\Postdoc\\LFMC Project\\Data\\Domain_adaptation\\Results\\Europe2000\\Sourcerer_stats.csv\n",
      "Preds file name: G:\\My Drive\\Postdoc\\LFMC Project\\Data\\Domain_adaptation\\Results\\Europe2000\\Sourcerer_predicts.csv\n",
      "Stats file name: G:\\My Drive\\Postdoc\\LFMC Project\\Data\\Domain_adaptation\\Results\\Europe2000\\Freeze-BN_stats.csv\n",
      "Preds file name: G:\\My Drive\\Postdoc\\LFMC Project\\Data\\Domain_adaptation\\Results\\Europe2000\\Freeze-BN_predicts.csv\n",
      "Stats file name: G:\\My Drive\\Postdoc\\LFMC Project\\Data\\Domain_adaptation\\Results\\Europe2000\\Sourcerer-reg_stats.csv\n",
      "Preds file name: G:\\My Drive\\Postdoc\\LFMC Project\\Data\\Domain_adaptation\\Results\\Europe2000\\Sourcerer-reg_predicts.csv\n",
      "Stats file name: G:\\My Drive\\Postdoc\\LFMC Project\\Data\\Domain_adaptation\\Results\\Europe2000\\AdaBN_stats.csv\n",
      "Preds file name: G:\\My Drive\\Postdoc\\LFMC Project\\Data\\Domain_adaptation\\Results\\Europe2000\\AdaBN_predicts.csv\n"
     ]
    }
   ],
   "source": [
    "for idx, model_dir in enumerate(model_dirs):\n",
    "    epoch = 'epoch0' if idx == 0 else ''\n",
    "    file_name = test_names[idx]\n",
    "    stats = get_stats(model_dir, epoch)\n",
    "    stats_file = os.path.join(output_dir, f'{test_names[idx]}_stats.csv')\n",
    "    stats.to_csv(stats_file)\n",
    "    print(f\"Stats file name: {stats_file}\")\n",
    "    preds = get_preds(model_dir, epoch)\n",
    "    preds_file = os.path.join(output_dir, f'{test_names[idx]}_predicts.csv')\n",
    "    preds.to_csv(preds_file)\n",
    "    print(f\"Preds file name: {preds_file}\")\n"
   ]
  },
  {
   "cell_type": "code",
   "execution_count": null,
   "id": "a88c68c8-d5c1-4019-bde4-4f507ceec22a",
   "metadata": {},
   "outputs": [],
   "source": []
  }
 ],
 "metadata": {
  "kernelspec": {
   "display_name": "LFMC",
   "language": "python",
   "name": "lfmc"
  },
  "language_info": {
   "codemirror_mode": {
    "name": "ipython",
    "version": 3
   },
   "file_extension": ".py",
   "mimetype": "text/x-python",
   "name": "python",
   "nbconvert_exporter": "python",
   "pygments_lexer": "ipython3",
   "version": "3.8.13"
  }
 },
 "nbformat": 4,
 "nbformat_minor": 5
}
