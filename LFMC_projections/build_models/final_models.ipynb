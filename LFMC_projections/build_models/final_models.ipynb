{
 "cells": [
  {
   "cell_type": "markdown",
   "metadata": {},
   "source": [
    "# LFMC Projection - Mapping Models\n",
    "Train Nowcasting and 3-month projection models to create LFMC maps"
   ]
  },
  {
   "cell_type": "code",
   "execution_count": 1,
   "metadata": {},
   "outputs": [],
   "source": [
    "import os\n",
    "import json\n",
    "import numpy as np\n",
    "import pandas as pd\n",
    "\n",
    "import initialise\n",
    "import common\n",
    "from modelling_functions import create_models, run_experiment\n",
    "from architecture_projection import model_params\n",
    "from model_parameters import ExperimentParams"
   ]
  },
  {
   "cell_type": "markdown",
   "metadata": {},
   "source": [
    "## Directories and Input files\n",
    "Change these settings as required\n",
    "- `input_dir`: Directory containing the data extracted from GEE and Globe-LFMC, the outputs from running the `Extract DEM Data.ipynb` and `Extract MODIS Data.ipynb` notebooks.\n",
    "- `modis_csv`: The file containing extracted MODIS data for each sample, created by `Extract MODIS Data.ipynb`\n",
    "- `prism_csv`: The file containing extracted PRISM data for each sample, created by `Extract PRISM Data.ipynb`\n",
    "- `aux_csv`: The file containing extracted sample labels, DEM, climate zone and other auxiliary data, created by `Extract Auxiliary Data.ipynb`."
   ]
  },
  {
   "cell_type": "code",
   "execution_count": 2,
   "metadata": {},
   "outputs": [],
   "source": [
    "modis_csv = os.path.join(common.DATASETS_DIR, 'modis_730days.csv')\n",
    "prism_csv = os.path.join(common.DATASETS_DIR, 'prism_730days.csv')\n",
    "aux_csv = os.path.join(common.DATASETS_DIR, 'samples_730days.csv')"
   ]
  },
  {
   "cell_type": "markdown",
   "metadata": {},
   "source": [
    "## Set up experiment parameters\n",
    "If the experiment dictionary contains a 'tests' key that is not 'falsy' (False, None, 0, empty list) it is assumed to be a list of tests to run. Each test will run with the specified model parameters. Model parameters not specified will be the same for each test, as set in the main model_params dictionary. A failed run can be restarted by setting the 'restart' key to the test that failed. This test and the remaining tests will then be run.\n",
    "\n",
    "If 'tests' is 'falsy' then a single test will be run using the parameters in the main model_params dictionary.\n",
    "\n",
    "Other settings are:\n",
    "- layerTypes: specifies which layers to include in the model\n",
    "- Layer parameters should be specified as a list. The first entry in the list will be used for the first layer, etc.\n",
    "- If the experiment includes changes to the layers, all non-default layer parameters need to be included. The parameters that are kept constant can be specified by including a key for the layer type in the experiment dictionary, and the value set to a dictionary of the constant parameters.\n",
    "\n",
    "Model_parameters that cannot be changed in tests are:\n",
    "- \\*Filename\n",
    "- \\*Channels\n",
    "- targetColumn\n",
    "\n",
    "Example of setting layer parameters:\n",
    "```\n",
    "{'name': 'Filters',\n",
    " 'description': 'Test effect of different filter sizes on conv layers',\n",
    " 'tests': [{'conv': {'filters': [32, 32, 32]}},\n",
    "           {'conv': {'filters': [8, 8, 8]}},\n",
    "           {'conv': {'filters': [32, 8, 8]}},\n",
    "           {'conv': {'filters': [8, 32, 8]}},\n",
    "           {'conv': {'filters': [8, 8, 32]}},\n",
    "           {'conv': {'filters': [8, 16, 32]}},\n",
    "           {'conv': {'filters': [32, 16, 8]}}],\n",
    " 'conv': {'numLayers': 3, 'poolSize': [2, 3, 4]},\n",
    " 'restart': 0}\n",
    "```"
   ]
  },
  {
   "cell_type": "code",
   "execution_count": 3,
   "metadata": {
    "scrolled": true
   },
   "outputs": [
    {
     "data": {
      "text/plain": [
       "{'name': 'final_models',\n",
       " 'description': 'Nowcasting and 3-month projection models for the LFMC maps',\n",
       " 'blocks': {},\n",
       " 'tests': [{'testName': 'Nowcasting',\n",
       "   'inputs': {'modis': {'start': -365, 'end': 0},\n",
       "    'prism': {'start': -365, 'end': 0}}},\n",
       "  {'testName': '3-months lead time',\n",
       "   'inputs': {'modis': {'start': -275, 'end': 90},\n",
       "    'prism': {'start': -275, 'end': 90}}}],\n",
       " 'testNames': [],\n",
       " 'restart': None,\n",
       " 'rerun': [],\n",
       " 'resumeAllTests': False}"
      ]
     },
     "execution_count": 3,
     "metadata": {},
     "output_type": "execute_result"
    }
   ],
   "source": [
    "experiment = ExperimentParams({\n",
    "    'name': 'final_models',\n",
    "    'description': 'Nowcasting and 3-month projection models for the LFMC maps',\n",
    "    'tests': [\n",
    "        {'testName': 'Nowcasting',\n",
    "         'inputs': {'modis': {'start': -365, 'end': 0},\n",
    "                    'prism': {'start': -365, 'end': 0}}},\n",
    "        {'testName': '3-months lead time',\n",
    "         'inputs': {'modis': {'start': -275, 'end': 90},\n",
    "                    'prism': {'start': -275, 'end': 90}}},\n",
    "    ],\n",
    "    'restart': None,\n",
    "})\n",
    "experiment"
   ]
  },
  {
   "cell_type": "markdown",
   "metadata": {},
   "source": [
    "## Set up model parameters\n",
    "Set up and customise the model parameters. Leave all parameters as set here to run Scenario A. To find out more about any parameter, run `model_params.help('<parameter>')` after running this cell to create the ModelParams object."
   ]
  },
  {
   "cell_type": "code",
   "execution_count": 4,
   "metadata": {
    "scrolled": true,
    "tags": []
   },
   "outputs": [
    {
     "data": {
      "text/plain": [
       "{'modelName': 'final_models',\n",
       " 'description': 'Nowcasting and 3-month projection models for the LFMC maps',\n",
       " 'modelClass': 'LfmcTempCnn',\n",
       " 'modelDir': 'G:\\\\My Drive\\\\LFMC Data\\\\LFMC_projections\\\\Models\\\\final_models',\n",
       " 'tempDir': 'C:\\\\Temp\\\\LFMC',\n",
       " 'diagnostics': False,\n",
       " 'dataSources': ['modis', 'prism', 'aux'],\n",
       " 'restartRun': None,\n",
       " 'derivedModels': {'merge10': {'type': 'merge', 'models': 10}},\n",
       " 'saveModels': True,\n",
       " 'saveTrain': None,\n",
       " 'saveValidation': True,\n",
       " 'plotModel': True,\n",
       " 'multiSamples': None,\n",
       " 'deduplicate': False,\n",
       " 'randomSeed': 1234,\n",
       " 'modelSeed': 1234,\n",
       " 'modelRuns': 20,\n",
       " 'resplit': False,\n",
       " 'seedList': [566,\n",
       "  451,\n",
       "  795,\n",
       "  237,\n",
       "  788,\n",
       "  185,\n",
       "  397,\n",
       "  530,\n",
       "  758,\n",
       "  633,\n",
       "  914,\n",
       "  326,\n",
       "  334,\n",
       "  366,\n",
       "  336,\n",
       "  413,\n",
       "  111,\n",
       "  599,\n",
       "  416,\n",
       "  230],\n",
       " 'maxWorkers': 1,\n",
       " 'deterministic': False,\n",
       " 'gpuDevice': 0,\n",
       " 'gpuList': [],\n",
       " 'gpuMemory': 0,\n",
       " 'inputs': {},\n",
       " 'samplesFile': 'G:\\\\My Drive\\\\LFMC Data\\\\LFMC_projections\\\\Datasets\\\\samples_730days.csv',\n",
       " 'samplesFilter': None,\n",
       " 'auxColumns': ['Long_sin', 'Long_cos', 'Lat_norm'],\n",
       " 'auxAugment': False,\n",
       " 'auxOneHotCols': ['Czone3'],\n",
       " 'targetColumn': 'LFMC value',\n",
       " 'targetTransform': None,\n",
       " 'targetNormalise': None,\n",
       " 'classify': False,\n",
       " 'numClasses': 0,\n",
       " 'splitMethod': 'byYear',\n",
       " 'splitSizes': (0.33, 0.067),\n",
       " 'splitColumn': None,\n",
       " 'splitStratify': None,\n",
       " 'splitYear': 2018,\n",
       " 'splitFolds': 0,\n",
       " 'testFolds': 1,\n",
       " 'yearColumn': 'Sampling year',\n",
       " 'yearFolds': None,\n",
       " 'testAllYears': False,\n",
       " 'trainAdjust': 0,\n",
       " 'testAdjust': 0,\n",
       " 'parentModel': None,\n",
       " 'parentFilter': None,\n",
       " 'parentResult': False,\n",
       " 'convPadding': 'same',\n",
       " 'poolPadding': 'valid',\n",
       " 'batchNormalise': True,\n",
       " 'dropoutRate': 0,\n",
       " 'regulariser': 'keras.regularizers.l2(1.e-6)',\n",
       " 'validationSet': False,\n",
       " 'earlyStopping': False,\n",
       " 'epochs': 50,\n",
       " 'evaluateEpochs': None,\n",
       " 'batchSize': 512,\n",
       " 'shuffle': True,\n",
       " 'verbose': 0,\n",
       " 'optimiser': 'adam',\n",
       " 'activation': 'relu',\n",
       " 'initialiser': 'he_normal',\n",
       " 'loss': 'mean_squared_error',\n",
       " 'metrics': ['mean_absolute_error'],\n",
       " 'modisConv': [{'filters': 8,\n",
       "   'kernel': 5,\n",
       "   'stride': 1,\n",
       "   'dilation': 1,\n",
       "   'bnorm': True,\n",
       "   'poolSize': 2},\n",
       "  {'filters': 8,\n",
       "   'kernel': 5,\n",
       "   'stride': 1,\n",
       "   'dilation': 1,\n",
       "   'bnorm': True,\n",
       "   'poolSize': 3},\n",
       "  {'filters': 8,\n",
       "   'kernel': 5,\n",
       "   'stride': 1,\n",
       "   'dilation': 1,\n",
       "   'bnorm': True,\n",
       "   'poolSize': 4}],\n",
       " 'prismConv': [{'filters': 8,\n",
       "   'kernel': 5,\n",
       "   'stride': 1,\n",
       "   'dilation': 1,\n",
       "   'bnorm': True,\n",
       "   'poolSize': 2},\n",
       "  {'filters': 8,\n",
       "   'kernel': 5,\n",
       "   'stride': 1,\n",
       "   'dilation': 1,\n",
       "   'bnorm': True,\n",
       "   'poolSize': 3},\n",
       "  {'filters': 8,\n",
       "   'kernel': 5,\n",
       "   'stride': 1,\n",
       "   'dilation': 1,\n",
       "   'bnorm': True,\n",
       "   'poolSize': 4}],\n",
       " 'fc': [{'units': 128, 'bnorm': True}]}"
      ]
     },
     "execution_count": 4,
     "metadata": {},
     "output_type": "execute_result"
    }
   ],
   "source": [
    "# Customize model parameters\n",
    "model_params['modelName'] = experiment['name']\n",
    "model_params['description'] = experiment['description']\n",
    "model_params['samplesFile'] = aux_csv\n",
    "model_params['modelRuns'] = common.ENSEMBLE_SIZE\n",
    "model_params['tempDir'] = common.TEMP_DIR\n",
    "model_params['modelDir'] = os.path.join(common.MODELS_DIR, model_params['modelName'])\n",
    "model_params['derivedModels'] = common.DERIVED_MODELS\n",
    "model_params['seedList'] = [\n",
    "    566, 451, 795, 237, 788, 185, 397, 530, 758, 633,\n",
    "    914, 326, 334, 366, 336, 413, 111, 599, 416, 230,\n",
    "]\n",
    "\n",
    "# Exclude 2018 data from training samples to ensure we don't use any data from the 3-month lead time\n",
    "model_params['yearColumn'] = 'Sampling year'\n",
    "model_params['splitMethod'] = 'byYear'\n",
    "model_params['splitYear'] = 2018\n",
    "\n",
    "model_params['saveModels'] = True\n",
    "model_params['gpuDevice'] = 0\n",
    "\n",
    "model_params"
   ]
  },
  {
   "cell_type": "code",
   "execution_count": 5,
   "metadata": {},
   "outputs": [
    {
     "data": {
      "text/plain": [
       "{'modis': {'filename': 'G:\\\\My Drive\\\\LFMC Data\\\\LFMC_projections\\\\Datasets\\\\modis_730days.csv',\n",
       "  'normalise': {'method': 'minMax', 'percentiles': 2},\n",
       "  'channels': 7,\n",
       "  'includeChannels': [],\n",
       "  'start': None,\n",
       "  'end': None},\n",
       " 'prism': {'filename': 'G:\\\\My Drive\\\\LFMC Data\\\\LFMC_projections\\\\Datasets\\\\prism_730days.csv',\n",
       "  'normalise': {'method': 'minMax', 'percentiles': 2},\n",
       "  'channels': 7,\n",
       "  'includeChannels': [],\n",
       "  'start': None,\n",
       "  'end': None}}"
      ]
     },
     "execution_count": 5,
     "metadata": {},
     "output_type": "execute_result"
    }
   ],
   "source": [
    "model_params.add_input('modis', {'filename': modis_csv, 'channels': 7})\n",
    "model_params.add_input('prism', {'filename': prism_csv, 'channels': 7})\n",
    "model_params['inputs']"
   ]
  },
  {
   "cell_type": "markdown",
   "metadata": {},
   "source": [
    "## Build and run the models\n",
    "Builds and trains the LFMC models.\n",
    "\n",
    "All models, predictions, evaluation statistics, and plots of test results are saved to `model_dir`, with each test and run saved to a separate sub-directory. For each model created, predictions and evaluation statistics are also returned as attributes of the `model` object. These are stored as nested lists, the structure for a full experiment is:\n",
    "- Tests (omitted if not an experiment)\n",
    "  - Runs (omitted for a single run)\n",
    "    - Folds (for k-fold splitting)"
   ]
  },
  {
   "cell_type": "code",
   "execution_count": 6,
   "metadata": {},
   "outputs": [],
   "source": [
    "def is_experiment():\n",
    "    try:\n",
    "        return bool(experiment['tests'])\n",
    "    except:\n",
    "        return False"
   ]
  },
  {
   "cell_type": "code",
   "execution_count": 7,
   "metadata": {
    "scrolled": true
   },
   "outputs": [
    {
     "name": "stdout",
     "output_type": "stream",
     "text": [
      "====================================================================================\n",
      "Experiment final_models - Nowcasting and 3-month projection models for the LFMC maps\n",
      "====================================================================================\n",
      "\n",
      "Reading samples file G:\\My Drive\\LFMC Data\\LFMC_projections\\Datasets\\samples_730days.csv\n",
      "Reading modis file G:\\My Drive\\LFMC Data\\LFMC_projections\\Datasets\\modis_730days.csv\n",
      "Reading prism file G:\\My Drive\\LFMC Data\\LFMC_projections\\Datasets\\prism_730days.csv\n",
      "\n",
      "----------------------------------------------------------------------\n",
      "\n",
      "Test 0: Nowcasting - {'inputs': {'modis': {'start': -365, 'end': 0}, 'prism': {'start': -365, 'end': 0}}}\n",
      "\n",
      "Setting target to \"LFMC value\"\n",
      "Auxiliary columns: ['Long_sin', 'Long_cos', 'Lat_norm']\n",
      "One-hot encoded columns: ['Czone3']\n",
      "Modis input shape: (66411, 730, 7)\n",
      "Prepared modis shape: (66411, 365, 7)\n",
      "Prism input shape: (66411, 730, 7)\n",
      "Prepared prism shape: (66411, 365, 7)\n",
      "Prepared aux shape: (66411, 18)\n",
      "\n",
      "----------------------------------------------------------------------\n",
      "\n",
      "Test 1: 3-months lead time - {'inputs': {'modis': {'start': -275, 'end': 90}, 'prism': {'start': -275, 'end': 90}}}\n",
      "\n",
      "Setting target to \"LFMC value\"\n",
      "Auxiliary columns: ['Long_sin', 'Long_cos', 'Lat_norm']\n",
      "One-hot encoded columns: ['Czone3']\n",
      "Modis input shape: (66411, 730, 7)\n",
      "Prepared modis shape: (66411, 365, 7)\n",
      "Prism input shape: (66411, 730, 7)\n",
      "Prepared prism shape: (66411, 365, 7)\n",
      "Prepared aux shape: (66411, 18)\n"
     ]
    },
    {
     "data": {
      "text/plain": [
       "None"
      ]
     },
     "metadata": {},
     "output_type": "display_data"
    },
    {
     "data": {
      "text/plain": [
       "None"
      ]
     },
     "metadata": {},
     "output_type": "display_data"
    }
   ],
   "source": [
    "if is_experiment():\n",
    "    models = run_experiment(experiment, model_params)\n",
    "else:\n",
    "    print('Running a single test')\n",
    "    models = [create_models(model_params)]\n",
    "for model in models:\n",
    "    display(getattr(model, 'all_stats', None))"
   ]
  },
  {
   "cell_type": "code",
   "execution_count": null,
   "metadata": {},
   "outputs": [],
   "source": []
  }
 ],
 "metadata": {
  "kernelspec": {
   "display_name": "LFMC",
   "language": "python",
   "name": "lfmc"
  },
  "language_info": {
   "codemirror_mode": {
    "name": "ipython",
    "version": 3
   },
   "file_extension": ".py",
   "mimetype": "text/x-python",
   "name": "python",
   "nbconvert_exporter": "python",
   "pygments_lexer": "ipython3",
   "version": "3.8.12"
  }
 },
 "nbformat": 4,
 "nbformat_minor": 4
}
