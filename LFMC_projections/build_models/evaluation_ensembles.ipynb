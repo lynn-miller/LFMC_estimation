{
 "cells": [
  {
   "cell_type": "markdown",
   "id": "ed595e42-4a77-4afc-8341-fc619e93ba22",
   "metadata": {},
   "source": [
    "# Create Ensembles for Projection tests\n",
    "- Generates ensembles for projection models\n",
    "- Ensemble size is 20\n",
    "- 50 ensembles are created by sampling (without replacement) from the pool of models\n",
    "- Save the ensemble predictions, uncertainties and statistics"
   ]
  },
  {
   "cell_type": "markdown",
   "id": "56b4ce86-4017-4e7d-b46a-560c68ca84bb",
   "metadata": {},
   "source": [
    "## Imports"
   ]
  },
  {
   "cell_type": "code",
   "execution_count": null,
   "id": "ignored-habitat",
   "metadata": {},
   "outputs": [],
   "source": [
    "import glob\n",
    "import os\n",
    "import pandas as pd\n",
    "\n",
    "import initialise\n",
    "import common\n",
    "from model_utils import generate_ensembles"
   ]
  },
  {
   "cell_type": "markdown",
   "id": "2f49a7b5-6bf8-4425-8d8f-e83599875850",
   "metadata": {},
   "source": [
    "## Directories and other settings\n",
    "- Update the model directories as required"
   ]
  },
  {
   "cell_type": "code",
   "execution_count": null,
   "id": "2dacc714-5848-4666-983f-255e8e98cf85",
   "metadata": {},
   "outputs": [],
   "source": [
    "samples_file = os.path.join(common.DATASETS_DIR, 'samples_730days.csv')\n",
    "model_dir = os.path.join(common.MODELS_DIR, 'evaluation_models')\n",
    "\n",
    "precision = 3       # floating point precision for saved predictions\n",
    "random_seed = 9876\n",
    "overwrite = False  # Set to True to overwrite existing ensemble results"
   ]
  },
  {
   "cell_type": "markdown",
   "id": "welcome-infrastructure",
   "metadata": {
    "tags": []
   },
   "source": [
    "### Read Test Predictions\n",
    "Read the prediction files for each test and retain the predictions that match the samples index. Either calculate the prediction statistics or read from the saved stats file (if available)."
   ]
  },
  {
   "cell_type": "code",
   "execution_count": null,
   "id": "657ed3f4-8c17-4fdb-90fa-40a5e29e1eff",
   "metadata": {},
   "outputs": [],
   "source": [
    "def read_predictions(model_dir):\n",
    "    model_predicts = []\n",
    "    test_dirs = sorted(glob.glob(os.path.join(model_dir, f'test*')))\n",
    "    for test_dir in test_dirs:\n",
    "        test_predicts = []\n",
    "        for run_dir in glob.glob(os.path.join(test_dir, 'run*')):\n",
    "            preds_ = pd.read_csv(os.path.join(run_dir, 'predictions.csv'), index_col=0)\n",
    "            test_predicts.append(preds_)\n",
    "        model_predicts.append(test_predicts)\n",
    "    return model_predicts, test_dirs"
   ]
  },
  {
   "cell_type": "markdown",
   "id": "7ded852b-c065-4a16-8045-2ed00fda1aa8",
   "metadata": {},
   "source": [
    "### Save Ensemble Predictions\n",
    "Save the predictions made by the ensembles using the model of interest. Each size ensemble is stored in a separate CSV file. Columns are the individual ensemble predictions and rows are the samples."
   ]
  },
  {
   "cell_type": "code",
   "execution_count": null,
   "id": "190e0c8d-f762-42b4-9ae9-acc66bac56db",
   "metadata": {},
   "outputs": [],
   "source": [
    "def write_ensembles(test_dirs, model_predicts, model_uncertainty, model_stats, precision):\n",
    "    for num in range(len(model_predicts)):\n",
    "        file_name = f\"ensemble{common.ENSEMBLE_SIZE}_{common.ANALYSIS_MODEL}.csv\"\n",
    "        stats_fname = f\"ensemble{common.ENSEMBLE_SIZE}_stats.csv\"\n",
    "        stds_fname = f\"ensemble{common.ENSEMBLE_SIZE}_stds.csv\"\n",
    "        test_dir = os.path.join(model_dir, f'test{num}')\n",
    "        test_dir = test_dirs[num]\n",
    "        if overwrite or not os.path.exists(os.path.join(test_dir, file_name)):\n",
    "            print(os.path.join(test_dir, file_name))\n",
    "            print(os.path.join(test_dir, stats_fname))\n",
    "            print(os.path.join(test_dir, stds_fname))\n",
    "            df = pd.concat([pred_[common.ANALYSIS_MODEL] for pred_ in model_predicts[num]], axis=1, ignore_index=True).round(precision)\n",
    "            df.to_csv(os.path.join(test_dir, file_name))\n",
    "            df = pd.DataFrame([run.stack() for run in model_stats[num]]).T\n",
    "            df.to_csv(os.path.join(test_dir, stats_fname))\n",
    "            df = pd.concat([pred_[common.ANALYSIS_MODEL] for pred_ in uncertainty[num]], axis=1, ignore_index=True).round(precision)\n",
    "            df.to_csv(os.path.join(test_dir, stds_fname))"
   ]
  },
  {
   "cell_type": "markdown",
   "id": "90d75fc6-8554-456b-abb9-064651782994",
   "metadata": {},
   "source": [
    "### Generate the ensembles\n",
    "Generate ensembles of various sizes for each of the models. For each ensemble size, randomly select the runs to ensemble, then create the ensembles. This is repeated for the desired number of ensembles of each size."
   ]
  },
  {
   "cell_type": "code",
   "execution_count": null,
   "id": "2fef1671-96c3-4ece-afb0-ed631a6c92d1",
   "metadata": {
    "scrolled": true,
    "tags": []
   },
   "outputs": [],
   "source": [
    "model_predicts, test_dirs = read_predictions(model_dir)\n",
    "predict, uncertainty, all_stats = generate_ensembles(model_predicts, common.ENSEMBLE_RUNS, common.ENSEMBLE_SIZE,\n",
    "                                                     precision=precision, uncertainty=True, random_seed=random_seed)\n",
    "write_ensembles(test_dirs, predict, uncertainty, all_stats, precision)"
   ]
  },
  {
   "cell_type": "code",
   "execution_count": null,
   "id": "ec26f0d5-d9fb-43c0-b88a-50db153d3836",
   "metadata": {},
   "outputs": [],
   "source": []
  }
 ],
 "metadata": {
  "kernelspec": {
   "display_name": "LFMC",
   "language": "python",
   "name": "lfmc"
  },
  "language_info": {
   "codemirror_mode": {
    "name": "ipython",
    "version": 3
   },
   "file_extension": ".py",
   "mimetype": "text/x-python",
   "name": "python",
   "nbconvert_exporter": "python",
   "pygments_lexer": "ipython3",
   "version": "3.8.13"
  }
 },
 "nbformat": 4,
 "nbformat_minor": 5
}
