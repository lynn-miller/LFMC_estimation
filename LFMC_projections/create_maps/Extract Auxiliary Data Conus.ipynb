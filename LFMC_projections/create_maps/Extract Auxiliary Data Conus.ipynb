{
 "cells": [
  {
   "cell_type": "markdown",
   "id": "retained-waste",
   "metadata": {},
   "source": [
    "# Create auxiliary data for CONUS maps\n",
    "- Includes DEM, location and climate zone data\n",
    "- DEM and location is from GEE. Climate zone from a local GeoTiff\n",
    "- Includes water mask\n",
    "- Converts to EPSG:4326, scale 10km\n",
    "- Runs in 3 parts. The first two parts submit GEE tasks, so need to wait for these to complete before running the next part\n",
    "\n",
    "## Part 1: Create images in Google Earth Engine"
   ]
  },
  {
   "cell_type": "code",
   "execution_count": 1,
   "id": "valid-fleece",
   "metadata": {},
   "outputs": [],
   "source": [
    "import numpy as np\n",
    "import os\n",
    "import initialise\n",
    "import common\n",
    "import ee\n",
    "ee.Initialize()"
   ]
  },
  {
   "cell_type": "code",
   "execution_count": 2,
   "id": "detected-junction",
   "metadata": {},
   "outputs": [],
   "source": [
    "# Required projection and resolution\n",
    "PROJ = common.MAP_PROJ\n",
    "SCALE = common.MAP_SCALE\n",
    "BBOX_PROJ = \"EPSG:4326\"\n",
    "\n",
    "# Location and name of aux image\n",
    "FOLDER = f\"GEE_{PROJ.replace(':', '-')}_{int(SCALE)}\"\n",
    "GEE_DATA_DIR = os.path.join(common.GEE_MAPS_DIR, FOLDER)\n",
    "GEE_AUX_IMAGE = 'conus_aux_gee.tif'\n",
    "FINAL_AUX_IMAGE = 'conus_aux.tif'\n",
    "if not os.path.exists(GEE_DATA_DIR):\n",
    "    os.makedirs(GEE_DATA_DIR)\n",
    "\n",
    "# DEM product name\n",
    "DEM_PRODUCT = 'USGS/SRTMGL1_003'\n",
    "\n",
    "# Water mask product and details\n",
    "WATER_MASK_PRODUCT = 'MODIS/006/MOD44W'\n",
    "WATER_MASK_BAND = 'water_mask'\n",
    "WATER_MASK_START_DATE = '2015-01-01'\n",
    "WATER_MASK_END_DATE = '2015-05-01'\n",
    "\n",
    "# USA shape and CONUS bounding box for clipping images\n",
    "USA = ee.FeatureCollection('USDOS/LSIB/2017').filter(\"COUNTRY_NA == 'United States'\")\n",
    "long_lat_rect = [-125, 24, -65, 50]\n",
    "#conus_bbox = ee.Geometry.Rectangle(long_lat_rect, BBOX_PROJ, geodesic=False)\n",
    "conus_bbox = ee.Geometry.BBox(*long_lat_rect)\n",
    "\n",
    "# GEE assest location for auxiliary images\n",
    "GEE_FOLDER = 'users/xxxxx' # Replace xxxxx with your GEE username\n",
    "GEE_ASSET = f'{GEE_FOLDER}/Auxiliary2'\n",
    "\n",
    "KOPPEN_FILE = 'Beck_KG_V1_present_0p0083.tif'\n",
    "NODATA = common.GDAL_NODATA_VALUE"
   ]
  },
  {
   "cell_type": "markdown",
   "id": "9c431d6c-c13d-401b-aa2a-f422fd7b7902",
   "metadata": {},
   "source": [
    "DEM image processing"
   ]
  },
  {
   "cell_type": "code",
   "execution_count": 3,
   "id": "491f8e1e-e20b-4b37-8a4c-3de5bf3888e1",
   "metadata": {
    "scrolled": true
   },
   "outputs": [],
   "source": [
    "dem_image = ee.Terrain.products(ee.Image(DEM_PRODUCT)).reduceResolution(ee.Reducer.mean(), maxPixels=512)\n",
    "dem_image = dem_image.select(['elevation', 'slope', 'aspect'])\n",
    "if common.MAP_SCALE > 500:\n",
    "    temp_scale = common.MAP_SCALE // int((common.MAP_SCALE / 30) ** 0.5)\n",
    "    dem_image = dem_image.reproject(common.MAP_PROJ, scale=temp_scale).reduceResolution(ee.Reducer.mean(), maxPixels=512)"
   ]
  },
  {
   "cell_type": "markdown",
   "id": "4a2c86ee-e4ea-4f54-9d13-c0b5be063ed9",
   "metadata": {},
   "source": [
    "Create an image for the longitude and latitude"
   ]
  },
  {
   "cell_type": "code",
   "execution_count": 4,
   "id": "cf94cc62-8e11-4ff4-a503-cfb81e5cd661",
   "metadata": {},
   "outputs": [],
   "source": [
    "long_lat = ee.Image.pixelLonLat()"
   ]
  },
  {
   "cell_type": "markdown",
   "id": "36d16d99-e140-486d-84f3-1efdc2ce4a40",
   "metadata": {},
   "source": [
    "Get the water mask"
   ]
  },
  {
   "cell_type": "code",
   "execution_count": 5,
   "id": "60b1d886-a26d-4b84-80e5-6d0d9e8ac537",
   "metadata": {
    "scrolled": true,
    "tags": []
   },
   "outputs": [],
   "source": [
    "water_mask = ee.ImageCollection(WATER_MASK_PRODUCT).filter(ee.Filter.date(WATER_MASK_START_DATE, WATER_MASK_END_DATE))\n",
    "water_mask = water_mask.select(WATER_MASK_BAND).toBands()"
   ]
  },
  {
   "cell_type": "markdown",
   "id": "4f464ba7-ad13-41b0-b2e9-39dc346cf24c",
   "metadata": {},
   "source": [
    "Combine the images and water mask"
   ]
  },
  {
   "cell_type": "code",
   "execution_count": 6,
   "id": "2c2886c1-db24-40bf-be8b-a111b897f561",
   "metadata": {},
   "outputs": [],
   "source": [
    "full_image = dem_image.addBands(long_lat).updateMask(ee.Image.constant(1).subtract(water_mask))"
   ]
  },
  {
   "cell_type": "markdown",
   "id": "e4dc6e97-feb4-4a29-b9f9-18d12a91d41f",
   "metadata": {},
   "source": [
    "### Store image as GEE Asset\n",
    "GEE limitations on the Terrain product mean there's too much data to generate as a single image. Seems like about 10 (square) degrees is about the limit. So need to create a set of small images, then mosaic into a single image. So first create an image collection (if it doesn't already exist), then iterate through the longitudes and latitudes to create images and submit a task to create the image as a GEE asset. At 5x2 degrees, 112 images & tasks are generated.  \n",
    "Note: When the images are mosaicked and displayed in GEE, there are distinct bands where the images meet. If the mosaicked image is exported as a GeoTiff, the bands are not visible (e.g. when displayed in QGIS)."
   ]
  },
  {
   "cell_type": "code",
   "execution_count": null,
   "id": "3b1fc6f8-8599-4a74-ad34-8115d603cd4a",
   "metadata": {
    "scrolled": true,
    "tags": []
   },
   "outputs": [],
   "source": [
    "try:\n",
    "    ee.data.createAsset({'type': 'ImageCollection'}, GEE_ASSET)\n",
    "except:\n",
    "    raise Exception('Image collection already exists')"
   ]
  },
  {
   "cell_type": "code",
   "execution_count": null,
   "id": "a9b12fca-5f5a-4439-97ae-beadb83d81d6",
   "metadata": {
    "scrolled": true,
    "tags": []
   },
   "outputs": [],
   "source": [
    "long_size = 5\n",
    "lat_size = 2\n",
    "long_range = range(long_lat_rect[0], long_lat_rect[2], long_size)\n",
    "lat_range = range(long_lat_rect[1], long_lat_rect[3], lat_size)\n",
    "for long in long_range:\n",
    "    for lat in lat_range:\n",
    "#        bbox = ee.Geometry.Rectangle([long, lat, long+long_size, lat+lat_size], BBOX_PROJ, geodesic=False)\n",
    "        bbox = ee.Geometry.Rectangle(long, lat, long+long_size, lat+lat_size)\n",
    "        if bbox.intersects(USA.geometry(), 1).getInfo():\n",
    "            print(f'Aux_{lat:02}{long:04}', f'{GEE_ASSET}/{lat:02}{long:04}')\n",
    "            bbox = bbox.intersection(USA.geometry(), 1, BBOX_PROJ)\n",
    "            image = full_image.clip(bbox)\n",
    "            task = ee.batch.Export.image.toAsset(\n",
    "                image=image,\n",
    "                description=f'Aux_{lat:02}{long:04}',\n",
    "                assetId=f'{GEE_ASSET}/{lat:02}{long:04}',\n",
    "                scale=SCALE,\n",
    "                crs=PROJ,\n",
    "            );\n",
    "            task.start()"
   ]
  },
  {
   "cell_type": "markdown",
   "id": "ee741b58-55f3-40cb-a1db-b7470e5725f1",
   "metadata": {
    "tags": []
   },
   "source": [
    "## Part 2: Export mosaicked image\n",
    "Creates a mosaicked image from the image collection created previously, then exports to Google Drive as a GeoTiff.  \n",
    "Notes:\n",
    "1. Need to wait for the GEE tasks generated above to complete before running this cell.\n",
    "2. Run the first two cells in the notebook before running this one if the kernel has been restarted since running part 1"
   ]
  },
  {
   "cell_type": "code",
   "execution_count": 9,
   "id": "500d834e-34a5-4060-b504-d00d994be9f3",
   "metadata": {},
   "outputs": [],
   "source": [
    "conus_aux = ee.ImageCollection(GEE_ASSET).mosaic().toFloat().unmask(NODATA)\n",
    "file_name = GEE_AUX_IMAGE.split('.')[0]     # GEE appends the .tif suffix\n",
    "task = ee.batch.Export.image.toDrive(\n",
    "    image=conus_aux,\n",
    "    description=file_name,\n",
    "    folder=FOLDER,\n",
    "    fileFormat='GeoTIFF',\n",
    "    region=conus_bbox,\n",
    "    scale=SCALE,\n",
    "    crs=PROJ,\n",
    "    skipEmptyTiles=True\n",
    ")\n",
    "task.start()"
   ]
  },
  {
   "cell_type": "markdown",
   "id": "7a62698e-c37a-41eb-a707-8d248c45461f",
   "metadata": {},
   "source": [
    "## Part 3: Add Climate Zone Data\n",
    "Creates a new image from the GEE auxiliary data and the climate zone data. Reprojects the climate zone data to match the other auxiliary data.\n",
    "\n",
    "Notes:\n",
    "1. Run this once the export image GEE task has completed\n",
    "2. Run the first two cells in the notebook before running this one if the kernel has been restarted since running part 2"
   ]
  },
  {
   "cell_type": "code",
   "execution_count": 10,
   "id": "5d90456e-3f52-401b-8794-d30864c47698",
   "metadata": {},
   "outputs": [],
   "source": [
    "import gdal\n",
    "from gdal import gdalconst"
   ]
  },
  {
   "cell_type": "code",
   "execution_count": 11,
   "id": "c074b36b-92c8-42a1-b344-af35615db467",
   "metadata": {},
   "outputs": [
    {
     "name": "stdout",
     "output_type": "stream",
     "text": [
      "['elevation', 'slope', 'aspect', 'longitude', 'latitude', 'climate_zone']\n",
      "(5, 1448, 3341)\n"
     ]
    }
   ],
   "source": [
    "gee_aux_file = os.path.join(GEE_DATA_DIR, GEE_AUX_IMAGE)\n",
    "gee_aux_image = gdal.Open(gee_aux_file, gdal.GA_ReadOnly)\n",
    "aux_bands = [gee_aux_image.GetRasterBand(b+1).GetDescription() for b in range(gee_aux_image.RasterCount)]\n",
    "aux_bands.append('climate_zone')\n",
    "print(aux_bands)\n",
    "aux_data = gee_aux_image.ReadAsArray()\n",
    "print(aux_data.shape)"
   ]
  },
  {
   "cell_type": "code",
   "execution_count": 12,
   "id": "be591648-4030-4236-a8fb-36881ffcb20c",
   "metadata": {},
   "outputs": [
    {
     "data": {
      "text/plain": [
       "(1448, 3341)"
      ]
     },
     "execution_count": 12,
     "metadata": {},
     "output_type": "execute_result"
    }
   ],
   "source": [
    "# Climate zone source\n",
    "czone_file = os.path.join(common.SOURCE_DIR, KOPPEN_FILE)\n",
    "czone_src = gdal.Open(czone_file, gdalconst.GA_ReadOnly)\n",
    "czone_proj = czone_src.GetProjection()\n",
    "czone_geotrans = czone_src.GetGeoTransform()\n",
    "\n",
    "# Auxiliary projection and resolution\n",
    "aux_proj = gee_aux_image.GetProjection()\n",
    "aux_geotrans = gee_aux_image.GetGeoTransform()\n",
    "x_size = gee_aux_image.RasterXSize\n",
    "y_size = gee_aux_image.RasterYSize\n",
    "\n",
    "# In-memory raster for the reprojected data\n",
    "dst = gdal.GetDriverByName('MEM').Create(\"\", x_size, y_size, 1, gdalconst.GDT_Byte)\n",
    "dst.SetGeoTransform(aux_geotrans)\n",
    "dst.SetProjection(aux_proj)\n",
    "\n",
    "# Reproject climate zone data to auxiliary projection and resolution. Use the mode of the climate zones\n",
    "gdal.ReprojectImage(czone_src, dst, czone_proj, aux_proj, gdalconst.GRA_Mode)\n",
    "\n",
    "czone_data = dst.ReadAsArray()\n",
    "czone_data = czone_data * (aux_data[0] != NODATA)\n",
    "czone_data = np.where(czone_data==0, NODATA, czone_data)\n",
    "czone_data.shape"
   ]
  },
  {
   "cell_type": "code",
   "execution_count": 13,
   "id": "a1eec8db-64b9-443b-ad71-12465633f4b0",
   "metadata": {},
   "outputs": [
    {
     "name": "stdout",
     "output_type": "stream",
     "text": [
      "Processing elevation ... from auxiliary data\n",
      "Processing slope ... from auxiliary data\n",
      "Processing aspect ... from auxiliary data\n",
      "Processing longitude ... from auxiliary data\n",
      "Processing latitude ... from auxiliary data\n",
      "Processing climate_zone ... from czone data\n"
     ]
    }
   ],
   "source": [
    "# Create output raster\n",
    "aux_file = os.path.join(GEE_DATA_DIR, FINAL_AUX_IMAGE)\n",
    "aux_driver = gdal.GetDriverByName('GTIFF')\n",
    "aux_image = aux_driver.Create(aux_file, x_size, y_size, len(aux_bands), gdalconst.GDT_Float32, options=[\"TILED=YES\"])\n",
    "aux_image.SetGeoTransform(aux_geotrans)\n",
    "aux_image.SetProjection(aux_proj)\n",
    "for band in range(len(aux_bands)):\n",
    "    print(f\"Processing {aux_bands[band]} ...\", end=' ')\n",
    "    aux_band = aux_image.GetRasterBand(band + 1)\n",
    "    aux_band.SetNoDataValue(NODATA)\n",
    "    aux_band.SetDescription(aux_bands[band])\n",
    "    if band == len(aux_bands) - 1:\n",
    "        print(\"from czone data\")\n",
    "        aux_band.WriteArray(czone_data)\n",
    "    else:\n",
    "        print(\"from auxiliary data\")\n",
    "        aux_band.WriteArray(aux_data[band])\n",
    "    aux_band.FlushCache()\n",
    "del aux_image"
   ]
  }
 ],
 "metadata": {
  "kernelspec": {
   "display_name": "LFMC",
   "language": "python",
   "name": "lfmc"
  },
  "language_info": {
   "codemirror_mode": {
    "name": "ipython",
    "version": 3
   },
   "file_extension": ".py",
   "mimetype": "text/x-python",
   "name": "python",
   "nbconvert_exporter": "python",
   "pygments_lexer": "ipython3",
   "version": "3.8.13"
  }
 },
 "nbformat": 4,
 "nbformat_minor": 5
}
