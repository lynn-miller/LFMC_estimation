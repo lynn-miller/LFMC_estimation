{
 "cells": [
  {
   "cell_type": "markdown",
   "id": "gothic-vertex",
   "metadata": {},
   "source": [
    "# Extract PRISM data\n",
    "- using 10km scale and WGS84 projection\n",
    "- For entire CONUS\n",
    "- images with data for 3 months\n",
    "- Note: When converting an image collection to an image, GEE includes the date in the band name. Timestamps on PRISM data are midday, so when they are converted to a date, this becomes the following day. So band names for 2016-10-01 data will include 2016-10-02!"
   ]
  },
  {
   "cell_type": "code",
   "execution_count": 1,
   "id": "complicated-warrant",
   "metadata": {},
   "outputs": [],
   "source": [
    "import initialise\n",
    "import common\n",
    "import ee\n",
    "ee.Initialize()"
   ]
  },
  {
   "cell_type": "code",
   "execution_count": 2,
   "id": "cultural-outdoors",
   "metadata": {
    "scrolled": true
   },
   "outputs": [],
   "source": [
    "PRODUCT = \"OREGONSTATE/PRISM/AN81d\"\n",
    "PROJ = common.MAP_PROJ\n",
    "SCALE = 4638.3       # PRISM native resolution      # common.MAP_SCALE\n",
    "USA = ee.FeatureCollection('USDOS/LSIB/2017').filter(\"COUNTRY_NA == 'United States'\")\n",
    "FLOAT_PRE = 5\n",
    "START_DATES = [\"2017-10-01\", \"2018-01-01\", \"2018-04-01\", \"2018-07-01\"]\n",
    "END_DATES = [\"2018-01-01\", \"2018-04-01\", \"2018-07-01\", \"2018-10-01\"]\n",
    "bbox = ee.Geometry.BBox(*common.MAP_BOUNDS)\n",
    "conus_bbox = bbox.intersection(USA.geometry(), 1, PROJ)\n",
    "FOLDER = f\"GEE_{PROJ.replace(':', '-')}_{int(SCALE)}\""
   ]
  },
  {
   "cell_type": "code",
   "execution_count": 3,
   "id": "architectural-tucson",
   "metadata": {},
   "outputs": [
    {
     "name": "stdout",
     "output_type": "stream",
     "text": [
      "2017-10-01 2018-01-01\n",
      "2018-01-01 2018-04-01\n",
      "2018-04-01 2018-07-01\n",
      "2018-07-01 2018-10-01\n"
     ]
    }
   ],
   "source": [
    "images = []\n",
    "for num in range(len(START_DATES)):\n",
    "    print(START_DATES[num], END_DATES[num])\n",
    "    prism_col = ee.ImageCollection(PRODUCT).filterDate(START_DATES[num], END_DATES[num])\n",
    "    images.append(prism_col.toBands().clip(conus_bbox).regexpRename('^', 'b'))"
   ]
  },
  {
   "cell_type": "code",
   "execution_count": 4,
   "id": "dying-gardening",
   "metadata": {},
   "outputs": [],
   "source": [
    "for num, image in enumerate(images):\n",
    "    task = ee.batch.Export.image.toDrive(\n",
    "        image=image,\n",
    "        description=f'PRISM_{START_DATES[num]}',\n",
    "        folder='CONUS',\n",
    "        fileFormat='GeoTIFF',\n",
    "        scale=SCALE,\n",
    "        crs=PROJ,\n",
    "        skipEmptyTiles=True\n",
    "    );\n",
    "    task.start()"
   ]
  },
  {
   "cell_type": "code",
   "execution_count": null,
   "id": "capable-texture",
   "metadata": {},
   "outputs": [],
   "source": []
  }
 ],
 "metadata": {
  "kernelspec": {
   "display_name": "LFMC",
   "language": "python",
   "name": "lfmc"
  },
  "language_info": {
   "codemirror_mode": {
    "name": "ipython",
    "version": 3
   },
   "file_extension": ".py",
   "mimetype": "text/x-python",
   "name": "python",
   "nbconvert_exporter": "python",
   "pygments_lexer": "ipython3",
   "version": "3.8.12"
  }
 },
 "nbformat": 4,
 "nbformat_minor": 5
}
