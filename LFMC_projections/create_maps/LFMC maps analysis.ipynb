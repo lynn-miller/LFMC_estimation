{
 "cells": [
  {
   "cell_type": "markdown",
   "id": "c2b26aa2",
   "metadata": {},
   "source": [
    "# Generate CONUS LFMC Image\n",
    "#### Description\n",
    "Creates a GeoTiff image of LFMC predictions that can be used to produce LFMC maps.\n",
    "\n",
    "#### Input Images\n",
    "1. An image of auxiliary data - latitude, longitude, elevation, slope, aspect and climate zone\n",
    "2. Images of MODIS data for at least 1 year prior to the mapping date\n",
    "3. Images of PRISM data for at least 1 year prior to the mapping date  \n",
    "Note: Band names for PRISM data are confusing. When GEE converts an image collection to an image, it includes the date in the band name. Timestamps on PRISM data are midday, so when they are converted (rounded) to a date, this becomes the following day. So in the extracted GeoTiffs, bands for 2016-10-01 data will named for 2016-10-02!\n",
    "\n",
    "#### Other Inputs\n",
    "1. Model directory - this should contain \"run\" directories - one for each model in the ensemble.\n",
    "2. Data used to train the model - The notebook extracts normalisation bounds and one-hot encodings needed to prepare the input data. The normalisation bounds are saved to csv files, so if these files already exist, bounds can be loaded from these instead.\n",
    "3. Legend file for Koppen climate zones. This should be a CSV as created by the \"Extract Auxiliary Data.ipynb\" notebook. Used to convert the climate zone numbers in the auxiliary input into climate zone codes\n"
   ]
  },
  {
   "cell_type": "code",
   "execution_count": null,
   "id": "d62b4295",
   "metadata": {},
   "outputs": [],
   "source": [
    "import glob\n",
    "import numpy as np\n",
    "import os\n",
    "import pandas as pd\n",
    "import time\n",
    "\n",
    "from osgeo import gdal"
   ]
  },
  {
   "cell_type": "code",
   "execution_count": null,
   "id": "christian-infrared",
   "metadata": {},
   "outputs": [],
   "source": [
    "import initialise\n",
    "import common\n",
    "from display_utils import display_frames"
   ]
  },
  {
   "cell_type": "code",
   "execution_count": null,
   "id": "143aed3d-d799-4878-88a6-60d787f87bd0",
   "metadata": {},
   "outputs": [],
   "source": [
    "KOPPEN_LEGEND = os.path.join(common.SOURCE_DIR, 'Climate_zones.csv')\n",
    "czones = pd.read_csv(KOPPEN_LEGEND, index_col=0)"
   ]
  },
  {
   "cell_type": "code",
   "execution_count": null,
   "id": "8a39e5af-4554-4200-90f0-eb5cf9a1d7fb",
   "metadata": {},
   "outputs": [],
   "source": [
    "april_file = os.path.join(common.MAPS_DIR, 'LFMC_maps', 'LFMC_difference_2018-04-01.tif')\n",
    "october_file = os.path.join(common.MAPS_DIR, 'LFMC_maps', 'LFMC_difference_2018-10-01.tif')"
   ]
  },
  {
   "cell_type": "code",
   "execution_count": null,
   "id": "82ab2998-4326-4511-812d-28e7409dfc1b",
   "metadata": {},
   "outputs": [],
   "source": [
    "april_image = gdal.Open(april_file, gdal.GA_ReadOnly)\n",
    "april_data = april_image.ReadAsArray()\n",
    "april_data = april_data.flatten()[(april_data.flatten() > -10000)]"
   ]
  },
  {
   "cell_type": "code",
   "execution_count": null,
   "id": "0d2c66f9-cd05-47af-9f29-03546646919f",
   "metadata": {},
   "outputs": [],
   "source": [
    "april_diffs = pd.Series(april_data).abs()"
   ]
  },
  {
   "cell_type": "code",
   "execution_count": null,
   "id": "677dfce4-8d63-4240-8816-86769f88d7fe",
   "metadata": {},
   "outputs": [],
   "source": [
    "april_diffs.quantile([.1, 0.2, 0.3, 0.4, 0.5, 0.6, 0.7, 0.8, 0.9, 1.0])"
   ]
  },
  {
   "cell_type": "code",
   "execution_count": null,
   "id": "284dfc08-da0e-4e38-ad83-0c115cf04bd2",
   "metadata": {},
   "outputs": [],
   "source": [
    "(april_diffs.le(10).sum()/april_diffs.count()).round(2)"
   ]
  },
  {
   "cell_type": "code",
   "execution_count": null,
   "id": "53e8adae-f4cb-479d-ba17-a17ac73b5b59",
   "metadata": {},
   "outputs": [],
   "source": [
    "october_image = gdal.Open(october_file, gdal.GA_ReadOnly)\n",
    "october_data = october_image.ReadAsArray()\n",
    "october_data = october_data.flatten()[(october_data.flatten() > -10000)]\n",
    "october_diffs = pd.Series(october_data).abs()"
   ]
  },
  {
   "cell_type": "code",
   "execution_count": null,
   "id": "a9125a65-8781-441b-bed9-22f86928776d",
   "metadata": {},
   "outputs": [],
   "source": [
    "october_diffs.quantile([.1, 0.2, 0.3, 0.4, 0.5, 0.6, 0.7, 0.8, 0.9, 1.0])"
   ]
  },
  {
   "cell_type": "code",
   "execution_count": null,
   "id": "b9bf4477-c0f8-483b-a341-ab371c0bd543",
   "metadata": {},
   "outputs": [],
   "source": [
    "(october_diffs.le(10).sum()/october_diffs.count()).round(2)"
   ]
  },
  {
   "cell_type": "code",
   "execution_count": null,
   "id": "2facde93-5973-4ded-b4c9-cf83912cb1e4",
   "metadata": {},
   "outputs": [],
   "source": [
    "(april_diffs.le(5).sum()/april_diffs.count()).round(2)"
   ]
  },
  {
   "cell_type": "code",
   "execution_count": null,
   "id": "7e514bfa-b28f-4cf8-b72f-c451fe9ab710",
   "metadata": {},
   "outputs": [],
   "source": [
    "(october_diffs.le(5).sum()/october_diffs.count()).round(2)"
   ]
  },
  {
   "cell_type": "code",
   "execution_count": null,
   "id": "e683a4fd-5f93-481a-85dd-82471768726a",
   "metadata": {},
   "outputs": [],
   "source": [
    "april_proj_file = os.path.join(common.MAPS_DIR, 'LFMC_maps', 'Projection_base_2018-04-01.tif')\n",
    "october_proj_file = os.path.join(common.MAPS_DIR, 'LFMC_maps', 'Projection_base_2018-10-01.tif')"
   ]
  },
  {
   "cell_type": "code",
   "execution_count": null,
   "id": "4bd671ed-b82b-4e13-a6da-f4c7fcdb2697",
   "metadata": {},
   "outputs": [],
   "source": [
    "april_image = gdal.Open(april_proj_file, gdal.GA_ReadOnly)\n",
    "april_data = april_image.ReadAsArray()[0]\n",
    "april_projections = pd.Series(april_data.flatten()[(april_data.flatten() > -999)])\n",
    "april_projections.describe().round(2)"
   ]
  },
  {
   "cell_type": "code",
   "execution_count": null,
   "id": "d4ec9e1b-9bd8-4592-a634-c92d7a6ba285",
   "metadata": {},
   "outputs": [],
   "source": [
    "october_image = gdal.Open(october_proj_file, gdal.GA_ReadOnly)\n",
    "october_data = october_image.ReadAsArray()[0]\n",
    "october_projections = pd.Series(october_data.flatten()[(october_data.flatten() > -999)])\n",
    "october_projections.describe().round(2)"
   ]
  },
  {
   "cell_type": "code",
   "execution_count": null,
   "id": "acefb97e-23a8-4621-b963-a046714e4e5b",
   "metadata": {},
   "outputs": [],
   "source": [
    "def data_to_series(data, min_value=-999):\n",
    "    return pd.Series(data.flatten()[(data.flatten() > min_value)])"
   ]
  },
  {
   "cell_type": "code",
   "execution_count": null,
   "id": "ea5fd00a-1d31-49a8-9f25-e9d8bbae3188",
   "metadata": {},
   "outputs": [],
   "source": [
    "west_april = data_to_series(april_data[:, :1287])\n",
    "east_april = data_to_series(april_data[:, 1287:])\n",
    "west_october = data_to_series(october_data[:, :1287])\n",
    "east_october = data_to_series(october_data[:, 1287:])"
   ]
  },
  {
   "cell_type": "code",
   "execution_count": null,
   "id": "eab14398-a12e-4611-9781-7d07099c2d51",
   "metadata": {},
   "outputs": [],
   "source": [
    "split_point1 = 1544 # 1154\n",
    "split_point2 = 1544 # 1655  # 1154\n",
    "west_april = data_to_series(april_data[:, :split_point1])\n",
    "central_april = data_to_series(april_data[:, split_point1:split_point2])\n",
    "east_april = data_to_series(april_data[:, split_point2:])\n",
    "west_october = data_to_series(october_data[:, :split_point1])\n",
    "central_october = data_to_series(october_data[:, split_point1:split_point2])\n",
    "east_october = data_to_series(october_data[:, split_point2:])"
   ]
  },
  {
   "cell_type": "code",
   "execution_count": null,
   "id": "e8da0df4-00eb-4a35-af8b-aecbcbd45081",
   "metadata": {},
   "outputs": [],
   "source": [
    "pd.DataFrame({'conus_april': april_projections.describe(), 'conus_october': october_projections.describe(),\n",
    "              'west_april': west_april.describe(), 'west_october': west_october.describe(),\n",
    "              'central_april': central_april.describe(), 'central_october': central_october.describe(),\n",
    "              'east_april': east_april.describe(), 'east_october': east_october.describe()}).round(2)"
   ]
  },
  {
   "cell_type": "code",
   "execution_count": null,
   "id": "db00ecee-e573-4722-9b8d-fb58ce073b8b",
   "metadata": {},
   "outputs": [],
   "source": [
    "KOPPEN_FILE = 'Beck_KG_V1_present_0p0083.tif'\n",
    "# Climate zone source\n",
    "czone_file = os.path.join(common.SOURCE_DIR, KOPPEN_FILE)\n",
    "czone_src = gdal.Open(czone_file, gdal.GA_ReadOnly)\n",
    "czone_proj = czone_src.GetProjection()\n",
    "czone_geotrans = czone_src.GetGeoTransform()\n",
    "\n",
    "# Auxiliary projection and resolution\n",
    "aux_proj = april_image.GetProjection()\n",
    "aux_geotrans = april_image.GetGeoTransform()\n",
    "x_size = april_image.RasterXSize\n",
    "y_size = april_image.RasterYSize\n",
    "\n",
    "# In-memory raster for the reprojected data\n",
    "dst = gdal.GetDriverByName('MEM').Create(\"\", x_size, y_size, 1, gdal.GDT_Byte)\n",
    "dst.SetGeoTransform(aux_geotrans)\n",
    "dst.SetProjection(aux_proj)\n",
    "\n",
    "# Reproject climate zone data to auxiliary projection and resolution. Use the mode of the climate zones\n",
    "gdal.ReprojectImage(czone_src, dst, czone_proj, aux_proj, gdal.GRA_Mode)\n",
    "\n",
    "czone_data = dst.ReadAsArray()\n",
    "czone_data.shape"
   ]
  },
  {
   "cell_type": "code",
   "execution_count": null,
   "id": "ed812a86-7cb8-4ee1-a7bd-d6cebdddd746",
   "metadata": {},
   "outputs": [],
   "source": [
    "df = pd.DataFrame({'April_data': april_data.flatten(),\n",
    "                   'October_data': october_data.flatten(),\n",
    "                   'Climate_zone': czone_data.flatten()})\n",
    "df = df[df.April_data > -999]"
   ]
  },
  {
   "cell_type": "code",
   "execution_count": null,
   "id": "00e1b61b-672f-4e2b-9fc4-2708f45c739d",
   "metadata": {},
   "outputs": [],
   "source": [
    "df = df.merge(czones[['Code', 'Description']], left_on=\"Climate_zone\", right_index=True\n",
    "             ).drop(columns='Climate_zone').rename(columns={'Code': 'Climate_zone'})\n",
    "df['Difference'] = df.October_data - df.April_data"
   ]
  },
  {
   "cell_type": "code",
   "execution_count": null,
   "id": "415c82d4-97fc-4d20-923b-515f3fde1c16",
   "metadata": {},
   "outputs": [],
   "source": [
    "display_frames([d[1].unstack().T for d in df.drop(columns='Description').groupby('Climate_zone').describe().iterrows()],\n",
    "               [str(d[0]) for d in df.groupby('Climate_zone').describe().iterrows()],\n",
    "               precision=2)"
   ]
  },
  {
   "cell_type": "code",
   "execution_count": null,
   "id": "8a28d656-b673-4d81-bd60-d7a45a3ffd8d",
   "metadata": {},
   "outputs": [],
   "source": [
    "df.groupby(['Climate_zone', 'Description']).median().astype(int).sort_values('Difference')"
   ]
  },
  {
   "cell_type": "code",
   "execution_count": null,
   "id": "c62b9eb6-0794-4d98-ad04-99f115a93070",
   "metadata": {},
   "outputs": [],
   "source": [
    "df['April_diffs'] = april_diffs.set_axis(df.index)\n",
    "df['October_diffs'] = october_diffs.set_axis(df.index)"
   ]
  },
  {
   "cell_type": "code",
   "execution_count": null,
   "id": "2b12ecaf-649f-4d1c-8a0b-6e701fd31cd7",
   "metadata": {},
   "outputs": [],
   "source": [
    "df[df.Description.str.contains('Arid') | df.Description.str.contains('dry summer')][['April_data', 'October_data']].median()"
   ]
  },
  {
   "cell_type": "code",
   "execution_count": null,
   "id": "b68286e8-0379-4ec4-ae60-15a4feb687dd",
   "metadata": {},
   "outputs": [],
   "source": [
    "df[~(df.Description.str.contains('Arid') | df.Description.str.contains('dry summer'))][['April_data', 'October_data']].median()"
   ]
  },
  {
   "cell_type": "code",
   "execution_count": null,
   "id": "ba799584-7f49-4f67-8d09-1fb386190f5d",
   "metadata": {},
   "outputs": [],
   "source": [
    "df[df.Description.str.contains('Arid')\n",
    "   | df.Description.str.contains('Tropical')\n",
    "   | df.Description.str.contains('Polar')\n",
    "   | df.Description.str.contains('dry summer')\n",
    "  ][['April_data', 'October_data']].mean()"
   ]
  },
  {
   "cell_type": "code",
   "execution_count": null,
   "id": "713b956f-13d9-49ec-a094-8d7f47e7ebfa",
   "metadata": {},
   "outputs": [],
   "source": [
    "df[~(df.Description.str.contains('Arid')\n",
    "   | df.Description.str.contains('Tropical')\n",
    "   | df.Description.str.contains('Polar')\n",
    "   | df.Description.str.contains('dry summer'))\n",
    "  ][['April_data', 'October_data']].mean()"
   ]
  },
  {
   "cell_type": "code",
   "execution_count": null,
   "id": "ad7d9996-398d-46cd-96fa-d32c3f7c8612",
   "metadata": {},
   "outputs": [],
   "source": [
    "czones[czones.Description.str.contains('Arid') \n",
    "       | czones.Description.str.contains('Tropical')\n",
    "       | czones.Description.str.contains('Polar')\n",
    "       | czones.Description.str.contains('dry summer')]"
   ]
  },
  {
   "cell_type": "code",
   "execution_count": null,
   "id": "59f24466-e0e3-444c-86e4-229614cc375b",
   "metadata": {},
   "outputs": [],
   "source": [
    "czones[~(czones.Description.str.contains('Arid') \n",
    "       | czones.Description.str.contains('Tropical')\n",
    "       | czones.Description.str.contains('Polar')\n",
    "       | czones.Description.str.contains('dry summer'))]"
   ]
  },
  {
   "cell_type": "code",
   "execution_count": null,
   "id": "332626c6-44f1-4d92-b561-5ff226563005",
   "metadata": {},
   "outputs": [],
   "source": [
    "xform = april_image.GetGeoTransform()"
   ]
  },
  {
   "cell_type": "code",
   "execution_count": null,
   "id": "e1438642-c117-4914-90da-8739704b49f7",
   "metadata": {},
   "outputs": [],
   "source": [
    "xform[0] + xform[1] * 1287"
   ]
  },
  {
   "cell_type": "code",
   "execution_count": null,
   "id": "549aa5ec-2e3c-45cc-9af5-cdce0ecb460d",
   "metadata": {},
   "outputs": [],
   "source": [
    "(-104 - xform[0]) / xform[1]"
   ]
  },
  {
   "cell_type": "code",
   "execution_count": null,
   "id": "158d599c-ca7e-44e1-802b-dd044aefd199",
   "metadata": {},
   "outputs": [],
   "source": [
    "xform[0] + xform[1] * 1154"
   ]
  },
  {
   "cell_type": "code",
   "execution_count": null,
   "id": "49cb9bd9-8620-436c-ab25-93eee497a3ee",
   "metadata": {},
   "outputs": [],
   "source": [
    "(-95 - xform[0]) / xform[1]"
   ]
  },
  {
   "cell_type": "code",
   "execution_count": null,
   "id": "b8c3aae6-f9dd-4ab2-b65f-255644a4cc7f",
   "metadata": {},
   "outputs": [],
   "source": [
    "(-97 - xform[0]) / xform[1]"
   ]
  },
  {
   "cell_type": "code",
   "execution_count": null,
   "id": "1879ebae-ea9a-4042-b665-140d3dbad703",
   "metadata": {},
   "outputs": [],
   "source": []
  }
 ],
 "metadata": {
  "kernelspec": {
   "display_name": "LFMC",
   "language": "python",
   "name": "lfmc"
  },
  "language_info": {
   "codemirror_mode": {
    "name": "ipython",
    "version": 3
   },
   "file_extension": ".py",
   "mimetype": "text/x-python",
   "name": "python",
   "nbconvert_exporter": "python",
   "pygments_lexer": "ipython3",
   "version": "3.8.13"
  }
 },
 "nbformat": 4,
 "nbformat_minor": 5
}
