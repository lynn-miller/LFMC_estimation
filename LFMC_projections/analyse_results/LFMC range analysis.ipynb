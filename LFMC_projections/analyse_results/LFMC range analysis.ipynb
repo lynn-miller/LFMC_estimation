{
 "cells": [
  {
   "cell_type": "markdown",
   "id": "de4b2a4f-2625-4d44-8ee4-6b1e056a7953",
   "metadata": {},
   "source": [
    "# Statistics and Figures for Analysis by LFMC Range"
   ]
  },
  {
   "cell_type": "markdown",
   "id": "a8cc3f16-8925-491e-ae7e-21e5f50577e4",
   "metadata": {},
   "source": [
    "## Initialisation"
   ]
  },
  {
   "cell_type": "code",
   "execution_count": null,
   "id": "broadband-funeral",
   "metadata": {},
   "outputs": [],
   "source": [
    "import json\n",
    "import numpy as np\n",
    "import os\n",
    "import pandas as pd\n",
    "import seaborn as sns\n",
    "\n",
    "import matplotlib.pyplot as plt\n",
    "from matplotlib.legend_handler import HandlerTuple\n",
    "from matplotlib.legend import Legend\n",
    "\n",
    "import initialise\n",
    "import common\n",
    "from analysis_utils import calc_statistics\n",
    "from display_utils import display_frames"
   ]
  },
  {
   "cell_type": "code",
   "execution_count": null,
   "id": "d68d1057-cd56-40da-b4c2-26f18dc08676",
   "metadata": {},
   "outputs": [],
   "source": [
    "MIN_LFMC = 50\n",
    "FIRE_RISK_THRESHOLD = 120\n",
    "BIN_SIZE = 5\n",
    "\n",
    "MODEL_RMSE = 27.52\n",
    "MODEL_R2 = 0.47\n",
    "\n",
    "TICK_SIZE = 7\n",
    "LEGEND_SIZE = 7\n",
    "FONT_SIZE = 7\n",
    "TITLE_SIZE = 8\n",
    "MARKER_SIZE = 5"
   ]
  },
  {
   "cell_type": "markdown",
   "id": "d152cc2f-3699-4c4d-b33d-71ec9dc06613",
   "metadata": {},
   "source": [
    "## Get the Samples and Predictions"
   ]
  },
  {
   "cell_type": "code",
   "execution_count": null,
   "id": "colored-uncle",
   "metadata": {},
   "outputs": [],
   "source": [
    "samples_file = os.path.join(common.DATASETS_DIR, 'samples_730days.csv')\n",
    "model_dir = os.path.join(common.MODELS_DIR, 'evaluation_models', 'test3')"
   ]
  },
  {
   "cell_type": "code",
   "execution_count": null,
   "id": "banner-proxy",
   "metadata": {
    "scrolled": true
   },
   "outputs": [],
   "source": [
    "with open(os.path.join(model_dir, 'model_params.json'), 'r') as f:\n",
    "    params = json.load(f)\n",
    "samples = pd.read_csv(samples_file, index_col=0)\n",
    "predict1 = pd.read_csv(os.path.join(model_dir, f'ensemble{common.ENSEMBLE_SIZE}_{common.ANALYSIS_MODEL}.csv'), index_col=0)\n",
    "samples1 = samples.reindex(predict1.index)\n",
    "samples1 = samples1[params['targetColumn']]"
   ]
  },
  {
   "cell_type": "markdown",
   "id": "8bfb10c6-0796-4671-aafc-00ef9309c97f",
   "metadata": {},
   "source": [
    "## Functions"
   ]
  },
  {
   "cell_type": "markdown",
   "id": "f6d301c3-17f9-45be-827b-c5730acd8fbd",
   "metadata": {},
   "source": [
    "### Statistical Functions"
   ]
  },
  {
   "cell_type": "code",
   "execution_count": null,
   "id": "decimal-colors",
   "metadata": {},
   "outputs": [],
   "source": [
    "def rmse(errors):\n",
    "    return np.sqrt((errors ** 2).mean())"
   ]
  },
  {
   "cell_type": "code",
   "execution_count": null,
   "id": "bf505ea3-fe60-4ff4-9ddf-07de12068ee6",
   "metadata": {},
   "outputs": [],
   "source": [
    "def mae(errors):\n",
    "    return errors.abs().mean()"
   ]
  },
  {
   "cell_type": "code",
   "execution_count": null,
   "id": "021ff49f-cb77-4f37-9e90-4f16ecab1e39",
   "metadata": {},
   "outputs": [],
   "source": [
    "def iqr_lower(errors):\n",
    "    return errors.quantile(0.25)"
   ]
  },
  {
   "cell_type": "code",
   "execution_count": null,
   "id": "a2215d3a-2572-405d-b885-c1f305672efe",
   "metadata": {},
   "outputs": [],
   "source": [
    "def iqr_upper(errors):\n",
    "    return errors.quantile(0.75)"
   ]
  },
  {
   "cell_type": "code",
   "execution_count": null,
   "id": "continuous-establishment",
   "metadata": {},
   "outputs": [],
   "source": [
    "def gen_stats(y, yhat, width=1, clip=True, lower=0, upper=300):\n",
    "    data = pd.DataFrame({'y': y, 'yhat': yhat})\n",
    "    data['LFMC_group'] = ((data.y / width).round() * width)\n",
    "    if clip:\n",
    "        data['LFMC_group'] = data['LFMC_group'].clip(lower, upper)\n",
    "    data['Pred_error'] = data.yhat - data.y\n",
    "    stats_ = data.groupby(['LFMC_group']).Pred_error.agg(['mean', 'std', 'count', rmse, mae, iqr_lower, iqr_upper])\n",
    "    plot_range = range(lower, upper+1, width)\n",
    "    return stats_.reindex(plot_range)   "
   ]
  },
  {
   "cell_type": "code",
   "execution_count": null,
   "id": "3c07cd95-a72a-4749-a9cf-63a8927a0dad",
   "metadata": {},
   "outputs": [],
   "source": [
    "def gen_means(y, yhat, width=1, clip=True, lower=0, upper=300):\n",
    "    stats_ = []\n",
    "    for _, pred in yhat.iteritems():\n",
    "        stats_.append(gen_stats(y, pred, width=width, clip=clip, lower=lower, upper=upper))\n",
    "    return pd.concat(stats_).groupby('LFMC_group').mean() #.convert_dtypes()"
   ]
  },
  {
   "cell_type": "code",
   "execution_count": null,
   "id": "df47c28c-281d-4447-a2da-1fb3b59184cd",
   "metadata": {},
   "outputs": [],
   "source": [
    "def gen_counts(y, width=1, clip=True, lower=0, upper=300):\n",
    "    data = pd.DataFrame({'count': y, 'LFMC_group': ((y / width).round() * width)})\n",
    "    if clip:\n",
    "        data['LFMC_group'] = data['LFMC_group'].clip(lower, upper)\n",
    "    data = data.groupby(['LFMC_group']).count()\n",
    "    data = data.reindex(range(lower, upper+1, width))\n",
    "    return data"
   ]
  },
  {
   "cell_type": "markdown",
   "id": "a54ae660-8ed1-4a24-8e59-95a6899a8a51",
   "metadata": {},
   "source": [
    "### Plotting Functions"
   ]
  },
  {
   "cell_type": "code",
   "execution_count": null,
   "id": "referenced-hurricane",
   "metadata": {},
   "outputs": [],
   "source": [
    "def plot_by_range(stats_plot, ax, xrange=[0, 300], xfocus=[0, 300], width=1, yrange=[-100, 100], yfocus=20, clip=True):\n",
    "    plot_range = range(xrange[0], xrange[1]+1, width)\n",
    "    ax.plot(stats_plot['mean'], label='Bias', color=sns.color_palette('tab20')[0])\n",
    "    l1, = ax.plot(stats_plot.loc[:xfocus[0], 'rmse'], color=sns.color_palette('tab20')[3], linestyle='--')\n",
    "    l2, = ax.plot(stats_plot.loc[xfocus[0]:xfocus[1], 'rmse'], color=sns.color_palette('tab20')[2])\n",
    "    ax.plot(stats_plot.loc[xfocus[1]:, 'rmse'], color=sns.color_palette('tab20')[3], linestyle='--')\n",
    "    ax.fill_between(\n",
    "        plot_range,\n",
    "        stats_plot['mean'] - stats_plot['std'],  #stats_plot['iqr_lower'],\n",
    "        stats_plot['mean'] + stats_plot['std'],  #stats_plot['iqr_upper'],\n",
    "        color=sns.color_palette('tab20')[1],\n",
    "        alpha=0.5\n",
    "    )\n",
    "    ax.plot([xrange[0], xrange[1]], [yfocus, yfocus], ':', color=(0.5, 0.5, 0.5), linewidth=1)\n",
    "    ax.text(xrange[1]-1, yfocus, f'RMSE={yfocus}%', va='bottom', ha='right', size=FONT_SIZE)\n",
    "    negative = stats_plot['mean'][stats_plot['mean'].lt(0)]\n",
    "    ax.plot([negative.index[0], negative.index[0]], [yrange[0], negative.iloc[0]], ':', color=(0.5, 0.5, 0.5), linewidth=1)\n",
    "    temp_text = f'Models switch from\\noverestimating to\\nunderestimating at\\nLFMC={negative.index[0]}%'\n",
    "    ax.text(negative.index[0]+2, (yrange[0] - negative.iloc[0]) / 2, temp_text, va='top', ha='left', fontsize=FONT_SIZE)\n",
    "    handles, labels_ = ax.get_legend_handles_labels()\n",
    "    ax.legend(handles + [(l1, l2)], labels_ + ['RMSE'], loc='lower left', fontsize=LEGEND_SIZE,\n",
    "              handlelength=2.0, handler_map={tuple: HandlerTuple(ndivide=None)})\n",
    "    ax.set_ylabel('Estimation error (%)', fontsize=FONT_SIZE)\n",
    "#    ax.set_xlabel('Measured LFMC (%)', fontsize=FONT_SIZE)\n",
    "    ax.tick_params(labelsize=TICK_SIZE)\n",
    "    ax.axis([xrange[0]-width, xrange[1]+width, yrange[0], yrange[1]])\n",
    "    return ax"
   ]
  },
  {
   "cell_type": "code",
   "execution_count": null,
   "id": "lined-convert",
   "metadata": {},
   "outputs": [],
   "source": [
    "def samples_by_range(stats_plot, ax, lower=0, upper=300, width=1, clip=True, xlabel_start=0, xlabel_freq=10):\n",
    "    plot_range = range(lower, upper+1, width)\n",
    "    ax.bar(np.arange(stats_plot.index.shape[0])*width+lower, list(stats_plot['count']),\n",
    "           color=sns.color_palette('tab20')[0], width=width*0.8)\n",
    "#    ax.set_xticks(range(xlabel_start*width+lower, stats_plot.index.shape[0]*width+1, xlabel_freq))\n",
    "    ax.set_xticks(range(xlabel_start, upper+width, xlabel_freq))\n",
    "    ax.tick_params(labelsize=TICK_SIZE)\n",
    "#    ax.set_xticklabels([stats_plot.index[i] for i in range(xlabel_start, stats_plot.index.shape[0], xlabel_freq//width)])\n",
    "    ax.set_ylabel('#Test Samples', fontsize=FONT_SIZE)\n",
    "    ax.set_xlabel('Measured LFMC (%)', fontsize=FONT_SIZE)\n",
    "#    ax.set_xlim(ax.patches[0].get_x(), ax.patches[-1].get_x()+width)\n",
    "    ax.set_xlim(lower-width, upper+width)\n",
    "    return ax"
   ]
  },
  {
   "cell_type": "code",
   "execution_count": null,
   "id": "3a1bdc5b-efdf-49e5-aff1-ca30a9529782",
   "metadata": {},
   "outputs": [],
   "source": [
    "def gen_scatterplot(x, y, ax, xlabels, ylabels, threshold):\n",
    "    style = y < threshold\n",
    "    markers = {True: \"D\", False: \"P\"}\n",
    "    ax = sns.regplot(x=np.log10(x), y=np.log10(y), ci=None, scatter=None, color=\"grey\", line_kws={'linewidth':1}, ax=ax)\n",
    "    ax = sns.scatterplot(x=np.log10(x), y=np.log10(y), hue=style, style=style, markers=markers, ax=ax)\n",
    "    ax.set_xticks(np.log10(xlabels))\n",
    "    ax.set_xticklabels(xlabels)\n",
    "    ax.set_yticks(np.log10(ylabels))\n",
    "    ax.set_yticklabels(ylabels)\n",
    "    ax.tick_params(labelsize=TICK_SIZE)\n",
    "    ax.set_xlabel('Sample Size (Log scale)', fontsize=FONT_SIZE)\n",
    "    ax.set_ylabel('RMSE (%, Log scale)', fontsize=FONT_SIZE)\n",
    "    handles, labels_ = ax.get_legend_handles_labels()\n",
    "    ax.legend(handles, [f'$RMSE \\geq {threshold}$%', f'$RMSE < {threshold}$%'], fontsize=LEGEND_SIZE)\n",
    "    return ax"
   ]
  },
  {
   "cell_type": "markdown",
   "id": "ed1cc8d8-b4df-4269-88dd-a1c269d40f40",
   "metadata": {},
   "source": [
    "## Measured and Estimated LFMC - Summary Statistics"
   ]
  },
  {
   "cell_type": "code",
   "execution_count": null,
   "id": "2cb7ebdd-03cb-44ed-aec2-5d0321f69a2a",
   "metadata": {},
   "outputs": [],
   "source": [
    "pd.DataFrame.from_records(\n",
    "    [samples1.describe(), predict1.describe().mean(axis=1)],\n",
    "    index=pd.Index(['Measured', 'Predicted'])).round(1)"
   ]
  },
  {
   "cell_type": "markdown",
   "id": "061eb1ba-a6b7-4010-83a0-839cfc7e7686",
   "metadata": {},
   "source": [
    "## LFMC by Range Figure"
   ]
  },
  {
   "cell_type": "markdown",
   "id": "e4b10330-5675-440d-82f8-3db972c59560",
   "metadata": {},
   "source": [
    "### Generate Data Frames"
   ]
  },
  {
   "cell_type": "code",
   "execution_count": null,
   "id": "3a06aa6e-890a-49b7-a92f-c050b1ce37f0",
   "metadata": {},
   "outputs": [],
   "source": [
    "xrange = [30, 250]\n",
    "df1 = gen_means(samples1, predict1, BIN_SIZE, True, xrange[0], xrange[1])\n",
    "df3 = gen_counts(samples1, BIN_SIZE, True, xrange[0], xrange[1])\n",
    "\n",
    "threshold = 20\n",
    "min_size = 5\n",
    "xlabels = [5, 10, 20, 50, 100, 200, 500]\n",
    "ylabels = [10, 20, 50, 100, 200]\n",
    "df5 = gen_means(samples1, predict1, width=1, lower=0, upper=500).dropna()\n",
    "rmse_df = pd.concat([df5['count'], df5.rmse], axis=1)\n",
    "rmse_df.columns=['Count', 'RMSE']\n",
    "rmse_df = rmse_df[rmse_df['Count'].ge(min_size)]"
   ]
  },
  {
   "cell_type": "markdown",
   "id": "1ffe4798-3f7c-4519-ad9e-1615eb506c55",
   "metadata": {},
   "source": [
    "### Plot Charts"
   ]
  },
  {
   "cell_type": "code",
   "execution_count": null,
   "id": "60875b71-5ff3-455d-abfc-0a320f515492",
   "metadata": {},
   "outputs": [],
   "source": [
    "np.arange(df3.index.shape[0]) * 5 + 30"
   ]
  },
  {
   "cell_type": "code",
   "execution_count": null,
   "id": "2ee515b2-d3fe-4d63-bc59-35c288430cb6",
   "metadata": {},
   "outputs": [],
   "source": [
    "plt.rcParams.update({'font.sans-serif': 'Arial'})\n",
    "fig, (ax1, ax2) = plt.subplots(2, 1, constrained_layout=True, figsize=(3, 3.5), dpi=200, sharex=True,\n",
    "                               linewidth=2, edgecolor=\"black\", gridspec_kw={'height_ratios': [2, 1]})\n",
    "\n",
    "lower = 55\n",
    "upper = 145\n",
    "ax1 = plot_by_range(df1, ax1, [30, 250], xfocus=[lower, upper], yfocus=MODEL_RMSE, width=BIN_SIZE)\n",
    "ax1.text(27.0, 98.0, '(a)', va='top', fontsize=TITLE_SIZE)\n",
    "#ax1.set_box_aspect(1)\n",
    "\n",
    "ax2 = samples_by_range(df3, ax2, 30, 250, width=BIN_SIZE, clip=True, xlabel_start=50, xlabel_freq=50)\n",
    "ax2.text(27, 1600.0, '(b)', va='center', fontsize=TITLE_SIZE)\n",
    "ax2.get_xlim()\n",
    "\n",
    "fig.savefig(os.path.join(common.FIGURES_DIR, 'LFMC range.jpeg'), format=\"jpeg\", bbox_inches='tight', pad_inches=0.1, dpi=600)"
   ]
  },
  {
   "cell_type": "code",
   "execution_count": null,
   "id": "b7050058-bdd3-42e3-846c-9451df165772",
   "metadata": {},
   "outputs": [],
   "source": [
    "plt.rcParams.update({'font.sans-serif': 'Arial'})\n",
    "fig = plt.figure(constrained_layout=True, figsize=(6, 3), dpi=600, linewidth=2, edgecolor=\"black\")\n",
    "gs = fig.add_gridspec(2, 2)\n",
    "\n",
    "ax1 = fig.add_subplot(gs[:, 0])\n",
    "ax2 = fig.add_subplot(gs[0, 1])\n",
    "ax3 = fig.add_subplot(gs[1, 1])\n",
    "\n",
    "lower = 55\n",
    "upper = 135\n",
    "ax1 = plot_by_range(df1, ax1, [30, 250], xfocus=[lower, upper], yfocus=MODEL_RMSE, width=BIN_SIZE)\n",
    "ax1.text(31.0, 98.0, '(a)', va='top', fontsize=TITLE_SIZE)\n",
    "\n",
    "ax2 = samples_by_range(df3, ax2, 30, 250, width=BIN_SIZE, clip=True, xlabel_start=4, xlabel_freq=5)\n",
    "ax2.text(0.4, 1600.0, '(b)', va='top', fontsize=TITLE_SIZE)\n",
    "\n",
    "ax3 = gen_scatterplot(x=rmse_df['Count'], y=rmse_df['RMSE'], ax=ax3, xlabels=xlabels, ylabels=ylabels, threshold=MODEL_RMSE)\n",
    "ax3.text(0.6, 1.0, '(c)', va='bottom', fontsize=TITLE_SIZE)\n",
    "\n",
    "#fig.tight_layout(pad=1)\n",
    "#fig.savefig(os.path.join(common.FIGURES_DIR, 'LFMC range.jpeg'), format=\"jpeg\", bbox_inches='tight', pad_inches=0.1, dpi=600)"
   ]
  },
  {
   "cell_type": "code",
   "execution_count": null,
   "id": "6b111c30-0ed1-4b84-af56-650c5cc02e84",
   "metadata": {},
   "outputs": [],
   "source": []
  }
 ],
 "metadata": {
  "kernelspec": {
   "display_name": "LFMC",
   "language": "python",
   "name": "lfmc"
  },
  "language_info": {
   "codemirror_mode": {
    "name": "ipython",
    "version": 3
   },
   "file_extension": ".py",
   "mimetype": "text/x-python",
   "name": "python",
   "nbconvert_exporter": "python",
   "pygments_lexer": "ipython3",
   "version": "3.8.13"
  }
 },
 "nbformat": 4,
 "nbformat_minor": 5
}
