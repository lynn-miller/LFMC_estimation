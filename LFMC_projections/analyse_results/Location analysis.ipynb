{
 "cells": [
  {
   "cell_type": "markdown",
   "id": "21995d74-e47b-4bfa-a711-4e6b39267dc4",
   "metadata": {},
   "source": [
    "# Generate Statistics and TIFFs for Site Location Analysis"
   ]
  },
  {
   "cell_type": "code",
   "execution_count": null,
   "id": "helpful-shopper",
   "metadata": {},
   "outputs": [],
   "source": [
    "import os\n",
    "import json\n",
    "import numpy as np\n",
    "import pandas as pd\n",
    "\n",
    "import initialise\n",
    "import common\n",
    "from analysis_utils import calc_statistics"
   ]
  },
  {
   "cell_type": "code",
   "execution_count": null,
   "id": "f9985862-fc67-4e86-beb4-581b45ffeaf1",
   "metadata": {},
   "outputs": [],
   "source": [
    "if common.GDAL_DATA is not None:\n",
    "    os.environ['GDAL_DATA'] = common.GDAL_DATA\n",
    "from osgeo import gdal\n",
    "from osgeo import osr"
   ]
  },
  {
   "cell_type": "code",
   "execution_count": null,
   "id": "90db2a45-341c-42a6-b2b3-e8351a1600a4",
   "metadata": {},
   "outputs": [],
   "source": [
    "MODEL_DIR = os.path.join(common.MODELS_DIR, 'evaluation_models')\n",
    "OUTPUT_DIR = os.path.join(common.MAPS_DIR, 'Gridded_sites')\n",
    "NODATA = common.GDAL_NODATA_VALUE\n",
    "BANDS = ['RMSE', 'Bias', 'R2', 'Uncertainty']"
   ]
  },
  {
   "cell_type": "code",
   "execution_count": null,
   "id": "a7d756e3-91ba-4d50-a740-256a6ea29552",
   "metadata": {},
   "outputs": [],
   "source": [
    "all_samples = pd.read_csv(os.path.join(common.DATASETS_DIR, 'samples_730days.csv'), index_col=0)\n",
    "tests = [{'name': 'Nowcasting', 'dir': 'test0'}, {'name': '3-month Projection', 'dir': 'test3'},]\n",
    "ifile_name = f'ensemble{common.ENSEMBLE_SIZE}_{common.ANALYSIS_MODEL}.csv'\n",
    "ufile_name = f'ensemble{common.ENSEMBLE_SIZE}_stds.csv'\n",
    "ofile_names = [f'projection_nowcast_sites.tif', f'projection_3months_sites.tif',]\n",
    "locations = {}"
   ]
  },
  {
   "cell_type": "markdown",
   "id": "8897aec4-375a-4c3a-b8b8-580a1b023183",
   "metadata": {},
   "source": [
    "### Calculate the statistics for each grid cell"
   ]
  },
  {
   "cell_type": "code",
   "execution_count": null,
   "id": "7992a25a-5722-4331-af65-b1bc74380b04",
   "metadata": {},
   "outputs": [],
   "source": [
    "def gen_gridded_data(predictions, samples, std_devs, y):\n",
    "    predict = predictions.merge(samples[['Latitude', 'Longitude', y]], left_index=True, right_index=True)\n",
    "    predict['Latitude'] = np.ceil((predict.Latitude * 2))/2\n",
    "    predict['Longitude'] = np.floor((predict.Longitude * 2))/2\n",
    "    predict['Uncertainty'] = std_devs.mean(axis=1)\n",
    "\n",
    "    counts = predict.groupby(['Latitude', 'Longitude']).size()\n",
    "    uncertainty = predict.groupby(['Latitude', 'Longitude'])['Uncertainty'].mean()\n",
    "    locations = []\n",
    "    locs = predict.set_index(['Latitude', 'Longitude']).loc[counts[counts >= 10].index].groupby(['Latitude', 'Longitude'])\n",
    "    ybar = samples[y].mean()\n",
    "    for col in predict.columns[:-4]:\n",
    "        l = locs.apply(lambda x: calc_statistics(x[y], x[col], ybar=ybar))\n",
    "        locations.append(pd.DataFrame(list(l.values), index=l.index))\n",
    "    locations = pd.concat(locations).groupby(level=[0,1]).mean()\n",
    "    locations['Uncertainty'] = uncertainty\n",
    "    locations['NumSamples'] = counts\n",
    "    return locations"
   ]
  },
  {
   "cell_type": "markdown",
   "id": "2495000e-6747-497a-9afc-0bb13d7ca44f",
   "metadata": {},
   "source": [
    "### Summary statistics"
   ]
  },
  {
   "cell_type": "code",
   "execution_count": null,
   "id": "virtual-favor",
   "metadata": {},
   "outputs": [],
   "source": [
    "def display_summary(locations):\n",
    "    print('Proportion of grid cells with RMSE < 20:', np.round(locations.RMSE.lt(20).sum() / locations.shape[0], 2), '\\n')\n",
    "    display(pd.DataFrame([locations.min(), locations.median(), locations.mean(), locations.max(), locations.std()],\n",
    "                         index=['min', 'median', 'mean', 'max', 'std dev']).round(2))"
   ]
  },
  {
   "cell_type": "markdown",
   "id": "56791044-67a1-4283-bbdb-a6c0bf3edd1d",
   "metadata": {},
   "source": [
    "### Region summary"
   ]
  },
  {
   "cell_type": "code",
   "execution_count": null,
   "id": "ac858cfc-c971-4253-b636-9f9b732f9622",
   "metadata": {},
   "outputs": [],
   "source": [
    "def display_region(locations, long_range, lat_range):\n",
    "    temp_df = locations.reset_index()\n",
    "    temp_df = temp_df[temp_df.Latitude.between(lat_range[0], lat_range[1]) & temp_df.Longitude.between(long_range[0], long_range[1])]\n",
    "    print('RMSE weighted average:', np.round(np.sqrt((temp_df.RMSE ** 2 * temp_df.NumSamples).sum() / temp_df.NumSamples.sum()), 2))\n",
    "    print('Bias weighted average:', np.round((temp_df.Bias * temp_df.NumSamples).sum() / temp_df.NumSamples.sum(), 2))"
   ]
  },
  {
   "cell_type": "markdown",
   "id": "be35dd6d-74bb-4ee3-b88c-ba5460a62205",
   "metadata": {},
   "source": [
    "### Grid cell LFMC estimation bias"
   ]
  },
  {
   "cell_type": "code",
   "execution_count": null,
   "id": "9f2516ba-d688-4dfd-a22f-72c97e8317ae",
   "metadata": {},
   "outputs": [],
   "source": [
    "def display_grid_bias(locations):\n",
    "    print('Proportion of grid cells with under-estimated LFMC:', np.round(locations.Bias.lt(0).sum() / locations.shape[0], 2))\n",
    "    print('Proportion of grid cells with abs(bias) < 5:', np.round(locations.Bias.between(-5, 5).sum() / locations.shape[0], 2))\n",
    "    print('Proportion of grid cells with abs(bias) < 10:', np.round(locations.Bias.between(-10, 10).sum() / locations.shape[0], 2))\n",
    "    print('Proportion of grid cells with abs(bias) > 20:', np.round(locations.Bias.abs().gt(20).sum() / locations.shape[0], 2))"
   ]
  },
  {
   "cell_type": "markdown",
   "id": "abee03f3-70e1-4024-ad21-8f6377df533d",
   "metadata": {},
   "source": [
    "### Generate sites tiff"
   ]
  },
  {
   "cell_type": "code",
   "execution_count": null,
   "id": "2221bd83-ffe8-4360-9227-34a1acb531b2",
   "metadata": {},
   "outputs": [],
   "source": [
    "def gen_locations_tiff(locations, output_file, bands, nodata_value, longitude='Longitude', latitude='Latitude'):\n",
    "    x_coords = (int(np.floor(locations.index.get_level_values(longitude).min())), int(np.ceil(locations.index.get_level_values(longitude).max())))\n",
    "    y_coords = (int(np.floor(locations.index.get_level_values(latitude).min())), int(np.ceil(locations.index.get_level_values(latitude).max())))\n",
    "    x_size = (x_coords[1] - x_coords[0]) * 2 + 1\n",
    "    y_size = (y_coords[1] - y_coords[0]) * 2 + 1\n",
    "    multi_index = pd.MultiIndex.from_product([np.linspace(y_coords[0], y_coords[1], y_size), np.linspace(x_coords[0], x_coords[1], x_size)])\n",
    "\n",
    "    pixel_size = 0.5\n",
    "    transform = [x_coords[0], pixel_size, 0.0, y_coords[1], 0.0, -pixel_size]\n",
    "\n",
    "    srs = osr.SpatialReference()\n",
    "    srs.ImportFromEPSG(4326)\n",
    "\n",
    "    driver = gdal.GetDriverByName('GTiff')\n",
    "    out_map_raster = driver.Create(output_file, x_size, y_size, len(bands), gdal.GDT_Float32)\n",
    "    out_map_raster.SetGeoTransform(transform)\n",
    "    out_map_raster.SetProjection(srs.ExportToWkt())\n",
    "\n",
    "    for num, band in enumerate(bands, 1):\n",
    "        band_data = locations[band].reindex(multi_index).unstack()[::-1]\n",
    "        out_map_band = out_map_raster.GetRasterBand(num)\n",
    "        out_map_band.SetNoDataValue(nodata_value)\n",
    "        out_map_band.SetDescription(band)\n",
    "        out_map_band.WriteArray(band_data.values)\n",
    "        out_map_band.FlushCache()\n",
    "\n",
    "    del out_map_raster"
   ]
  },
  {
   "cell_type": "markdown",
   "id": "c215fc7f-9884-41a5-98b9-ee1199bdedf5",
   "metadata": {},
   "source": [
    "## Nowcasting"
   ]
  },
  {
   "cell_type": "code",
   "execution_count": null,
   "id": "669f39b7-08db-4ead-aca8-c54722f6f69a",
   "metadata": {},
   "outputs": [],
   "source": [
    "print(f\"{tests[0]['name']} Scenario\")\n",
    "print('===================')\n",
    "\n",
    "with open(os.path.join(MODEL_DIR, 'model_params.json'), 'r') as f:\n",
    "    model_params = json.load(f)\n",
    "\n",
    "predict = pd.read_csv(os.path.join(MODEL_DIR, tests[0]['dir'], ifile_name), index_col=0)\n",
    "std_dev = pd.read_csv(os.path.join(MODEL_DIR, tests[0]['dir'], ufile_name), index_col=0)\n",
    "samples = all_samples.reindex(predict.index)\n",
    "\n",
    "locations['nowcasting'] = gen_gridded_data(predict, samples, std_dev, model_params['targetColumn'])\n",
    "print('\\nResults summary')\n",
    "print('---------------')\n",
    "display_summary(locations['nowcasting'])\n",
    "\n",
    "print('\\nResults for southern Texas')\n",
    "print('--------------------------')\n",
    "display_region(locations['nowcasting'], (-100.0, -98.0), (26.0, 29.5))\n",
    "\n",
    "print('\\nResults for Rocky Mountains')\n",
    "print('---------------------------')\n",
    "display_region(locations['nowcasting'], (-118.0, -113.0), (47.0, 50.0))\n",
    "\n",
    "print('\\nBias summary')\n",
    "print('------------')\n",
    "display_grid_bias(locations['nowcasting'])\n",
    "\n",
    "#ofile = os.path.join(OUTPUT_DIR, ofile_names[0])\n",
    "#gen_locations_tiff(locations['nowcasting'], ofile, BANDS, NODATA)"
   ]
  },
  {
   "cell_type": "markdown",
   "id": "8b3f9aae-93aa-41e9-b340-a24a188a9d1f",
   "metadata": {},
   "source": [
    "## 3-month Projection"
   ]
  },
  {
   "cell_type": "code",
   "execution_count": null,
   "id": "280ea5c2-a9da-4236-a16e-e466de8f66ef",
   "metadata": {},
   "outputs": [],
   "source": [
    "print(f\"{tests[1]['name']} Scenario\")\n",
    "print('===========================')\n",
    "\n",
    "predict = pd.read_csv(os.path.join(MODEL_DIR, tests[1]['dir'], ifile_name), index_col=0)\n",
    "std_dev = pd.read_csv(os.path.join(MODEL_DIR, tests[1]['dir'], ufile_name), index_col=0)\n",
    "samples = all_samples.reindex(predict.index)\n",
    "\n",
    "locations['projection'] = gen_gridded_data(predict, samples, std_dev, model_params['targetColumn'])\n",
    "print('\\nResults summary')\n",
    "print('---------------')\n",
    "display_summary(locations['projection'])\n",
    "\n",
    "print('\\nResults for southern Texas')\n",
    "print('--------------------------')\n",
    "display_region(locations['projection'], (-100.0, -98.0), (26.0, 29.5))\n",
    "\n",
    "print('\\nResults for Rocky Mountains')\n",
    "print('---------------------------')\n",
    "display_region(locations['projection'], (-118.0, -113.0), (47.0, 50.0))\n",
    "\n",
    "print('\\nBias summary')\n",
    "print('------------')\n",
    "display_grid_bias(locations['projection'])\n",
    "\n",
    "#ofile = os.path.join(OUTPUT_DIR, ofile_names[1])\n",
    "#gen_locations_tiff(locations['projection'], ofile, BANDS, NODATA)"
   ]
  },
  {
   "cell_type": "code",
   "execution_count": null,
   "id": "aa6cf764-b7a5-4ad7-bd50-ce733ae97a6f",
   "metadata": {},
   "outputs": [],
   "source": [
    "locations['differences'] = locations['projection'] - locations['nowcasting']"
   ]
  },
  {
   "cell_type": "code",
   "execution_count": null,
   "id": "6617fbad-bc33-443f-b059-56f5a9636015",
   "metadata": {},
   "outputs": [],
   "source": [
    "locations['differences'].describe()"
   ]
  },
  {
   "cell_type": "code",
   "execution_count": null,
   "id": "c48c485e-22ec-4e54-ab7d-c34fd908ec55",
   "metadata": {},
   "outputs": [],
   "source": [
    "locations['projection'][['RMSE', 'R2', 'Bias', 'Uncertainty']].plot.density(subplots=True, sharex=False, sharey=False, layout=(2,2))"
   ]
  },
  {
   "cell_type": "code",
   "execution_count": null,
   "id": "fe4c2423-5774-40b4-95f0-7004591d9a45",
   "metadata": {},
   "outputs": [],
   "source": [
    "locations['nowcasting'][['RMSE', 'R2', 'Bias', 'Uncertainty']].plot.density(subplots=True, sharex=False, sharey=False, layout=(2,2))"
   ]
  },
  {
   "cell_type": "code",
   "execution_count": null,
   "id": "258650e6-767c-431a-b136-29365a8b5924",
   "metadata": {},
   "outputs": [],
   "source": [
    "locations['differences'][['RMSE', 'R2', 'Bias', 'Uncertainty']].plot.density(subplots=True, sharex=False, sharey=False, layout=(2,2))"
   ]
  },
  {
   "cell_type": "code",
   "execution_count": null,
   "id": "8a1be198-7ccf-48fe-a255-063dd557ba0e",
   "metadata": {},
   "outputs": [],
   "source": [
    "locations['differences'].RMSE[locations['differences'].RMSE.between(-5, 5)].size / locations['differences'].RMSE.size"
   ]
  },
  {
   "cell_type": "code",
   "execution_count": null,
   "id": "185fa433-e559-48a5-954f-7b07d797c226",
   "metadata": {},
   "outputs": [],
   "source": [
    "locations['differences'].RMSE[locations['differences'].RMSE.between(0, 5)].size / locations['differences'].RMSE.size"
   ]
  },
  {
   "cell_type": "code",
   "execution_count": null,
   "id": "fcfcd580-0d7d-4d23-a3f2-325fb514cc9e",
   "metadata": {},
   "outputs": [],
   "source": [
    "locations['differences'].RMSE[locations['differences'].RMSE < 5].size / locations['differences'].RMSE.size"
   ]
  },
  {
   "cell_type": "code",
   "execution_count": null,
   "id": "38209c91-f760-4c1b-8ae2-13f1a2a92281",
   "metadata": {},
   "outputs": [],
   "source": [
    "locations['differences'].RMSE[locations['differences'].RMSE < 0].size / locations['differences'].RMSE.size"
   ]
  },
  {
   "cell_type": "code",
   "execution_count": null,
   "id": "fd30abba-2c6c-4464-b383-6cb0e13161d9",
   "metadata": {},
   "outputs": [],
   "source": [
    "locations['projection'].RMSE[locations['projection'].RMSE < 30].size / locations['projection'].RMSE.size"
   ]
  },
  {
   "cell_type": "code",
   "execution_count": null,
   "id": "ef4cbe63-3d35-4d57-a627-46af0ba80ee5",
   "metadata": {},
   "outputs": [],
   "source": [
    "locations['differences'].R2[locations['differences'].R2.between(-0.1, 0.1)].size / locations['differences'].R2.size"
   ]
  },
  {
   "cell_type": "code",
   "execution_count": null,
   "id": "0a82e49d-02c2-4fce-8ccc-c725550c43e1",
   "metadata": {},
   "outputs": [],
   "source": [
    "locations['differences'].R2[locations['differences'].R2.between(-0.1, 0)].size / locations['differences'].R2.size"
   ]
  },
  {
   "cell_type": "code",
   "execution_count": null,
   "id": "08e4b292-c785-4e7e-b189-d9bdfeb78f09",
   "metadata": {},
   "outputs": [],
   "source": [
    "locations['differences'].R2[locations['differences'].R2 > 0].size / locations['differences'].R2.size"
   ]
  },
  {
   "cell_type": "code",
   "execution_count": null,
   "id": "07618f98-844e-4a7c-b1d5-3aa073831ec0",
   "metadata": {},
   "outputs": [],
   "source": [
    "locations['differences'].R2[locations['differences'].R2 < -0.1].size / locations['differences'].R2.size"
   ]
  },
  {
   "cell_type": "code",
   "execution_count": null,
   "id": "456bbae6-18ea-4950-b623-25814464cbb2",
   "metadata": {},
   "outputs": [],
   "source": [
    "locations['projection'].R2[locations['projection'].R2 <= 0].size / locations['projection'].R2.size"
   ]
  },
  {
   "cell_type": "code",
   "execution_count": null,
   "id": "ad86fa23-0b47-42a8-a616-886d9e1fe3d2",
   "metadata": {},
   "outputs": [],
   "source": [
    "locations['nowcasting'].R2[locations['nowcasting'].R2 <= 0].size / locations['nowcasting'].R2.size"
   ]
  },
  {
   "cell_type": "code",
   "execution_count": null,
   "id": "2ef97cbc-6d78-47a9-a419-00223c1c7976",
   "metadata": {},
   "outputs": [],
   "source": [
    "locations['projection'].Bias.quantile([.10, .20, .30, .40, .50, .60, .70, .80, .90])"
   ]
  },
  {
   "cell_type": "code",
   "execution_count": null,
   "id": "b9beb06c-8883-4422-8a32-9d1fc46eca55",
   "metadata": {},
   "outputs": [],
   "source": [
    "locations['nowcasting'].Bias.quantile([.40, .41, .42, .43, .44, .45, .46, .47, .48, .49, .5])"
   ]
  },
  {
   "cell_type": "code",
   "execution_count": null,
   "id": "ebcccfcd-5b1a-4e0d-b931-8d5226d29188",
   "metadata": {},
   "outputs": [],
   "source": [
    "locations['projection'].Bias.quantile([.40, .41, .42, .43, .44, .45, .46, .47, .48, .49, .5])"
   ]
  },
  {
   "cell_type": "code",
   "execution_count": null,
   "id": "9a33adcc-0e98-4878-b494-66b541688342",
   "metadata": {},
   "outputs": [],
   "source": [
    "locations['projection'].R2.quantile([.10, .20, .30, .40, .50, .60, .70, .80, .90])"
   ]
  },
  {
   "cell_type": "code",
   "execution_count": null,
   "id": "dccd2024-1eb2-4cb0-bba8-688f6c1c5cd1",
   "metadata": {},
   "outputs": [],
   "source": [
    "locations['projection'].R2.quantile([.23, .33, .50, .67, .75, .76])"
   ]
  },
  {
   "cell_type": "code",
   "execution_count": null,
   "id": "0e49a0a7-35d9-412e-a05e-aa10819bdfa7",
   "metadata": {},
   "outputs": [],
   "source": [
    "locations['projection'].RMSE.quantile([.10, .20, .30, .40, .50, .60, .70, .80, .90])"
   ]
  },
  {
   "cell_type": "code",
   "execution_count": null,
   "id": "da66ecb1-19b0-4feb-be75-cf6102a57816",
   "metadata": {},
   "outputs": [],
   "source": [
    "locations['projection'].RMSE.quantile([.0, .25, .50, .75, 1])"
   ]
  },
  {
   "cell_type": "code",
   "execution_count": null,
   "id": "43df9238-c887-42da-a5d4-e762bcbc8ac7",
   "metadata": {},
   "outputs": [],
   "source": [
    "locations['differences'][(locations['differences'].R2 >= 0) & (locations['differences'].RMSE > 0)]"
   ]
  },
  {
   "cell_type": "code",
   "execution_count": null,
   "id": "ab457b59-2c54-43f7-a73a-0987be759d78",
   "metadata": {},
   "outputs": [],
   "source": [
    "locations['differences'][(locations['differences'].R2 < 0) & (locations['differences'].RMSE < 0)]"
   ]
  },
  {
   "cell_type": "code",
   "execution_count": null,
   "id": "81923b64-60d8-43bd-ac44-e28da0ce1c65",
   "metadata": {},
   "outputs": [],
   "source": [
    "locations['differences'][locations['differences'].RMSE < 0]"
   ]
  },
  {
   "cell_type": "code",
   "execution_count": null,
   "id": "02ca477d-6010-4da4-8c41-3c818786ddb5",
   "metadata": {},
   "outputs": [],
   "source": [
    "locations['projection'][['R2', 'Bias']].plot.scatter('R2', 'Bias')"
   ]
  },
  {
   "cell_type": "code",
   "execution_count": null,
   "id": "c8d0b227-77a2-49da-a570-b612cf295b23",
   "metadata": {},
   "outputs": [],
   "source": [
    "locations['projection'][locations['projection'].Bias < 0].reset_index().describe()"
   ]
  },
  {
   "cell_type": "code",
   "execution_count": null,
   "id": "1d27f102-a1c7-4a94-82ab-6711c2ef99d6",
   "metadata": {},
   "outputs": [],
   "source": [
    "locations['projection'][locations['projection'].Bias > 0].reset_index().describe()"
   ]
  },
  {
   "cell_type": "code",
   "execution_count": null,
   "id": "21c79804-ee7e-4cea-bd1a-75466174f25b",
   "metadata": {},
   "outputs": [],
   "source": [
    "locations['projection'].reset_index()[['Latitude', 'Longitude']].plot.density(subplots=True, sharex=False)"
   ]
  },
  {
   "cell_type": "code",
   "execution_count": null,
   "id": "9eab28c6-7f09-412a-8200-1fa95e9e27c6",
   "metadata": {},
   "outputs": [],
   "source": [
    "locations['projection'][locations['projection'].Bias < 0].reset_index()[['Latitude', 'Longitude']].plot.density(subplots=True, sharex=False)"
   ]
  },
  {
   "cell_type": "code",
   "execution_count": null,
   "id": "58b98211-741c-4edb-a44b-573ca50d4af2",
   "metadata": {},
   "outputs": [],
   "source": [
    "locations['projection'][locations['projection'].Bias > 0].reset_index()[['Latitude', 'Longitude']].plot.density(subplots=True, sharex=False)"
   ]
  },
  {
   "cell_type": "code",
   "execution_count": null,
   "id": "6b938faf-b4e5-4829-9c8c-94ce39c4117a",
   "metadata": {},
   "outputs": [],
   "source": [
    "import matplotlib.pyplot as plt"
   ]
  },
  {
   "cell_type": "code",
   "execution_count": null,
   "id": "f0326829-5afd-4f57-9784-298c4d1d4ea8",
   "metadata": {},
   "outputs": [],
   "source": [
    "fig, ((ax1, ax2), (ax3, ax4), (ax5, ax6)) = plt.subplots(\n",
    "    3, 2, figsize=(6, 6), sharex='col', #sharey='row', #\n",
    "    constrained_layout=True, dpi=100, linewidth=2, edgecolor=\"black\")\n",
    "locations['projection'].reset_index()['Latitude'].plot.density(ax=ax1)\n",
    "locations['projection'][locations['projection'].Bias < 0].reset_index()['Latitude'].plot.density(ax=ax3)\n",
    "locations['projection'][locations['projection'].Bias > 0].reset_index()['Latitude'].plot.density(ax=ax5)\n",
    "locations['projection'].reset_index()['Longitude'].plot.density(ax=ax2)\n",
    "locations['projection'][locations['projection'].Bias < 0].reset_index()['Longitude'].plot.density(ax=ax4)\n",
    "locations['projection'][locations['projection'].Bias > 0].reset_index()['Longitude'].plot.density(ax=ax6)"
   ]
  },
  {
   "cell_type": "code",
   "execution_count": null,
   "id": "eb139c14-b0de-44a2-9e02-e0587ead2c43",
   "metadata": {},
   "outputs": [],
   "source": [
    "fig, ((ax1, ax2), (ax3, ax4), (ax5, ax6)) = plt.subplots(\n",
    "    3, 2, figsize=(6, 6), sharex='col', #sharey='row', #\n",
    "    constrained_layout=True, dpi=100, linewidth=2, edgecolor=\"black\")\n",
    "locations['differences'].reset_index()['Latitude'].plot.density(ax=ax1)\n",
    "locations['differences'][locations['differences'].Bias < 0].reset_index()['Latitude'].plot.density(ax=ax3)\n",
    "locations['differences'][locations['differences'].Bias > 0].reset_index()['Latitude'].plot.density(ax=ax5)\n",
    "locations['differences'].reset_index()['Longitude'].plot.density(ax=ax2)\n",
    "locations['differences'][locations['differences'].Bias < 0].reset_index()['Longitude'].plot.density(ax=ax4)\n",
    "locations['differences'][locations['differences'].Bias > 0].reset_index()['Longitude'].plot.density(ax=ax6)"
   ]
  },
  {
   "cell_type": "code",
   "execution_count": null,
   "id": "2f1d1a47-57c2-4cae-9d8d-3cc0b8c0703a",
   "metadata": {
    "scrolled": true,
    "tags": []
   },
   "outputs": [],
   "source": [
    "locations['projection']"
   ]
  },
  {
   "cell_type": "code",
   "execution_count": null,
   "id": "9d6b668a-055f-4d1d-8642-4f42e0e74f36",
   "metadata": {},
   "outputs": [],
   "source": [
    "predict2 = predict.merge(samples[['Latitude', 'Longitude', 'LFMC value']], left_index=True, right_index=True)\n",
    "predict2['Latitude'] = np.ceil((predict2.Latitude * 2))/2\n",
    "predict2['Longitude'] = np.floor((predict2.Longitude * 2))/2\n",
    "predict2"
   ]
  },
  {
   "cell_type": "code",
   "execution_count": null,
   "id": "191449cd-485f-471d-b223-9b6263d74aa7",
   "metadata": {
    "scrolled": true,
    "tags": []
   },
   "outputs": [],
   "source": [
    "samples2 = samples.copy()\n",
    "samples2['Latitude'] = np.ceil((samples2.Latitude * 2))/2\n",
    "samples2['Longitude'] = np.floor((samples2.Longitude * 2))/2\n",
    "samples2"
   ]
  },
  {
   "cell_type": "code",
   "execution_count": null,
   "id": "9ce259f2-cefe-4552-81a2-c33df660b4dc",
   "metadata": {},
   "outputs": [],
   "source": [
    "samples2['LFMC value'].plot.density()"
   ]
  },
  {
   "cell_type": "code",
   "execution_count": null,
   "id": "51bf7519-7f04-465c-bd71-b8a7eb58f6f8",
   "metadata": {},
   "outputs": [],
   "source": [
    "_ = predict2.drop(columns=['Latitude', 'Longitude']).plot.density(subplots=True, layout=(7,8), figsize=(12, 10), sharex=True, sharey=True, legend=False)"
   ]
  },
  {
   "cell_type": "code",
   "execution_count": null,
   "id": "01dea609-68c9-4093-b122-5eaf705c3c2c",
   "metadata": {},
   "outputs": [],
   "source": [
    "_ = predict2[['5', '23', '46', '17', 'LFMC value', '39', '2', '28', '34']].plot.density(subplots=True, layout=(3, 3), figsize=(9, 9),\n",
    "                                                                                        sharex=True, sharey=True, legend=False, xlim=(0,450))"
   ]
  },
  {
   "cell_type": "code",
   "execution_count": null,
   "id": "61fde99b-2614-4054-b0e8-1a45d5be6949",
   "metadata": {},
   "outputs": [],
   "source": [
    "predict.kurtosis().mean()"
   ]
  },
  {
   "cell_type": "code",
   "execution_count": null,
   "id": "c27c4615-7242-4a43-88cc-257b0f3b94b9",
   "metadata": {},
   "outputs": [],
   "source": [
    "samples['LFMC value'].kurtosis()"
   ]
  },
  {
   "cell_type": "code",
   "execution_count": null,
   "id": "24c7ff36-5762-4410-8d3f-bfeb8c544569",
   "metadata": {},
   "outputs": [],
   "source": [
    "g2 = (((samples['LFMC value'] - samples['LFMC value'].mean())/samples['LFMC value'].std(ddof=0)) ** 4).mean() - 3\n",
    "n = len(samples['LFMC value'])\n",
    "G2 = (n-1) / ((n-2)*(n-3)) * ((n+1) * g2 + 6)\n",
    "G2"
   ]
  },
  {
   "cell_type": "code",
   "execution_count": null,
   "id": "e6b32458-0830-4521-bee2-201847b647bb",
   "metadata": {},
   "outputs": [],
   "source": [
    "len(samples['LFMC value'])"
   ]
  },
  {
   "cell_type": "code",
   "execution_count": null,
   "id": "7b913cdb-f00d-4f80-bfd1-ef5bd32abd81",
   "metadata": {},
   "outputs": [],
   "source": [
    "predict_now = pd.read_csv(os.path.join(MODEL_DIR, tests[0]['dir'], ifile_name), index_col=0)\n",
    "predict_now.kurtosis().mean()"
   ]
  },
  {
   "cell_type": "code",
   "execution_count": null,
   "id": "2bfb9da2-9ce4-4440-9938-b556a5d631f4",
   "metadata": {},
   "outputs": [],
   "source": [
    "ax = pd.concat([locations['projection']['R2'], locations['nowcasting']['R2']], axis=1, keys=['Projection', 'Nowcasting']).plot.density()\n",
    "ax.set_xlim([0, 1])"
   ]
  },
  {
   "cell_type": "code",
   "execution_count": null,
   "id": "54418b07-6395-41be-af01-558fc1cec71c",
   "metadata": {},
   "outputs": [],
   "source": [
    "ax = pd.concat([locations['projection']['RMSE'], locations['nowcasting']['RMSE']], axis=1, keys=['Projection', 'Nowcasting']).plot.density()\n",
    "ax.set_xlim([0, 100])"
   ]
  },
  {
   "cell_type": "code",
   "execution_count": null,
   "id": "5ced08c9-6c26-4902-b55f-a03f24087e0a",
   "metadata": {},
   "outputs": [],
   "source": [
    "ax = pd.concat([locations['projection']['Bias'], locations['nowcasting']['Bias']], axis=1, keys=['Projection', 'Nowcasting']).plot.density()\n",
    "ax.set_xlim([-50, 50])"
   ]
  },
  {
   "cell_type": "code",
   "execution_count": null,
   "id": "6c2682b6-a95a-496c-b5ed-071b1780398b",
   "metadata": {},
   "outputs": [],
   "source": [
    "pd.concat([locations['projection']['R2'], locations['nowcasting']['R2'], locations['differences']['R2']],\n",
    "          axis=1,\n",
    "          keys=['Projection', 'Nowcasting', 'Differences']\n",
    "         ).quantile([0, .10, .20, .30, .40, .50, .60, .70, .80, .90, 1])"
   ]
  },
  {
   "cell_type": "code",
   "execution_count": null,
   "id": "48de70b9-5cda-4c04-9488-ad1d13cdfbbc",
   "metadata": {},
   "outputs": [],
   "source": [
    "pd.concat([locations['projection']['R2'], locations['nowcasting']['R2'], locations['differences']['R2']],\n",
    "          axis=1,\n",
    "          keys=['Projection', 'Nowcasting', 'Differences']\n",
    "         ).quantile([0, .25, .50, .75, 1])"
   ]
  },
  {
   "cell_type": "code",
   "execution_count": null,
   "id": "bb4ffe1d-8fbe-4a20-a601-f207834bf6bd",
   "metadata": {},
   "outputs": [],
   "source": [
    "locations['projection'].plot.scatter('R2', 'Count')"
   ]
  },
  {
   "cell_type": "code",
   "execution_count": null,
   "id": "81503485-a68d-417f-b5ad-3e6bea567ade",
   "metadata": {},
   "outputs": [],
   "source": [
    "locations['nowcasting'].plot.scatter('R2', 'Count')"
   ]
  },
  {
   "cell_type": "code",
   "execution_count": null,
   "id": "e545919c-d83e-4cea-a0bb-d3a526e1dbd7",
   "metadata": {},
   "outputs": [],
   "source": [
    "locations['projection'][locations['projection'].Count >= 300]"
   ]
  },
  {
   "cell_type": "code",
   "execution_count": null,
   "id": "2479a932-76b8-44e8-a371-bf57b1ed7880",
   "metadata": {},
   "outputs": [],
   "source": [
    "locations['projection'][locations['projection'].R2 < 0].describe()"
   ]
  },
  {
   "cell_type": "code",
   "execution_count": null,
   "id": "afe37b21-17e0-4246-9eb4-671a2fde7105",
   "metadata": {},
   "outputs": [],
   "source": [
    "locations['projection'][locations['projection'].R2 > 0].describe()"
   ]
  },
  {
   "cell_type": "code",
   "execution_count": null,
   "id": "8621e6e5-4972-4ac7-bf11-ec39676db63a",
   "metadata": {},
   "outputs": [],
   "source": [
    "locations.keys()"
   ]
  },
  {
   "cell_type": "code",
   "execution_count": null,
   "id": "f3045eb1-0eaa-4ee1-8ccc-101fe05dad19",
   "metadata": {},
   "outputs": [],
   "source": [
    "samples_temp = samples[['Longitude', 'Latitude', 'LFMC value']].copy()\n",
    "samples_temp['Latitude'] = np.ceil((samples_temp.Latitude * 2))/2\n",
    "samples_temp['Longitude'] = np.floor((samples_temp.Longitude * 2))/2\n",
    "locations['LFMC_stats'] = samples_temp.groupby(['Longitude', 'Latitude']).describe().droplevel(0, axis=1)"
   ]
  },
  {
   "cell_type": "code",
   "execution_count": null,
   "id": "a438cbc6-05f8-456e-9c7a-908ea393845a",
   "metadata": {},
   "outputs": [],
   "source": [
    "locations['projection'][locations['projection'].R2 < 0].merge(locations['LFMC_stats']['std'], left_index=True, right_index=True).describe()"
   ]
  },
  {
   "cell_type": "code",
   "execution_count": null,
   "id": "641a96f2-0971-473c-b30f-c976b9467793",
   "metadata": {},
   "outputs": [],
   "source": [
    "locations['LFMC_stats']['std'].describe()"
   ]
  },
  {
   "cell_type": "code",
   "execution_count": null,
   "id": "34d5db2f-a236-4add-9542-89e2e9c74435",
   "metadata": {},
   "outputs": [],
   "source": [
    "locations['LFMC_stats'][locations['LFMC_stats']['count'] == 300]"
   ]
  },
  {
   "cell_type": "code",
   "execution_count": null,
   "id": "a200e972-47c9-4364-8ff6-e87b360ec61f",
   "metadata": {},
   "outputs": [],
   "source": []
  }
 ],
 "metadata": {
  "kernelspec": {
   "display_name": "LFMC",
   "language": "python",
   "name": "lfmc"
  },
  "language_info": {
   "codemirror_mode": {
    "name": "ipython",
    "version": 3
   },
   "file_extension": ".py",
   "mimetype": "text/x-python",
   "name": "python",
   "nbconvert_exporter": "python",
   "pygments_lexer": "ipython3",
   "version": "3.8.13"
  }
 },
 "nbformat": 4,
 "nbformat_minor": 5
}
