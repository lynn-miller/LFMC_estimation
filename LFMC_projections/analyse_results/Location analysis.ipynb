{
 "cells": [
  {
   "cell_type": "markdown",
   "id": "21995d74-e47b-4bfa-a711-4e6b39267dc4",
   "metadata": {},
   "source": [
    "# Generate Statistics and TIFFs for Site Location Analysis"
   ]
  },
  {
   "cell_type": "code",
   "execution_count": 1,
   "id": "helpful-shopper",
   "metadata": {},
   "outputs": [],
   "source": [
    "import os\n",
    "import json\n",
    "import numpy as np\n",
    "import pandas as pd\n",
    "\n",
    "import initialise\n",
    "import common\n",
    "from analysis_utils import calc_statistics"
   ]
  },
  {
   "cell_type": "code",
   "execution_count": 2,
   "id": "f9985862-fc67-4e86-beb4-581b45ffeaf1",
   "metadata": {},
   "outputs": [],
   "source": [
    "if common.GDAL_DATA is not None:\n",
    "    os.environ['GDAL_DATA'] = common.GDAL_DATA\n",
    "from osgeo import gdal\n",
    "from osgeo import osr"
   ]
  },
  {
   "cell_type": "code",
   "execution_count": 3,
   "id": "90db2a45-341c-42a6-b2b3-e8351a1600a4",
   "metadata": {},
   "outputs": [],
   "source": [
    "MODEL_DIR = os.path.join(common.MODELS_DIR, 'evaluation_models')\n",
    "OUTPUT_DIR = os.path.join(common.MAPS_DIR, 'Gridded_sites')\n",
    "NODATA = common.GDAL_NODATA_VALUE\n",
    "BANDS = ['RMSE', 'Bias', 'R2', 'Uncertainty']"
   ]
  },
  {
   "cell_type": "code",
   "execution_count": 4,
   "id": "a7d756e3-91ba-4d50-a740-256a6ea29552",
   "metadata": {},
   "outputs": [],
   "source": [
    "all_samples = pd.read_csv(os.path.join(common.DATASETS_DIR, 'samples_730days.csv'), index_col=0)\n",
    "tests = [{'name': 'Nowcasting', 'dir': 'test0'}, {'name': '3-month Projection', 'dir': 'test3'},]\n",
    "ifile_name = f'ensemble{common.ENSEMBLE_SIZE}_{common.ANALYSIS_MODEL}.csv'\n",
    "ufile_name = f'ensemble{common.ENSEMBLE_SIZE}_stds.csv'\n",
    "ofile_names = [f'projection_nowcast_sites.tif', f'projection_3months_sites.tif',]\n",
    "locations = {}"
   ]
  },
  {
   "cell_type": "markdown",
   "id": "8897aec4-375a-4c3a-b8b8-580a1b023183",
   "metadata": {},
   "source": [
    "### Calculate the statistics for each grid cell"
   ]
  },
  {
   "cell_type": "code",
   "execution_count": 5,
   "id": "7992a25a-5722-4331-af65-b1bc74380b04",
   "metadata": {},
   "outputs": [],
   "source": [
    "def gen_gridded_data(predictions, samples, std_devs, y):\n",
    "    predict = predictions.merge(samples[['Latitude', 'Longitude', y]], left_index=True, right_index=True)\n",
    "    predict['Latitude'] = np.ceil((predict.Latitude * 2))/2\n",
    "    predict['Longitude'] = np.floor((predict.Longitude * 2))/2\n",
    "    predict['Uncertainty'] = std_devs.mean(axis=1)\n",
    "\n",
    "    counts = predict.groupby(['Latitude', 'Longitude']).size()\n",
    "    uncertainty = predict.groupby(['Latitude', 'Longitude'])['Uncertainty'].mean()\n",
    "    locations = []\n",
    "    locs = predict.set_index(['Latitude', 'Longitude']).loc[counts[counts >= 10].index].groupby(['Latitude', 'Longitude'])\n",
    "    ybar = samples[y].mean()\n",
    "    for col in predict.columns[:-4]:\n",
    "        l = locs.apply(lambda x: calc_statistics(x[y], x[col], ybar=ybar))\n",
    "        locations.append(pd.DataFrame(list(l.values), index=l.index))\n",
    "    locations = pd.concat(locations).groupby(level=[0,1]).mean()\n",
    "    locations['Uncertainty'] = uncertainty\n",
    "    locations['NumSamples'] = counts\n",
    "    return locations"
   ]
  },
  {
   "cell_type": "markdown",
   "id": "2495000e-6747-497a-9afc-0bb13d7ca44f",
   "metadata": {},
   "source": [
    "### Summary statistics"
   ]
  },
  {
   "cell_type": "code",
   "execution_count": 6,
   "id": "virtual-favor",
   "metadata": {},
   "outputs": [],
   "source": [
    "def display_summary(locations):\n",
    "    print('Proportion of grid cells with RMSE < 20:', np.round(locations.RMSE.lt(20).sum() / locations.shape[0], 2), '\\n')\n",
    "    display(pd.DataFrame([locations.min(), locations.median(), locations.mean(), locations.max(), locations.std()],\n",
    "                         index=['min', 'median', 'mean', 'max', 'std dev']).round(2))"
   ]
  },
  {
   "cell_type": "markdown",
   "id": "56791044-67a1-4283-bbdb-a6c0bf3edd1d",
   "metadata": {},
   "source": [
    "### Region summary"
   ]
  },
  {
   "cell_type": "code",
   "execution_count": 7,
   "id": "ac858cfc-c971-4253-b636-9f9b732f9622",
   "metadata": {},
   "outputs": [],
   "source": [
    "def display_region(locations, long_range, lat_range):\n",
    "    temp_df = locations.reset_index()\n",
    "    temp_df = temp_df[temp_df.Latitude.between(lat_range[0], lat_range[1]) & temp_df.Longitude.between(long_range[0], long_range[1])]\n",
    "    print('RMSE weighted average:', np.round(np.sqrt((temp_df.RMSE ** 2 * temp_df.NumSamples).sum() / temp_df.NumSamples.sum()), 2))\n",
    "    print('Bias weighted average:', np.round((temp_df.Bias * temp_df.NumSamples).sum() / temp_df.NumSamples.sum(), 2))"
   ]
  },
  {
   "cell_type": "markdown",
   "id": "be35dd6d-74bb-4ee3-b88c-ba5460a62205",
   "metadata": {},
   "source": [
    "### Grid cell LFMC estimation bias"
   ]
  },
  {
   "cell_type": "code",
   "execution_count": 8,
   "id": "9f2516ba-d688-4dfd-a22f-72c97e8317ae",
   "metadata": {},
   "outputs": [],
   "source": [
    "def display_grid_bias(locations):\n",
    "    print('Proportion of grid cells with under-estimated LFMC:', np.round(locations.Bias.lt(0).sum() / locations.shape[0], 2))\n",
    "    print('Proportion of grid cells with abs(bias) < 5:', np.round(locations.Bias.between(-5, 5).sum() / locations.shape[0], 2))\n",
    "    print('Proportion of grid cells with abs(bias) < 10:', np.round(locations.Bias.between(-10, 10).sum() / locations.shape[0], 2))\n",
    "    print('Proportion of grid cells with abs(bias) > 20:', np.round(locations.Bias.abs().gt(20).sum() / locations.shape[0], 2))"
   ]
  },
  {
   "cell_type": "markdown",
   "id": "abee03f3-70e1-4024-ad21-8f6377df533d",
   "metadata": {},
   "source": [
    "### Generate sites tiff"
   ]
  },
  {
   "cell_type": "code",
   "execution_count": 9,
   "id": "2221bd83-ffe8-4360-9227-34a1acb531b2",
   "metadata": {},
   "outputs": [],
   "source": [
    "def gen_locations_tiff(locations, output_file, bands, nodata_value, longitude='Longitude', latitude='Latitude'):\n",
    "    x_coords = (int(np.floor(locations.index.get_level_values(longitude).min())), int(np.ceil(locations.index.get_level_values(longitude).max())))\n",
    "    y_coords = (int(np.floor(locations.index.get_level_values(latitude).min())), int(np.ceil(locations.index.get_level_values(latitude).max())))\n",
    "    x_size = (x_coords[1] - x_coords[0]) * 2 + 1\n",
    "    y_size = (y_coords[1] - y_coords[0]) * 2 + 1\n",
    "    multi_index = pd.MultiIndex.from_product([np.linspace(y_coords[0], y_coords[1], y_size), np.linspace(x_coords[0], x_coords[1], x_size)])\n",
    "\n",
    "    pixel_size = 0.5\n",
    "    transform = [x_coords[0], pixel_size, 0.0, y_coords[1], 0.0, -pixel_size]\n",
    "\n",
    "    srs = osr.SpatialReference()\n",
    "    srs.ImportFromEPSG(4326)\n",
    "\n",
    "    driver = gdal.GetDriverByName('GTiff')\n",
    "    out_map_raster = driver.Create(output_file, x_size, y_size, len(bands), gdal.GDT_Float32)\n",
    "    out_map_raster.SetGeoTransform(transform)\n",
    "    out_map_raster.SetProjection(srs.ExportToWkt())\n",
    "\n",
    "    for num, band in enumerate(bands, 1):\n",
    "        band_data = locations[band].reindex(multi_index).unstack()[::-1]\n",
    "        out_map_band = out_map_raster.GetRasterBand(num)\n",
    "        out_map_band.SetNoDataValue(nodata_value)\n",
    "        out_map_band.SetDescription(band)\n",
    "        out_map_band.WriteArray(band_data.values)\n",
    "        out_map_band.FlushCache()\n",
    "\n",
    "    del out_map_raster"
   ]
  },
  {
   "cell_type": "markdown",
   "id": "c215fc7f-9884-41a5-98b9-ee1199bdedf5",
   "metadata": {},
   "source": [
    "## Nowcasting"
   ]
  },
  {
   "cell_type": "code",
   "execution_count": 10,
   "id": "669f39b7-08db-4ead-aca8-c54722f6f69a",
   "metadata": {},
   "outputs": [
    {
     "name": "stdout",
     "output_type": "stream",
     "text": [
      "Nowcasting Scenario\n",
      "===================\n",
      "\n",
      "Results summary\n",
      "---------------\n",
      "Proportion of grid cells with RMSE < 20: 0.35 \n",
      "\n"
     ]
    },
    {
     "data": {
      "text/html": [
       "<div>\n",
       "<style scoped>\n",
       "    .dataframe tbody tr th:only-of-type {\n",
       "        vertical-align: middle;\n",
       "    }\n",
       "\n",
       "    .dataframe tbody tr th {\n",
       "        vertical-align: top;\n",
       "    }\n",
       "\n",
       "    .dataframe thead th {\n",
       "        text-align: right;\n",
       "    }\n",
       "</style>\n",
       "<table border=\"1\" class=\"dataframe\">\n",
       "  <thead>\n",
       "    <tr style=\"text-align: right;\">\n",
       "      <th></th>\n",
       "      <th>Count</th>\n",
       "      <th>RMSE</th>\n",
       "      <th>R2</th>\n",
       "      <th>Bias</th>\n",
       "      <th>Uncertainty</th>\n",
       "      <th>NumSamples</th>\n",
       "    </tr>\n",
       "  </thead>\n",
       "  <tbody>\n",
       "    <tr>\n",
       "      <th>min</th>\n",
       "      <td>10.00</td>\n",
       "      <td>4.60</td>\n",
       "      <td>-4.93</td>\n",
       "      <td>-76.52</td>\n",
       "      <td>6.13</td>\n",
       "      <td>10.00</td>\n",
       "    </tr>\n",
       "    <tr>\n",
       "      <th>median</th>\n",
       "      <td>39.00</td>\n",
       "      <td>23.72</td>\n",
       "      <td>0.39</td>\n",
       "      <td>0.78</td>\n",
       "      <td>9.00</td>\n",
       "      <td>39.00</td>\n",
       "    </tr>\n",
       "    <tr>\n",
       "      <th>mean</th>\n",
       "      <td>51.42</td>\n",
       "      <td>25.54</td>\n",
       "      <td>0.21</td>\n",
       "      <td>0.23</td>\n",
       "      <td>9.11</td>\n",
       "      <td>51.42</td>\n",
       "    </tr>\n",
       "    <tr>\n",
       "      <th>max</th>\n",
       "      <td>528.00</td>\n",
       "      <td>102.54</td>\n",
       "      <td>0.99</td>\n",
       "      <td>37.49</td>\n",
       "      <td>14.90</td>\n",
       "      <td>528.00</td>\n",
       "    </tr>\n",
       "    <tr>\n",
       "      <th>std dev</th>\n",
       "      <td>48.63</td>\n",
       "      <td>12.03</td>\n",
       "      <td>0.75</td>\n",
       "      <td>15.52</td>\n",
       "      <td>1.56</td>\n",
       "      <td>48.63</td>\n",
       "    </tr>\n",
       "  </tbody>\n",
       "</table>\n",
       "</div>"
      ],
      "text/plain": [
       "          Count    RMSE    R2   Bias  Uncertainty  NumSamples\n",
       "min       10.00    4.60 -4.93 -76.52         6.13       10.00\n",
       "median    39.00   23.72  0.39   0.78         9.00       39.00\n",
       "mean      51.42   25.54  0.21   0.23         9.11       51.42\n",
       "max      528.00  102.54  0.99  37.49        14.90      528.00\n",
       "std dev   48.63   12.03  0.75  15.52         1.56       48.63"
      ]
     },
     "metadata": {},
     "output_type": "display_data"
    },
    {
     "name": "stdout",
     "output_type": "stream",
     "text": [
      "\n",
      "Results for southern Texas\n",
      "--------------------------\n",
      "RMSE weighted average: 71.97\n",
      "Bias weighted average: -45.01\n",
      "\n",
      "Results for Rocky Mountains\n",
      "---------------------------\n",
      "RMSE weighted average: 50.03\n",
      "Bias weighted average: -6.72\n",
      "\n",
      "Bias summary\n",
      "------------\n",
      "Proportion of grid cells with under-estimated LFMC: 0.48\n",
      "Proportion of grid cells with abs(bias) < 5: 0.26\n",
      "Proportion of grid cells with abs(bias) < 10: 0.53\n",
      "Proportion of grid cells with abs(bias) > 20: 0.19\n"
     ]
    }
   ],
   "source": [
    "print(f\"{tests[0]['name']} Scenario\")\n",
    "print('===================')\n",
    "\n",
    "with open(os.path.join(MODEL_DIR, 'model_params.json'), 'r') as f:\n",
    "    model_params = json.load(f)\n",
    "\n",
    "predict = pd.read_csv(os.path.join(MODEL_DIR, tests[0]['dir'], ifile_name), index_col=0)\n",
    "std_dev = pd.read_csv(os.path.join(MODEL_DIR, tests[0]['dir'], ufile_name), index_col=0)\n",
    "samples = all_samples.reindex(predict.index)\n",
    "\n",
    "locations['nowcasting'] = gen_gridded_data(predict, samples, std_dev, model_params['targetColumn'])\n",
    "print('\\nResults summary')\n",
    "print('---------------')\n",
    "display_summary(locations['nowcasting'])\n",
    "\n",
    "print('\\nResults for southern Texas')\n",
    "print('--------------------------')\n",
    "display_region(locations['nowcasting'], (-100.0, -98.0), (26.0, 29.5))\n",
    "\n",
    "print('\\nResults for Rocky Mountains')\n",
    "print('---------------------------')\n",
    "display_region(locations['nowcasting'], (-118.0, -113.0), (47.0, 50.0))\n",
    "\n",
    "print('\\nBias summary')\n",
    "print('------------')\n",
    "display_grid_bias(locations['nowcasting'])\n",
    "\n",
    "#ofile = os.path.join(OUTPUT_DIR, ofile_names[0])\n",
    "#gen_locations_tiff(locations['nowcasting'], ofile, BANDS, NODATA)"
   ]
  },
  {
   "cell_type": "markdown",
   "id": "8b3f9aae-93aa-41e9-b340-a24a188a9d1f",
   "metadata": {},
   "source": [
    "## 3-month Projection"
   ]
  },
  {
   "cell_type": "code",
   "execution_count": 11,
   "id": "280ea5c2-a9da-4236-a16e-e466de8f66ef",
   "metadata": {},
   "outputs": [
    {
     "name": "stdout",
     "output_type": "stream",
     "text": [
      "3-month Projection Scenario\n",
      "===========================\n",
      "\n",
      "Results summary\n",
      "---------------\n",
      "Proportion of grid cells with RMSE < 20: 0.33 \n",
      "\n"
     ]
    },
    {
     "data": {
      "text/html": [
       "<div>\n",
       "<style scoped>\n",
       "    .dataframe tbody tr th:only-of-type {\n",
       "        vertical-align: middle;\n",
       "    }\n",
       "\n",
       "    .dataframe tbody tr th {\n",
       "        vertical-align: top;\n",
       "    }\n",
       "\n",
       "    .dataframe thead th {\n",
       "        text-align: right;\n",
       "    }\n",
       "</style>\n",
       "<table border=\"1\" class=\"dataframe\">\n",
       "  <thead>\n",
       "    <tr style=\"text-align: right;\">\n",
       "      <th></th>\n",
       "      <th>Count</th>\n",
       "      <th>RMSE</th>\n",
       "      <th>R2</th>\n",
       "      <th>Bias</th>\n",
       "      <th>Uncertainty</th>\n",
       "      <th>NumSamples</th>\n",
       "    </tr>\n",
       "  </thead>\n",
       "  <tbody>\n",
       "    <tr>\n",
       "      <th>min</th>\n",
       "      <td>10.00</td>\n",
       "      <td>4.32</td>\n",
       "      <td>-4.48</td>\n",
       "      <td>-87.12</td>\n",
       "      <td>6.49</td>\n",
       "      <td>10.00</td>\n",
       "    </tr>\n",
       "    <tr>\n",
       "      <th>median</th>\n",
       "      <td>39.00</td>\n",
       "      <td>23.92</td>\n",
       "      <td>0.36</td>\n",
       "      <td>0.52</td>\n",
       "      <td>9.55</td>\n",
       "      <td>39.00</td>\n",
       "    </tr>\n",
       "    <tr>\n",
       "      <th>mean</th>\n",
       "      <td>51.42</td>\n",
       "      <td>26.18</td>\n",
       "      <td>0.19</td>\n",
       "      <td>0.48</td>\n",
       "      <td>9.54</td>\n",
       "      <td>51.42</td>\n",
       "    </tr>\n",
       "    <tr>\n",
       "      <th>max</th>\n",
       "      <td>528.00</td>\n",
       "      <td>111.68</td>\n",
       "      <td>0.99</td>\n",
       "      <td>39.67</td>\n",
       "      <td>16.79</td>\n",
       "      <td>528.00</td>\n",
       "    </tr>\n",
       "    <tr>\n",
       "      <th>std dev</th>\n",
       "      <td>48.63</td>\n",
       "      <td>12.32</td>\n",
       "      <td>0.72</td>\n",
       "      <td>15.45</td>\n",
       "      <td>1.64</td>\n",
       "      <td>48.63</td>\n",
       "    </tr>\n",
       "  </tbody>\n",
       "</table>\n",
       "</div>"
      ],
      "text/plain": [
       "          Count    RMSE    R2   Bias  Uncertainty  NumSamples\n",
       "min       10.00    4.32 -4.48 -87.12         6.49       10.00\n",
       "median    39.00   23.92  0.36   0.52         9.55       39.00\n",
       "mean      51.42   26.18  0.19   0.48         9.54       51.42\n",
       "max      528.00  111.68  0.99  39.67        16.79      528.00\n",
       "std dev   48.63   12.32  0.72  15.45         1.64       48.63"
      ]
     },
     "metadata": {},
     "output_type": "display_data"
    },
    {
     "name": "stdout",
     "output_type": "stream",
     "text": [
      "\n",
      "Results for southern Texas\n",
      "--------------------------\n",
      "RMSE weighted average: 78.61\n",
      "Bias weighted average: -48.98\n",
      "\n",
      "Results for Rocky Mountains\n",
      "---------------------------\n",
      "RMSE weighted average: 50.57\n",
      "Bias weighted average: -4.84\n",
      "\n",
      "Bias summary\n",
      "------------\n",
      "Proportion of grid cells with under-estimated LFMC: 0.49\n",
      "Proportion of grid cells with abs(bias) < 5: 0.29\n",
      "Proportion of grid cells with abs(bias) < 10: 0.54\n",
      "Proportion of grid cells with abs(bias) > 20: 0.2\n"
     ]
    }
   ],
   "source": [
    "print(f\"{tests[1]['name']} Scenario\")\n",
    "print('===========================')\n",
    "\n",
    "predict = pd.read_csv(os.path.join(MODEL_DIR, tests[1]['dir'], ifile_name), index_col=0)\n",
    "std_dev = pd.read_csv(os.path.join(MODEL_DIR, tests[1]['dir'], ufile_name), index_col=0)\n",
    "samples = all_samples.reindex(predict.index)\n",
    "\n",
    "locations['projection'] = gen_gridded_data(predict, samples, std_dev, model_params['targetColumn'])\n",
    "print('\\nResults summary')\n",
    "print('---------------')\n",
    "display_summary(locations['projection'])\n",
    "\n",
    "print('\\nResults for southern Texas')\n",
    "print('--------------------------')\n",
    "display_region(locations['projection'], (-100.0, -98.0), (26.0, 29.5))\n",
    "\n",
    "print('\\nResults for Rocky Mountains')\n",
    "print('---------------------------')\n",
    "display_region(locations['projection'], (-118.0, -113.0), (47.0, 50.0))\n",
    "\n",
    "print('\\nBias summary')\n",
    "print('------------')\n",
    "display_grid_bias(locations['projection'])\n",
    "\n",
    "#ofile = os.path.join(OUTPUT_DIR, ofile_names[1])\n",
    "#gen_locations_tiff(locations['projection'], ofile, BANDS, NODATA)"
   ]
  },
  {
   "cell_type": "code",
   "execution_count": 12,
   "id": "aa6cf764-b7a5-4ad7-bd50-ce733ae97a6f",
   "metadata": {},
   "outputs": [],
   "source": [
    "locations['differences'] = locations['projection'] - locations['nowcasting']"
   ]
  },
  {
   "cell_type": "code",
   "execution_count": 13,
   "id": "6617fbad-bc33-443f-b059-56f5a9636015",
   "metadata": {},
   "outputs": [
    {
     "data": {
      "text/html": [
       "<div>\n",
       "<style scoped>\n",
       "    .dataframe tbody tr th:only-of-type {\n",
       "        vertical-align: middle;\n",
       "    }\n",
       "\n",
       "    .dataframe tbody tr th {\n",
       "        vertical-align: top;\n",
       "    }\n",
       "\n",
       "    .dataframe thead th {\n",
       "        text-align: right;\n",
       "    }\n",
       "</style>\n",
       "<table border=\"1\" class=\"dataframe\">\n",
       "  <thead>\n",
       "    <tr style=\"text-align: right;\">\n",
       "      <th></th>\n",
       "      <th>Count</th>\n",
       "      <th>RMSE</th>\n",
       "      <th>R2</th>\n",
       "      <th>Bias</th>\n",
       "      <th>Uncertainty</th>\n",
       "      <th>NumSamples</th>\n",
       "    </tr>\n",
       "  </thead>\n",
       "  <tbody>\n",
       "    <tr>\n",
       "      <th>count</th>\n",
       "      <td>412.0</td>\n",
       "      <td>412.000000</td>\n",
       "      <td>412.000000</td>\n",
       "      <td>412.000000</td>\n",
       "      <td>412.000000</td>\n",
       "      <td>412.0</td>\n",
       "    </tr>\n",
       "    <tr>\n",
       "      <th>mean</th>\n",
       "      <td>0.0</td>\n",
       "      <td>0.636250</td>\n",
       "      <td>-0.015619</td>\n",
       "      <td>0.240589</td>\n",
       "      <td>0.428566</td>\n",
       "      <td>0.0</td>\n",
       "    </tr>\n",
       "    <tr>\n",
       "      <th>std</th>\n",
       "      <td>0.0</td>\n",
       "      <td>2.444932</td>\n",
       "      <td>0.180291</td>\n",
       "      <td>2.823189</td>\n",
       "      <td>0.577897</td>\n",
       "      <td>0.0</td>\n",
       "    </tr>\n",
       "    <tr>\n",
       "      <th>min</th>\n",
       "      <td>0.0</td>\n",
       "      <td>-6.228400</td>\n",
       "      <td>-0.853600</td>\n",
       "      <td>-10.596400</td>\n",
       "      <td>-0.941863</td>\n",
       "      <td>0.0</td>\n",
       "    </tr>\n",
       "    <tr>\n",
       "      <th>25%</th>\n",
       "      <td>0.0</td>\n",
       "      <td>-0.637700</td>\n",
       "      <td>-0.087200</td>\n",
       "      <td>-1.401350</td>\n",
       "      <td>0.041064</td>\n",
       "      <td>0.0</td>\n",
       "    </tr>\n",
       "    <tr>\n",
       "      <th>50%</th>\n",
       "      <td>0.0</td>\n",
       "      <td>0.675500</td>\n",
       "      <td>-0.027800</td>\n",
       "      <td>0.305400</td>\n",
       "      <td>0.396821</td>\n",
       "      <td>0.0</td>\n",
       "    </tr>\n",
       "    <tr>\n",
       "      <th>75%</th>\n",
       "      <td>0.0</td>\n",
       "      <td>1.937300</td>\n",
       "      <td>0.029650</td>\n",
       "      <td>1.892050</td>\n",
       "      <td>0.753610</td>\n",
       "      <td>0.0</td>\n",
       "    </tr>\n",
       "    <tr>\n",
       "      <th>max</th>\n",
       "      <td>0.0</td>\n",
       "      <td>10.536400</td>\n",
       "      <td>0.817400</td>\n",
       "      <td>11.407600</td>\n",
       "      <td>2.792110</td>\n",
       "      <td>0.0</td>\n",
       "    </tr>\n",
       "  </tbody>\n",
       "</table>\n",
       "</div>"
      ],
      "text/plain": [
       "       Count        RMSE          R2        Bias  Uncertainty  NumSamples\n",
       "count  412.0  412.000000  412.000000  412.000000   412.000000       412.0\n",
       "mean     0.0    0.636250   -0.015619    0.240589     0.428566         0.0\n",
       "std      0.0    2.444932    0.180291    2.823189     0.577897         0.0\n",
       "min      0.0   -6.228400   -0.853600  -10.596400    -0.941863         0.0\n",
       "25%      0.0   -0.637700   -0.087200   -1.401350     0.041064         0.0\n",
       "50%      0.0    0.675500   -0.027800    0.305400     0.396821         0.0\n",
       "75%      0.0    1.937300    0.029650    1.892050     0.753610         0.0\n",
       "max      0.0   10.536400    0.817400   11.407600     2.792110         0.0"
      ]
     },
     "execution_count": 13,
     "metadata": {},
     "output_type": "execute_result"
    }
   ],
   "source": [
    "locations['differences'].describe()"
   ]
  },
  {
   "cell_type": "code",
   "execution_count": 14,
   "id": "c48c485e-22ec-4e54-ab7d-c34fd908ec55",
   "metadata": {},
   "outputs": [
    {
     "data": {
      "text/plain": [
       "array([[<AxesSubplot:ylabel='Density'>, <AxesSubplot:ylabel='Density'>],\n",
       "       [<AxesSubplot:ylabel='Density'>, <AxesSubplot:ylabel='Density'>]],\n",
       "      dtype=object)"
      ]
     },
     "execution_count": 14,
     "metadata": {},
     "output_type": "execute_result"
    },
    {
     "data": {
      "image/png": "[encoded data removed]",
      "text/plain": [
       "<Figure size 432x288 with 4 Axes>"
      ]
     },
     "metadata": {
      "needs_background": "light"
     },
     "output_type": "display_data"
    }
   ],
   "source": [
    "locations['projection'][['RMSE', 'R2', 'Bias', 'Uncertainty']].plot.density(subplots=True, sharex=False, sharey=False, layout=(2,2))"
   ]
  },
  {
   "cell_type": "code",
   "execution_count": 15,
   "id": "fe4c2423-5774-40b4-95f0-7004591d9a45",
   "metadata": {},
   "outputs": [
    {
     "data": {
      "text/plain": [
       "array([[<AxesSubplot:ylabel='Density'>, <AxesSubplot:ylabel='Density'>],\n",
       "       [<AxesSubplot:ylabel='Density'>, <AxesSubplot:ylabel='Density'>]],\n",
       "      dtype=object)"
      ]
     },
     "execution_count": 15,
     "metadata": {},
     "output_type": "execute_result"
    },
    {
     "data": {
      "image/png": "[encoded data removed]",
      "text/plain": [
       "<Figure size 432x288 with 4 Axes>"
      ]
     },
     "metadata": {
      "needs_background": "light"
     },
     "output_type": "display_data"
    }
   ],
   "source": [
    "locations['nowcasting'][['RMSE', 'R2', 'Bias', 'Uncertainty']].plot.density(subplots=True, sharex=False, sharey=False, layout=(2,2))"
   ]
  },
  {
   "cell_type": "code",
   "execution_count": 16,
   "id": "258650e6-767c-431a-b136-29365a8b5924",
   "metadata": {},
   "outputs": [
    {
     "data": {
      "text/plain": [
       "array([[<AxesSubplot:ylabel='Density'>, <AxesSubplot:ylabel='Density'>],\n",
       "       [<AxesSubplot:ylabel='Density'>, <AxesSubplot:ylabel='Density'>]],\n",
       "      dtype=object)"
      ]
     },
     "execution_count": 16,
     "metadata": {},
     "output_type": "execute_result"
    },
    {
     "data": {
      "image/png": "[encoded data removed]",
      "text/plain": [
       "<Figure size 432x288 with 4 Axes>"
      ]
     },
     "metadata": {
      "needs_background": "light"
     },
     "output_type": "display_data"
    }
   ],
   "source": [
    "locations['differences'][['RMSE', 'R2', 'Bias', 'Uncertainty']].plot.density(subplots=True, sharex=False, sharey=False, layout=(2,2))"
   ]
  },
  {
   "cell_type": "code",
   "execution_count": 17,
   "id": "8a1be198-7ccf-48fe-a255-063dd557ba0e",
   "metadata": {},
   "outputs": [
    {
     "data": {
      "text/plain": [
       "0.941747572815534"
      ]
     },
     "execution_count": 17,
     "metadata": {},
     "output_type": "execute_result"
    }
   ],
   "source": [
    "locations['differences'].RMSE[locations['differences'].RMSE.between(-5, 5)].size / locations['differences'].RMSE.size"
   ]
  },
  {
   "cell_type": "code",
   "execution_count": 18,
   "id": "185fa433-e559-48a5-954f-7b07d797c226",
   "metadata": {},
   "outputs": [
    {
     "data": {
      "text/plain": [
       "0.5970873786407767"
      ]
     },
     "execution_count": 18,
     "metadata": {},
     "output_type": "execute_result"
    }
   ],
   "source": [
    "locations['differences'].RMSE[locations['differences'].RMSE.between(0, 5)].size / locations['differences'].RMSE.size"
   ]
  },
  {
   "cell_type": "code",
   "execution_count": 19,
   "id": "fcfcd580-0d7d-4d23-a3f2-325fb514cc9e",
   "metadata": {},
   "outputs": [
    {
     "data": {
      "text/plain": [
       "0.9611650485436893"
      ]
     },
     "execution_count": 19,
     "metadata": {},
     "output_type": "execute_result"
    }
   ],
   "source": [
    "locations['differences'].RMSE[locations['differences'].RMSE < 5].size / locations['differences'].RMSE.size"
   ]
  },
  {
   "cell_type": "code",
   "execution_count": 20,
   "id": "38209c91-f760-4c1b-8ae2-13f1a2a92281",
   "metadata": {},
   "outputs": [
    {
     "data": {
      "text/plain": [
       "0.3640776699029126"
      ]
     },
     "execution_count": 20,
     "metadata": {},
     "output_type": "execute_result"
    }
   ],
   "source": [
    "locations['differences'].RMSE[locations['differences'].RMSE < 0].size / locations['differences'].RMSE.size"
   ]
  },
  {
   "cell_type": "code",
   "execution_count": 21,
   "id": "fd30abba-2c6c-4464-b383-6cb0e13161d9",
   "metadata": {},
   "outputs": [
    {
     "data": {
      "text/plain": [
       "0.7063106796116505"
      ]
     },
     "execution_count": 21,
     "metadata": {},
     "output_type": "execute_result"
    }
   ],
   "source": [
    "locations['projection'].RMSE[locations['projection'].RMSE < 30].size / locations['projection'].RMSE.size"
   ]
  },
  {
   "cell_type": "code",
   "execution_count": 22,
   "id": "ef4cbe63-3d35-4d57-a627-46af0ba80ee5",
   "metadata": {},
   "outputs": [
    {
     "data": {
      "text/plain": [
       "0.6383495145631068"
      ]
     },
     "execution_count": 22,
     "metadata": {},
     "output_type": "execute_result"
    }
   ],
   "source": [
    "locations['differences'].R2[locations['differences'].R2.between(-0.1, 0.1)].size / locations['differences'].R2.size"
   ]
  },
  {
   "cell_type": "code",
   "execution_count": 23,
   "id": "0a82e49d-02c2-4fce-8ccc-c725550c43e1",
   "metadata": {},
   "outputs": [
    {
     "data": {
      "text/plain": [
       "0.41504854368932037"
      ]
     },
     "execution_count": 23,
     "metadata": {},
     "output_type": "execute_result"
    }
   ],
   "source": [
    "locations['differences'].R2[locations['differences'].R2.between(-0.1, 0)].size / locations['differences'].R2.size"
   ]
  },
  {
   "cell_type": "code",
   "execution_count": 24,
   "id": "08e4b292-c785-4e7e-b189-d9bdfeb78f09",
   "metadata": {},
   "outputs": [
    {
     "data": {
      "text/plain": [
       "0.3640776699029126"
      ]
     },
     "execution_count": 24,
     "metadata": {},
     "output_type": "execute_result"
    }
   ],
   "source": [
    "locations['differences'].R2[locations['differences'].R2 > 0].size / locations['differences'].R2.size"
   ]
  },
  {
   "cell_type": "code",
   "execution_count": 25,
   "id": "07618f98-844e-4a7c-b1d5-3aa073831ec0",
   "metadata": {},
   "outputs": [
    {
     "data": {
      "text/plain": [
       "0.220873786407767"
      ]
     },
     "execution_count": 25,
     "metadata": {},
     "output_type": "execute_result"
    }
   ],
   "source": [
    "locations['differences'].R2[locations['differences'].R2 < -0.1].size / locations['differences'].R2.size"
   ]
  },
  {
   "cell_type": "code",
   "execution_count": 26,
   "id": "456bbae6-18ea-4950-b623-25814464cbb2",
   "metadata": {},
   "outputs": [
    {
     "data": {
      "text/plain": [
       "0.22815533980582525"
      ]
     },
     "execution_count": 26,
     "metadata": {},
     "output_type": "execute_result"
    }
   ],
   "source": [
    "locations['projection'].R2[locations['projection'].R2 <= 0].size / locations['projection'].R2.size"
   ]
  },
  {
   "cell_type": "code",
   "execution_count": 27,
   "id": "ad86fa23-0b47-42a8-a616-886d9e1fe3d2",
   "metadata": {},
   "outputs": [
    {
     "data": {
      "text/plain": [
       "0.21601941747572814"
      ]
     },
     "execution_count": 27,
     "metadata": {},
     "output_type": "execute_result"
    }
   ],
   "source": [
    "locations['nowcasting'].R2[locations['nowcasting'].R2 <= 0].size / locations['nowcasting'].R2.size"
   ]
  },
  {
   "cell_type": "code",
   "execution_count": 28,
   "id": "2ef97cbc-6d78-47a9-a419-00223c1c7976",
   "metadata": {},
   "outputs": [
    {
     "data": {
      "text/plain": [
       "0.1   -19.43100\n",
       "0.2   -10.15496\n",
       "0.3    -5.56708\n",
       "0.4    -2.89184\n",
       "0.5     0.52160\n",
       "0.6     4.64876\n",
       "0.7     8.43688\n",
       "0.8    12.60988\n",
       "0.9    20.12480\n",
       "Name: Bias, dtype: float64"
      ]
     },
     "execution_count": 28,
     "metadata": {},
     "output_type": "execute_result"
    }
   ],
   "source": [
    "locations['projection'].Bias.quantile([.10, .20, .30, .40, .50, .60, .70, .80, .90])"
   ]
  },
  {
   "cell_type": "code",
   "execution_count": 29,
   "id": "b9beb06c-8883-4422-8a32-9d1fc46eca55",
   "metadata": {},
   "outputs": [
    {
     "data": {
      "text/plain": [
       "0.40   -2.954760\n",
       "0.41   -2.683610\n",
       "0.42   -2.404644\n",
       "0.43   -2.139578\n",
       "0.44   -1.714192\n",
       "0.45   -1.129040\n",
       "0.46   -0.651252\n",
       "0.47   -0.391848\n",
       "0.48   -0.045968\n",
       "0.49    0.412270\n",
       "0.50    0.776000\n",
       "Name: Bias, dtype: float64"
      ]
     },
     "execution_count": 29,
     "metadata": {},
     "output_type": "execute_result"
    }
   ],
   "source": [
    "locations['nowcasting'].Bias.quantile([.40, .41, .42, .43, .44, .45, .46, .47, .48, .49, .5])"
   ]
  },
  {
   "cell_type": "code",
   "execution_count": 30,
   "id": "ebcccfcd-5b1a-4e0d-b931-8d5226d29188",
   "metadata": {},
   "outputs": [
    {
     "data": {
      "text/plain": [
       "0.40   -2.891840\n",
       "0.41   -2.273734\n",
       "0.42   -2.094764\n",
       "0.43   -1.813734\n",
       "0.44   -1.696560\n",
       "0.45   -1.293900\n",
       "0.46   -1.012996\n",
       "0.47   -0.709812\n",
       "0.48   -0.365576\n",
       "0.49    0.150142\n",
       "0.50    0.521600\n",
       "Name: Bias, dtype: float64"
      ]
     },
     "execution_count": 30,
     "metadata": {},
     "output_type": "execute_result"
    }
   ],
   "source": [
    "locations['projection'].Bias.quantile([.40, .41, .42, .43, .44, .45, .46, .47, .48, .49, .5])"
   ]
  },
  {
   "cell_type": "code",
   "execution_count": 31,
   "id": "9a33adcc-0e98-4878-b494-66b541688342",
   "metadata": {},
   "outputs": [
    {
     "data": {
      "text/plain": [
       "0.1   -0.42366\n",
       "0.2   -0.05012\n",
       "0.3    0.12878\n",
       "0.4    0.26952\n",
       "0.5    0.36360\n",
       "0.6    0.45136\n",
       "0.7    0.56516\n",
       "0.8    0.64400\n",
       "0.9    0.74964\n",
       "Name: R2, dtype: float64"
      ]
     },
     "execution_count": 31,
     "metadata": {},
     "output_type": "execute_result"
    }
   ],
   "source": [
    "locations['projection'].R2.quantile([.10, .20, .30, .40, .50, .60, .70, .80, .90])"
   ]
  },
  {
   "cell_type": "code",
   "execution_count": 32,
   "id": "dccd2024-1eb2-4cb0-bba8-688f6c1c5cd1",
   "metadata": {},
   "outputs": [
    {
     "data": {
      "text/plain": [
       "0.23    0.005612\n",
       "0.33    0.183334\n",
       "0.50    0.363600\n",
       "0.67    0.526770\n",
       "0.75    0.593850\n",
       "0.76    0.598248\n",
       "Name: R2, dtype: float64"
      ]
     },
     "execution_count": 32,
     "metadata": {},
     "output_type": "execute_result"
    }
   ],
   "source": [
    "locations['projection'].R2.quantile([.23, .33, .50, .67, .75, .76])"
   ]
  },
  {
   "cell_type": "code",
   "execution_count": 33,
   "id": "0e49a0a7-35d9-412e-a05e-aa10819bdfa7",
   "metadata": {},
   "outputs": [
    {
     "data": {
      "text/plain": [
       "0.1    13.63816\n",
       "0.2    16.86204\n",
       "0.3    18.75284\n",
       "0.4    21.58932\n",
       "0.5    23.91950\n",
       "0.6    26.36736\n",
       "0.7    29.67236\n",
       "0.8    34.03256\n",
       "0.9    40.42132\n",
       "Name: RMSE, dtype: float64"
      ]
     },
     "execution_count": 33,
     "metadata": {},
     "output_type": "execute_result"
    }
   ],
   "source": [
    "locations['projection'].RMSE.quantile([.10, .20, .30, .40, .50, .60, .70, .80, .90])"
   ]
  },
  {
   "cell_type": "code",
   "execution_count": 34,
   "id": "da66ecb1-19b0-4feb-be75-cf6102a57816",
   "metadata": {},
   "outputs": [
    {
     "data": {
      "text/plain": [
       "0.00      4.32020\n",
       "0.25     17.93630\n",
       "0.50     23.91950\n",
       "0.75     31.91935\n",
       "1.00    111.67600\n",
       "Name: RMSE, dtype: float64"
      ]
     },
     "execution_count": 34,
     "metadata": {},
     "output_type": "execute_result"
    }
   ],
   "source": [
    "locations['projection'].RMSE.quantile([.0, .25, .50, .75, 1])"
   ]
  },
  {
   "cell_type": "code",
   "execution_count": 35,
   "id": "43df9238-c887-42da-a5d4-e762bcbc8ac7",
   "metadata": {},
   "outputs": [
    {
     "data": {
      "text/html": [
       "<div>\n",
       "<style scoped>\n",
       "    .dataframe tbody tr th:only-of-type {\n",
       "        vertical-align: middle;\n",
       "    }\n",
       "\n",
       "    .dataframe tbody tr th {\n",
       "        vertical-align: top;\n",
       "    }\n",
       "\n",
       "    .dataframe thead th {\n",
       "        text-align: right;\n",
       "    }\n",
       "</style>\n",
       "<table border=\"1\" class=\"dataframe\">\n",
       "  <thead>\n",
       "    <tr style=\"text-align: right;\">\n",
       "      <th></th>\n",
       "      <th></th>\n",
       "      <th>Count</th>\n",
       "      <th>RMSE</th>\n",
       "      <th>R2</th>\n",
       "      <th>Bias</th>\n",
       "      <th>Uncertainty</th>\n",
       "      <th>NumSamples</th>\n",
       "    </tr>\n",
       "    <tr>\n",
       "      <th>Latitude</th>\n",
       "      <th>Longitude</th>\n",
       "      <th></th>\n",
       "      <th></th>\n",
       "      <th></th>\n",
       "      <th></th>\n",
       "      <th></th>\n",
       "      <th></th>\n",
       "    </tr>\n",
       "  </thead>\n",
       "  <tbody>\n",
       "    <tr>\n",
       "      <th>43.5</th>\n",
       "      <th>-112.0</th>\n",
       "      <td>0.0</td>\n",
       "      <td>0.0516</td>\n",
       "      <td>0.0002</td>\n",
       "      <td>1.7026</td>\n",
       "      <td>0.377683</td>\n",
       "      <td>0</td>\n",
       "    </tr>\n",
       "  </tbody>\n",
       "</table>\n",
       "</div>"
      ],
      "text/plain": [
       "                    Count    RMSE      R2    Bias  Uncertainty  NumSamples\n",
       "Latitude Longitude                                                        \n",
       "43.5     -112.0       0.0  0.0516  0.0002  1.7026     0.377683           0"
      ]
     },
     "execution_count": 35,
     "metadata": {},
     "output_type": "execute_result"
    }
   ],
   "source": [
    "locations['differences'][(locations['differences'].R2 >= 0) & (locations['differences'].RMSE > 0)]"
   ]
  },
  {
   "cell_type": "code",
   "execution_count": 36,
   "id": "ab457b59-2c54-43f7-a73a-0987be759d78",
   "metadata": {},
   "outputs": [
    {
     "data": {
      "text/html": [
       "<div>\n",
       "<style scoped>\n",
       "    .dataframe tbody tr th:only-of-type {\n",
       "        vertical-align: middle;\n",
       "    }\n",
       "\n",
       "    .dataframe tbody tr th {\n",
       "        vertical-align: top;\n",
       "    }\n",
       "\n",
       "    .dataframe thead th {\n",
       "        text-align: right;\n",
       "    }\n",
       "</style>\n",
       "<table border=\"1\" class=\"dataframe\">\n",
       "  <thead>\n",
       "    <tr style=\"text-align: right;\">\n",
       "      <th></th>\n",
       "      <th></th>\n",
       "      <th>Count</th>\n",
       "      <th>RMSE</th>\n",
       "      <th>R2</th>\n",
       "      <th>Bias</th>\n",
       "      <th>Uncertainty</th>\n",
       "      <th>NumSamples</th>\n",
       "    </tr>\n",
       "    <tr>\n",
       "      <th>Latitude</th>\n",
       "      <th>Longitude</th>\n",
       "      <th></th>\n",
       "      <th></th>\n",
       "      <th></th>\n",
       "      <th></th>\n",
       "      <th></th>\n",
       "      <th></th>\n",
       "    </tr>\n",
       "  </thead>\n",
       "  <tbody>\n",
       "    <tr>\n",
       "      <th>42.0</th>\n",
       "      <th>-111.0</th>\n",
       "      <td>0.0</td>\n",
       "      <td>-0.0082</td>\n",
       "      <td>-0.0004</td>\n",
       "      <td>-1.8516</td>\n",
       "      <td>0.772679</td>\n",
       "      <td>0</td>\n",
       "    </tr>\n",
       "  </tbody>\n",
       "</table>\n",
       "</div>"
      ],
      "text/plain": [
       "                    Count    RMSE      R2    Bias  Uncertainty  NumSamples\n",
       "Latitude Longitude                                                        \n",
       "42.0     -111.0       0.0 -0.0082 -0.0004 -1.8516     0.772679           0"
      ]
     },
     "execution_count": 36,
     "metadata": {},
     "output_type": "execute_result"
    }
   ],
   "source": [
    "locations['differences'][(locations['differences'].R2 < 0) & (locations['differences'].RMSE < 0)]"
   ]
  },
  {
   "cell_type": "code",
   "execution_count": 37,
   "id": "81923b64-60d8-43bd-ac44-e28da0ce1c65",
   "metadata": {},
   "outputs": [
    {
     "data": {
      "text/html": [
       "<div>\n",
       "<style scoped>\n",
       "    .dataframe tbody tr th:only-of-type {\n",
       "        vertical-align: middle;\n",
       "    }\n",
       "\n",
       "    .dataframe tbody tr th {\n",
       "        vertical-align: top;\n",
       "    }\n",
       "\n",
       "    .dataframe thead th {\n",
       "        text-align: right;\n",
       "    }\n",
       "</style>\n",
       "<table border=\"1\" class=\"dataframe\">\n",
       "  <thead>\n",
       "    <tr style=\"text-align: right;\">\n",
       "      <th></th>\n",
       "      <th></th>\n",
       "      <th>Count</th>\n",
       "      <th>RMSE</th>\n",
       "      <th>R2</th>\n",
       "      <th>Bias</th>\n",
       "      <th>Uncertainty</th>\n",
       "      <th>NumSamples</th>\n",
       "    </tr>\n",
       "    <tr>\n",
       "      <th>Latitude</th>\n",
       "      <th>Longitude</th>\n",
       "      <th></th>\n",
       "      <th></th>\n",
       "      <th></th>\n",
       "      <th></th>\n",
       "      <th></th>\n",
       "      <th></th>\n",
       "    </tr>\n",
       "  </thead>\n",
       "  <tbody>\n",
       "    <tr>\n",
       "      <th rowspan=\"4\" valign=\"top\">30.0</th>\n",
       "      <th>-100.5</th>\n",
       "      <td>0.0</td>\n",
       "      <td>-2.7676</td>\n",
       "      <td>0.1992</td>\n",
       "      <td>-6.3764</td>\n",
       "      <td>1.604969</td>\n",
       "      <td>0</td>\n",
       "    </tr>\n",
       "    <tr>\n",
       "      <th>-99.5</th>\n",
       "      <td>0.0</td>\n",
       "      <td>-3.0514</td>\n",
       "      <td>0.3438</td>\n",
       "      <td>-3.8650</td>\n",
       "      <td>-0.529363</td>\n",
       "      <td>0</td>\n",
       "    </tr>\n",
       "    <tr>\n",
       "      <th>-99.0</th>\n",
       "      <td>0.0</td>\n",
       "      <td>-1.4424</td>\n",
       "      <td>0.1676</td>\n",
       "      <td>-1.1866</td>\n",
       "      <td>-0.385751</td>\n",
       "      <td>0</td>\n",
       "    </tr>\n",
       "    <tr>\n",
       "      <th>-98.5</th>\n",
       "      <td>0.0</td>\n",
       "      <td>-3.5908</td>\n",
       "      <td>0.4814</td>\n",
       "      <td>-2.9706</td>\n",
       "      <td>-0.519079</td>\n",
       "      <td>0</td>\n",
       "    </tr>\n",
       "    <tr>\n",
       "      <th>30.5</th>\n",
       "      <th>-100.0</th>\n",
       "      <td>0.0</td>\n",
       "      <td>-2.0218</td>\n",
       "      <td>0.2940</td>\n",
       "      <td>-4.1264</td>\n",
       "      <td>-0.085477</td>\n",
       "      <td>0</td>\n",
       "    </tr>\n",
       "    <tr>\n",
       "      <th>...</th>\n",
       "      <th>...</th>\n",
       "      <td>...</td>\n",
       "      <td>...</td>\n",
       "      <td>...</td>\n",
       "      <td>...</td>\n",
       "      <td>...</td>\n",
       "      <td>...</td>\n",
       "    </tr>\n",
       "    <tr>\n",
       "      <th>48.0</th>\n",
       "      <th>-121.0</th>\n",
       "      <td>0.0</td>\n",
       "      <td>-0.4780</td>\n",
       "      <td>0.0080</td>\n",
       "      <td>1.6030</td>\n",
       "      <td>1.356583</td>\n",
       "      <td>0</td>\n",
       "    </tr>\n",
       "    <tr>\n",
       "      <th>48.5</th>\n",
       "      <th>-116.5</th>\n",
       "      <td>0.0</td>\n",
       "      <td>-4.4612</td>\n",
       "      <td>0.0598</td>\n",
       "      <td>4.7416</td>\n",
       "      <td>1.248634</td>\n",
       "      <td>0</td>\n",
       "    </tr>\n",
       "    <tr>\n",
       "      <th rowspan=\"3\" valign=\"top\">49.0</th>\n",
       "      <th>-117.0</th>\n",
       "      <td>0.0</td>\n",
       "      <td>-1.6584</td>\n",
       "      <td>0.0136</td>\n",
       "      <td>5.6540</td>\n",
       "      <td>-0.345288</td>\n",
       "      <td>0</td>\n",
       "    </tr>\n",
       "    <tr>\n",
       "      <th>-116.5</th>\n",
       "      <td>0.0</td>\n",
       "      <td>-0.3684</td>\n",
       "      <td>0.0066</td>\n",
       "      <td>2.7580</td>\n",
       "      <td>0.944445</td>\n",
       "      <td>0</td>\n",
       "    </tr>\n",
       "    <tr>\n",
       "      <th>-114.0</th>\n",
       "      <td>0.0</td>\n",
       "      <td>-0.0976</td>\n",
       "      <td>0.0040</td>\n",
       "      <td>0.1028</td>\n",
       "      <td>-0.248974</td>\n",
       "      <td>0</td>\n",
       "    </tr>\n",
       "  </tbody>\n",
       "</table>\n",
       "<p>150 rows × 6 columns</p>\n",
       "</div>"
      ],
      "text/plain": [
       "                    Count    RMSE      R2    Bias  Uncertainty  NumSamples\n",
       "Latitude Longitude                                                        \n",
       "30.0     -100.5       0.0 -2.7676  0.1992 -6.3764     1.604969           0\n",
       "         -99.5        0.0 -3.0514  0.3438 -3.8650    -0.529363           0\n",
       "         -99.0        0.0 -1.4424  0.1676 -1.1866    -0.385751           0\n",
       "         -98.5        0.0 -3.5908  0.4814 -2.9706    -0.519079           0\n",
       "30.5     -100.0       0.0 -2.0218  0.2940 -4.1264    -0.085477           0\n",
       "...                   ...     ...     ...     ...          ...         ...\n",
       "48.0     -121.0       0.0 -0.4780  0.0080  1.6030     1.356583           0\n",
       "48.5     -116.5       0.0 -4.4612  0.0598  4.7416     1.248634           0\n",
       "49.0     -117.0       0.0 -1.6584  0.0136  5.6540    -0.345288           0\n",
       "         -116.5       0.0 -0.3684  0.0066  2.7580     0.944445           0\n",
       "         -114.0       0.0 -0.0976  0.0040  0.1028    -0.248974           0\n",
       "\n",
       "[150 rows x 6 columns]"
      ]
     },
     "execution_count": 37,
     "metadata": {},
     "output_type": "execute_result"
    }
   ],
   "source": [
    "locations['differences'][locations['differences'].RMSE < 0]"
   ]
  },
  {
   "cell_type": "code",
   "execution_count": 38,
   "id": "02ca477d-6010-4da4-8c41-3c818786ddb5",
   "metadata": {},
   "outputs": [
    {
     "data": {
      "text/plain": [
       "<AxesSubplot:xlabel='R2', ylabel='Bias'>"
      ]
     },
     "execution_count": 38,
     "metadata": {},
     "output_type": "execute_result"
    },
    {
     "data": {
      "image/png": "[encoded data removed]",
      "text/plain": [
       "<Figure size 432x288 with 1 Axes>"
      ]
     },
     "metadata": {
      "needs_background": "light"
     },
     "output_type": "display_data"
    }
   ],
   "source": [
    "locations['projection'][['R2', 'Bias']].plot.scatter('R2', 'Bias')"
   ]
  },
  {
   "cell_type": "code",
   "execution_count": 39,
   "id": "c8d0b227-77a2-49da-a570-b612cf295b23",
   "metadata": {},
   "outputs": [
    {
     "data": {
      "text/html": [
       "<div>\n",
       "<style scoped>\n",
       "    .dataframe tbody tr th:only-of-type {\n",
       "        vertical-align: middle;\n",
       "    }\n",
       "\n",
       "    .dataframe tbody tr th {\n",
       "        vertical-align: top;\n",
       "    }\n",
       "\n",
       "    .dataframe thead th {\n",
       "        text-align: right;\n",
       "    }\n",
       "</style>\n",
       "<table border=\"1\" class=\"dataframe\">\n",
       "  <thead>\n",
       "    <tr style=\"text-align: right;\">\n",
       "      <th></th>\n",
       "      <th>Latitude</th>\n",
       "      <th>Longitude</th>\n",
       "      <th>Count</th>\n",
       "      <th>RMSE</th>\n",
       "      <th>R2</th>\n",
       "      <th>Bias</th>\n",
       "      <th>Uncertainty</th>\n",
       "      <th>NumSamples</th>\n",
       "    </tr>\n",
       "  </thead>\n",
       "  <tbody>\n",
       "    <tr>\n",
       "      <th>count</th>\n",
       "      <td>201.000000</td>\n",
       "      <td>201.000000</td>\n",
       "      <td>201.000000</td>\n",
       "      <td>201.000000</td>\n",
       "      <td>201.000000</td>\n",
       "      <td>201.000000</td>\n",
       "      <td>201.000000</td>\n",
       "      <td>201.000000</td>\n",
       "    </tr>\n",
       "    <tr>\n",
       "      <th>mean</th>\n",
       "      <td>40.151741</td>\n",
       "      <td>-111.298507</td>\n",
       "      <td>48.830846</td>\n",
       "      <td>29.353268</td>\n",
       "      <td>0.398544</td>\n",
       "      <td>-11.550831</td>\n",
       "      <td>9.593629</td>\n",
       "      <td>48.830846</td>\n",
       "    </tr>\n",
       "    <tr>\n",
       "      <th>std</th>\n",
       "      <td>4.674731</td>\n",
       "      <td>8.055306</td>\n",
       "      <td>36.924805</td>\n",
       "      <td>14.269427</td>\n",
       "      <td>0.347590</td>\n",
       "      <td>11.422976</td>\n",
       "      <td>1.622669</td>\n",
       "      <td>36.924805</td>\n",
       "    </tr>\n",
       "    <tr>\n",
       "      <th>min</th>\n",
       "      <td>26.500000</td>\n",
       "      <td>-124.000000</td>\n",
       "      <td>10.000000</td>\n",
       "      <td>4.320200</td>\n",
       "      <td>-1.676600</td>\n",
       "      <td>-87.116000</td>\n",
       "      <td>6.490231</td>\n",
       "      <td>10.000000</td>\n",
       "    </tr>\n",
       "    <tr>\n",
       "      <th>25%</th>\n",
       "      <td>37.500000</td>\n",
       "      <td>-117.000000</td>\n",
       "      <td>25.000000</td>\n",
       "      <td>19.445200</td>\n",
       "      <td>0.252400</td>\n",
       "      <td>-17.213400</td>\n",
       "      <td>8.430432</td>\n",
       "      <td>25.000000</td>\n",
       "    </tr>\n",
       "    <tr>\n",
       "      <th>50%</th>\n",
       "      <td>40.500000</td>\n",
       "      <td>-111.500000</td>\n",
       "      <td>37.000000</td>\n",
       "      <td>26.803000</td>\n",
       "      <td>0.435400</td>\n",
       "      <td>-7.709200</td>\n",
       "      <td>9.680392</td>\n",
       "      <td>37.000000</td>\n",
       "    </tr>\n",
       "    <tr>\n",
       "      <th>75%</th>\n",
       "      <td>43.500000</td>\n",
       "      <td>-107.500000</td>\n",
       "      <td>60.000000</td>\n",
       "      <td>36.044800</td>\n",
       "      <td>0.632800</td>\n",
       "      <td>-3.936600</td>\n",
       "      <td>10.582354</td>\n",
       "      <td>60.000000</td>\n",
       "    </tr>\n",
       "    <tr>\n",
       "      <th>max</th>\n",
       "      <td>49.000000</td>\n",
       "      <td>-68.500000</td>\n",
       "      <td>203.000000</td>\n",
       "      <td>111.676000</td>\n",
       "      <td>0.990600</td>\n",
       "      <td>-0.178800</td>\n",
       "      <td>16.792282</td>\n",
       "      <td>203.000000</td>\n",
       "    </tr>\n",
       "  </tbody>\n",
       "</table>\n",
       "</div>"
      ],
      "text/plain": [
       "         Latitude   Longitude       Count        RMSE          R2        Bias  \\\n",
       "count  201.000000  201.000000  201.000000  201.000000  201.000000  201.000000   \n",
       "mean    40.151741 -111.298507   48.830846   29.353268    0.398544  -11.550831   \n",
       "std      4.674731    8.055306   36.924805   14.269427    0.347590   11.422976   \n",
       "min     26.500000 -124.000000   10.000000    4.320200   -1.676600  -87.116000   \n",
       "25%     37.500000 -117.000000   25.000000   19.445200    0.252400  -17.213400   \n",
       "50%     40.500000 -111.500000   37.000000   26.803000    0.435400   -7.709200   \n",
       "75%     43.500000 -107.500000   60.000000   36.044800    0.632800   -3.936600   \n",
       "max     49.000000  -68.500000  203.000000  111.676000    0.990600   -0.178800   \n",
       "\n",
       "       Uncertainty  NumSamples  \n",
       "count   201.000000  201.000000  \n",
       "mean      9.593629   48.830846  \n",
       "std       1.622669   36.924805  \n",
       "min       6.490231   10.000000  \n",
       "25%       8.430432   25.000000  \n",
       "50%       9.680392   37.000000  \n",
       "75%      10.582354   60.000000  \n",
       "max      16.792282  203.000000  "
      ]
     },
     "execution_count": 39,
     "metadata": {},
     "output_type": "execute_result"
    }
   ],
   "source": [
    "locations['projection'][locations['projection'].Bias < 0].reset_index().describe()"
   ]
  },
  {
   "cell_type": "code",
   "execution_count": 40,
   "id": "1d27f102-a1c7-4a94-82ab-6711c2ef99d6",
   "metadata": {},
   "outputs": [
    {
     "data": {
      "text/html": [
       "<div>\n",
       "<style scoped>\n",
       "    .dataframe tbody tr th:only-of-type {\n",
       "        vertical-align: middle;\n",
       "    }\n",
       "\n",
       "    .dataframe tbody tr th {\n",
       "        vertical-align: top;\n",
       "    }\n",
       "\n",
       "    .dataframe thead th {\n",
       "        text-align: right;\n",
       "    }\n",
       "</style>\n",
       "<table border=\"1\" class=\"dataframe\">\n",
       "  <thead>\n",
       "    <tr style=\"text-align: right;\">\n",
       "      <th></th>\n",
       "      <th>Latitude</th>\n",
       "      <th>Longitude</th>\n",
       "      <th>Count</th>\n",
       "      <th>RMSE</th>\n",
       "      <th>R2</th>\n",
       "      <th>Bias</th>\n",
       "      <th>Uncertainty</th>\n",
       "      <th>NumSamples</th>\n",
       "    </tr>\n",
       "  </thead>\n",
       "  <tbody>\n",
       "    <tr>\n",
       "      <th>count</th>\n",
       "      <td>211.000000</td>\n",
       "      <td>211.000000</td>\n",
       "      <td>211.000000</td>\n",
       "      <td>211.000000</td>\n",
       "      <td>211.000000</td>\n",
       "      <td>211.000000</td>\n",
       "      <td>211.000000</td>\n",
       "      <td>211.000000</td>\n",
       "    </tr>\n",
       "    <tr>\n",
       "      <th>mean</th>\n",
       "      <td>38.886256</td>\n",
       "      <td>-110.414692</td>\n",
       "      <td>53.886256</td>\n",
       "      <td>23.150659</td>\n",
       "      <td>-0.005320</td>\n",
       "      <td>11.931579</td>\n",
       "      <td>9.490903</td>\n",
       "      <td>53.886256</td>\n",
       "    </tr>\n",
       "    <tr>\n",
       "      <th>std</th>\n",
       "      <td>4.830099</td>\n",
       "      <td>8.029400</td>\n",
       "      <td>57.595026</td>\n",
       "      <td>9.179614</td>\n",
       "      <td>0.912614</td>\n",
       "      <td>8.521982</td>\n",
       "      <td>1.651750</td>\n",
       "      <td>57.595026</td>\n",
       "    </tr>\n",
       "    <tr>\n",
       "      <th>min</th>\n",
       "      <td>30.000000</td>\n",
       "      <td>-124.500000</td>\n",
       "      <td>10.000000</td>\n",
       "      <td>7.166400</td>\n",
       "      <td>-4.484200</td>\n",
       "      <td>0.104200</td>\n",
       "      <td>6.495604</td>\n",
       "      <td>10.000000</td>\n",
       "    </tr>\n",
       "    <tr>\n",
       "      <th>25%</th>\n",
       "      <td>35.000000</td>\n",
       "      <td>-116.750000</td>\n",
       "      <td>26.000000</td>\n",
       "      <td>16.868100</td>\n",
       "      <td>-0.216100</td>\n",
       "      <td>5.009400</td>\n",
       "      <td>8.424216</td>\n",
       "      <td>26.000000</td>\n",
       "    </tr>\n",
       "    <tr>\n",
       "      <th>50%</th>\n",
       "      <td>39.000000</td>\n",
       "      <td>-111.000000</td>\n",
       "      <td>41.000000</td>\n",
       "      <td>21.466600</td>\n",
       "      <td>0.244200</td>\n",
       "      <td>10.422400</td>\n",
       "      <td>9.432770</td>\n",
       "      <td>41.000000</td>\n",
       "    </tr>\n",
       "    <tr>\n",
       "      <th>75%</th>\n",
       "      <td>42.750000</td>\n",
       "      <td>-106.000000</td>\n",
       "      <td>55.000000</td>\n",
       "      <td>27.689800</td>\n",
       "      <td>0.555500</td>\n",
       "      <td>16.767400</td>\n",
       "      <td>10.454173</td>\n",
       "      <td>55.000000</td>\n",
       "    </tr>\n",
       "    <tr>\n",
       "      <th>max</th>\n",
       "      <td>49.000000</td>\n",
       "      <td>-79.000000</td>\n",
       "      <td>528.000000</td>\n",
       "      <td>69.069400</td>\n",
       "      <td>0.896400</td>\n",
       "      <td>39.673800</td>\n",
       "      <td>15.683503</td>\n",
       "      <td>528.000000</td>\n",
       "    </tr>\n",
       "  </tbody>\n",
       "</table>\n",
       "</div>"
      ],
      "text/plain": [
       "         Latitude   Longitude       Count        RMSE          R2        Bias  \\\n",
       "count  211.000000  211.000000  211.000000  211.000000  211.000000  211.000000   \n",
       "mean    38.886256 -110.414692   53.886256   23.150659   -0.005320   11.931579   \n",
       "std      4.830099    8.029400   57.595026    9.179614    0.912614    8.521982   \n",
       "min     30.000000 -124.500000   10.000000    7.166400   -4.484200    0.104200   \n",
       "25%     35.000000 -116.750000   26.000000   16.868100   -0.216100    5.009400   \n",
       "50%     39.000000 -111.000000   41.000000   21.466600    0.244200   10.422400   \n",
       "75%     42.750000 -106.000000   55.000000   27.689800    0.555500   16.767400   \n",
       "max     49.000000  -79.000000  528.000000   69.069400    0.896400   39.673800   \n",
       "\n",
       "       Uncertainty  NumSamples  \n",
       "count   211.000000  211.000000  \n",
       "mean      9.490903   53.886256  \n",
       "std       1.651750   57.595026  \n",
       "min       6.495604   10.000000  \n",
       "25%       8.424216   26.000000  \n",
       "50%       9.432770   41.000000  \n",
       "75%      10.454173   55.000000  \n",
       "max      15.683503  528.000000  "
      ]
     },
     "execution_count": 40,
     "metadata": {},
     "output_type": "execute_result"
    }
   ],
   "source": [
    "locations['projection'][locations['projection'].Bias > 0].reset_index().describe()"
   ]
  },
  {
   "cell_type": "code",
   "execution_count": 41,
   "id": "21c79804-ee7e-4cea-bd1a-75466174f25b",
   "metadata": {},
   "outputs": [
    {
     "data": {
      "text/plain": [
       "array([<AxesSubplot:ylabel='Density'>, <AxesSubplot:ylabel='Density'>],\n",
       "      dtype=object)"
      ]
     },
     "execution_count": 41,
     "metadata": {},
     "output_type": "execute_result"
    },
    {
     "data": {
      "image/png": "[encoded data removed]",
      "text/plain": [
       "<Figure size 432x288 with 2 Axes>"
      ]
     },
     "metadata": {
      "needs_background": "light"
     },
     "output_type": "display_data"
    }
   ],
   "source": [
    "locations['projection'].reset_index()[['Latitude', 'Longitude']].plot.density(subplots=True, sharex=False)"
   ]
  },
  {
   "cell_type": "code",
   "execution_count": 42,
   "id": "9eab28c6-7f09-412a-8200-1fa95e9e27c6",
   "metadata": {},
   "outputs": [
    {
     "data": {
      "text/plain": [
       "array([<AxesSubplot:ylabel='Density'>, <AxesSubplot:ylabel='Density'>],\n",
       "      dtype=object)"
      ]
     },
     "execution_count": 42,
     "metadata": {},
     "output_type": "execute_result"
    },
    {
     "data": {
      "image/png": "[encoded data removed]",
      "text/plain": [
       "<Figure size 432x288 with 2 Axes>"
      ]
     },
     "metadata": {
      "needs_background": "light"
     },
     "output_type": "display_data"
    }
   ],
   "source": [
    "locations['projection'][locations['projection'].Bias < 0].reset_index()[['Latitude', 'Longitude']].plot.density(subplots=True, sharex=False)"
   ]
  },
  {
   "cell_type": "code",
   "execution_count": 43,
   "id": "58b98211-741c-4edb-a44b-573ca50d4af2",
   "metadata": {},
   "outputs": [
    {
     "data": {
      "text/plain": [
       "array([<AxesSubplot:ylabel='Density'>, <AxesSubplot:ylabel='Density'>],\n",
       "      dtype=object)"
      ]
     },
     "execution_count": 43,
     "metadata": {},
     "output_type": "execute_result"
    },
    {
     "data": {
      "image/png": "[encoded data removed]",
      "text/plain": [
       "<Figure size 432x288 with 2 Axes>"
      ]
     },
     "metadata": {
      "needs_background": "light"
     },
     "output_type": "display_data"
    }
   ],
   "source": [
    "locations['projection'][locations['projection'].Bias > 0].reset_index()[['Latitude', 'Longitude']].plot.density(subplots=True, sharex=False)"
   ]
  },
  {
   "cell_type": "code",
   "execution_count": 44,
   "id": "6b938faf-b4e5-4829-9c8c-94ce39c4117a",
   "metadata": {},
   "outputs": [],
   "source": [
    "import matplotlib.pyplot as plt"
   ]
  },
  {
   "cell_type": "code",
   "execution_count": 45,
   "id": "f0326829-5afd-4f57-9784-298c4d1d4ea8",
   "metadata": {},
   "outputs": [
    {
     "data": {
      "text/plain": [
       "<AxesSubplot:ylabel='Density'>"
      ]
     },
     "execution_count": 45,
     "metadata": {},
     "output_type": "execute_result"
    },
    {
     "data": {
      "image/png": "[encoded data removed]",
      "text/plain": [
       "<Figure size 600x600 with 6 Axes>"
      ]
     },
     "metadata": {
      "needs_background": "light"
     },
     "output_type": "display_data"
    }
   ],
   "source": [
    "fig, ((ax1, ax2), (ax3, ax4), (ax5, ax6)) = plt.subplots(\n",
    "    3, 2, figsize=(6, 6), sharex='col', #sharey='row', #\n",
    "    constrained_layout=True, dpi=100, linewidth=2, edgecolor=\"black\")\n",
    "locations['projection'].reset_index()['Latitude'].plot.density(ax=ax1)\n",
    "locations['projection'][locations['projection'].Bias < 0].reset_index()['Latitude'].plot.density(ax=ax3)\n",
    "locations['projection'][locations['projection'].Bias > 0].reset_index()['Latitude'].plot.density(ax=ax5)\n",
    "locations['projection'].reset_index()['Longitude'].plot.density(ax=ax2)\n",
    "locations['projection'][locations['projection'].Bias < 0].reset_index()['Longitude'].plot.density(ax=ax4)\n",
    "locations['projection'][locations['projection'].Bias > 0].reset_index()['Longitude'].plot.density(ax=ax6)"
   ]
  },
  {
   "cell_type": "code",
   "execution_count": 46,
   "id": "eb139c14-b0de-44a2-9e02-e0587ead2c43",
   "metadata": {},
   "outputs": [
    {
     "data": {
      "text/plain": [
       "<AxesSubplot:ylabel='Density'>"
      ]
     },
     "execution_count": 46,
     "metadata": {},
     "output_type": "execute_result"
    },
    {
     "data": {
      "image/png": "[encoded data removed]",
      "text/plain": [
       "<Figure size 600x600 with 6 Axes>"
      ]
     },
     "metadata": {
      "needs_background": "light"
     },
     "output_type": "display_data"
    }
   ],
   "source": [
    "fig, ((ax1, ax2), (ax3, ax4), (ax5, ax6)) = plt.subplots(\n",
    "    3, 2, figsize=(6, 6), sharex='col', #sharey='row', #\n",
    "    constrained_layout=True, dpi=100, linewidth=2, edgecolor=\"black\")\n",
    "locations['differences'].reset_index()['Latitude'].plot.density(ax=ax1)\n",
    "locations['differences'][locations['differences'].Bias < 0].reset_index()['Latitude'].plot.density(ax=ax3)\n",
    "locations['differences'][locations['differences'].Bias > 0].reset_index()['Latitude'].plot.density(ax=ax5)\n",
    "locations['differences'].reset_index()['Longitude'].plot.density(ax=ax2)\n",
    "locations['differences'][locations['differences'].Bias < 0].reset_index()['Longitude'].plot.density(ax=ax4)\n",
    "locations['differences'][locations['differences'].Bias > 0].reset_index()['Longitude'].plot.density(ax=ax6)"
   ]
  },
  {
   "cell_type": "code",
   "execution_count": 48,
   "id": "2f1d1a47-57c2-4cae-9d8d-3cc0b8c0703a",
   "metadata": {
    "scrolled": true,
    "tags": []
   },
   "outputs": [
    {
     "data": {
      "text/html": [
       "<div>\n",
       "<style scoped>\n",
       "    .dataframe tbody tr th:only-of-type {\n",
       "        vertical-align: middle;\n",
       "    }\n",
       "\n",
       "    .dataframe tbody tr th {\n",
       "        vertical-align: top;\n",
       "    }\n",
       "\n",
       "    .dataframe thead th {\n",
       "        text-align: right;\n",
       "    }\n",
       "</style>\n",
       "<table border=\"1\" class=\"dataframe\">\n",
       "  <thead>\n",
       "    <tr style=\"text-align: right;\">\n",
       "      <th></th>\n",
       "      <th></th>\n",
       "      <th>Count</th>\n",
       "      <th>RMSE</th>\n",
       "      <th>R2</th>\n",
       "      <th>Bias</th>\n",
       "      <th>Uncertainty</th>\n",
       "      <th>NumSamples</th>\n",
       "    </tr>\n",
       "    <tr>\n",
       "      <th>Latitude</th>\n",
       "      <th>Longitude</th>\n",
       "      <th></th>\n",
       "      <th></th>\n",
       "      <th></th>\n",
       "      <th></th>\n",
       "      <th></th>\n",
       "      <th></th>\n",
       "    </tr>\n",
       "  </thead>\n",
       "  <tbody>\n",
       "    <tr>\n",
       "      <th>26.5</th>\n",
       "      <th>-99.0</th>\n",
       "      <td>15.0</td>\n",
       "      <td>111.6760</td>\n",
       "      <td>0.2820</td>\n",
       "      <td>-87.1160</td>\n",
       "      <td>15.051169</td>\n",
       "      <td>15</td>\n",
       "    </tr>\n",
       "    <tr>\n",
       "      <th rowspan=\"2\" valign=\"top\">28.5</th>\n",
       "      <th>-99.5</th>\n",
       "      <td>42.0</td>\n",
       "      <td>73.7666</td>\n",
       "      <td>0.4326</td>\n",
       "      <td>-51.6842</td>\n",
       "      <td>14.107915</td>\n",
       "      <td>42</td>\n",
       "    </tr>\n",
       "    <tr>\n",
       "      <th>-98.5</th>\n",
       "      <td>41.0</td>\n",
       "      <td>68.0646</td>\n",
       "      <td>0.4086</td>\n",
       "      <td>-32.2604</td>\n",
       "      <td>13.557655</td>\n",
       "      <td>41</td>\n",
       "    </tr>\n",
       "    <tr>\n",
       "      <th>29.5</th>\n",
       "      <th>-103.5</th>\n",
       "      <td>35.0</td>\n",
       "      <td>14.3700</td>\n",
       "      <td>0.3222</td>\n",
       "      <td>-7.7092</td>\n",
       "      <td>8.097753</td>\n",
       "      <td>35</td>\n",
       "    </tr>\n",
       "    <tr>\n",
       "      <th>30.0</th>\n",
       "      <th>-100.5</th>\n",
       "      <td>48.0</td>\n",
       "      <td>23.3972</td>\n",
       "      <td>0.2038</td>\n",
       "      <td>12.7828</td>\n",
       "      <td>12.453437</td>\n",
       "      <td>48</td>\n",
       "    </tr>\n",
       "    <tr>\n",
       "      <th>...</th>\n",
       "      <th>...</th>\n",
       "      <td>...</td>\n",
       "      <td>...</td>\n",
       "      <td>...</td>\n",
       "      <td>...</td>\n",
       "      <td>...</td>\n",
       "      <td>...</td>\n",
       "    </tr>\n",
       "    <tr>\n",
       "      <th>48.5</th>\n",
       "      <th>-114.0</th>\n",
       "      <td>57.0</td>\n",
       "      <td>96.8254</td>\n",
       "      <td>0.1240</td>\n",
       "      <td>-39.5670</td>\n",
       "      <td>11.975794</td>\n",
       "      <td>57</td>\n",
       "    </tr>\n",
       "    <tr>\n",
       "      <th rowspan=\"4\" valign=\"top\">49.0</th>\n",
       "      <th>-117.5</th>\n",
       "      <td>23.0</td>\n",
       "      <td>30.6978</td>\n",
       "      <td>-0.2384</td>\n",
       "      <td>23.6270</td>\n",
       "      <td>9.594637</td>\n",
       "      <td>23</td>\n",
       "    </tr>\n",
       "    <tr>\n",
       "      <th>-117.0</th>\n",
       "      <td>27.0</td>\n",
       "      <td>21.7176</td>\n",
       "      <td>0.9194</td>\n",
       "      <td>-9.1204</td>\n",
       "      <td>11.409005</td>\n",
       "      <td>27</td>\n",
       "    </tr>\n",
       "    <tr>\n",
       "      <th>-116.5</th>\n",
       "      <td>37.0</td>\n",
       "      <td>57.7266</td>\n",
       "      <td>0.5036</td>\n",
       "      <td>-36.1626</td>\n",
       "      <td>9.975861</td>\n",
       "      <td>37</td>\n",
       "    </tr>\n",
       "    <tr>\n",
       "      <th>-114.0</th>\n",
       "      <td>31.0</td>\n",
       "      <td>28.0990</td>\n",
       "      <td>0.4464</td>\n",
       "      <td>-2.5854</td>\n",
       "      <td>10.630041</td>\n",
       "      <td>31</td>\n",
       "    </tr>\n",
       "  </tbody>\n",
       "</table>\n",
       "<p>412 rows × 6 columns</p>\n",
       "</div>"
      ],
      "text/plain": [
       "                    Count      RMSE      R2     Bias  Uncertainty  NumSamples\n",
       "Latitude Longitude                                                           \n",
       "26.5     -99.0       15.0  111.6760  0.2820 -87.1160    15.051169          15\n",
       "28.5     -99.5       42.0   73.7666  0.4326 -51.6842    14.107915          42\n",
       "         -98.5       41.0   68.0646  0.4086 -32.2604    13.557655          41\n",
       "29.5     -103.5      35.0   14.3700  0.3222  -7.7092     8.097753          35\n",
       "30.0     -100.5      48.0   23.3972  0.2038  12.7828    12.453437          48\n",
       "...                   ...       ...     ...      ...          ...         ...\n",
       "48.5     -114.0      57.0   96.8254  0.1240 -39.5670    11.975794          57\n",
       "49.0     -117.5      23.0   30.6978 -0.2384  23.6270     9.594637          23\n",
       "         -117.0      27.0   21.7176  0.9194  -9.1204    11.409005          27\n",
       "         -116.5      37.0   57.7266  0.5036 -36.1626     9.975861          37\n",
       "         -114.0      31.0   28.0990  0.4464  -2.5854    10.630041          31\n",
       "\n",
       "[412 rows x 6 columns]"
      ]
     },
     "execution_count": 48,
     "metadata": {},
     "output_type": "execute_result"
    }
   ],
   "source": [
    "locations['projection']"
   ]
  },
  {
   "cell_type": "code",
   "execution_count": 55,
   "id": "9d6b668a-055f-4d1d-8642-4f42e0e74f36",
   "metadata": {},
   "outputs": [
    {
     "data": {
      "text/html": [
       "<div>\n",
       "<style scoped>\n",
       "    .dataframe tbody tr th:only-of-type {\n",
       "        vertical-align: middle;\n",
       "    }\n",
       "\n",
       "    .dataframe tbody tr th {\n",
       "        vertical-align: top;\n",
       "    }\n",
       "\n",
       "    .dataframe thead th {\n",
       "        text-align: right;\n",
       "    }\n",
       "</style>\n",
       "<table border=\"1\" class=\"dataframe\">\n",
       "  <thead>\n",
       "    <tr style=\"text-align: right;\">\n",
       "      <th></th>\n",
       "      <th>0</th>\n",
       "      <th>1</th>\n",
       "      <th>2</th>\n",
       "      <th>3</th>\n",
       "      <th>4</th>\n",
       "      <th>5</th>\n",
       "      <th>6</th>\n",
       "      <th>7</th>\n",
       "      <th>8</th>\n",
       "      <th>9</th>\n",
       "      <th>...</th>\n",
       "      <th>43</th>\n",
       "      <th>44</th>\n",
       "      <th>45</th>\n",
       "      <th>46</th>\n",
       "      <th>47</th>\n",
       "      <th>48</th>\n",
       "      <th>49</th>\n",
       "      <th>Latitude</th>\n",
       "      <th>Longitude</th>\n",
       "      <th>LFMC value</th>\n",
       "    </tr>\n",
       "    <tr>\n",
       "      <th>ID</th>\n",
       "      <th></th>\n",
       "      <th></th>\n",
       "      <th></th>\n",
       "      <th></th>\n",
       "      <th></th>\n",
       "      <th></th>\n",
       "      <th></th>\n",
       "      <th></th>\n",
       "      <th></th>\n",
       "      <th></th>\n",
       "      <th></th>\n",
       "      <th></th>\n",
       "      <th></th>\n",
       "      <th></th>\n",
       "      <th></th>\n",
       "      <th></th>\n",
       "      <th></th>\n",
       "      <th></th>\n",
       "      <th></th>\n",
       "      <th></th>\n",
       "      <th></th>\n",
       "    </tr>\n",
       "  </thead>\n",
       "  <tbody>\n",
       "    <tr>\n",
       "      <th>C6_17_126</th>\n",
       "      <td>143.570</td>\n",
       "      <td>141.273</td>\n",
       "      <td>139.210</td>\n",
       "      <td>141.218</td>\n",
       "      <td>142.698</td>\n",
       "      <td>140.535</td>\n",
       "      <td>137.345</td>\n",
       "      <td>138.729</td>\n",
       "      <td>140.210</td>\n",
       "      <td>139.885</td>\n",
       "      <td>...</td>\n",
       "      <td>142.089</td>\n",
       "      <td>139.578</td>\n",
       "      <td>141.824</td>\n",
       "      <td>137.792</td>\n",
       "      <td>140.487</td>\n",
       "      <td>141.351</td>\n",
       "      <td>138.861</td>\n",
       "      <td>45.0</td>\n",
       "      <td>-108.0</td>\n",
       "      <td>138.33333</td>\n",
       "    </tr>\n",
       "    <tr>\n",
       "      <th>C6_17_129</th>\n",
       "      <td>148.161</td>\n",
       "      <td>144.659</td>\n",
       "      <td>142.678</td>\n",
       "      <td>147.140</td>\n",
       "      <td>146.921</td>\n",
       "      <td>144.826</td>\n",
       "      <td>142.202</td>\n",
       "      <td>144.272</td>\n",
       "      <td>143.903</td>\n",
       "      <td>144.572</td>\n",
       "      <td>...</td>\n",
       "      <td>145.940</td>\n",
       "      <td>144.510</td>\n",
       "      <td>146.322</td>\n",
       "      <td>142.027</td>\n",
       "      <td>144.974</td>\n",
       "      <td>145.097</td>\n",
       "      <td>142.879</td>\n",
       "      <td>45.0</td>\n",
       "      <td>-108.0</td>\n",
       "      <td>151.66667</td>\n",
       "    </tr>\n",
       "    <tr>\n",
       "      <th>C6_17_132</th>\n",
       "      <td>145.319</td>\n",
       "      <td>143.031</td>\n",
       "      <td>142.152</td>\n",
       "      <td>144.059</td>\n",
       "      <td>142.469</td>\n",
       "      <td>143.061</td>\n",
       "      <td>141.527</td>\n",
       "      <td>141.480</td>\n",
       "      <td>141.799</td>\n",
       "      <td>141.383</td>\n",
       "      <td>...</td>\n",
       "      <td>143.859</td>\n",
       "      <td>141.160</td>\n",
       "      <td>144.992</td>\n",
       "      <td>140.836</td>\n",
       "      <td>141.553</td>\n",
       "      <td>142.833</td>\n",
       "      <td>143.022</td>\n",
       "      <td>45.0</td>\n",
       "      <td>-108.0</td>\n",
       "      <td>133.33333</td>\n",
       "    </tr>\n",
       "    <tr>\n",
       "      <th>C6_17_135</th>\n",
       "      <td>136.646</td>\n",
       "      <td>136.064</td>\n",
       "      <td>134.176</td>\n",
       "      <td>134.506</td>\n",
       "      <td>134.890</td>\n",
       "      <td>135.519</td>\n",
       "      <td>134.799</td>\n",
       "      <td>134.113</td>\n",
       "      <td>134.839</td>\n",
       "      <td>133.085</td>\n",
       "      <td>...</td>\n",
       "      <td>136.209</td>\n",
       "      <td>132.763</td>\n",
       "      <td>137.203</td>\n",
       "      <td>133.615</td>\n",
       "      <td>133.498</td>\n",
       "      <td>136.344</td>\n",
       "      <td>135.776</td>\n",
       "      <td>45.0</td>\n",
       "      <td>-108.0</td>\n",
       "      <td>129.00000</td>\n",
       "    </tr>\n",
       "    <tr>\n",
       "      <th>C6_17_138</th>\n",
       "      <td>124.199</td>\n",
       "      <td>123.466</td>\n",
       "      <td>121.477</td>\n",
       "      <td>120.238</td>\n",
       "      <td>120.890</td>\n",
       "      <td>122.664</td>\n",
       "      <td>122.008</td>\n",
       "      <td>120.880</td>\n",
       "      <td>121.449</td>\n",
       "      <td>120.258</td>\n",
       "      <td>...</td>\n",
       "      <td>122.430</td>\n",
       "      <td>121.398</td>\n",
       "      <td>124.152</td>\n",
       "      <td>120.266</td>\n",
       "      <td>119.173</td>\n",
       "      <td>122.451</td>\n",
       "      <td>121.940</td>\n",
       "      <td>45.0</td>\n",
       "      <td>-108.0</td>\n",
       "      <td>113.66667</td>\n",
       "    </tr>\n",
       "    <tr>\n",
       "      <th>...</th>\n",
       "      <td>...</td>\n",
       "      <td>...</td>\n",
       "      <td>...</td>\n",
       "      <td>...</td>\n",
       "      <td>...</td>\n",
       "      <td>...</td>\n",
       "      <td>...</td>\n",
       "      <td>...</td>\n",
       "      <td>...</td>\n",
       "      <td>...</td>\n",
       "      <td>...</td>\n",
       "      <td>...</td>\n",
       "      <td>...</td>\n",
       "      <td>...</td>\n",
       "      <td>...</td>\n",
       "      <td>...</td>\n",
       "      <td>...</td>\n",
       "      <td>...</td>\n",
       "      <td>...</td>\n",
       "      <td>...</td>\n",
       "      <td>...</td>\n",
       "    </tr>\n",
       "    <tr>\n",
       "      <th>C6_930_218</th>\n",
       "      <td>127.094</td>\n",
       "      <td>129.943</td>\n",
       "      <td>128.148</td>\n",
       "      <td>123.578</td>\n",
       "      <td>125.669</td>\n",
       "      <td>127.876</td>\n",
       "      <td>129.052</td>\n",
       "      <td>124.768</td>\n",
       "      <td>127.164</td>\n",
       "      <td>130.720</td>\n",
       "      <td>...</td>\n",
       "      <td>126.387</td>\n",
       "      <td>127.763</td>\n",
       "      <td>125.722</td>\n",
       "      <td>129.599</td>\n",
       "      <td>126.453</td>\n",
       "      <td>128.967</td>\n",
       "      <td>130.006</td>\n",
       "      <td>32.0</td>\n",
       "      <td>-96.0</td>\n",
       "      <td>113.50000</td>\n",
       "    </tr>\n",
       "    <tr>\n",
       "      <th>C6_930_220</th>\n",
       "      <td>136.637</td>\n",
       "      <td>136.672</td>\n",
       "      <td>135.142</td>\n",
       "      <td>133.925</td>\n",
       "      <td>134.687</td>\n",
       "      <td>134.273</td>\n",
       "      <td>137.260</td>\n",
       "      <td>134.532</td>\n",
       "      <td>136.310</td>\n",
       "      <td>138.303</td>\n",
       "      <td>...</td>\n",
       "      <td>132.844</td>\n",
       "      <td>136.103</td>\n",
       "      <td>136.409</td>\n",
       "      <td>139.335</td>\n",
       "      <td>136.077</td>\n",
       "      <td>137.307</td>\n",
       "      <td>138.888</td>\n",
       "      <td>32.0</td>\n",
       "      <td>-96.0</td>\n",
       "      <td>146.00000</td>\n",
       "    </tr>\n",
       "    <tr>\n",
       "      <th>C6_930_221</th>\n",
       "      <td>125.044</td>\n",
       "      <td>124.910</td>\n",
       "      <td>124.338</td>\n",
       "      <td>121.390</td>\n",
       "      <td>124.047</td>\n",
       "      <td>121.351</td>\n",
       "      <td>123.976</td>\n",
       "      <td>122.630</td>\n",
       "      <td>123.776</td>\n",
       "      <td>124.854</td>\n",
       "      <td>...</td>\n",
       "      <td>122.562</td>\n",
       "      <td>122.964</td>\n",
       "      <td>125.081</td>\n",
       "      <td>125.668</td>\n",
       "      <td>122.792</td>\n",
       "      <td>124.647</td>\n",
       "      <td>124.473</td>\n",
       "      <td>32.0</td>\n",
       "      <td>-96.0</td>\n",
       "      <td>151.00000</td>\n",
       "    </tr>\n",
       "    <tr>\n",
       "      <th>C6_939_422</th>\n",
       "      <td>92.136</td>\n",
       "      <td>93.162</td>\n",
       "      <td>91.517</td>\n",
       "      <td>92.571</td>\n",
       "      <td>91.838</td>\n",
       "      <td>93.134</td>\n",
       "      <td>93.048</td>\n",
       "      <td>90.456</td>\n",
       "      <td>92.295</td>\n",
       "      <td>94.017</td>\n",
       "      <td>...</td>\n",
       "      <td>92.226</td>\n",
       "      <td>93.352</td>\n",
       "      <td>91.653</td>\n",
       "      <td>91.901</td>\n",
       "      <td>92.390</td>\n",
       "      <td>93.063</td>\n",
       "      <td>92.066</td>\n",
       "      <td>35.0</td>\n",
       "      <td>-109.0</td>\n",
       "      <td>74.66667</td>\n",
       "    </tr>\n",
       "    <tr>\n",
       "      <th>C6_939_428</th>\n",
       "      <td>95.789</td>\n",
       "      <td>95.173</td>\n",
       "      <td>94.275</td>\n",
       "      <td>96.634</td>\n",
       "      <td>95.956</td>\n",
       "      <td>93.485</td>\n",
       "      <td>96.110</td>\n",
       "      <td>93.701</td>\n",
       "      <td>95.647</td>\n",
       "      <td>98.784</td>\n",
       "      <td>...</td>\n",
       "      <td>95.847</td>\n",
       "      <td>95.230</td>\n",
       "      <td>95.261</td>\n",
       "      <td>97.897</td>\n",
       "      <td>96.688</td>\n",
       "      <td>95.757</td>\n",
       "      <td>96.806</td>\n",
       "      <td>35.0</td>\n",
       "      <td>-109.0</td>\n",
       "      <td>85.50000</td>\n",
       "    </tr>\n",
       "  </tbody>\n",
       "</table>\n",
       "<p>21520 rows × 53 columns</p>\n",
       "</div>"
      ],
      "text/plain": [
       "                  0        1        2        3        4        5        6  \\\n",
       "ID                                                                          \n",
       "C6_17_126   143.570  141.273  139.210  141.218  142.698  140.535  137.345   \n",
       "C6_17_129   148.161  144.659  142.678  147.140  146.921  144.826  142.202   \n",
       "C6_17_132   145.319  143.031  142.152  144.059  142.469  143.061  141.527   \n",
       "C6_17_135   136.646  136.064  134.176  134.506  134.890  135.519  134.799   \n",
       "C6_17_138   124.199  123.466  121.477  120.238  120.890  122.664  122.008   \n",
       "...             ...      ...      ...      ...      ...      ...      ...   \n",
       "C6_930_218  127.094  129.943  128.148  123.578  125.669  127.876  129.052   \n",
       "C6_930_220  136.637  136.672  135.142  133.925  134.687  134.273  137.260   \n",
       "C6_930_221  125.044  124.910  124.338  121.390  124.047  121.351  123.976   \n",
       "C6_939_422   92.136   93.162   91.517   92.571   91.838   93.134   93.048   \n",
       "C6_939_428   95.789   95.173   94.275   96.634   95.956   93.485   96.110   \n",
       "\n",
       "                  7        8        9  ...       43       44       45  \\\n",
       "ID                                     ...                              \n",
       "C6_17_126   138.729  140.210  139.885  ...  142.089  139.578  141.824   \n",
       "C6_17_129   144.272  143.903  144.572  ...  145.940  144.510  146.322   \n",
       "C6_17_132   141.480  141.799  141.383  ...  143.859  141.160  144.992   \n",
       "C6_17_135   134.113  134.839  133.085  ...  136.209  132.763  137.203   \n",
       "C6_17_138   120.880  121.449  120.258  ...  122.430  121.398  124.152   \n",
       "...             ...      ...      ...  ...      ...      ...      ...   \n",
       "C6_930_218  124.768  127.164  130.720  ...  126.387  127.763  125.722   \n",
       "C6_930_220  134.532  136.310  138.303  ...  132.844  136.103  136.409   \n",
       "C6_930_221  122.630  123.776  124.854  ...  122.562  122.964  125.081   \n",
       "C6_939_422   90.456   92.295   94.017  ...   92.226   93.352   91.653   \n",
       "C6_939_428   93.701   95.647   98.784  ...   95.847   95.230   95.261   \n",
       "\n",
       "                 46       47       48       49  Latitude  Longitude  \\\n",
       "ID                                                                    \n",
       "C6_17_126   137.792  140.487  141.351  138.861      45.0     -108.0   \n",
       "C6_17_129   142.027  144.974  145.097  142.879      45.0     -108.0   \n",
       "C6_17_132   140.836  141.553  142.833  143.022      45.0     -108.0   \n",
       "C6_17_135   133.615  133.498  136.344  135.776      45.0     -108.0   \n",
       "C6_17_138   120.266  119.173  122.451  121.940      45.0     -108.0   \n",
       "...             ...      ...      ...      ...       ...        ...   \n",
       "C6_930_218  129.599  126.453  128.967  130.006      32.0      -96.0   \n",
       "C6_930_220  139.335  136.077  137.307  138.888      32.0      -96.0   \n",
       "C6_930_221  125.668  122.792  124.647  124.473      32.0      -96.0   \n",
       "C6_939_422   91.901   92.390   93.063   92.066      35.0     -109.0   \n",
       "C6_939_428   97.897   96.688   95.757   96.806      35.0     -109.0   \n",
       "\n",
       "            LFMC value  \n",
       "ID                      \n",
       "C6_17_126    138.33333  \n",
       "C6_17_129    151.66667  \n",
       "C6_17_132    133.33333  \n",
       "C6_17_135    129.00000  \n",
       "C6_17_138    113.66667  \n",
       "...                ...  \n",
       "C6_930_218   113.50000  \n",
       "C6_930_220   146.00000  \n",
       "C6_930_221   151.00000  \n",
       "C6_939_422    74.66667  \n",
       "C6_939_428    85.50000  \n",
       "\n",
       "[21520 rows x 53 columns]"
      ]
     },
     "execution_count": 55,
     "metadata": {},
     "output_type": "execute_result"
    }
   ],
   "source": [
    "predict2 = predict.merge(samples[['Latitude', 'Longitude', 'LFMC value']], left_index=True, right_index=True)\n",
    "predict2['Latitude'] = np.ceil((predict2.Latitude * 2))/2\n",
    "predict2['Longitude'] = np.floor((predict2.Longitude * 2))/2\n",
    "predict2"
   ]
  },
  {
   "cell_type": "code",
   "execution_count": 58,
   "id": "191449cd-485f-471d-b223-9b6263d74aa7",
   "metadata": {
    "scrolled": true,
    "tags": []
   },
   "outputs": [
    {
     "data": {
      "text/html": [
       "<div>\n",
       "<style scoped>\n",
       "    .dataframe tbody tr th:only-of-type {\n",
       "        vertical-align: middle;\n",
       "    }\n",
       "\n",
       "    .dataframe tbody tr th {\n",
       "        vertical-align: top;\n",
       "    }\n",
       "\n",
       "    .dataframe thead th {\n",
       "        text-align: right;\n",
       "    }\n",
       "</style>\n",
       "<table border=\"1\" class=\"dataframe\">\n",
       "  <thead>\n",
       "    <tr style=\"text-align: right;\">\n",
       "      <th></th>\n",
       "      <th>Latitude</th>\n",
       "      <th>Longitude</th>\n",
       "      <th>Sampling date</th>\n",
       "      <th>Sampling year</th>\n",
       "      <th>Land Cover</th>\n",
       "      <th>LFMC value</th>\n",
       "      <th>Site</th>\n",
       "      <th>Czone1</th>\n",
       "      <th>Czone2</th>\n",
       "      <th>Czone3</th>\n",
       "      <th>Day_sin</th>\n",
       "      <th>Day_cos</th>\n",
       "      <th>Long_sin</th>\n",
       "      <th>Long_cos</th>\n",
       "      <th>Lat_norm</th>\n",
       "      <th>Elevation</th>\n",
       "      <th>Slope</th>\n",
       "      <th>Aspect_sin</th>\n",
       "      <th>Aspect_cos</th>\n",
       "    </tr>\n",
       "    <tr>\n",
       "      <th>ID</th>\n",
       "      <th></th>\n",
       "      <th></th>\n",
       "      <th></th>\n",
       "      <th></th>\n",
       "      <th></th>\n",
       "      <th></th>\n",
       "      <th></th>\n",
       "      <th></th>\n",
       "      <th></th>\n",
       "      <th></th>\n",
       "      <th></th>\n",
       "      <th></th>\n",
       "      <th></th>\n",
       "      <th></th>\n",
       "      <th></th>\n",
       "      <th></th>\n",
       "      <th></th>\n",
       "      <th></th>\n",
       "      <th></th>\n",
       "    </tr>\n",
       "  </thead>\n",
       "  <tbody>\n",
       "    <tr>\n",
       "      <th>C6_17_126</th>\n",
       "      <td>45.0</td>\n",
       "      <td>-108.0</td>\n",
       "      <td>2017-06-22</td>\n",
       "      <td>2017</td>\n",
       "      <td>Tree cover, needleleaved, evergreen, closed to...</td>\n",
       "      <td>138.33333</td>\n",
       "      <td>C6_17</td>\n",
       "      <td>D</td>\n",
       "      <td>Df</td>\n",
       "      <td>Dfc</td>\n",
       "      <td>-0.17977</td>\n",
       "      <td>0.98371</td>\n",
       "      <td>-0.95366</td>\n",
       "      <td>-0.30088</td>\n",
       "      <td>0.74786</td>\n",
       "      <td>0.43411</td>\n",
       "      <td>0.06524</td>\n",
       "      <td>0.61539</td>\n",
       "      <td>0.78822</td>\n",
       "    </tr>\n",
       "    <tr>\n",
       "      <th>C6_17_129</th>\n",
       "      <td>45.0</td>\n",
       "      <td>-108.0</td>\n",
       "      <td>2017-07-05</td>\n",
       "      <td>2017</td>\n",
       "      <td>Tree cover, needleleaved, evergreen, closed to...</td>\n",
       "      <td>151.66667</td>\n",
       "      <td>C6_17</td>\n",
       "      <td>D</td>\n",
       "      <td>Df</td>\n",
       "      <td>Dfc</td>\n",
       "      <td>0.04302</td>\n",
       "      <td>0.99907</td>\n",
       "      <td>-0.95366</td>\n",
       "      <td>-0.30088</td>\n",
       "      <td>0.74786</td>\n",
       "      <td>0.43411</td>\n",
       "      <td>0.06524</td>\n",
       "      <td>0.61539</td>\n",
       "      <td>0.78822</td>\n",
       "    </tr>\n",
       "    <tr>\n",
       "      <th>C6_17_132</th>\n",
       "      <td>45.0</td>\n",
       "      <td>-108.0</td>\n",
       "      <td>2017-07-20</td>\n",
       "      <td>2017</td>\n",
       "      <td>Tree cover, needleleaved, evergreen, closed to...</td>\n",
       "      <td>133.33333</td>\n",
       "      <td>C6_17</td>\n",
       "      <td>D</td>\n",
       "      <td>Df</td>\n",
       "      <td>Dfc</td>\n",
       "      <td>0.29671</td>\n",
       "      <td>0.95497</td>\n",
       "      <td>-0.95366</td>\n",
       "      <td>-0.30088</td>\n",
       "      <td>0.74786</td>\n",
       "      <td>0.43411</td>\n",
       "      <td>0.06524</td>\n",
       "      <td>0.61539</td>\n",
       "      <td>0.78822</td>\n",
       "    </tr>\n",
       "    <tr>\n",
       "      <th>C6_17_135</th>\n",
       "      <td>45.0</td>\n",
       "      <td>-108.0</td>\n",
       "      <td>2017-08-03</td>\n",
       "      <td>2017</td>\n",
       "      <td>Tree cover, needleleaved, evergreen, closed to...</td>\n",
       "      <td>129.00000</td>\n",
       "      <td>C6_17</td>\n",
       "      <td>D</td>\n",
       "      <td>Df</td>\n",
       "      <td>Dfc</td>\n",
       "      <td>0.51606</td>\n",
       "      <td>0.85655</td>\n",
       "      <td>-0.95366</td>\n",
       "      <td>-0.30088</td>\n",
       "      <td>0.74786</td>\n",
       "      <td>0.43411</td>\n",
       "      <td>0.06524</td>\n",
       "      <td>0.61539</td>\n",
       "      <td>0.78822</td>\n",
       "    </tr>\n",
       "    <tr>\n",
       "      <th>C6_17_138</th>\n",
       "      <td>45.0</td>\n",
       "      <td>-108.0</td>\n",
       "      <td>2017-08-17</td>\n",
       "      <td>2017</td>\n",
       "      <td>Tree cover, needleleaved, evergreen, closed to...</td>\n",
       "      <td>113.66667</td>\n",
       "      <td>C6_17</td>\n",
       "      <td>D</td>\n",
       "      <td>Df</td>\n",
       "      <td>Dfc</td>\n",
       "      <td>0.70558</td>\n",
       "      <td>0.70863</td>\n",
       "      <td>-0.95366</td>\n",
       "      <td>-0.30088</td>\n",
       "      <td>0.74786</td>\n",
       "      <td>0.43411</td>\n",
       "      <td>0.06524</td>\n",
       "      <td>0.61539</td>\n",
       "      <td>0.78822</td>\n",
       "    </tr>\n",
       "    <tr>\n",
       "      <th>...</th>\n",
       "      <td>...</td>\n",
       "      <td>...</td>\n",
       "      <td>...</td>\n",
       "      <td>...</td>\n",
       "      <td>...</td>\n",
       "      <td>...</td>\n",
       "      <td>...</td>\n",
       "      <td>...</td>\n",
       "      <td>...</td>\n",
       "      <td>...</td>\n",
       "      <td>...</td>\n",
       "      <td>...</td>\n",
       "      <td>...</td>\n",
       "      <td>...</td>\n",
       "      <td>...</td>\n",
       "      <td>...</td>\n",
       "      <td>...</td>\n",
       "      <td>...</td>\n",
       "      <td>...</td>\n",
       "    </tr>\n",
       "    <tr>\n",
       "      <th>C6_930_218</th>\n",
       "      <td>32.0</td>\n",
       "      <td>-96.0</td>\n",
       "      <td>2014-10-01</td>\n",
       "      <td>2014</td>\n",
       "      <td>Mosaic herbaceous cover (&gt;50%) / tree and shru...</td>\n",
       "      <td>113.50000</td>\n",
       "      <td>C6_930</td>\n",
       "      <td>C</td>\n",
       "      <td>Cf</td>\n",
       "      <td>Cfa</td>\n",
       "      <td>0.99992</td>\n",
       "      <td>0.01291</td>\n",
       "      <td>-0.99512</td>\n",
       "      <td>-0.09868</td>\n",
       "      <td>0.67652</td>\n",
       "      <td>0.02486</td>\n",
       "      <td>0.06335</td>\n",
       "      <td>-0.06403</td>\n",
       "      <td>0.99795</td>\n",
       "    </tr>\n",
       "    <tr>\n",
       "      <th>C6_930_220</th>\n",
       "      <td>32.0</td>\n",
       "      <td>-96.0</td>\n",
       "      <td>2014-11-01</td>\n",
       "      <td>2014</td>\n",
       "      <td>Mosaic herbaceous cover (&gt;50%) / tree and shru...</td>\n",
       "      <td>146.00000</td>\n",
       "      <td>C6_930</td>\n",
       "      <td>C</td>\n",
       "      <td>Cf</td>\n",
       "      <td>Cfa</td>\n",
       "      <td>0.86746</td>\n",
       "      <td>-0.49751</td>\n",
       "      <td>-0.99512</td>\n",
       "      <td>-0.09868</td>\n",
       "      <td>0.67652</td>\n",
       "      <td>0.02486</td>\n",
       "      <td>0.06335</td>\n",
       "      <td>-0.06403</td>\n",
       "      <td>0.99795</td>\n",
       "    </tr>\n",
       "    <tr>\n",
       "      <th>C6_930_221</th>\n",
       "      <td>32.0</td>\n",
       "      <td>-96.0</td>\n",
       "      <td>2014-12-01</td>\n",
       "      <td>2014</td>\n",
       "      <td>Mosaic herbaceous cover (&gt;50%) / tree and shru...</td>\n",
       "      <td>151.00000</td>\n",
       "      <td>C6_930</td>\n",
       "      <td>C</td>\n",
       "      <td>Cf</td>\n",
       "      <td>Cfa</td>\n",
       "      <td>0.50867</td>\n",
       "      <td>-0.86096</td>\n",
       "      <td>-0.99512</td>\n",
       "      <td>-0.09868</td>\n",
       "      <td>0.67652</td>\n",
       "      <td>0.02486</td>\n",
       "      <td>0.06335</td>\n",
       "      <td>-0.06403</td>\n",
       "      <td>0.99795</td>\n",
       "    </tr>\n",
       "    <tr>\n",
       "      <th>C6_939_422</th>\n",
       "      <td>35.0</td>\n",
       "      <td>-109.0</td>\n",
       "      <td>2014-04-09</td>\n",
       "      <td>2014</td>\n",
       "      <td>Tree cover, needleleaved, evergreen, closed to...</td>\n",
       "      <td>74.66667</td>\n",
       "      <td>C6_939</td>\n",
       "      <td>B</td>\n",
       "      <td>BS</td>\n",
       "      <td>BSk</td>\n",
       "      <td>-0.99326</td>\n",
       "      <td>0.11593</td>\n",
       "      <td>-0.94786</td>\n",
       "      <td>-0.31870</td>\n",
       "      <td>0.69425</td>\n",
       "      <td>0.38669</td>\n",
       "      <td>0.06712</td>\n",
       "      <td>0.20946</td>\n",
       "      <td>0.97782</td>\n",
       "    </tr>\n",
       "    <tr>\n",
       "      <th>C6_939_428</th>\n",
       "      <td>35.0</td>\n",
       "      <td>-109.0</td>\n",
       "      <td>2014-04-29</td>\n",
       "      <td>2014</td>\n",
       "      <td>Tree cover, needleleaved, evergreen, closed to...</td>\n",
       "      <td>85.50000</td>\n",
       "      <td>C6_939</td>\n",
       "      <td>B</td>\n",
       "      <td>BS</td>\n",
       "      <td>BSk</td>\n",
       "      <td>-0.89584</td>\n",
       "      <td>0.44438</td>\n",
       "      <td>-0.94786</td>\n",
       "      <td>-0.31870</td>\n",
       "      <td>0.69425</td>\n",
       "      <td>0.38669</td>\n",
       "      <td>0.06712</td>\n",
       "      <td>0.20946</td>\n",
       "      <td>0.97782</td>\n",
       "    </tr>\n",
       "  </tbody>\n",
       "</table>\n",
       "<p>21520 rows × 19 columns</p>\n",
       "</div>"
      ],
      "text/plain": [
       "            Latitude  Longitude Sampling date  Sampling year  \\\n",
       "ID                                                             \n",
       "C6_17_126       45.0     -108.0    2017-06-22           2017   \n",
       "C6_17_129       45.0     -108.0    2017-07-05           2017   \n",
       "C6_17_132       45.0     -108.0    2017-07-20           2017   \n",
       "C6_17_135       45.0     -108.0    2017-08-03           2017   \n",
       "C6_17_138       45.0     -108.0    2017-08-17           2017   \n",
       "...              ...        ...           ...            ...   \n",
       "C6_930_218      32.0      -96.0    2014-10-01           2014   \n",
       "C6_930_220      32.0      -96.0    2014-11-01           2014   \n",
       "C6_930_221      32.0      -96.0    2014-12-01           2014   \n",
       "C6_939_422      35.0     -109.0    2014-04-09           2014   \n",
       "C6_939_428      35.0     -109.0    2014-04-29           2014   \n",
       "\n",
       "                                                   Land Cover  LFMC value  \\\n",
       "ID                                                                          \n",
       "C6_17_126   Tree cover, needleleaved, evergreen, closed to...   138.33333   \n",
       "C6_17_129   Tree cover, needleleaved, evergreen, closed to...   151.66667   \n",
       "C6_17_132   Tree cover, needleleaved, evergreen, closed to...   133.33333   \n",
       "C6_17_135   Tree cover, needleleaved, evergreen, closed to...   129.00000   \n",
       "C6_17_138   Tree cover, needleleaved, evergreen, closed to...   113.66667   \n",
       "...                                                       ...         ...   \n",
       "C6_930_218  Mosaic herbaceous cover (>50%) / tree and shru...   113.50000   \n",
       "C6_930_220  Mosaic herbaceous cover (>50%) / tree and shru...   146.00000   \n",
       "C6_930_221  Mosaic herbaceous cover (>50%) / tree and shru...   151.00000   \n",
       "C6_939_422  Tree cover, needleleaved, evergreen, closed to...    74.66667   \n",
       "C6_939_428  Tree cover, needleleaved, evergreen, closed to...    85.50000   \n",
       "\n",
       "              Site Czone1 Czone2 Czone3  Day_sin  Day_cos  Long_sin  Long_cos  \\\n",
       "ID                                                                              \n",
       "C6_17_126    C6_17      D     Df    Dfc -0.17977  0.98371  -0.95366  -0.30088   \n",
       "C6_17_129    C6_17      D     Df    Dfc  0.04302  0.99907  -0.95366  -0.30088   \n",
       "C6_17_132    C6_17      D     Df    Dfc  0.29671  0.95497  -0.95366  -0.30088   \n",
       "C6_17_135    C6_17      D     Df    Dfc  0.51606  0.85655  -0.95366  -0.30088   \n",
       "C6_17_138    C6_17      D     Df    Dfc  0.70558  0.70863  -0.95366  -0.30088   \n",
       "...            ...    ...    ...    ...      ...      ...       ...       ...   \n",
       "C6_930_218  C6_930      C     Cf    Cfa  0.99992  0.01291  -0.99512  -0.09868   \n",
       "C6_930_220  C6_930      C     Cf    Cfa  0.86746 -0.49751  -0.99512  -0.09868   \n",
       "C6_930_221  C6_930      C     Cf    Cfa  0.50867 -0.86096  -0.99512  -0.09868   \n",
       "C6_939_422  C6_939      B     BS    BSk -0.99326  0.11593  -0.94786  -0.31870   \n",
       "C6_939_428  C6_939      B     BS    BSk -0.89584  0.44438  -0.94786  -0.31870   \n",
       "\n",
       "            Lat_norm  Elevation    Slope  Aspect_sin  Aspect_cos  \n",
       "ID                                                                \n",
       "C6_17_126    0.74786    0.43411  0.06524     0.61539     0.78822  \n",
       "C6_17_129    0.74786    0.43411  0.06524     0.61539     0.78822  \n",
       "C6_17_132    0.74786    0.43411  0.06524     0.61539     0.78822  \n",
       "C6_17_135    0.74786    0.43411  0.06524     0.61539     0.78822  \n",
       "C6_17_138    0.74786    0.43411  0.06524     0.61539     0.78822  \n",
       "...              ...        ...      ...         ...         ...  \n",
       "C6_930_218   0.67652    0.02486  0.06335    -0.06403     0.99795  \n",
       "C6_930_220   0.67652    0.02486  0.06335    -0.06403     0.99795  \n",
       "C6_930_221   0.67652    0.02486  0.06335    -0.06403     0.99795  \n",
       "C6_939_422   0.69425    0.38669  0.06712     0.20946     0.97782  \n",
       "C6_939_428   0.69425    0.38669  0.06712     0.20946     0.97782  \n",
       "\n",
       "[21520 rows x 19 columns]"
      ]
     },
     "execution_count": 58,
     "metadata": {},
     "output_type": "execute_result"
    }
   ],
   "source": [
    "samples2 = samples.copy()\n",
    "samples2['Latitude'] = np.ceil((samples2.Latitude * 2))/2\n",
    "samples2['Longitude'] = np.floor((samples2.Longitude * 2))/2\n",
    "samples2"
   ]
  },
  {
   "cell_type": "code",
   "execution_count": 59,
   "id": "9ce259f2-cefe-4552-81a2-c33df660b4dc",
   "metadata": {},
   "outputs": [
    {
     "data": {
      "text/plain": [
       "<AxesSubplot:ylabel='Density'>"
      ]
     },
     "execution_count": 59,
     "metadata": {},
     "output_type": "execute_result"
    },
    {
     "data": {
      "image/png": "[encoded data removed]",
      "text/plain": [
       "<Figure size 432x288 with 1 Axes>"
      ]
     },
     "metadata": {
      "needs_background": "light"
     },
     "output_type": "display_data"
    }
   ],
   "source": [
    "samples2['LFMC value'].plot.density()"
   ]
  },
  {
   "cell_type": "code",
   "execution_count": 70,
   "id": "51bf7519-7f04-465c-bd71-b8a7eb58f6f8",
   "metadata": {},
   "outputs": [
    {
     "data": {
      "image/png": "[encoded data removed]",
      "text/plain": [
       "<Figure size 864x720 with 56 Axes>"
      ]
     },
     "metadata": {
      "needs_background": "light"
     },
     "output_type": "display_data"
    }
   ],
   "source": [
    "_ = predict2.drop(columns=['Latitude', 'Longitude']).plot.density(subplots=True, layout=(7,8), figsize=(12, 10), sharex=True, sharey=True, legend=False)"
   ]
  },
  {
   "cell_type": "code",
   "execution_count": 80,
   "id": "01dea609-68c9-4093-b122-5eaf705c3c2c",
   "metadata": {},
   "outputs": [
    {
     "data": {
      "image/png": "[encoded data removed]",
      "text/plain": [
       "<Figure size 648x648 with 9 Axes>"
      ]
     },
     "metadata": {
      "needs_background": "light"
     },
     "output_type": "display_data"
    }
   ],
   "source": [
    "_ = predict2[['5', '23', '46', '17', 'LFMC value', '39', '2', '28', '34']].plot.density(subplots=True, layout=(3, 3), figsize=(9, 9),\n",
    "                                                                                        sharex=True, sharey=True, legend=False, xlim=(0,450))"
   ]
  },
  {
   "cell_type": "code",
   "execution_count": 73,
   "id": "61fde99b-2614-4054-b0e8-1a45d5be6949",
   "metadata": {},
   "outputs": [
    {
     "data": {
      "text/plain": [
       "1.2693692949398612"
      ]
     },
     "execution_count": 73,
     "metadata": {},
     "output_type": "execute_result"
    }
   ],
   "source": [
    "predict.kurtosis().mean()"
   ]
  },
  {
   "cell_type": "code",
   "execution_count": 76,
   "id": "c27c4615-7242-4a43-88cc-257b0f3b94b9",
   "metadata": {},
   "outputs": [
    {
     "data": {
      "text/plain": [
       "3.2277075585237056"
      ]
     },
     "execution_count": 76,
     "metadata": {},
     "output_type": "execute_result"
    }
   ],
   "source": [
    "samples['LFMC value'].kurtosis()"
   ]
  },
  {
   "cell_type": "code",
   "execution_count": 93,
   "id": "24c7ff36-5762-4410-8d3f-bfeb8c544569",
   "metadata": {},
   "outputs": [
    {
     "data": {
      "text/plain": [
       "3.2277075585237043"
      ]
     },
     "execution_count": 93,
     "metadata": {},
     "output_type": "execute_result"
    }
   ],
   "source": [
    "g2 = (((samples['LFMC value'] - samples['LFMC value'].mean())/samples['LFMC value'].std(ddof=0)) ** 4).mean() - 3\n",
    "n = len(samples['LFMC value'])\n",
    "G2 = (n-1) / ((n-2)*(n-3)) * ((n+1) * g2 + 6)\n",
    "G2"
   ]
  },
  {
   "cell_type": "code",
   "execution_count": 90,
   "id": "e6b32458-0830-4521-bee2-201847b647bb",
   "metadata": {},
   "outputs": [
    {
     "data": {
      "text/plain": [
       "21520"
      ]
     },
     "execution_count": 90,
     "metadata": {},
     "output_type": "execute_result"
    }
   ],
   "source": [
    "len(samples['LFMC value'])"
   ]
  },
  {
   "cell_type": "code",
   "execution_count": 88,
   "id": "7b913cdb-f00d-4f80-bfd1-ef5bd32abd81",
   "metadata": {},
   "outputs": [
    {
     "data": {
      "text/plain": [
       "1.1621758641790318"
      ]
     },
     "execution_count": 88,
     "metadata": {},
     "output_type": "execute_result"
    }
   ],
   "source": [
    "predict_now = pd.read_csv(os.path.join(MODEL_DIR, tests[0]['dir'], ifile_name), index_col=0)\n",
    "predict_now.kurtosis().mean()"
   ]
  },
  {
   "cell_type": "code",
   "execution_count": 24,
   "id": "2bfb9da2-9ce4-4440-9938-b556a5d631f4",
   "metadata": {},
   "outputs": [
    {
     "data": {
      "text/plain": [
       "(0.0, 1.0)"
      ]
     },
     "execution_count": 24,
     "metadata": {},
     "output_type": "execute_result"
    },
    {
     "data": {
      "image/png": "[encoded data removed]",
      "text/plain": [
       "<Figure size 432x288 with 1 Axes>"
      ]
     },
     "metadata": {
      "needs_background": "light"
     },
     "output_type": "display_data"
    }
   ],
   "source": [
    "ax = pd.concat([locations['projection']['R2'], locations['nowcasting']['R2']], axis=1, keys=['Projection', 'Nowcasting']).plot.density()\n",
    "ax.set_xlim([0, 1])"
   ]
  },
  {
   "cell_type": "code",
   "execution_count": 28,
   "id": "54418b07-6395-41be-af01-558fc1cec71c",
   "metadata": {},
   "outputs": [
    {
     "data": {
      "text/plain": [
       "(0.0, 100.0)"
      ]
     },
     "execution_count": 28,
     "metadata": {},
     "output_type": "execute_result"
    },
    {
     "data": {
      "image/png": "[encoded data removed]",
      "text/plain": [
       "<Figure size 432x288 with 1 Axes>"
      ]
     },
     "metadata": {
      "needs_background": "light"
     },
     "output_type": "display_data"
    }
   ],
   "source": [
    "ax = pd.concat([locations['projection']['RMSE'], locations['nowcasting']['RMSE']], axis=1, keys=['Projection', 'Nowcasting']).plot.density()\n",
    "ax.set_xlim([0, 100])"
   ]
  },
  {
   "cell_type": "code",
   "execution_count": 29,
   "id": "5ced08c9-6c26-4902-b55f-a03f24087e0a",
   "metadata": {},
   "outputs": [
    {
     "data": {
      "text/plain": [
       "(-50.0, 50.0)"
      ]
     },
     "execution_count": 29,
     "metadata": {},
     "output_type": "execute_result"
    },
    {
     "data": {
      "image/png": "[encoded data removed]",
      "text/plain": [
       "<Figure size 432x288 with 1 Axes>"
      ]
     },
     "metadata": {
      "needs_background": "light"
     },
     "output_type": "display_data"
    }
   ],
   "source": [
    "ax = pd.concat([locations['projection']['Bias'], locations['nowcasting']['Bias']], axis=1, keys=['Projection', 'Nowcasting']).plot.density()\n",
    "ax.set_xlim([-50, 50])"
   ]
  },
  {
   "cell_type": "code",
   "execution_count": 22,
   "id": "6c2682b6-a95a-496c-b5ed-071b1780398b",
   "metadata": {},
   "outputs": [
    {
     "data": {
      "text/html": [
       "<div>\n",
       "<style scoped>\n",
       "    .dataframe tbody tr th:only-of-type {\n",
       "        vertical-align: middle;\n",
       "    }\n",
       "\n",
       "    .dataframe tbody tr th {\n",
       "        vertical-align: top;\n",
       "    }\n",
       "\n",
       "    .dataframe thead th {\n",
       "        text-align: right;\n",
       "    }\n",
       "</style>\n",
       "<table border=\"1\" class=\"dataframe\">\n",
       "  <thead>\n",
       "    <tr style=\"text-align: right;\">\n",
       "      <th></th>\n",
       "      <th>Projection</th>\n",
       "      <th>Nowcasting</th>\n",
       "      <th>Differences</th>\n",
       "    </tr>\n",
       "  </thead>\n",
       "  <tbody>\n",
       "    <tr>\n",
       "      <th>0.0</th>\n",
       "      <td>-4.48420</td>\n",
       "      <td>-4.93140</td>\n",
       "      <td>-0.85360</td>\n",
       "    </tr>\n",
       "    <tr>\n",
       "      <th>0.1</th>\n",
       "      <td>-0.42366</td>\n",
       "      <td>-0.43304</td>\n",
       "      <td>-0.17950</td>\n",
       "    </tr>\n",
       "    <tr>\n",
       "      <th>0.2</th>\n",
       "      <td>-0.05012</td>\n",
       "      <td>-0.01348</td>\n",
       "      <td>-0.10800</td>\n",
       "    </tr>\n",
       "    <tr>\n",
       "      <th>0.3</th>\n",
       "      <td>0.12878</td>\n",
       "      <td>0.14794</td>\n",
       "      <td>-0.06862</td>\n",
       "    </tr>\n",
       "    <tr>\n",
       "      <th>0.4</th>\n",
       "      <td>0.26952</td>\n",
       "      <td>0.29136</td>\n",
       "      <td>-0.04452</td>\n",
       "    </tr>\n",
       "    <tr>\n",
       "      <th>0.5</th>\n",
       "      <td>0.36360</td>\n",
       "      <td>0.39010</td>\n",
       "      <td>-0.02780</td>\n",
       "    </tr>\n",
       "    <tr>\n",
       "      <th>0.6</th>\n",
       "      <td>0.45136</td>\n",
       "      <td>0.48764</td>\n",
       "      <td>-0.00976</td>\n",
       "    </tr>\n",
       "    <tr>\n",
       "      <th>0.7</th>\n",
       "      <td>0.56516</td>\n",
       "      <td>0.57056</td>\n",
       "      <td>0.01652</td>\n",
       "    </tr>\n",
       "    <tr>\n",
       "      <th>0.8</th>\n",
       "      <td>0.64400</td>\n",
       "      <td>0.66516</td>\n",
       "      <td>0.06504</td>\n",
       "    </tr>\n",
       "    <tr>\n",
       "      <th>0.9</th>\n",
       "      <td>0.74964</td>\n",
       "      <td>0.79674</td>\n",
       "      <td>0.16526</td>\n",
       "    </tr>\n",
       "    <tr>\n",
       "      <th>1.0</th>\n",
       "      <td>0.99060</td>\n",
       "      <td>0.99000</td>\n",
       "      <td>0.81740</td>\n",
       "    </tr>\n",
       "  </tbody>\n",
       "</table>\n",
       "</div>"
      ],
      "text/plain": [
       "     Projection  Nowcasting  Differences\n",
       "0.0    -4.48420    -4.93140     -0.85360\n",
       "0.1    -0.42366    -0.43304     -0.17950\n",
       "0.2    -0.05012    -0.01348     -0.10800\n",
       "0.3     0.12878     0.14794     -0.06862\n",
       "0.4     0.26952     0.29136     -0.04452\n",
       "0.5     0.36360     0.39010     -0.02780\n",
       "0.6     0.45136     0.48764     -0.00976\n",
       "0.7     0.56516     0.57056      0.01652\n",
       "0.8     0.64400     0.66516      0.06504\n",
       "0.9     0.74964     0.79674      0.16526\n",
       "1.0     0.99060     0.99000      0.81740"
      ]
     },
     "execution_count": 22,
     "metadata": {},
     "output_type": "execute_result"
    }
   ],
   "source": [
    "pd.concat([locations['projection']['R2'], locations['nowcasting']['R2'], locations['differences']['R2']],\n",
    "          axis=1,\n",
    "          keys=['Projection', 'Nowcasting', 'Differences']\n",
    "         ).quantile([0, .10, .20, .30, .40, .50, .60, .70, .80, .90, 1])"
   ]
  },
  {
   "cell_type": "code",
   "execution_count": 56,
   "id": "48de70b9-5cda-4c04-9488-ad1d13cdfbbc",
   "metadata": {},
   "outputs": [
    {
     "data": {
      "text/html": [
       "<div>\n",
       "<style scoped>\n",
       "    .dataframe tbody tr th:only-of-type {\n",
       "        vertical-align: middle;\n",
       "    }\n",
       "\n",
       "    .dataframe tbody tr th {\n",
       "        vertical-align: top;\n",
       "    }\n",
       "\n",
       "    .dataframe thead th {\n",
       "        text-align: right;\n",
       "    }\n",
       "</style>\n",
       "<table border=\"1\" class=\"dataframe\">\n",
       "  <thead>\n",
       "    <tr style=\"text-align: right;\">\n",
       "      <th></th>\n",
       "      <th>Projection</th>\n",
       "      <th>Nowcasting</th>\n",
       "      <th>Differences</th>\n",
       "    </tr>\n",
       "  </thead>\n",
       "  <tbody>\n",
       "    <tr>\n",
       "      <th>0.00</th>\n",
       "      <td>-4.48420</td>\n",
       "      <td>-4.93140</td>\n",
       "      <td>-0.85360</td>\n",
       "    </tr>\n",
       "    <tr>\n",
       "      <th>0.25</th>\n",
       "      <td>0.03150</td>\n",
       "      <td>0.07065</td>\n",
       "      <td>-0.08720</td>\n",
       "    </tr>\n",
       "    <tr>\n",
       "      <th>0.50</th>\n",
       "      <td>0.36360</td>\n",
       "      <td>0.39010</td>\n",
       "      <td>-0.02780</td>\n",
       "    </tr>\n",
       "    <tr>\n",
       "      <th>0.75</th>\n",
       "      <td>0.59385</td>\n",
       "      <td>0.62245</td>\n",
       "      <td>0.02965</td>\n",
       "    </tr>\n",
       "    <tr>\n",
       "      <th>1.00</th>\n",
       "      <td>0.99060</td>\n",
       "      <td>0.99000</td>\n",
       "      <td>0.81740</td>\n",
       "    </tr>\n",
       "  </tbody>\n",
       "</table>\n",
       "</div>"
      ],
      "text/plain": [
       "      Projection  Nowcasting  Differences\n",
       "0.00    -4.48420    -4.93140     -0.85360\n",
       "0.25     0.03150     0.07065     -0.08720\n",
       "0.50     0.36360     0.39010     -0.02780\n",
       "0.75     0.59385     0.62245      0.02965\n",
       "1.00     0.99060     0.99000      0.81740"
      ]
     },
     "execution_count": 56,
     "metadata": {},
     "output_type": "execute_result"
    }
   ],
   "source": [
    "pd.concat([locations['projection']['R2'], locations['nowcasting']['R2'], locations['differences']['R2']],\n",
    "          axis=1,\n",
    "          keys=['Projection', 'Nowcasting', 'Differences']\n",
    "         ).quantile([0, .25, .50, .75, 1])"
   ]
  },
  {
   "cell_type": "code",
   "execution_count": 31,
   "id": "bb4ffe1d-8fbe-4a20-a601-f207834bf6bd",
   "metadata": {},
   "outputs": [
    {
     "data": {
      "text/plain": [
       "<AxesSubplot:xlabel='R2', ylabel='Count'>"
      ]
     },
     "execution_count": 31,
     "metadata": {},
     "output_type": "execute_result"
    },
    {
     "data": {
      "image/png": "[encoded data removed]",
      "text/plain": [
       "<Figure size 432x288 with 1 Axes>"
      ]
     },
     "metadata": {
      "needs_background": "light"
     },
     "output_type": "display_data"
    }
   ],
   "source": [
    "locations['projection'].plot.scatter('R2', 'Count')"
   ]
  },
  {
   "cell_type": "code",
   "execution_count": 32,
   "id": "81503485-a68d-417f-b5ad-3e6bea567ade",
   "metadata": {},
   "outputs": [
    {
     "data": {
      "text/plain": [
       "<AxesSubplot:xlabel='R2', ylabel='Count'>"
      ]
     },
     "execution_count": 32,
     "metadata": {},
     "output_type": "execute_result"
    },
    {
     "data": {
      "image/png": "[encoded data removed]",
      "text/plain": [
       "<Figure size 432x288 with 1 Axes>"
      ]
     },
     "metadata": {
      "needs_background": "light"
     },
     "output_type": "display_data"
    }
   ],
   "source": [
    "locations['nowcasting'].plot.scatter('R2', 'Count')"
   ]
  },
  {
   "cell_type": "code",
   "execution_count": 33,
   "id": "e545919c-d83e-4cea-a0bb-d3a526e1dbd7",
   "metadata": {},
   "outputs": [
    {
     "data": {
      "text/html": [
       "<div>\n",
       "<style scoped>\n",
       "    .dataframe tbody tr th:only-of-type {\n",
       "        vertical-align: middle;\n",
       "    }\n",
       "\n",
       "    .dataframe tbody tr th {\n",
       "        vertical-align: top;\n",
       "    }\n",
       "\n",
       "    .dataframe thead th {\n",
       "        text-align: right;\n",
       "    }\n",
       "</style>\n",
       "<table border=\"1\" class=\"dataframe\">\n",
       "  <thead>\n",
       "    <tr style=\"text-align: right;\">\n",
       "      <th></th>\n",
       "      <th></th>\n",
       "      <th>Count</th>\n",
       "      <th>RMSE</th>\n",
       "      <th>R2</th>\n",
       "      <th>Bias</th>\n",
       "      <th>Uncertainty</th>\n",
       "      <th>NumSamples</th>\n",
       "    </tr>\n",
       "    <tr>\n",
       "      <th>Latitude</th>\n",
       "      <th>Longitude</th>\n",
       "      <th></th>\n",
       "      <th></th>\n",
       "      <th></th>\n",
       "      <th></th>\n",
       "      <th></th>\n",
       "      <th></th>\n",
       "    </tr>\n",
       "  </thead>\n",
       "  <tbody>\n",
       "    <tr>\n",
       "      <th>30.5</th>\n",
       "      <th>-98.0</th>\n",
       "      <td>300.0</td>\n",
       "      <td>21.9298</td>\n",
       "      <td>-0.5938</td>\n",
       "      <td>10.8598</td>\n",
       "      <td>10.762477</td>\n",
       "      <td>300</td>\n",
       "    </tr>\n",
       "    <tr>\n",
       "      <th>34.5</th>\n",
       "      <th>-119.0</th>\n",
       "      <td>528.0</td>\n",
       "      <td>21.6354</td>\n",
       "      <td>0.7156</td>\n",
       "      <td>11.2440</td>\n",
       "      <td>9.773398</td>\n",
       "      <td>528</td>\n",
       "    </tr>\n",
       "  </tbody>\n",
       "</table>\n",
       "</div>"
      ],
      "text/plain": [
       "                    Count     RMSE      R2     Bias  Uncertainty  NumSamples\n",
       "Latitude Longitude                                                          \n",
       "30.5     -98.0      300.0  21.9298 -0.5938  10.8598    10.762477         300\n",
       "34.5     -119.0     528.0  21.6354  0.7156  11.2440     9.773398         528"
      ]
     },
     "execution_count": 33,
     "metadata": {},
     "output_type": "execute_result"
    }
   ],
   "source": [
    "locations['projection'][locations['projection'].Count >= 300]"
   ]
  },
  {
   "cell_type": "code",
   "execution_count": 34,
   "id": "2479a932-76b8-44e8-a371-bf57b1ed7880",
   "metadata": {},
   "outputs": [
    {
     "data": {
      "text/html": [
       "<div>\n",
       "<style scoped>\n",
       "    .dataframe tbody tr th:only-of-type {\n",
       "        vertical-align: middle;\n",
       "    }\n",
       "\n",
       "    .dataframe tbody tr th {\n",
       "        vertical-align: top;\n",
       "    }\n",
       "\n",
       "    .dataframe thead th {\n",
       "        text-align: right;\n",
       "    }\n",
       "</style>\n",
       "<table border=\"1\" class=\"dataframe\">\n",
       "  <thead>\n",
       "    <tr style=\"text-align: right;\">\n",
       "      <th></th>\n",
       "      <th>Count</th>\n",
       "      <th>RMSE</th>\n",
       "      <th>R2</th>\n",
       "      <th>Bias</th>\n",
       "      <th>Uncertainty</th>\n",
       "      <th>NumSamples</th>\n",
       "    </tr>\n",
       "  </thead>\n",
       "  <tbody>\n",
       "    <tr>\n",
       "      <th>count</th>\n",
       "      <td>94.000000</td>\n",
       "      <td>94.000000</td>\n",
       "      <td>94.000000</td>\n",
       "      <td>94.000000</td>\n",
       "      <td>94.000000</td>\n",
       "      <td>94.000000</td>\n",
       "    </tr>\n",
       "    <tr>\n",
       "      <th>mean</th>\n",
       "      <td>46.127660</td>\n",
       "      <td>25.993579</td>\n",
       "      <td>-0.740953</td>\n",
       "      <td>10.691419</td>\n",
       "      <td>9.273600</td>\n",
       "      <td>46.127660</td>\n",
       "    </tr>\n",
       "    <tr>\n",
       "      <th>std</th>\n",
       "      <td>41.185193</td>\n",
       "      <td>9.015516</td>\n",
       "      <td>0.998437</td>\n",
       "      <td>13.643050</td>\n",
       "      <td>1.649829</td>\n",
       "      <td>41.185193</td>\n",
       "    </tr>\n",
       "    <tr>\n",
       "      <th>min</th>\n",
       "      <td>10.000000</td>\n",
       "      <td>12.748600</td>\n",
       "      <td>-4.484200</td>\n",
       "      <td>-35.712600</td>\n",
       "      <td>6.659774</td>\n",
       "      <td>10.000000</td>\n",
       "    </tr>\n",
       "    <tr>\n",
       "      <th>25%</th>\n",
       "      <td>24.250000</td>\n",
       "      <td>20.849900</td>\n",
       "      <td>-0.952900</td>\n",
       "      <td>3.713750</td>\n",
       "      <td>8.362752</td>\n",
       "      <td>24.250000</td>\n",
       "    </tr>\n",
       "    <tr>\n",
       "      <th>50%</th>\n",
       "      <td>37.000000</td>\n",
       "      <td>24.595300</td>\n",
       "      <td>-0.360400</td>\n",
       "      <td>12.592000</td>\n",
       "      <td>9.038063</td>\n",
       "      <td>37.000000</td>\n",
       "    </tr>\n",
       "    <tr>\n",
       "      <th>75%</th>\n",
       "      <td>51.250000</td>\n",
       "      <td>30.250100</td>\n",
       "      <td>-0.117300</td>\n",
       "      <td>20.156400</td>\n",
       "      <td>10.112445</td>\n",
       "      <td>51.250000</td>\n",
       "    </tr>\n",
       "    <tr>\n",
       "      <th>max</th>\n",
       "      <td>300.000000</td>\n",
       "      <td>69.069400</td>\n",
       "      <td>-0.002600</td>\n",
       "      <td>39.673800</td>\n",
       "      <td>15.325358</td>\n",
       "      <td>300.000000</td>\n",
       "    </tr>\n",
       "  </tbody>\n",
       "</table>\n",
       "</div>"
      ],
      "text/plain": [
       "            Count       RMSE         R2       Bias  Uncertainty  NumSamples\n",
       "count   94.000000  94.000000  94.000000  94.000000    94.000000   94.000000\n",
       "mean    46.127660  25.993579  -0.740953  10.691419     9.273600   46.127660\n",
       "std     41.185193   9.015516   0.998437  13.643050     1.649829   41.185193\n",
       "min     10.000000  12.748600  -4.484200 -35.712600     6.659774   10.000000\n",
       "25%     24.250000  20.849900  -0.952900   3.713750     8.362752   24.250000\n",
       "50%     37.000000  24.595300  -0.360400  12.592000     9.038063   37.000000\n",
       "75%     51.250000  30.250100  -0.117300  20.156400    10.112445   51.250000\n",
       "max    300.000000  69.069400  -0.002600  39.673800    15.325358  300.000000"
      ]
     },
     "execution_count": 34,
     "metadata": {},
     "output_type": "execute_result"
    }
   ],
   "source": [
    "locations['projection'][locations['projection'].R2 < 0].describe()"
   ]
  },
  {
   "cell_type": "code",
   "execution_count": 36,
   "id": "afe37b21-17e0-4246-9eb4-671a2fde7105",
   "metadata": {},
   "outputs": [
    {
     "data": {
      "text/html": [
       "<div>\n",
       "<style scoped>\n",
       "    .dataframe tbody tr th:only-of-type {\n",
       "        vertical-align: middle;\n",
       "    }\n",
       "\n",
       "    .dataframe tbody tr th {\n",
       "        vertical-align: top;\n",
       "    }\n",
       "\n",
       "    .dataframe thead th {\n",
       "        text-align: right;\n",
       "    }\n",
       "</style>\n",
       "<table border=\"1\" class=\"dataframe\">\n",
       "  <thead>\n",
       "    <tr style=\"text-align: right;\">\n",
       "      <th></th>\n",
       "      <th>Count</th>\n",
       "      <th>RMSE</th>\n",
       "      <th>R2</th>\n",
       "      <th>Bias</th>\n",
       "      <th>Uncertainty</th>\n",
       "      <th>NumSamples</th>\n",
       "    </tr>\n",
       "  </thead>\n",
       "  <tbody>\n",
       "    <tr>\n",
       "      <th>count</th>\n",
       "      <td>318.000000</td>\n",
       "      <td>318.000000</td>\n",
       "      <td>318.000000</td>\n",
       "      <td>318.000000</td>\n",
       "      <td>318.000000</td>\n",
       "      <td>318.000000</td>\n",
       "    </tr>\n",
       "    <tr>\n",
       "      <th>mean</th>\n",
       "      <td>52.984277</td>\n",
       "      <td>26.230816</td>\n",
       "      <td>0.467404</td>\n",
       "      <td>-2.544488</td>\n",
       "      <td>9.620068</td>\n",
       "      <td>52.984277</td>\n",
       "    </tr>\n",
       "    <tr>\n",
       "      <th>std</th>\n",
       "      <td>50.573023</td>\n",
       "      <td>13.149980</td>\n",
       "      <td>0.232996</td>\n",
       "      <td>14.655905</td>\n",
       "      <td>1.626657</td>\n",
       "      <td>50.573023</td>\n",
       "    </tr>\n",
       "    <tr>\n",
       "      <th>min</th>\n",
       "      <td>10.000000</td>\n",
       "      <td>4.320200</td>\n",
       "      <td>0.005400</td>\n",
       "      <td>-87.116000</td>\n",
       "      <td>6.490231</td>\n",
       "      <td>10.000000</td>\n",
       "    </tr>\n",
       "    <tr>\n",
       "      <th>25%</th>\n",
       "      <td>26.000000</td>\n",
       "      <td>17.444050</td>\n",
       "      <td>0.286600</td>\n",
       "      <td>-9.068950</td>\n",
       "      <td>8.450785</td>\n",
       "      <td>26.000000</td>\n",
       "    </tr>\n",
       "    <tr>\n",
       "      <th>50%</th>\n",
       "      <td>40.000000</td>\n",
       "      <td>23.638700</td>\n",
       "      <td>0.466400</td>\n",
       "      <td>-1.777000</td>\n",
       "      <td>9.685903</td>\n",
       "      <td>40.000000</td>\n",
       "    </tr>\n",
       "    <tr>\n",
       "      <th>75%</th>\n",
       "      <td>59.500000</td>\n",
       "      <td>32.697700</td>\n",
       "      <td>0.653700</td>\n",
       "      <td>6.795150</td>\n",
       "      <td>10.630036</td>\n",
       "      <td>59.500000</td>\n",
       "    </tr>\n",
       "    <tr>\n",
       "      <th>max</th>\n",
       "      <td>528.000000</td>\n",
       "      <td>111.676000</td>\n",
       "      <td>0.990600</td>\n",
       "      <td>33.708200</td>\n",
       "      <td>16.792282</td>\n",
       "      <td>528.000000</td>\n",
       "    </tr>\n",
       "  </tbody>\n",
       "</table>\n",
       "</div>"
      ],
      "text/plain": [
       "            Count        RMSE          R2        Bias  Uncertainty  NumSamples\n",
       "count  318.000000  318.000000  318.000000  318.000000   318.000000  318.000000\n",
       "mean    52.984277   26.230816    0.467404   -2.544488     9.620068   52.984277\n",
       "std     50.573023   13.149980    0.232996   14.655905     1.626657   50.573023\n",
       "min     10.000000    4.320200    0.005400  -87.116000     6.490231   10.000000\n",
       "25%     26.000000   17.444050    0.286600   -9.068950     8.450785   26.000000\n",
       "50%     40.000000   23.638700    0.466400   -1.777000     9.685903   40.000000\n",
       "75%     59.500000   32.697700    0.653700    6.795150    10.630036   59.500000\n",
       "max    528.000000  111.676000    0.990600   33.708200    16.792282  528.000000"
      ]
     },
     "execution_count": 36,
     "metadata": {},
     "output_type": "execute_result"
    }
   ],
   "source": [
    "locations['projection'][locations['projection'].R2 > 0].describe()"
   ]
  },
  {
   "cell_type": "code",
   "execution_count": 43,
   "id": "8621e6e5-4972-4ac7-bf11-ec39676db63a",
   "metadata": {},
   "outputs": [
    {
     "data": {
      "text/plain": [
       "dict_keys(['nowcasting', 'projection', 'differences', 'LFMC_stats'])"
      ]
     },
     "execution_count": 43,
     "metadata": {},
     "output_type": "execute_result"
    }
   ],
   "source": [
    "locations.keys()"
   ]
  },
  {
   "cell_type": "code",
   "execution_count": 48,
   "id": "f3045eb1-0eaa-4ee1-8ccc-101fe05dad19",
   "metadata": {},
   "outputs": [],
   "source": [
    "samples_temp = samples[['Longitude', 'Latitude', 'LFMC value']].copy()\n",
    "samples_temp['Latitude'] = np.ceil((samples_temp.Latitude * 2))/2\n",
    "samples_temp['Longitude'] = np.floor((samples_temp.Longitude * 2))/2\n",
    "locations['LFMC_stats'] = samples_temp.groupby(['Longitude', 'Latitude']).describe().droplevel(0, axis=1)"
   ]
  },
  {
   "cell_type": "code",
   "execution_count": 51,
   "id": "a438cbc6-05f8-456e-9c7a-908ea393845a",
   "metadata": {},
   "outputs": [
    {
     "data": {
      "text/html": [
       "<div>\n",
       "<style scoped>\n",
       "    .dataframe tbody tr th:only-of-type {\n",
       "        vertical-align: middle;\n",
       "    }\n",
       "\n",
       "    .dataframe tbody tr th {\n",
       "        vertical-align: top;\n",
       "    }\n",
       "\n",
       "    .dataframe thead th {\n",
       "        text-align: right;\n",
       "    }\n",
       "</style>\n",
       "<table border=\"1\" class=\"dataframe\">\n",
       "  <thead>\n",
       "    <tr style=\"text-align: right;\">\n",
       "      <th></th>\n",
       "      <th>Count</th>\n",
       "      <th>RMSE</th>\n",
       "      <th>R2</th>\n",
       "      <th>Bias</th>\n",
       "      <th>Uncertainty</th>\n",
       "      <th>NumSamples</th>\n",
       "      <th>std</th>\n",
       "    </tr>\n",
       "  </thead>\n",
       "  <tbody>\n",
       "    <tr>\n",
       "      <th>count</th>\n",
       "      <td>94.000000</td>\n",
       "      <td>94.000000</td>\n",
       "      <td>94.000000</td>\n",
       "      <td>94.000000</td>\n",
       "      <td>94.000000</td>\n",
       "      <td>94.000000</td>\n",
       "      <td>94.000000</td>\n",
       "    </tr>\n",
       "    <tr>\n",
       "      <th>mean</th>\n",
       "      <td>46.127660</td>\n",
       "      <td>25.993579</td>\n",
       "      <td>-0.740953</td>\n",
       "      <td>10.691419</td>\n",
       "      <td>9.273600</td>\n",
       "      <td>46.127660</td>\n",
       "      <td>18.901910</td>\n",
       "    </tr>\n",
       "    <tr>\n",
       "      <th>std</th>\n",
       "      <td>41.185193</td>\n",
       "      <td>9.015516</td>\n",
       "      <td>0.998437</td>\n",
       "      <td>13.643050</td>\n",
       "      <td>1.649829</td>\n",
       "      <td>41.185193</td>\n",
       "      <td>8.251761</td>\n",
       "    </tr>\n",
       "    <tr>\n",
       "      <th>min</th>\n",
       "      <td>10.000000</td>\n",
       "      <td>12.748600</td>\n",
       "      <td>-4.484200</td>\n",
       "      <td>-35.712600</td>\n",
       "      <td>6.659774</td>\n",
       "      <td>10.000000</td>\n",
       "      <td>7.037130</td>\n",
       "    </tr>\n",
       "    <tr>\n",
       "      <th>25%</th>\n",
       "      <td>24.250000</td>\n",
       "      <td>20.849900</td>\n",
       "      <td>-0.952900</td>\n",
       "      <td>3.713750</td>\n",
       "      <td>8.362752</td>\n",
       "      <td>24.250000</td>\n",
       "      <td>13.834518</td>\n",
       "    </tr>\n",
       "    <tr>\n",
       "      <th>50%</th>\n",
       "      <td>37.000000</td>\n",
       "      <td>24.595300</td>\n",
       "      <td>-0.360400</td>\n",
       "      <td>12.592000</td>\n",
       "      <td>9.038063</td>\n",
       "      <td>37.000000</td>\n",
       "      <td>17.283578</td>\n",
       "    </tr>\n",
       "    <tr>\n",
       "      <th>75%</th>\n",
       "      <td>51.250000</td>\n",
       "      <td>30.250100</td>\n",
       "      <td>-0.117300</td>\n",
       "      <td>20.156400</td>\n",
       "      <td>10.112445</td>\n",
       "      <td>51.250000</td>\n",
       "      <td>22.877415</td>\n",
       "    </tr>\n",
       "    <tr>\n",
       "      <th>max</th>\n",
       "      <td>300.000000</td>\n",
       "      <td>69.069400</td>\n",
       "      <td>-0.002600</td>\n",
       "      <td>39.673800</td>\n",
       "      <td>15.325358</td>\n",
       "      <td>300.000000</td>\n",
       "      <td>68.566713</td>\n",
       "    </tr>\n",
       "  </tbody>\n",
       "</table>\n",
       "</div>"
      ],
      "text/plain": [
       "            Count       RMSE         R2       Bias  Uncertainty  NumSamples  \\\n",
       "count   94.000000  94.000000  94.000000  94.000000    94.000000   94.000000   \n",
       "mean    46.127660  25.993579  -0.740953  10.691419     9.273600   46.127660   \n",
       "std     41.185193   9.015516   0.998437  13.643050     1.649829   41.185193   \n",
       "min     10.000000  12.748600  -4.484200 -35.712600     6.659774   10.000000   \n",
       "25%     24.250000  20.849900  -0.952900   3.713750     8.362752   24.250000   \n",
       "50%     37.000000  24.595300  -0.360400  12.592000     9.038063   37.000000   \n",
       "75%     51.250000  30.250100  -0.117300  20.156400    10.112445   51.250000   \n",
       "max    300.000000  69.069400  -0.002600  39.673800    15.325358  300.000000   \n",
       "\n",
       "             std  \n",
       "count  94.000000  \n",
       "mean   18.901910  \n",
       "std     8.251761  \n",
       "min     7.037130  \n",
       "25%    13.834518  \n",
       "50%    17.283578  \n",
       "75%    22.877415  \n",
       "max    68.566713  "
      ]
     },
     "execution_count": 51,
     "metadata": {},
     "output_type": "execute_result"
    }
   ],
   "source": [
    "locations['projection'][locations['projection'].R2 < 0].merge(locations['LFMC_stats']['std'], left_index=True, right_index=True).describe()"
   ]
  },
  {
   "cell_type": "code",
   "execution_count": 54,
   "id": "641a96f2-0971-473c-b30f-c976b9467793",
   "metadata": {},
   "outputs": [
    {
     "data": {
      "text/plain": [
       "count    469.000000\n",
       "mean      26.368117\n",
       "std       14.976609\n",
       "min        1.178514\n",
       "25%       15.174537\n",
       "50%       22.569585\n",
       "75%       35.623229\n",
       "max       76.390978\n",
       "Name: std, dtype: float64"
      ]
     },
     "execution_count": 54,
     "metadata": {},
     "output_type": "execute_result"
    }
   ],
   "source": [
    "locations['LFMC_stats']['std'].describe()"
   ]
  },
  {
   "cell_type": "code",
   "execution_count": 55,
   "id": "34d5db2f-a236-4add-9542-89e2e9c74435",
   "metadata": {},
   "outputs": [
    {
     "data": {
      "text/html": [
       "<div>\n",
       "<style scoped>\n",
       "    .dataframe tbody tr th:only-of-type {\n",
       "        vertical-align: middle;\n",
       "    }\n",
       "\n",
       "    .dataframe tbody tr th {\n",
       "        vertical-align: top;\n",
       "    }\n",
       "\n",
       "    .dataframe thead th {\n",
       "        text-align: right;\n",
       "    }\n",
       "</style>\n",
       "<table border=\"1\" class=\"dataframe\">\n",
       "  <thead>\n",
       "    <tr style=\"text-align: right;\">\n",
       "      <th></th>\n",
       "      <th></th>\n",
       "      <th>count</th>\n",
       "      <th>mean</th>\n",
       "      <th>std</th>\n",
       "      <th>min</th>\n",
       "      <th>25%</th>\n",
       "      <th>50%</th>\n",
       "      <th>75%</th>\n",
       "      <th>max</th>\n",
       "    </tr>\n",
       "    <tr>\n",
       "      <th>Longitude</th>\n",
       "      <th>Latitude</th>\n",
       "      <th></th>\n",
       "      <th></th>\n",
       "      <th></th>\n",
       "      <th></th>\n",
       "      <th></th>\n",
       "      <th></th>\n",
       "      <th></th>\n",
       "      <th></th>\n",
       "    </tr>\n",
       "  </thead>\n",
       "  <tbody>\n",
       "    <tr>\n",
       "      <th>-98.0</th>\n",
       "      <th>30.5</th>\n",
       "      <td>300.0</td>\n",
       "      <td>107.758333</td>\n",
       "      <td>17.387212</td>\n",
       "      <td>61.0</td>\n",
       "      <td>97.0</td>\n",
       "      <td>104.0</td>\n",
       "      <td>116.125</td>\n",
       "      <td>173.0</td>\n",
       "    </tr>\n",
       "  </tbody>\n",
       "</table>\n",
       "</div>"
      ],
      "text/plain": [
       "                    count        mean        std   min   25%    50%      75%  \\\n",
       "Longitude Latitude                                                             \n",
       "-98.0     30.5      300.0  107.758333  17.387212  61.0  97.0  104.0  116.125   \n",
       "\n",
       "                      max  \n",
       "Longitude Latitude         \n",
       "-98.0     30.5      173.0  "
      ]
     },
     "execution_count": 55,
     "metadata": {},
     "output_type": "execute_result"
    }
   ],
   "source": [
    "locations['LFMC_stats'][locations['LFMC_stats']['count'] == 300]"
   ]
  },
  {
   "cell_type": "code",
   "execution_count": null,
   "id": "a200e972-47c9-4364-8ff6-e87b360ec61f",
   "metadata": {},
   "outputs": [],
   "source": []
  }
 ],
 "metadata": {
  "kernelspec": {
   "display_name": "LFMC",
   "language": "python",
   "name": "lfmc"
  },
  "language_info": {
   "codemirror_mode": {
    "name": "ipython",
    "version": 3
   },
   "file_extension": ".py",
   "mimetype": "text/x-python",
   "name": "python",
   "nbconvert_exporter": "python",
   "pygments_lexer": "ipython3",
   "version": "3.8.13"
  }
 },
 "nbformat": 4,
 "nbformat_minor": 5
}
