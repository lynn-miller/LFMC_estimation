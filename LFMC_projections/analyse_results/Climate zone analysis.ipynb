{
 "cells": [
  {
   "cell_type": "markdown",
   "id": "6120fbf8-df7a-4b13-b64f-f15e0181d9e1",
   "metadata": {},
   "source": [
    "# Statistics and Figures for Analysis by Climate Zone"
   ]
  },
  {
   "cell_type": "markdown",
   "id": "390deec7-7b8f-4e67-b1d9-e520b7d85931",
   "metadata": {},
   "source": [
    "## Initialisation"
   ]
  },
  {
   "cell_type": "code",
   "execution_count": null,
   "id": "broadband-funeral",
   "metadata": {},
   "outputs": [],
   "source": [
    "import json\n",
    "import numpy as np\n",
    "import os\n",
    "import pandas as pd\n",
    "import seaborn as sns\n",
    "\n",
    "from scipy import stats\n",
    "\n",
    "import matplotlib.pyplot as plt\n",
    "\n",
    "import initialise\n",
    "import common\n",
    "from analysis_utils import calc_statistics\n",
    "from display_utils import display_frames"
   ]
  },
  {
   "cell_type": "code",
   "execution_count": null,
   "id": "colored-uncle",
   "metadata": {},
   "outputs": [],
   "source": [
    "samples_file = os.path.join(common.DATASETS_DIR, 'samples_730days.csv')\n",
    "model_dir = os.path.join(common.MODELS_DIR, 'evaluation_models', 'test3')"
   ]
  },
  {
   "cell_type": "code",
   "execution_count": null,
   "id": "a97ccaf7-7d9e-4433-a48d-cde4881b2a54",
   "metadata": {},
   "outputs": [],
   "source": [
    "MODEL_RMSE = 27.52\n",
    "MODEL_R2 = 0.47\n",
    "TEXT_SIZE = 7\n",
    "FONT_SIZE = 7\n",
    "TITLE_SIZE = 8\n",
    "MARKER_SIZE = 7\n",
    "LINE_WIDTH = 0.75\n",
    "SATURATION = 0.8"
   ]
  },
  {
   "cell_type": "markdown",
   "id": "f8b32c59-b6c1-4e52-82bb-f35464bf6848",
   "metadata": {},
   "source": [
    "## Get the Samples and Predictions"
   ]
  },
  {
   "cell_type": "code",
   "execution_count": null,
   "id": "banner-proxy",
   "metadata": {
    "scrolled": true
   },
   "outputs": [],
   "source": [
    "with open(os.path.join(model_dir, 'model_params.json'), 'r') as f:\n",
    "    ws_params = json.load(f)\n",
    "all_samples = pd.read_csv(samples_file, index_col=0)\n",
    "predicts = pd.read_csv(os.path.join(model_dir, f'ensemble{common.ENSEMBLE_SIZE}_{common.ANALYSIS_MODEL}.csv'), index_col=0)\n",
    "samples = all_samples.reindex(predicts.index)"
   ]
  },
  {
   "cell_type": "markdown",
   "id": "e0067157-a1ed-42d4-9aaf-0bde66d04a6b",
   "metadata": {},
   "source": [
    "## Functions"
   ]
  },
  {
   "cell_type": "markdown",
   "id": "f6c305e2-89b3-4161-93bd-af76d509d0a9",
   "metadata": {},
   "source": [
    "### Statistical functions"
   ]
  },
  {
   "cell_type": "code",
   "execution_count": null,
   "id": "decimal-colors",
   "metadata": {},
   "outputs": [],
   "source": [
    "def rmse(errors):\n",
    "    return np.sqrt((errors ** 2).mean())"
   ]
  },
  {
   "cell_type": "code",
   "execution_count": null,
   "id": "continuous-establishment",
   "metadata": {},
   "outputs": [],
   "source": [
    "def gen_stats(y, yhat):\n",
    "    data = pd.DataFrame({'y': y['LFMC value'], 'yhat': yhat, 'Climate Zone': y['Czone3']})\n",
    "    data['Pred_error'] = data.yhat - data.y\n",
    "    data['tss'] = (data.y - data.y.mean()) ** 2\n",
    "    data['rss'] = (data.yhat - data.y) ** 2\n",
    "    stats_ = data.groupby(['Climate Zone']).agg({'Pred_error': ['mean', rmse], 'tss': ['sum'], 'rss': ['sum']}).reset_index()\n",
    "    stats_.columns = ['Climate Zone', 'mean', 'rmse', 'tss', 'rss']\n",
    "    stats_['r2'] = 1 - stats_.rss / stats_.tss\n",
    "    return stats_  "
   ]
  },
  {
   "cell_type": "code",
   "execution_count": null,
   "id": "cf9b6a39-6e9b-4614-9273-0e52f0cf21b8",
   "metadata": {},
   "outputs": [],
   "source": [
    "def gen_means(y, yhat):\n",
    "    stats_ = pd.concat([gen_stats(y, p[1]) for p in yhat.items()])\n",
    "    return stats_.groupby('Climate Zone').agg(\n",
    "        bias=pd.NamedAgg(column='mean', aggfunc='mean'),\n",
    "        bias_std=pd.NamedAgg(column='mean', aggfunc='std'),\n",
    "        rmse=pd.NamedAgg(column='rmse', aggfunc='mean'),\n",
    "        rmse_std=pd.NamedAgg(column='rmse', aggfunc='std'),\n",
    "        r2=pd.NamedAgg(column='r2', aggfunc='mean'),\n",
    "        r2_std=pd.NamedAgg(column='r2', aggfunc='std'),\n",
    "    )"
   ]
  },
  {
   "cell_type": "markdown",
   "id": "b603c34b-0aca-4d35-9230-c0022c37a622",
   "metadata": {},
   "source": [
    "### Plotting functions"
   ]
  },
  {
   "cell_type": "code",
   "execution_count": null,
   "id": "96ed6606-66e5-45b0-9896-9babc0776401",
   "metadata": {},
   "outputs": [],
   "source": [
    "def get_whiskers(data, plot, group='Czone3'):\n",
    "    whiskers = data.groupby([group])[plot].describe()[['25%', '75%']]\n",
    "    whiskers['iqr'] = whiskers.diff(axis=1)['75%']\n",
    "    whiskers['lower'] = whiskers['25%'] - 1.5 * whiskers['iqr']\n",
    "    whiskers['upper'] = whiskers['75%'] + 1.5 * whiskers['iqr']\n",
    "    return whiskers"
   ]
  },
  {
   "cell_type": "code",
   "execution_count": null,
   "id": "3a970485-fd06-4482-bf06-a14f62eca1c5",
   "metadata": {},
   "outputs": [],
   "source": [
    "def samples_plot(data, plot_order, czones, ax):\n",
    "    data = data.sort_values(['count'])\n",
    "    sns.barplot(y=data.Czone3, x=data['mean'], xerr=data['std'], palette=czones,\n",
    "                saturation=SATURATION, error_kw=dict(lw=LINE_WIDTH), ax=ax, zorder=2)\n",
    "    ax.set_ylabel('Climate Zone', fontsize=FONT_SIZE)\n",
    "    ax.set_xlabel(f'Measured LFMC (%)', fontsize=FONT_SIZE)\n",
    "\n",
    "    ypos = ax.get_yticks()\n",
    "    for n, c in data.reset_index()['count'].items():\n",
    "        ax.text(1, ypos[n], c, va='center', size=TEXT_SIZE, zorder=3)\n",
    "    ax.text(1, -ypos[1] - 0.1, 'Samples', va='top', size=FONT_SIZE)\n",
    "\n",
    "    ax.set_xlim((0, 200))\n",
    "    ax.set_xticks(range(0, 250, 50))\n",
    "    ax.tick_params(axis='y', labelsize=TEXT_SIZE)\n",
    "    return ax"
   ]
  },
  {
   "cell_type": "code",
   "execution_count": null,
   "id": "dcda7a90-1116-4d3d-bf4d-2cc180931499",
   "metadata": {},
   "outputs": [],
   "source": [
    "def samples_plot(data, samples, plot_order, czones, ax):\n",
    "    data = data.sort_values(['count'])\n",
    "    sns.boxplot(y='Czone3', x='LFMC value', data=samples, order=plot_order, palette=czones,\n",
    "                saturation=SATURATION, width=0.7, linewidth=LINE_WIDTH, showfliers=False, showcaps=False,\n",
    "                ax=ax, zorder=2, boxprops={'zorder': 2, 'lw': LINE_WIDTH}, whiskerprops={'zorder': 2})\n",
    "    ax.set_ylabel('Climate Zone', fontsize=FONT_SIZE)\n",
    "    ax.set_xlabel(f'Measured LFMC (%)', fontsize=FONT_SIZE)\n",
    "\n",
    "    whiskers = get_whiskers(samples, 'LFMC value').loc[data.Czone3]\n",
    "    ypos = ax.get_yticks()\n",
    "    for n, c in data.reset_index()['count'].items():\n",
    "        va = 'center' if (data.iloc[n]['min'] > 35) or (whiskers.iloc[n]['lower'] > 35) else 'bottom'\n",
    "        ax.text(2, ypos[n], c, va=va, size=TEXT_SIZE, zorder=3)\n",
    "    ax.text(2, -ypos[1] - 0.1, 'Samples', va='top', size=FONT_SIZE)\n",
    "\n",
    "    ax.set_xlim((0, 250))\n",
    "    ax.set_xticks(range(0, 260, 50))\n",
    "    ax.tick_params(labelsize=TEXT_SIZE)\n",
    "\n",
    "    ylim = ax.get_ylim()\n",
    "    xline = samples['LFMC value'].mean()\n",
    "    ax.plot([xline, xline], ylim, '--', color='grey', linewidth=LINE_WIDTH, alpha=0.5, zorder=1)\n",
    "\n",
    "    return ax, ylim"
   ]
  },
  {
   "cell_type": "code",
   "execution_count": null,
   "id": "f704654f-7dbc-4db7-9387-65d8e6346370",
   "metadata": {},
   "outputs": [],
   "source": [
    "def results_plot(samples, predict, data, plot_order, czones, xlim, xline, ylim, ax):\n",
    "    ax.plot([xline, xline], ylim, '--', color='grey', linewidth=LINE_WIDTH, alpha=0.75, zorder=1)\n",
    "\n",
    "    bp_data = (predict.T - samples['LFMC value']).T\n",
    "    bp_data['Czone3'] = samples['Czone3']\n",
    "    bp_data = bp_data.set_index('Czone3').unstack().reset_index()\n",
    "    bp_data.columns = ['Ensemble', 'Czone3', 'Error']\n",
    "\n",
    "    whiskers = get_whiskers(bp_data, 'Error')\n",
    "    \n",
    "    sns.boxplot(y='Czone3', x='Error', data=bp_data, order=plot_order, palette=czones,\n",
    "                saturation=SATURATION, width=0.7, linewidth=LINE_WIDTH, showfliers=False, showcaps=False,\n",
    "                ax=ax, zorder=2, boxprops={'zorder': 2, 'lw': LINE_WIDTH}, whiskerprops={'zorder': 2})\n",
    "    for num, ytick in enumerate(ax2.get_yticks()):\n",
    "        y_off = ytick\n",
    "        rmse = data.set_index('Climate Zone').rmse.loc[plot_order[num]]\n",
    "        bias_ = data.set_index('Climate Zone').bias.loc[plot_order[num]]\n",
    "        pt, = ax.plot(rmse, y_off, 'dk', mfc=czones[num], mew=LINE_WIDTH, markersize=MARKER_SIZE, zorder=3)\n",
    "        ax.text(rmse+3, y_off, round(rmse,2), va='bottom', ha='left', size=TEXT_SIZE)\n",
    "        va = 'bottom' if whiskers.loc[plot_order[num]]['lower'] < -70 else 'center'\n",
    "        t = ax.text(xlim[0]+1, y_off, round(bias_,2), va=va, ha='left', size=TEXT_SIZE)\n",
    "    ax.set_ylabel(None)\n",
    "    ax.set_xlabel(f'Estimation Error Distribution, RMSE and Bias (%)', fontsize=FONT_SIZE, fontname='Arial')\n",
    "    ax.set_xlim(xlim)\n",
    "    ax.set_xticks(range(int(xlim[0]/40)*40, xlim[1]+1, 40))\n",
    "    ypos = ax.get_yticks()\n",
    "    ax.text(xlim[0], -ypos[1] - 0.1, 'Bias (%)', va='top', size=FONT_SIZE)\n",
    "    ax.tick_params(labelsize=TEXT_SIZE)\n",
    "    return ax"
   ]
  },
  {
   "cell_type": "code",
   "execution_count": null,
   "id": "ce6d6097-ff5d-4e0d-9d05-bc007e948fc4",
   "metadata": {},
   "outputs": [],
   "source": [
    "def r2_plot(samples, predict, data, plot_order, czones, xlim, xlim_r2, xline, ylim, ax):\n",
    "    xline_ = predicts.mean().mean()\n",
    "    ax.plot([xline_, xline_], ylim, '--', color='grey', linewidth=LINE_WIDTH, alpha=0.75, zorder=1)\n",
    "    bp_data = predict.copy()\n",
    "    bp_data['Czone3'] = samples['Czone3']\n",
    "    bp_data = bp_data.set_index('Czone3').unstack().reset_index()\n",
    "    bp_data.columns = ['Ensemble', 'Czone3', 'Estimation']\n",
    "\n",
    "    sns.boxplot(y='Czone3', x='Estimation', data=bp_data, order=plot_order, palette=czones,\n",
    "                saturation=SATURATION, width=0.7, linewidth=LINE_WIDTH, showfliers=False, showcaps=False,\n",
    "                ax=ax, zorder=2, boxprops={'zorder': 2, 'lw': LINE_WIDTH}, whiskerprops={'zorder': 2})\n",
    "\n",
    "    whiskers = get_whiskers(bp_data, 'Estimation')\n",
    "\n",
    "    ax1=ax.twiny()\n",
    "    ax1.set_xlim(xlim_r2)\n",
    "    ax1.set_xlabel(\"$R^2$\", color=\"blue\", fontsize=TEXT_SIZE)\n",
    "    plt.setp(ax1.get_xticklabels(), color=\"blue\", fontsize=TEXT_SIZE)\n",
    "    ax1.plot([xline, xline], ylim, ':', color='blue', linewidth=LINE_WIDTH, alpha=0.75, zorder=-1)\n",
    "\n",
    "    for num, ytick in enumerate(ax2.get_yticks()):\n",
    "        y_idx = plot_order[num]\n",
    "        r2 = data.set_index('Climate Zone').r2.loc[y_idx]\n",
    "        pt, = ax1.plot(r2, ytick, '*k', mfc=czones[num], mec='blue', mew=LINE_WIDTH, markersize=MARKER_SIZE+2, zorder=3)\n",
    "        x_off = -0.05 if num in [0, 3, 5] else 0.075 if r2 < 0 else 0.05\n",
    "        ha = 'right' if num in [0, 3, 5] else 'left'\n",
    "        r2_scaled = ((r2 - xlim_r2[0]) / (xlim_r2[1] - xlim_r2[0])) * (xlim[1] - xlim[0]) + xlim[0]\n",
    "        if whiskers.loc[y_idx, 'lower'] <= r2_scaled <= whiskers.loc[y_idx, 'upper']:\n",
    "            va = 'bottom'\n",
    "        else:\n",
    "            va = 'center'\n",
    "        ax1.text(r2 + x_off, ytick, round(r2,2), va=va, ha=ha, color='b', size=TEXT_SIZE)\n",
    "    ax.set_ylabel(None)\n",
    "    ax.set_xlabel(f'LFMC Estimation Distribution (%) and $R^2$', fontsize=FONT_SIZE)\n",
    "    ax.set_xlim(xlim)\n",
    "    ax.set_xticks(range(xlim[0], xlim[1]+1, 40))\n",
    "    ax.tick_params(labelsize=TEXT_SIZE)\n",
    "    line = ax1.get_children()[0]\n",
    "    line.remove()\n",
    "    ax.add_artist(line)\n",
    "    return ax"
   ]
  },
  {
   "cell_type": "markdown",
   "id": "41e6e55d-8800-454c-b989-4dc99214c904",
   "metadata": {},
   "source": [
    "## Sites and Samples by Climate Zone"
   ]
  },
  {
   "cell_type": "code",
   "execution_count": null,
   "id": "e2a6e70f-e8a5-42ee-9b13-e7fdd445735a",
   "metadata": {},
   "outputs": [],
   "source": [
    "czone_summ = all_samples.groupby(['Czone3'])['Site'].describe()[['unique', 'count']]\n",
    "czone_summ.columns = ['num_sites', 'num_samples']\n",
    "czone_summ"
   ]
  },
  {
   "cell_type": "markdown",
   "id": "bbd9005e-61c2-4066-987c-7298e738347a",
   "metadata": {},
   "source": [
    "## Calculate Metrics by Climate Zone"
   ]
  },
  {
   "cell_type": "code",
   "execution_count": null,
   "id": "57426d2c-0240-430c-80b4-28a36fbbfb1f",
   "metadata": {},
   "outputs": [],
   "source": [
    "data_summ = samples.groupby(['Czone3'])['LFMC value'].agg(['min', 'mean', 'std', 'count']).reset_index()\n",
    "data1 = gen_means(samples, predicts).reset_index()\n",
    "data1"
   ]
  },
  {
   "cell_type": "markdown",
   "id": "a28771d8-c230-4390-9b62-25b949b47142",
   "metadata": {
    "tags": []
   },
   "source": [
    "## Generate the Figure"
   ]
  },
  {
   "cell_type": "markdown",
   "id": "9ca7fd43-de4e-4948-9c63-764a6feff5f6",
   "metadata": {},
   "source": [
    "### Figure Colours\n",
    "Colours are the ones used by Beck et al. in their paper \"Present and future Köppen-Geiger climate classification maps at 1-km resolution\" (DOI: 10.1038/sdata.2018.214)"
   ]
  },
  {
   "cell_type": "code",
   "execution_count": null,
   "id": "04f2314c-89a8-4b88-81d4-c9d9cb8456ac",
   "metadata": {},
   "outputs": [],
   "source": [
    "data = data_summ.sort_values(['count'])\n",
    "plot_order = list(data['Czone3'])\n",
    "czone_colours = [\n",
    "  '#0000FF', '#0078FF', '#46AAFA', '#FF0000', '#FF9696', '#F5A500',\n",
    "  '#FFDC64', '#FFFF00', '#C8C800', '#969600', '#96FF96', '#64C864',\n",
    "  '#329632', '#C8FF50', '#64FF50', '#32C800', '#FF00FF', '#C800C8',\n",
    "  '#963296', '#966496', '#AAAFFF', '#5A78DC', '#4B50B4', '#320087',\n",
    "  '#00FFFF', '#37C8FF', '#007D7D', '#00465F', '#B2B2B2', '#666666',\n",
    "]\n",
    "czone_names = [\n",
    "  'Af',  'Am',  'Aw',  'BWh', 'BWk', 'BSh',\n",
    "  'BSk', 'Csa', 'Csb', 'Csc', 'Cwa', 'Cwb',\n",
    "  'Cwc', 'Cfa', 'Cfb', 'Cfc', 'Dsa', 'Dsb',\n",
    "  'Dsc', 'Dsd', 'Dwa', 'Dwb', 'Dwc', 'Dwd',\n",
    "  'Dfa', 'Dfb', 'Dfc', 'Dfd', 'ET',  'EF']\n",
    "czones = pd.DataFrame({'names': czone_names, 'colours': czone_colours}).set_index(['names']).loc[plot_order, 'colours']"
   ]
  },
  {
   "cell_type": "markdown",
   "id": "087018f3-b030-48ff-b97a-05cba9c48d3a",
   "metadata": {},
   "source": [
    "Plot the Figure"
   ]
  },
  {
   "cell_type": "code",
   "execution_count": null,
   "id": "b8d83209-f5ed-45e4-8b71-e2aeffbb6174",
   "metadata": {},
   "outputs": [],
   "source": [
    "xlim_rmse = (-90, 90)\n",
    "xlim_r2 = (-0.65, 1.05)\n",
    "xlim_lfmc = (40, 215)\n",
    "\n",
    "plt.rcParams.update({'font.sans-serif': 'Arial'})\n",
    "plt.rcParams.update({'font.size': TEXT_SIZE})\n",
    "fig, ((ax1, ax2, ax3)) = plt.subplots(\n",
    "    1, 3, figsize=(7.25, 4), gridspec_kw={'width_ratios': [2, 3, 3]},\n",
    "    sharey=True, sharex=False,\n",
    "    constrained_layout=False, dpi=150, linewidth=2, edgecolor=\"black\")\n",
    "\n",
    "#ax1 = samples_plot(data_summ, plot_order, czones, ax=ax1)\n",
    "ax1, ylim = samples_plot(data_summ, samples, plot_order, czones, ax=ax1)\n",
    "ax1.text(-20, -1.5, '(a)', va='top', ha='right', size=TITLE_SIZE)\n",
    "ax2 = results_plot(samples, predicts, data1, plot_order, czones, xlim=xlim_rmse,\n",
    "                   xline=MODEL_RMSE, ylim=ylim, ax=ax2)\n",
    "ax2.text(-98, -1.5, '(b)', va='top', ha='right', size=TITLE_SIZE)\n",
    "ax3 = r2_plot(samples, predicts, data1, plot_order, czones, xlim_lfmc, xlim_r2,\n",
    "              xline=MODEL_R2, ylim=ylim, ax=ax3)\n",
    "ax3.text(30, -2, '(c)', va='center', ha='right', size=TITLE_SIZE)\n",
    "\n",
    "plt.subplots_adjust(wspace=0.2)\n",
    "\n",
    "fig.savefig(os.path.join(common.FIGURES_DIR, 'Climate zone results.jpeg'), format=\"jpeg\", bbox_inches='tight', pad_inches=0.1, dpi=600)"
   ]
  },
  {
   "cell_type": "code",
   "execution_count": null,
   "id": "29ee1b95-eb12-4aa8-9893-95c99f6aa8b1",
   "metadata": {},
   "outputs": [],
   "source": []
  }
 ],
 "metadata": {
  "kernelspec": {
   "display_name": "LFMC",
   "language": "python",
   "name": "lfmc"
  },
  "language_info": {
   "codemirror_mode": {
    "name": "ipython",
    "version": 3
   },
   "file_extension": ".py",
   "mimetype": "text/x-python",
   "name": "python",
   "nbconvert_exporter": "python",
   "pygments_lexer": "ipython3",
   "version": "3.8.13"
  }
 },
 "nbformat": 4,
 "nbformat_minor": 5
}
