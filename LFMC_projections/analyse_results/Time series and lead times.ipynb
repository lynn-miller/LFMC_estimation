{
 "cells": [
  {
   "cell_type": "code",
   "execution_count": null,
   "id": "b182f39c-b73e-4304-a91f-da3be0065b8d",
   "metadata": {},
   "outputs": [],
   "source": [
    "import os\n",
    "\n",
    "import matplotlib.pyplot as plt\n",
    "import matplotlib.patches as patches\n",
    "import matplotlib.lines as lines\n",
    "\n",
    "import initialise\n",
    "import common"
   ]
  },
  {
   "cell_type": "code",
   "execution_count": null,
   "id": "32ee59a4-3b97-41fd-af2e-08165f79728b",
   "metadata": {},
   "outputs": [],
   "source": [
    "%matplotlib inline"
   ]
  },
  {
   "cell_type": "code",
   "execution_count": null,
   "id": "d5008276-0fe8-4833-804d-6113bdf0b131",
   "metadata": {},
   "outputs": [],
   "source": [
    "TEXT_SIZE = 7\n",
    "FONT_SIZE = 7\n",
    "TITLE_SIZE = 8"
   ]
  },
  {
   "cell_type": "code",
   "execution_count": null,
   "id": "4648d63e-cbc1-4414-951b-970300f4c5ac",
   "metadata": {},
   "outputs": [],
   "source": [
    "tests = {\n",
    "    'Nowcasting': (365, 1),\n",
    "    '1-month': (394, 30),\n",
    "    '2-months': (425, 61),\n",
    "    '3-months': (455, 91),\n",
    "    '4-months': (486, 122),\n",
    "    '5-months': (516, 152),\n",
    "    '6-months': (547, 183),\n",
    "    '7-months': (577, 213),\n",
    "    '8-months': (607, 243),\n",
    "    '9-months': (638, 274),\n",
    "    '10-months': (668, 304),\n",
    "    '11-months': (699, 335),\n",
    "    '12-months': (729, 365),\n",
    "}"
   ]
  },
  {
   "cell_type": "code",
   "execution_count": null,
   "id": "debbba5d-d0b9-44d3-af74-fc0350bea477",
   "metadata": {},
   "outputs": [],
   "source": [
    "for x, (y, (z1, z2)) in enumerate(tests.items()):\n",
    "    print(x, y, z1, z2)"
   ]
  },
  {
   "cell_type": "code",
   "execution_count": null,
   "id": "9dd05d6a-168f-487c-b635-58b3f9f3801b",
   "metadata": {},
   "outputs": [],
   "source": [
    "plt.rcParams['font.sans-serif'] = 'Arial'\n",
    "plt.rcParams['font.size'] = TEXT_SIZE\n",
    "\n",
    "fig, ax = plt.subplots(1, 1, figsize=(6, 3), constrained_layout=True, dpi=150, linewidth=2, edgecolor=\"black\")\n",
    "\n",
    "ax.set_xlim(740, -30)\n",
    "ax.set_xticks(sorted({v[0] for v in tests.values()} | {v[1] for v in tests.values()}, reverse=True))\n",
    "ax.set_xlabel('Days prior to sampling date')\n",
    "\n",
    "ax.set_ylim(13, -1)\n",
    "ax.set_yticks(range(12, -1, -1))\n",
    "ax.set_yticklabels(reversed(tests.keys()))\n",
    "ax.set_ylabel('Test name')\n",
    "\n",
    "ax1 = ax.twinx()\n",
    "ax1.set_ylim(13, -1)\n",
    "ax1.set_yticks(range(12, -1, -1))\n",
    "ax1.set_yticklabels(reversed([f\"{v[1]} {'day' if v[1] == 1 else 'days'}\" for v in tests.values()]))\n",
    "ax1.set_ylabel('Lead times')\n",
    "\n",
    "ax.plot((0, 0), (-1, 13), '--', linewidth=1, color='k', alpha=0.5)\n",
    "ax.annotate(f'projection date\\n(day 0)', (0, 0.5), (-70, -1.5), horizontalalignment=\"center\",\n",
    "            arrowprops=dict(arrowstyle=\"->\", connectionstyle=\"arc3\", alpha=0.5))\n",
    "\n",
    "for test_num, (test_name, (start, stop)) in enumerate(tests.items()):\n",
    "    rect = patches.Rectangle((start+0.5, test_num-0.25), stop-start-0.5, 0.5, linewidth=0.5,\n",
    "                             edgecolor='k', facecolor='k', alpha=0.25)\n",
    "    ax.add_patch(rect)\n",
    "    ax.plot([stop-1, 0], [test_num, test_num], ':', color='k', linewidth=1)\n",
    "    \n",
    "patch1 = patches.Patch(color='k', alpha=0.25, label='MODIS/PRISM time series')\n",
    "patch2 = lines.Line2D([0], [0], linestyle=':', linewidth=1, color='k', label='Lead time')\n",
    "\n",
    "plt.legend(handles=[patch1, patch2], loc='upper left', handlelength=4, title='Days used in each test')\n",
    "\n",
    "fig.savefig(os.path.join(common.FIGURES_DIR, 'Test lead times.jpeg'), format=\"jpeg\", bbox_inches='tight', pad_inches=0.1, dpi=600)"
   ]
  },
  {
   "cell_type": "code",
   "execution_count": null,
   "id": "7fca1d7c-8a29-44be-b5f9-eb9107ce997c",
   "metadata": {},
   "outputs": [],
   "source": []
  }
 ],
 "metadata": {
  "kernelspec": {
   "display_name": "LFMC",
   "language": "python",
   "name": "lfmc"
  },
  "language_info": {
   "codemirror_mode": {
    "name": "ipython",
    "version": 3
   },
   "file_extension": ".py",
   "mimetype": "text/x-python",
   "name": "python",
   "nbconvert_exporter": "python",
   "pygments_lexer": "ipython3",
   "version": "3.8.13"
  }
 },
 "nbformat": 4,
 "nbformat_minor": 5
}
