{
 "cells": [
  {
   "cell_type": "markdown",
   "id": "b331f671-44ca-47cf-bdc9-1b666d443fbf",
   "metadata": {},
   "source": [
    "# Create Ensembles for Main Models\n",
    "- Generates ensembles for both the yearly and out-of-site models\n",
    "- Ensemble sizes are 5, 10, 15, 20, and 25\n",
    "- 50 ensembles of each size are created by sampling (without replacement) from the pool of models\n",
    "- Save the ensemble predictions and statistics\n",
    "- Equivalent prediction and statistics files for the single models are also created\n",
    "\n",
    "## Imports"
   ]
  },
  {
   "cell_type": "code",
   "execution_count": 1,
   "id": "ignored-habitat",
   "metadata": {},
   "outputs": [],
   "source": [
    "import glob\n",
    "import numpy as np\n",
    "import os\n",
    "import pandas as pd\n",
    "import random\n",
    "from scipy import stats\n",
    "\n",
    "import initialise\n",
    "from model_utils import generate_ensembles\n",
    "from display_utils import display_frames"
   ]
  },
  {
   "cell_type": "markdown",
   "id": "2f49a7b5-6bf8-4425-8d8f-e83599875850",
   "metadata": {},
   "source": [
    "## Directories and other settings\n",
    "- Update the model directories as required"
   ]
  },
  {
   "cell_type": "code",
   "execution_count": 6,
   "id": "african-flexibility",
   "metadata": {},
   "outputs": [],
   "source": [
    "model_dirs = [\n",
    "    r'G:\\My Drive\\LFMC Data\\LFMC_ensembles\\Models\\out-of-site_models',\n",
    "    r'G:\\My Drive\\LFMC Data\\LFMC_ensembles\\Models\\yearly_models'\n",
    "]\n",
    "model_names = ['Out-of-site'] #, 'Yearly']\n",
    "\n",
    "# List of required ensemble sizes; single models (ensemble size 1) included for comparison\n",
    "ensemble_sizes = [1] + list(range(5, 30, 5))\n",
    "ensemble_names = ['Single model'] + [f'Ensemble {size}' for size in ensemble_sizes[1:]]\n",
    "\n",
    "model = 'base'      # Using the base model, rather than any of the derived ones\n",
    "model_runs = 50     # Total number of individual models created\n",
    "ensemble_runs = 50  # Number of ensembles of each size\n",
    "precision = 3       # floating point precision for saved predictions\n",
    "random_seed = 9876"
   ]
  },
  {
   "cell_type": "markdown",
   "id": "welcome-infrastructure",
   "metadata": {
    "tags": []
   },
   "source": [
    "### Generate the ensembles and save predictions\n",
    "Generate ensembles of various sizes for each of the models. For each ensemble size, randomly select the runs to ensemble, then create the ensembles. This is repeated for the desired number of ensembles of each size."
   ]
  },
  {
   "cell_type": "code",
   "execution_count": 7,
   "id": "11f7f3fc-f05c-4404-80ad-e90627608e4b",
   "metadata": {},
   "outputs": [
    {
     "name": "stdout",
     "output_type": "stream",
     "text": [
      "Processing Out-of-site, model directory G:\\My Drive\\LFMC Data\\LFMC_ensembles\\Models\\out-of-site_models\n",
      "Generating ensembles - size 1: \n",
      "Generating ensembles - size 5: .........10.........20.........30.........40.........50\n",
      "Generating ensembles - size 10: .........10.........20.........30.........40.........50\n",
      "Generating ensembles - size 15: .........10.........20.........30.........40.........50\n",
      "Generating ensembles - size 20: .........10.........20.........30.........40.........50\n",
      "Generating ensembles - size 25: .........10.........20.........30.........40.........50\n",
      "Saving ensembles ...\n",
      "   Single model; predictions: single_base.csv, stats: single_stats.csv\n",
      "   Ensemble 5; predictions: ensemble05_base.csv, stats: ensemble05_stats.csv\n",
      "   Ensemble 10; predictions: ensemble10_base.csv, stats: ensemble10_stats.csv\n",
      "   Ensemble 15; predictions: ensemble15_base.csv, stats: ensemble15_stats.csv\n",
      "   Ensemble 20; predictions: ensemble20_base.csv, stats: ensemble20_stats.csv\n",
      "   Ensemble 25; predictions: ensemble25_base.csv, stats: ensemble25_stats.csv\n"
     ]
    }
   ],
   "source": [
    "for m, model_dir in enumerate(model_dirs):\n",
    "    print(f\"Processing {model_names[m]} models; model directory {model_dir}\")\n",
    "    model_predicts = []\n",
    "    model_stats = []\n",
    "    for run_dir in glob.glob(os.path.join(model_dir, 'run*')):\n",
    "        model_predicts.append(pd.read_csv(os.path.join(run_dir, 'predictions.csv'), index_col=0))\n",
    "        model_stats.append(pd.read_csv(os.path.join(run_dir, 'predict_stats.csv'), index_col=0))\n",
    "\n",
    "    predict, all_stats = generate_ensembles(model_predicts, model_stats, ensemble_runs, ensemble_sizes, random_seed=random_seed)\n",
    "\n",
    "    print(\"Saving ensembles ...\")\n",
    "    for num, ens_name in enumerate(ensemble_names):\n",
    "        if num == 0:\n",
    "            file_name = f\"single_{model}.csv\"\n",
    "            stats_fname = f\"single_stats.csv\"\n",
    "        else:\n",
    "            file_name = f\"ensemble{ensemble_sizes[num]:02}_{model}.csv\"\n",
    "            stats_fname = f\"ensemble{ensemble_sizes[num]:02}_stats.csv\"\n",
    "        print(f\"   {ens_name}; predictions: {file_name}, stats: {stats_fname}\")\n",
    "        df = pd.concat([pred_[model] for pred_ in predict[num]], axis=1, ignore_index=True).round(precision)\n",
    "        df.to_csv(os.path.join(model_dir, file_name))\n",
    "        df = pd.DataFrame([run.stack() for run in all_stats[num]]).T\n",
    "        df.to_csv(os.path.join(model_dir, stats_fname))"
   ]
  },
  {
   "cell_type": "code",
   "execution_count": null,
   "id": "7809d465-7cb2-45d9-a7d9-d3055afcfc23",
   "metadata": {},
   "outputs": [],
   "source": []
  }
 ],
 "metadata": {
  "kernelspec": {
   "display_name": "LFMC",
   "language": "python",
   "name": "lfmc"
  },
  "language_info": {
   "codemirror_mode": {
    "name": "ipython",
    "version": 3
   },
   "file_extension": ".py",
   "mimetype": "text/x-python",
   "name": "python",
   "nbconvert_exporter": "python",
   "pygments_lexer": "ipython3",
   "version": "3.8.11"
  }
 },
 "nbformat": 4,
 "nbformat_minor": 5
}
